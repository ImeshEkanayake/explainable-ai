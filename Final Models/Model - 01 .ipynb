{
 "cells": [
  {
   "cell_type": "code",
   "execution_count": 1,
   "metadata": {
    "id": "KmafydZnutW_"
   },
   "outputs": [
    {
     "name": "stderr",
     "output_type": "stream",
     "text": [
      "Using TensorFlow backend.\n"
     ]
    }
   ],
   "source": [
    "import os\n",
    "import h5py\n",
    "import json\n",
    "import keras\n",
    "import random \n",
    "import imageio\n",
    "import datetime\n",
    "import numpy as np\n",
    "import pandas as pd\n",
    "import seaborn as sns\n",
    "import tensorflow as tf\n",
    "from keras import backend as K\n",
    "from datetime import timedelta\n",
    "import matplotlib.pyplot as plt\n",
    "from sklearn.impute import KNNImputer\n",
    "\n",
    "from sklearn.linear_model import LogisticRegression\n",
    "from sklearn.metrics import confusion_matrix\n",
    "\n",
    "from sklearn.metrics import precision_recall_curve\n",
    "from sklearn.metrics import plot_precision_recall_curve"
   ]
  },
  {
   "cell_type": "code",
   "execution_count": null,
   "metadata": {
    "colab": {
     "base_uri": "https://localhost:8080/",
     "height": 494
    },
    "id": "Me9XM7qeu8j3",
    "outputId": "4114cfc0-2013-47c4-8d6d-4977483bba6e"
   },
   "outputs": [],
   "source": [
    "Data = pd.read_csv('DsDnsPrScTch.csv') "
   ]
  },
  {
   "cell_type": "code",
   "execution_count": null,
   "metadata": {
    "id": "3L3Zl-XpvWdA"
   },
   "outputs": [],
   "source": [
    "Data[\"Teacher First Project Posted Date\"]=pd.to_datetime(Data[\"Teacher First Project Posted Date\"])\n",
    "Data[\"Project Fully Funded Date\"]=pd.to_datetime(Data[\"Project Fully Funded Date\"])\n",
    "Data[\"Project Expiration Date\"]=pd.to_datetime(Data[\"Project Expiration Date\"])\n",
    "Data[\"Project Posted Date\"]=pd.to_datetime(Data[\"Project Posted Date\"])\n",
    "Data[\"Donation Received Date\"]=pd.to_datetime(Data[\"Donation Received Date\"])\n",
    "Data[\"Number of dates since posted\"]=Data.loc[:,\"Donation Received Date\"]-Data.loc[:,\"Project Posted Date\"]\n",
    "Data.head()"
   ]
  },
  {
   "cell_type": "code",
   "execution_count": null,
   "metadata": {
    "id": "FeNucAG2072f"
   },
   "outputs": [],
   "source": [
    "Data.dtypes"
   ]
  },
  {
   "cell_type": "code",
   "execution_count": null,
   "metadata": {
    "id": "lzB7m6r-Avhf"
   },
   "outputs": [],
   "source": [
    "Data[\"Number of dates since posted\"]=Data[\"Number of dates since posted\"]/ np.timedelta64(1, 'D')\n",
    "\n",
    "MaxT=max(Data[\"Project Posted Date\"])\n",
    "MinT=min(Data[\"Project Posted Date\"])"
   ]
  },
  {
   "cell_type": "code",
   "execution_count": null,
   "metadata": {},
   "outputs": [],
   "source": [
    "print(\"MaxT :\",MaxT,\"\\t\\t\",\"MinT :\",MinT)"
   ]
  },
  {
   "cell_type": "code",
   "execution_count": null,
   "metadata": {
    "id": "1mhsGegA1chD"
   },
   "outputs": [],
   "source": [
    "T= datetime.date(2013, 1, 1)+timedelta(days=14)\n"
   ]
  },
  {
   "cell_type": "code",
   "execution_count": null,
   "metadata": {},
   "outputs": [],
   "source": [
    "T"
   ]
  },
  {
   "cell_type": "code",
   "execution_count": null,
   "metadata": {},
   "outputs": [],
   "source": [
    "Model_variables_con= [\"Project Cost\",\"Number of dates since posted\",\"School Percentage Free Lunch\",\"Project Cost\"]\n",
    "Model_variables_cat= [\"School Metro Type\",\"Teacher Prefix\",\"Project Grade Level Category\"]"
   ]
  },
  {
   "cell_type": "code",
   "execution_count": null,
   "metadata": {
    "id": "7lrBzVdYyry1"
   },
   "outputs": [],
   "source": [
    "#===============================================================================================\n",
    "#                                       LogisticRegression\n",
    "#===============================================================================================\n",
    "\n",
    "LR_clf = LogisticRegression(random_state=9)\n",
    "\n",
    "T_current=MinT-timedelta(days=28)+timedelta(days=120)    \n",
    "T_period=3 #timedelta(days=28)    \n",
    "acc=[]\n",
    "T=[]\n",
    "pr=[]\n",
    "re=[]\n",
    "\n",
    "accT=[]\n",
    "prT=[]\n",
    "reT=[]\n",
    "sub_var=list(set([\"Project ID\",\"Project Posted Date\",\"Project Expiration Date\",\"Donation Received Date\",\n",
    "         \"Project Cost\",\"Donation Amount\",\"Number of dates since posted\"]+Model_variables_cat+Model_variables_con))\n",
    "\n",
    "Model_variables=Model_variables_con.copy()\n",
    "for i in sub_var: print(i,i in Data.columns)\n",
    "sub_Data =Data.loc[:,sub_var]\n",
    "\n",
    "while (T_current<MaxT-timedelta(days=30)):\n",
    "\n",
    "    T_current = T_current+timedelta(days=28)   \n",
    "    T+=[T_current]\n",
    "    T_Train_start = T_current-timedelta(days=120)\n",
    "    T_Train_end = T_current-timedelta(days=30)\n",
    "    \n",
    "    C_Data = sub_Data[sub_Data[\"Project Posted Date\"] < pd.to_datetime(T_current)]\n",
    "    C_Data = C_Data[C_Data[\"Project Posted Date\"] > pd.to_datetime(T_Train_start)]\n",
    "    C_Data = C_Data[C_Data[\"Number of dates since posted\"] < T_period]\n",
    "    C_Data[\"Fund_Ratio_30\"]=C_Data[\"Donation Amount\"]/C_Data[\"Project Cost\"]\n",
    "#========================================================================================================\n",
    "    for var in Model_variables_cat:\n",
    "        s_data=pd.get_dummies(C_Data[var])\n",
    "        k=sorted(s_data.columns)\n",
    "        k.pop(0)\n",
    "        C_Data=C_Data.drop([var], axis=1)\n",
    "        for col in k:Model_variables+=[var+\"_\"+col]\n",
    "        Model_variables=list(set(Model_variables))\n",
    "        for col in k:C_Data[var+\"_\"+col]=s_data[col]\n",
    "\n",
    "    for i in Model_variables:\n",
    "        if i not in C_Data.columns:  C_Data[i]=0\n",
    "    #============================================ Imputing ==========================================\n",
    "            \n",
    "    C_Data.fillna(C_Data.median(), inplace=True)\n",
    "#========================================================================================================    \n",
    "    Train_Data = C_Data[sub_Data[\"Project Posted Date\"] < pd.to_datetime(T_Train_end)]\n",
    "    Train_Data_CR=Train_Data.groupby([\"Project ID\"]).sum()\n",
    "    Train_Data_Final=Train_Data.groupby([\"Project ID\"]).max()\n",
    "    Train_Data_Final[\"Fund_Ratio_30\"]=Train_Data_CR[\"Fund_Ratio_30\"]\n",
    "    Train_Data_Final[\"Donation Amount\"]=Train_Data_CR[\"Donation Amount\"]\n",
    "    Train_Data_Final['Label'] = Train_Data_Final.apply(lambda x : 1 if x['Fund_Ratio_30'] < 0.15  else 0, axis=1)\n",
    "    \n",
    "    Train_Data_Final.rename(columns = {'Donation Received Date':'Last Donation Received Date'})\n",
    "\n",
    "    \n",
    "    Test_Data = C_Data[sub_Data[\"Project Posted Date\"] >= pd.to_datetime(T_Train_end)]\n",
    "    Test_Data_CR=Test_Data.groupby([\"Project ID\"]).sum()\n",
    "    Test_Data_Final=Test_Data.groupby([\"Project ID\"]).max()\n",
    "    Test_Data_Final[\"Fund_Ratio_30\"]=Test_Data_CR[\"Fund_Ratio_30\"]\n",
    "    Test_Data_Final[\"Donation Amount\"]=Test_Data_CR[\"Donation Amount\"]\n",
    "    Test_Data_Final['Label'] = Test_Data_Final.apply(lambda x : 1 if x['Fund_Ratio_30'] < 0.15  else 0, axis=1)\n",
    "    Test_Data_Final=Test_Data_Final.rename(columns = {'Donation Received Date':'Last Donation Received Date'})\n",
    "    \n",
    "    X_train = Train_Data_Final.loc[:,Model_variables]\n",
    "    X_train.head()\n",
    "    Y_train =  Train_Data_Final.loc[:,[\"Label\"]]\n",
    "\n",
    "    X_test = Test_Data_Final.loc[:,Model_variables]\n",
    "    X_test.head()\n",
    "    Y_test =  Test_Data_Final.loc[:,[\"Label\"]]\n",
    "    \n",
    "    #============================================ Imputing ======================================================\n",
    "    \n",
    "    imputer = KNNImputer(n_neighbors=5,weights='distance',add_indicator=True)\n",
    "    X_train=imputer.fit_transform(X_train)\n",
    "    X_test=imputer.fit_transform(X_test)\n",
    "\n",
    "    #============================================ Training ======================================================\n",
    "    \n",
    "    LR_clf.fit(X_train, Y_train)\n",
    "\n",
    "    Y_pred_train_prob = LR_clf.predict_proba(X_train)[:,1]\n",
    "    Y_pred_test = LR_clf.predict(X_test)\n",
    "    Y_pred_test_prob = LR_clf.predict_proba(X_test)[:,1]\n",
    "    Test_Data_Final[\"Y_pred_test_prob\"]=Y_pred_test_prob\n",
    "    Test_Data_Final[\"Y_pred_test\"]=Y_pred_test\n",
    "    \n",
    "    #============================================== Evaluation ===================================================\n",
    "    \n",
    "    cm= confusion_matrix(Y_test,Y_pred_test)\n",
    "    TN, FP ,FN, TP =  cm.ravel()\n",
    "    test_score=(TP+TN)/(TN+ FP +FN+ TP)\n",
    "    acc+=[test_score]\n",
    "    preci=TP/(TP+FP)\n",
    "    rec=TP/(TP+FN)\n",
    "    pr+=[preci]\n",
    "    re+=[rec]\n",
    "    print(T_current,\"\\t\",\"Training Shape: \",Train_Data.shape,\"\\t\\t\",\"Testing Shape: \",Test_Data.shape)\n",
    "    print('LogisticRegression Testing Accuracy = ',test_score,\"\\n\")\n",
    "    print(\"\\tTP:\",TP,\"\\tFP:\",FP,\"\\n\\tTN:\",TN,\"\\tFN:\",FN )\n",
    "    print(\"\\n\"*2)\n",
    "\n",
    "    Test_Data_Final=Test_Data_Final.sort_values(by=['Y_pred_test_prob'], ascending=False)\n",
    "    T100=Test_Data_Final.head(100)\n",
    "    Y_test_100 =  T100.loc[:,[\"Label\"]] \n",
    "    Y_pred_100 =  T100.loc[:,[\"Y_pred_test\"]] \n",
    "    cm= confusion_matrix(Y_test_100,Y_pred_100)\n",
    "    print(cm.ravel())\n",
    "    if len(cm.ravel())==4:TN, FP ,FN, TP =  cm.ravel()\n",
    "    else: TN, FP ,FN, TP=0,0,0,100\n",
    "    test_score=(TP+TN)/(TN+ FP +FN+ TP)\n",
    "    accT+=[test_score]\n",
    "    preci=TP/(TP+FP)\n",
    "    prT+=[preci]\n",
    "    rec=TP/(TP+FN)\n",
    "    reT+=[rec]\n",
    "    print(T_current,\"\\t\",\"Training Shape: \",Train_Data.shape,\"\\t\\t\",\"Testing Shape: \",Test_Data.shape)\n",
    "    print('LogisticRegression Testing Accuracy = ',test_score,\"\\n\")\n",
    "    print(\"\\tTP:\",TP,\"\\tFP:\",FP,\"\\n\\tTN:\",TN,\"\\tFN:\",FN )\n",
    "    print(\"\\n\"*2)\n",
    "\n"
   ]
  },
  {
   "cell_type": "code",
   "execution_count": 239,
   "metadata": {},
   "outputs": [
    {
     "name": "stdout",
     "output_type": "stream",
     "text": [
      "Project Expiration Date True\n",
      "Project Cost True\n",
      "Number of dates since posted True\n",
      "Donation Received Date True\n",
      "Teacher Prefix True\n",
      "Project ID True\n",
      "Project Grade Level Category True\n",
      "Project Posted Date True\n",
      "Donation Amount True\n",
      "School Metro Type True\n",
      "School Percentage Free Lunch True\n"
     ]
    },
    {
     "name": "stderr",
     "output_type": "stream",
     "text": [
      "C:\\ProgramData\\Anaconda3\\lib\\site-packages\\ipykernel_launcher.py:52: UserWarning: Boolean Series key will be reindexed to match DataFrame index.\n",
      "C:\\ProgramData\\Anaconda3\\lib\\site-packages\\ipykernel_launcher.py:62: UserWarning: Boolean Series key will be reindexed to match DataFrame index.\n"
     ]
    },
    {
     "name": "stdout",
     "output_type": "stream",
     "text": [
      "2013-05-01 00:00:00 \t Training Shape:  (52645, 20) \t\t Testing Shape:  (12911, 20)\n",
      "LogisticRegression Testing Accuracy =  0.8032372281234194 \n",
      "\n",
      "\tTP: 4383 \tFP: 252 \n",
      "\tTN: 381 \tFN: 915\n",
      "\n",
      "\n",
      "\n",
      "[ 0  4  0 96]\n",
      "2013-05-01 00:00:00 \t Training Shape:  (52645, 20) \t\t Testing Shape:  (12911, 20)\n",
      "LogisticRegression Testing Accuracy =  0.96 \n",
      "\n",
      "\tTP: 96 \tFP: 4 \n",
      "\tTN: 0 \tFN: 0\n",
      "\n",
      "\n",
      "\n"
     ]
    },
    {
     "name": "stderr",
     "output_type": "stream",
     "text": [
      "C:\\ProgramData\\Anaconda3\\lib\\site-packages\\ipykernel_launcher.py:52: UserWarning: Boolean Series key will be reindexed to match DataFrame index.\n",
      "C:\\ProgramData\\Anaconda3\\lib\\site-packages\\ipykernel_launcher.py:62: UserWarning: Boolean Series key will be reindexed to match DataFrame index.\n"
     ]
    },
    {
     "name": "stdout",
     "output_type": "stream",
     "text": [
      "2013-05-29 00:00:00 \t Training Shape:  (47943, 20) \t\t Testing Shape:  (12748, 20)\n",
      "LogisticRegression Testing Accuracy =  0.8145472061657033 \n",
      "\n",
      "\tTP: 4671 \tFP: 260 \n",
      "\tTN: 402 \tFN: 895\n",
      "\n",
      "\n",
      "\n",
      "[ 0  6  0 94]\n",
      "2013-05-29 00:00:00 \t Training Shape:  (47943, 20) \t\t Testing Shape:  (12748, 20)\n",
      "LogisticRegression Testing Accuracy =  0.94 \n",
      "\n",
      "\tTP: 94 \tFP: 6 \n",
      "\tTN: 0 \tFN: 0\n",
      "\n",
      "\n",
      "\n"
     ]
    },
    {
     "name": "stderr",
     "output_type": "stream",
     "text": [
      "C:\\ProgramData\\Anaconda3\\lib\\site-packages\\ipykernel_launcher.py:52: UserWarning: Boolean Series key will be reindexed to match DataFrame index.\n",
      "C:\\ProgramData\\Anaconda3\\lib\\site-packages\\ipykernel_launcher.py:62: UserWarning: Boolean Series key will be reindexed to match DataFrame index.\n"
     ]
    },
    {
     "name": "stdout",
     "output_type": "stream",
     "text": [
      "2013-06-26 00:00:00 \t Training Shape:  (41668, 20) \t\t Testing Shape:  (10438, 20)\n",
      "LogisticRegression Testing Accuracy =  0.8256135818416682 \n",
      "\n",
      "\tTP: 4283 \tFP: 121 \n",
      "\tTN: 191 \tFN: 824\n",
      "\n",
      "\n",
      "\n",
      "[ 0  1  0 99]\n",
      "2013-06-26 00:00:00 \t Training Shape:  (41668, 20) \t\t Testing Shape:  (10438, 20)\n",
      "LogisticRegression Testing Accuracy =  0.99 \n",
      "\n",
      "\tTP: 99 \tFP: 1 \n",
      "\tTN: 0 \tFN: 0\n",
      "\n",
      "\n",
      "\n"
     ]
    },
    {
     "name": "stderr",
     "output_type": "stream",
     "text": [
      "C:\\ProgramData\\Anaconda3\\lib\\site-packages\\ipykernel_launcher.py:52: UserWarning: Boolean Series key will be reindexed to match DataFrame index.\n",
      "C:\\ProgramData\\Anaconda3\\lib\\site-packages\\ipykernel_launcher.py:62: UserWarning: Boolean Series key will be reindexed to match DataFrame index.\n"
     ]
    },
    {
     "name": "stdout",
     "output_type": "stream",
     "text": [
      "2013-07-24 00:00:00 \t Training Shape:  (36178, 21) \t\t Testing Shape:  (14530, 21)\n",
      "LogisticRegression Testing Accuracy =  0.8264352469959947 \n",
      "\n",
      "\tTP: 5871 \tFP: 191 \n",
      "\tTN: 319 \tFN: 1109\n",
      "\n",
      "\n",
      "\n",
      "[ 0  2  0 98]\n",
      "2013-07-24 00:00:00 \t Training Shape:  (36178, 21) \t\t Testing Shape:  (14530, 21)\n",
      "LogisticRegression Testing Accuracy =  0.98 \n",
      "\n",
      "\tTP: 98 \tFP: 2 \n",
      "\tTN: 0 \tFN: 0\n",
      "\n",
      "\n",
      "\n"
     ]
    },
    {
     "name": "stderr",
     "output_type": "stream",
     "text": [
      "C:\\ProgramData\\Anaconda3\\lib\\site-packages\\ipykernel_launcher.py:52: UserWarning: Boolean Series key will be reindexed to match DataFrame index.\n",
      "C:\\ProgramData\\Anaconda3\\lib\\site-packages\\ipykernel_launcher.py:62: UserWarning: Boolean Series key will be reindexed to match DataFrame index.\n"
     ]
    },
    {
     "name": "stdout",
     "output_type": "stream",
     "text": [
      "2013-08-21 00:00:00 \t Training Shape:  (36901, 21) \t\t Testing Shape:  (24997, 21)\n",
      "LogisticRegression Testing Accuracy =  0.8206356116673923 \n",
      "\n",
      "\tTP: 8731 \tFP: 425 \n",
      "\tTN: 694 \tFN: 1635\n",
      "\n",
      "\n",
      "\n",
      "[ 0  4  0 96]\n",
      "2013-08-21 00:00:00 \t Training Shape:  (36901, 21) \t\t Testing Shape:  (24997, 21)\n",
      "LogisticRegression Testing Accuracy =  0.96 \n",
      "\n",
      "\tTP: 96 \tFP: 4 \n",
      "\tTN: 0 \tFN: 0\n",
      "\n",
      "\n",
      "\n"
     ]
    },
    {
     "name": "stderr",
     "output_type": "stream",
     "text": [
      "C:\\ProgramData\\Anaconda3\\lib\\site-packages\\ipykernel_launcher.py:52: UserWarning: Boolean Series key will be reindexed to match DataFrame index.\n",
      "C:\\ProgramData\\Anaconda3\\lib\\site-packages\\ipykernel_launcher.py:62: UserWarning: Boolean Series key will be reindexed to match DataFrame index.\n"
     ]
    },
    {
     "name": "stdout",
     "output_type": "stream",
     "text": [
      "2013-09-18 00:00:00 \t Training Shape:  (48347, 21) \t\t Testing Shape:  (39163, 21)\n",
      "LogisticRegression Testing Accuracy =  0.8142239048134127 \n",
      "\n",
      "\tTP: 14313 \tFP: 445 \n",
      "\tTN: 742 \tFN: 2990\n",
      "\n",
      "\n",
      "\n",
      "[ 0  2  0 98]\n",
      "2013-09-18 00:00:00 \t Training Shape:  (48347, 21) \t\t Testing Shape:  (39163, 21)\n",
      "LogisticRegression Testing Accuracy =  0.98 \n",
      "\n",
      "\tTP: 98 \tFP: 2 \n",
      "\tTN: 0 \tFN: 0\n",
      "\n",
      "\n",
      "\n"
     ]
    },
    {
     "name": "stderr",
     "output_type": "stream",
     "text": [
      "C:\\ProgramData\\Anaconda3\\lib\\site-packages\\ipykernel_launcher.py:52: UserWarning: Boolean Series key will be reindexed to match DataFrame index.\n",
      "C:\\ProgramData\\Anaconda3\\lib\\site-packages\\ipykernel_launcher.py:62: UserWarning: Boolean Series key will be reindexed to match DataFrame index.\n"
     ]
    },
    {
     "name": "stdout",
     "output_type": "stream",
     "text": [
      "2013-10-16 00:00:00 \t Training Shape:  (75096, 21) \t\t Testing Shape:  (36123, 21)\n",
      "LogisticRegression Testing Accuracy =  0.8329254727474972 \n",
      "\n",
      "\tTP: 14227 \tFP: 490 \n",
      "\tTN: 749 \tFN: 2514\n",
      "\n",
      "\n",
      "\n",
      "[ 0  4  0 96]\n",
      "2013-10-16 00:00:00 \t Training Shape:  (75096, 21) \t\t Testing Shape:  (36123, 21)\n",
      "LogisticRegression Testing Accuracy =  0.96 \n",
      "\n",
      "\tTP: 96 \tFP: 4 \n",
      "\tTN: 0 \tFN: 0\n",
      "\n",
      "\n",
      "\n"
     ]
    },
    {
     "name": "stderr",
     "output_type": "stream",
     "text": [
      "C:\\ProgramData\\Anaconda3\\lib\\site-packages\\ipykernel_launcher.py:52: UserWarning: Boolean Series key will be reindexed to match DataFrame index.\n",
      "C:\\ProgramData\\Anaconda3\\lib\\site-packages\\ipykernel_launcher.py:62: UserWarning: Boolean Series key will be reindexed to match DataFrame index.\n"
     ]
    },
    {
     "name": "stdout",
     "output_type": "stream",
     "text": [
      "2013-11-13 00:00:00 \t Training Shape:  (96489, 21) \t\t Testing Shape:  (32293, 21)\n",
      "LogisticRegression Testing Accuracy =  0.8488672379387252 \n",
      "\n",
      "\tTP: 13804 \tFP: 412 \n",
      "\tTN: 659 \tFN: 2163\n",
      "\n",
      "\n",
      "\n",
      "[ 0  4  0 96]\n",
      "2013-11-13 00:00:00 \t Training Shape:  (96489, 21) \t\t Testing Shape:  (32293, 21)\n",
      "LogisticRegression Testing Accuracy =  0.96 \n",
      "\n",
      "\tTP: 96 \tFP: 4 \n",
      "\tTN: 0 \tFN: 0\n",
      "\n",
      "\n",
      "\n"
     ]
    },
    {
     "name": "stderr",
     "output_type": "stream",
     "text": [
      "C:\\ProgramData\\Anaconda3\\lib\\site-packages\\ipykernel_launcher.py:52: UserWarning: Boolean Series key will be reindexed to match DataFrame index.\n",
      "C:\\ProgramData\\Anaconda3\\lib\\site-packages\\ipykernel_launcher.py:62: UserWarning: Boolean Series key will be reindexed to match DataFrame index.\n"
     ]
    },
    {
     "name": "stdout",
     "output_type": "stream",
     "text": [
      "2013-12-11 00:00:00 \t Training Shape:  (106497, 21) \t\t Testing Shape:  (28285, 21)\n",
      "LogisticRegression Testing Accuracy =  0.8144165972590293 \n",
      "\n",
      "\tTP: 10146 \tFP: 449 \n",
      "\tTN: 610 \tFN: 2002\n",
      "\n",
      "\n",
      "\n",
      "[ 0  2  0 98]\n",
      "2013-12-11 00:00:00 \t Training Shape:  (106497, 21) \t\t Testing Shape:  (28285, 21)\n",
      "LogisticRegression Testing Accuracy =  0.98 \n",
      "\n",
      "\tTP: 98 \tFP: 2 \n",
      "\tTN: 0 \tFN: 0\n",
      "\n",
      "\n",
      "\n"
     ]
    },
    {
     "name": "stderr",
     "output_type": "stream",
     "text": [
      "C:\\ProgramData\\Anaconda3\\lib\\site-packages\\ipykernel_launcher.py:52: UserWarning: Boolean Series key will be reindexed to match DataFrame index.\n",
      "C:\\ProgramData\\Anaconda3\\lib\\site-packages\\ipykernel_launcher.py:62: UserWarning: Boolean Series key will be reindexed to match DataFrame index.\n"
     ]
    },
    {
     "name": "stdout",
     "output_type": "stream",
     "text": [
      "2014-01-08 00:00:00 \t Training Shape:  (96878, 21) \t\t Testing Shape:  (19060, 21)\n",
      "LogisticRegression Testing Accuracy =  0.7828723001136795 \n",
      "\n",
      "\tTP: 5675 \tFP: 354 \n",
      "\tTN: 523 \tFN: 1365\n",
      "\n",
      "\n",
      "\n",
      "[ 0  9  0 91]\n",
      "2014-01-08 00:00:00 \t Training Shape:  (96878, 21) \t\t Testing Shape:  (19060, 21)\n",
      "LogisticRegression Testing Accuracy =  0.91 \n",
      "\n",
      "\tTP: 91 \tFP: 9 \n",
      "\tTN: 0 \tFN: 0\n",
      "\n",
      "\n",
      "\n"
     ]
    },
    {
     "name": "stderr",
     "output_type": "stream",
     "text": [
      "C:\\ProgramData\\Anaconda3\\lib\\site-packages\\ipykernel_launcher.py:52: UserWarning: Boolean Series key will be reindexed to match DataFrame index.\n",
      "C:\\ProgramData\\Anaconda3\\lib\\site-packages\\ipykernel_launcher.py:62: UserWarning: Boolean Series key will be reindexed to match DataFrame index.\n"
     ]
    },
    {
     "name": "stdout",
     "output_type": "stream",
     "text": [
      "2014-02-05 00:00:00 \t Training Shape:  (79672, 21) \t\t Testing Shape:  (22299, 21)\n",
      "LogisticRegression Testing Accuracy =  0.8013864089906523 \n",
      "\n",
      "\tTP: 7075 \tFP: 360 \n",
      "\tTN: 555 \tFN: 1531\n",
      "\n",
      "\n",
      "\n",
      "[100]\n",
      "2014-02-05 00:00:00 \t Training Shape:  (79672, 21) \t\t Testing Shape:  (22299, 21)\n",
      "LogisticRegression Testing Accuracy =  1.0 \n",
      "\n",
      "\tTP: 100 \tFP: 0 \n",
      "\tTN: 0 \tFN: 0\n",
      "\n",
      "\n",
      "\n"
     ]
    },
    {
     "name": "stderr",
     "output_type": "stream",
     "text": [
      "C:\\ProgramData\\Anaconda3\\lib\\site-packages\\ipykernel_launcher.py:52: UserWarning: Boolean Series key will be reindexed to match DataFrame index.\n",
      "C:\\ProgramData\\Anaconda3\\lib\\site-packages\\ipykernel_launcher.py:62: UserWarning: Boolean Series key will be reindexed to match DataFrame index.\n"
     ]
    },
    {
     "name": "stdout",
     "output_type": "stream",
     "text": [
      "2014-03-05 00:00:00 \t Training Shape:  (70417, 21) \t\t Testing Shape:  (25562, 21)\n",
      "LogisticRegression Testing Accuracy =  0.78234474522293 \n",
      "\n",
      "\tTP: 7164 \tFP: 477 \n",
      "\tTN: 697 \tFN: 1710\n",
      "\n",
      "\n",
      "\n",
      "[ 0  9  0 91]\n",
      "2014-03-05 00:00:00 \t Training Shape:  (70417, 21) \t\t Testing Shape:  (25562, 21)\n",
      "LogisticRegression Testing Accuracy =  0.91 \n",
      "\n",
      "\tTP: 91 \tFP: 9 \n",
      "\tTN: 0 \tFN: 0\n",
      "\n",
      "\n",
      "\n"
     ]
    },
    {
     "name": "stderr",
     "output_type": "stream",
     "text": [
      "C:\\ProgramData\\Anaconda3\\lib\\site-packages\\ipykernel_launcher.py:52: UserWarning: Boolean Series key will be reindexed to match DataFrame index.\n",
      "C:\\ProgramData\\Anaconda3\\lib\\site-packages\\ipykernel_launcher.py:62: UserWarning: Boolean Series key will be reindexed to match DataFrame index.\n"
     ]
    },
    {
     "name": "stdout",
     "output_type": "stream",
     "text": [
      "2014-04-02 00:00:00 \t Training Shape:  (67282, 21) \t\t Testing Shape:  (27950, 21)\n",
      "LogisticRegression Testing Accuracy =  0.7668894508670521 \n",
      "\n",
      "\tTP: 7708 \tFP: 445 \n",
      "\tTN: 783 \tFN: 2136\n",
      "\n",
      "\n",
      "\n",
      "[ 0  5  0 95]\n",
      "2014-04-02 00:00:00 \t Training Shape:  (67282, 21) \t\t Testing Shape:  (27950, 21)\n",
      "LogisticRegression Testing Accuracy =  0.95 \n",
      "\n",
      "\tTP: 95 \tFP: 5 \n",
      "\tTN: 0 \tFN: 0\n",
      "\n",
      "\n",
      "\n"
     ]
    },
    {
     "name": "stderr",
     "output_type": "stream",
     "text": [
      "C:\\ProgramData\\Anaconda3\\lib\\site-packages\\ipykernel_launcher.py:52: UserWarning: Boolean Series key will be reindexed to match DataFrame index.\n",
      "C:\\ProgramData\\Anaconda3\\lib\\site-packages\\ipykernel_launcher.py:62: UserWarning: Boolean Series key will be reindexed to match DataFrame index.\n"
     ]
    },
    {
     "name": "stdout",
     "output_type": "stream",
     "text": [
      "2014-04-30 00:00:00 \t Training Shape:  (75678, 22) \t\t Testing Shape:  (16926, 22)\n",
      "LogisticRegression Testing Accuracy =  0.7834464043419267 \n",
      "\n",
      "\tTP: 5224 \tFP: 369 \n",
      "\tTN: 550 \tFN: 1227\n",
      "\n",
      "\n",
      "\n",
      "[ 0 11  0 89]\n",
      "2014-04-30 00:00:00 \t Training Shape:  (75678, 22) \t\t Testing Shape:  (16926, 22)\n",
      "LogisticRegression Testing Accuracy =  0.89 \n",
      "\n",
      "\tTP: 89 \tFP: 11 \n",
      "\tTN: 0 \tFN: 0\n",
      "\n",
      "\n",
      "\n"
     ]
    },
    {
     "name": "stderr",
     "output_type": "stream",
     "text": [
      "C:\\ProgramData\\Anaconda3\\lib\\site-packages\\ipykernel_launcher.py:52: UserWarning: Boolean Series key will be reindexed to match DataFrame index.\n",
      "C:\\ProgramData\\Anaconda3\\lib\\site-packages\\ipykernel_launcher.py:62: UserWarning: Boolean Series key will be reindexed to match DataFrame index.\n"
     ]
    },
    {
     "name": "stdout",
     "output_type": "stream",
     "text": [
      "2014-05-28 00:00:00 \t Training Shape:  (71204, 22) \t\t Testing Shape:  (15594, 22)\n",
      "LogisticRegression Testing Accuracy =  0.819535361314337 \n",
      "\n",
      "\tTP: 5866 \tFP: 352 \n",
      "\tTN: 519 \tFN: 1054\n",
      "\n",
      "\n",
      "\n",
      "[ 0  6  0 94]\n",
      "2014-05-28 00:00:00 \t Training Shape:  (71204, 22) \t\t Testing Shape:  (15594, 22)\n",
      "LogisticRegression Testing Accuracy =  0.94 \n",
      "\n",
      "\tTP: 94 \tFP: 6 \n",
      "\tTN: 0 \tFN: 0\n",
      "\n",
      "\n",
      "\n"
     ]
    },
    {
     "name": "stderr",
     "output_type": "stream",
     "text": [
      "C:\\ProgramData\\Anaconda3\\lib\\site-packages\\ipykernel_launcher.py:52: UserWarning: Boolean Series key will be reindexed to match DataFrame index.\n",
      "C:\\ProgramData\\Anaconda3\\lib\\site-packages\\ipykernel_launcher.py:62: UserWarning: Boolean Series key will be reindexed to match DataFrame index.\n"
     ]
    },
    {
     "name": "stdout",
     "output_type": "stream",
     "text": [
      "2014-06-25 00:00:00 \t Training Shape:  (60458, 22) \t\t Testing Shape:  (14400, 22)\n",
      "LogisticRegression Testing Accuracy =  0.8322112211221122 \n",
      "\n",
      "\tTP: 5894 \tFP: 254 \n",
      "\tTN: 410 \tFN: 1017\n",
      "\n",
      "\n",
      "\n",
      "[ 0  8  0 92]\n",
      "2014-06-25 00:00:00 \t Training Shape:  (60458, 22) \t\t Testing Shape:  (14400, 22)\n",
      "LogisticRegression Testing Accuracy =  0.92 \n",
      "\n",
      "\tTP: 92 \tFP: 8 \n",
      "\tTN: 0 \tFN: 0\n",
      "\n",
      "\n",
      "\n"
     ]
    },
    {
     "name": "stderr",
     "output_type": "stream",
     "text": [
      "C:\\ProgramData\\Anaconda3\\lib\\site-packages\\ipykernel_launcher.py:52: UserWarning: Boolean Series key will be reindexed to match DataFrame index.\n",
      "C:\\ProgramData\\Anaconda3\\lib\\site-packages\\ipykernel_launcher.py:62: UserWarning: Boolean Series key will be reindexed to match DataFrame index.\n"
     ]
    },
    {
     "name": "stdout",
     "output_type": "stream",
     "text": [
      "2014-07-23 00:00:00 \t Training Shape:  (46655, 22) \t\t Testing Shape:  (16011, 22)\n",
      "LogisticRegression Testing Accuracy =  0.8170716193868465 \n",
      "\n",
      "\tTP: 6081 \tFP: 222 \n",
      "\tTN: 342 \tFN: 1216\n",
      "\n",
      "\n",
      "\n",
      "[ 0  8  0 92]\n",
      "2014-07-23 00:00:00 \t Training Shape:  (46655, 22) \t\t Testing Shape:  (16011, 22)\n",
      "LogisticRegression Testing Accuracy =  0.92 \n",
      "\n",
      "\tTP: 92 \tFP: 8 \n",
      "\tTN: 0 \tFN: 0\n",
      "\n",
      "\n",
      "\n"
     ]
    },
    {
     "name": "stderr",
     "output_type": "stream",
     "text": [
      "C:\\ProgramData\\Anaconda3\\lib\\site-packages\\ipykernel_launcher.py:52: UserWarning: Boolean Series key will be reindexed to match DataFrame index.\n",
      "C:\\ProgramData\\Anaconda3\\lib\\site-packages\\ipykernel_launcher.py:62: UserWarning: Boolean Series key will be reindexed to match DataFrame index.\n"
     ]
    },
    {
     "name": "stdout",
     "output_type": "stream",
     "text": [
      "2014-08-20 00:00:00 \t Training Shape:  (42067, 22) \t\t Testing Shape:  (33929, 22)\n",
      "LogisticRegression Testing Accuracy =  0.811029043565348 \n",
      "\n",
      "\tTP: 12180 \tFP: 492 \n",
      "\tTN: 777 \tFN: 2527\n",
      "\n",
      "\n",
      "\n",
      "[ 0  4  0 96]\n",
      "2014-08-20 00:00:00 \t Training Shape:  (42067, 22) \t\t Testing Shape:  (33929, 22)\n",
      "LogisticRegression Testing Accuracy =  0.96 \n",
      "\n",
      "\tTP: 96 \tFP: 4 \n",
      "\tTN: 0 \tFN: 0\n",
      "\n",
      "\n",
      "\n"
     ]
    },
    {
     "name": "stderr",
     "output_type": "stream",
     "text": [
      "C:\\ProgramData\\Anaconda3\\lib\\site-packages\\ipykernel_launcher.py:52: UserWarning: Boolean Series key will be reindexed to match DataFrame index.\n",
      "C:\\ProgramData\\Anaconda3\\lib\\site-packages\\ipykernel_launcher.py:62: UserWarning: Boolean Series key will be reindexed to match DataFrame index.\n"
     ]
    },
    {
     "name": "stdout",
     "output_type": "stream",
     "text": [
      "2014-09-17 00:00:00 \t Training Shape:  (59278, 22) \t\t Testing Shape:  (70238, 22)\n",
      "LogisticRegression Testing Accuracy =  0.8242866275353053 \n",
      "\n",
      "\tTP: 27262 \tFP: 835 \n",
      "\tTN: 1105 \tFN: 5212\n",
      "\n",
      "\n",
      "\n",
      "[ 0  1  0 99]\n",
      "2014-09-17 00:00:00 \t Training Shape:  (59278, 22) \t\t Testing Shape:  (70238, 22)\n",
      "LogisticRegression Testing Accuracy =  0.99 \n",
      "\n",
      "\tTP: 99 \tFP: 1 \n",
      "\tTN: 0 \tFN: 0\n",
      "\n",
      "\n",
      "\n"
     ]
    },
    {
     "name": "stderr",
     "output_type": "stream",
     "text": [
      "C:\\ProgramData\\Anaconda3\\lib\\site-packages\\ipykernel_launcher.py:52: UserWarning: Boolean Series key will be reindexed to match DataFrame index.\n",
      "C:\\ProgramData\\Anaconda3\\lib\\site-packages\\ipykernel_launcher.py:62: UserWarning: Boolean Series key will be reindexed to match DataFrame index.\n"
     ]
    },
    {
     "name": "stdout",
     "output_type": "stream",
     "text": [
      "2014-10-15 00:00:00 \t Training Shape:  (115785, 22) \t\t Testing Shape:  (42192, 22)\n",
      "LogisticRegression Testing Accuracy =  0.8548598375687713 \n",
      "\n",
      "\tTP: 18879 \tFP: 426 \n",
      "\tTN: 699 \tFN: 2898\n",
      "\n",
      "\n",
      "\n",
      "[ 0  3  0 97]\n",
      "2014-10-15 00:00:00 \t Training Shape:  (115785, 22) \t\t Testing Shape:  (42192, 22)\n",
      "LogisticRegression Testing Accuracy =  0.97 \n",
      "\n",
      "\tTP: 97 \tFP: 3 \n",
      "\tTN: 0 \tFN: 0\n",
      "\n",
      "\n",
      "\n"
     ]
    },
    {
     "name": "stderr",
     "output_type": "stream",
     "text": [
      "C:\\ProgramData\\Anaconda3\\lib\\site-packages\\ipykernel_launcher.py:52: UserWarning: Boolean Series key will be reindexed to match DataFrame index.\n",
      "C:\\ProgramData\\Anaconda3\\lib\\site-packages\\ipykernel_launcher.py:62: UserWarning: Boolean Series key will be reindexed to match DataFrame index.\n"
     ]
    },
    {
     "name": "stdout",
     "output_type": "stream",
     "text": [
      "2014-11-12 00:00:00 \t Training Shape:  (141511, 22) \t\t Testing Shape:  (29401, 22)\n",
      "LogisticRegression Testing Accuracy =  0.8390920724725534 \n",
      "\n",
      "\tTP: 11900 \tFP: 385 \n",
      "\tTN: 558 \tFN: 2004\n",
      "\n",
      "\n",
      "\n",
      "[ 0  3  0 97]\n",
      "2014-11-12 00:00:00 \t Training Shape:  (141511, 22) \t\t Testing Shape:  (29401, 22)\n",
      "LogisticRegression Testing Accuracy =  0.97 \n",
      "\n",
      "\tTP: 97 \tFP: 3 \n",
      "\tTN: 0 \tFN: 0\n",
      "\n",
      "\n",
      "\n"
     ]
    },
    {
     "name": "stderr",
     "output_type": "stream",
     "text": [
      "C:\\ProgramData\\Anaconda3\\lib\\site-packages\\ipykernel_launcher.py:52: UserWarning: Boolean Series key will be reindexed to match DataFrame index.\n",
      "C:\\ProgramData\\Anaconda3\\lib\\site-packages\\ipykernel_launcher.py:62: UserWarning: Boolean Series key will be reindexed to match DataFrame index.\n"
     ]
    },
    {
     "name": "stdout",
     "output_type": "stream",
     "text": [
      "2014-12-10 00:00:00 \t Training Shape:  (144514, 22) \t\t Testing Shape:  (24159, 22)\n",
      "LogisticRegression Testing Accuracy =  0.8063729915147139 \n",
      "\n",
      "\tTP: 8425 \tFP: 376 \n",
      "\tTN: 508 \tFN: 1769\n",
      "\n",
      "\n",
      "\n",
      "[ 0  3  0 97]\n",
      "2014-12-10 00:00:00 \t Training Shape:  (144514, 22) \t\t Testing Shape:  (24159, 22)\n",
      "LogisticRegression Testing Accuracy =  0.97 \n",
      "\n",
      "\tTP: 97 \tFP: 3 \n",
      "\tTN: 0 \tFN: 0\n",
      "\n",
      "\n",
      "\n"
     ]
    },
    {
     "name": "stderr",
     "output_type": "stream",
     "text": [
      "C:\\ProgramData\\Anaconda3\\lib\\site-packages\\ipykernel_launcher.py:52: UserWarning: Boolean Series key will be reindexed to match DataFrame index.\n",
      "C:\\ProgramData\\Anaconda3\\lib\\site-packages\\ipykernel_launcher.py:62: UserWarning: Boolean Series key will be reindexed to match DataFrame index.\n"
     ]
    },
    {
     "name": "stdout",
     "output_type": "stream",
     "text": [
      "2015-01-07 00:00:00 \t Training Shape:  (100316, 22) \t\t Testing Shape:  (16552, 22)\n",
      "LogisticRegression Testing Accuracy =  0.8036114406221168 \n",
      "\n",
      "\tTP: 5618 \tFP: 312 \n",
      "\tTN: 479 \tFN: 1178\n",
      "\n",
      "\n",
      "\n",
      "[ 0  7  0 93]\n",
      "2015-01-07 00:00:00 \t Training Shape:  (100316, 22) \t\t Testing Shape:  (16552, 22)\n",
      "LogisticRegression Testing Accuracy =  0.93 \n",
      "\n",
      "\tTP: 93 \tFP: 7 \n",
      "\tTN: 0 \tFN: 0\n",
      "\n",
      "\n",
      "\n"
     ]
    },
    {
     "name": "stderr",
     "output_type": "stream",
     "text": [
      "C:\\ProgramData\\Anaconda3\\lib\\site-packages\\ipykernel_launcher.py:52: UserWarning: Boolean Series key will be reindexed to match DataFrame index.\n",
      "C:\\ProgramData\\Anaconda3\\lib\\site-packages\\ipykernel_launcher.py:62: UserWarning: Boolean Series key will be reindexed to match DataFrame index.\n"
     ]
    },
    {
     "name": "stdout",
     "output_type": "stream",
     "text": [
      "2015-02-04 00:00:00 \t Training Shape:  (71166, 22) \t\t Testing Shape:  (31393, 22)\n",
      "LogisticRegression Testing Accuracy =  0.7818692463722889 \n",
      "\n",
      "\tTP: 9061 \tFP: 631 \n",
      "\tTN: 961 \tFN: 2165\n",
      "\n",
      "\n",
      "\n",
      "[ 0  6  0 94]\n",
      "2015-02-04 00:00:00 \t Training Shape:  (71166, 22) \t\t Testing Shape:  (31393, 22)\n",
      "LogisticRegression Testing Accuracy =  0.94 \n",
      "\n",
      "\tTP: 94 \tFP: 6 \n",
      "\tTN: 0 \tFN: 0\n",
      "\n",
      "\n",
      "\n"
     ]
    },
    {
     "name": "stderr",
     "output_type": "stream",
     "text": [
      "C:\\ProgramData\\Anaconda3\\lib\\site-packages\\ipykernel_launcher.py:52: UserWarning: Boolean Series key will be reindexed to match DataFrame index.\n",
      "C:\\ProgramData\\Anaconda3\\lib\\site-packages\\ipykernel_launcher.py:62: UserWarning: Boolean Series key will be reindexed to match DataFrame index.\n"
     ]
    },
    {
     "name": "stdout",
     "output_type": "stream",
     "text": [
      "2015-03-04 00:00:00 \t Training Shape:  (72453, 22) \t\t Testing Shape:  (31115, 22)\n",
      "LogisticRegression Testing Accuracy =  0.7624195215006756 \n",
      "\n",
      "\tTP: 8697 \tFP: 502 \n",
      "\tTN: 895 \tFN: 2487\n",
      "\n",
      "\n",
      "\n",
      "[ 0  8  0 92]\n",
      "2015-03-04 00:00:00 \t Training Shape:  (72453, 22) \t\t Testing Shape:  (31115, 22)\n",
      "LogisticRegression Testing Accuracy =  0.92 \n",
      "\n",
      "\tTP: 92 \tFP: 8 \n",
      "\tTN: 0 \tFN: 0\n",
      "\n",
      "\n",
      "\n"
     ]
    },
    {
     "name": "stderr",
     "output_type": "stream",
     "text": [
      "C:\\ProgramData\\Anaconda3\\lib\\site-packages\\ipykernel_launcher.py:52: UserWarning: Boolean Series key will be reindexed to match DataFrame index.\n",
      "C:\\ProgramData\\Anaconda3\\lib\\site-packages\\ipykernel_launcher.py:62: UserWarning: Boolean Series key will be reindexed to match DataFrame index.\n"
     ]
    },
    {
     "name": "stdout",
     "output_type": "stream",
     "text": [
      "2015-04-01 00:00:00 \t Training Shape:  (78577, 22) \t\t Testing Shape:  (28235, 22)\n",
      "LogisticRegression Testing Accuracy =  0.7885473684210527 \n",
      "\n",
      "\tTP: 8624 \tFP: 436 \n",
      "\tTN: 740 \tFN: 2075\n",
      "\n",
      "\n",
      "\n",
      "[ 0  4  0 96]\n",
      "2015-04-01 00:00:00 \t Training Shape:  (78577, 22) \t\t Testing Shape:  (28235, 22)\n",
      "LogisticRegression Testing Accuracy =  0.96 \n",
      "\n",
      "\tTP: 96 \tFP: 4 \n",
      "\tTN: 0 \tFN: 0\n",
      "\n",
      "\n",
      "\n"
     ]
    },
    {
     "name": "stderr",
     "output_type": "stream",
     "text": [
      "C:\\ProgramData\\Anaconda3\\lib\\site-packages\\ipykernel_launcher.py:52: UserWarning: Boolean Series key will be reindexed to match DataFrame index.\n",
      "C:\\ProgramData\\Anaconda3\\lib\\site-packages\\ipykernel_launcher.py:62: UserWarning: Boolean Series key will be reindexed to match DataFrame index.\n"
     ]
    },
    {
     "name": "stdout",
     "output_type": "stream",
     "text": [
      "2015-04-29 00:00:00 \t Training Shape:  (86424, 22) \t\t Testing Shape:  (19859, 22)\n",
      "LogisticRegression Testing Accuracy =  0.7856640899508082 \n",
      "\n",
      "\tTP: 6050 \tFP: 409 \n",
      "\tTN: 658 \tFN: 1421\n",
      "\n",
      "\n",
      "\n",
      "[ 0  3  0 97]\n",
      "2015-04-29 00:00:00 \t Training Shape:  (86424, 22) \t\t Testing Shape:  (19859, 22)\n",
      "LogisticRegression Testing Accuracy =  0.97 \n",
      "\n",
      "\tTP: 97 \tFP: 3 \n",
      "\tTN: 0 \tFN: 0\n",
      "\n",
      "\n",
      "\n"
     ]
    },
    {
     "name": "stderr",
     "output_type": "stream",
     "text": [
      "C:\\ProgramData\\Anaconda3\\lib\\site-packages\\ipykernel_launcher.py:52: UserWarning: Boolean Series key will be reindexed to match DataFrame index.\n",
      "C:\\ProgramData\\Anaconda3\\lib\\site-packages\\ipykernel_launcher.py:62: UserWarning: Boolean Series key will be reindexed to match DataFrame index.\n"
     ]
    },
    {
     "name": "stdout",
     "output_type": "stream",
     "text": [
      "2015-05-27 00:00:00 \t Training Shape:  (78248, 22) \t\t Testing Shape:  (18675, 22)\n",
      "LogisticRegression Testing Accuracy =  0.829321892005023 \n",
      "\n",
      "\tTP: 7315 \tFP: 324 \n",
      "\tTN: 610 \tFN: 1307\n",
      "\n",
      "\n",
      "\n",
      "[ 0  4  0 96]\n",
      "2015-05-27 00:00:00 \t Training Shape:  (78248, 22) \t\t Testing Shape:  (18675, 22)\n",
      "LogisticRegression Testing Accuracy =  0.96 \n",
      "\n",
      "\tTP: 96 \tFP: 4 \n",
      "\tTN: 0 \tFN: 0\n",
      "\n",
      "\n",
      "\n"
     ]
    },
    {
     "name": "stderr",
     "output_type": "stream",
     "text": [
      "C:\\ProgramData\\Anaconda3\\lib\\site-packages\\ipykernel_launcher.py:52: UserWarning: Boolean Series key will be reindexed to match DataFrame index.\n",
      "C:\\ProgramData\\Anaconda3\\lib\\site-packages\\ipykernel_launcher.py:62: UserWarning: Boolean Series key will be reindexed to match DataFrame index.\n"
     ]
    },
    {
     "name": "stdout",
     "output_type": "stream",
     "text": [
      "2015-06-24 00:00:00 \t Training Shape:  (66930, 22) \t\t Testing Shape:  (15618, 22)\n",
      "LogisticRegression Testing Accuracy =  0.8242401594419532 \n",
      "\n",
      "\tTP: 6223 \tFP: 220 \n",
      "\tTN: 394 \tFN: 1191\n",
      "\n",
      "\n",
      "\n",
      "[ 0  4  0 96]\n",
      "2015-06-24 00:00:00 \t Training Shape:  (66930, 22) \t\t Testing Shape:  (15618, 22)\n",
      "LogisticRegression Testing Accuracy =  0.96 \n",
      "\n",
      "\tTP: 96 \tFP: 4 \n",
      "\tTN: 0 \tFN: 0\n",
      "\n",
      "\n",
      "\n"
     ]
    },
    {
     "name": "stderr",
     "output_type": "stream",
     "text": [
      "C:\\ProgramData\\Anaconda3\\lib\\site-packages\\ipykernel_launcher.py:52: UserWarning: Boolean Series key will be reindexed to match DataFrame index.\n",
      "C:\\ProgramData\\Anaconda3\\lib\\site-packages\\ipykernel_launcher.py:62: UserWarning: Boolean Series key will be reindexed to match DataFrame index.\n"
     ]
    },
    {
     "name": "stdout",
     "output_type": "stream",
     "text": [
      "2015-07-22 00:00:00 \t Training Shape:  (55053, 22) \t\t Testing Shape:  (15700, 22)\n",
      "LogisticRegression Testing Accuracy =  0.8117540217955371 \n",
      "\n",
      "\tTP: 5883 \tFP: 209 \n",
      "\tTN: 374 \tFN: 1242\n",
      "\n",
      "\n",
      "\n",
      "[ 0  4  0 96]\n",
      "2015-07-22 00:00:00 \t Training Shape:  (55053, 22) \t\t Testing Shape:  (15700, 22)\n",
      "LogisticRegression Testing Accuracy =  0.96 \n",
      "\n",
      "\tTP: 96 \tFP: 4 \n",
      "\tTN: 0 \tFN: 0\n",
      "\n",
      "\n",
      "\n"
     ]
    },
    {
     "name": "stderr",
     "output_type": "stream",
     "text": [
      "C:\\ProgramData\\Anaconda3\\lib\\site-packages\\ipykernel_launcher.py:52: UserWarning: Boolean Series key will be reindexed to match DataFrame index.\n",
      "C:\\ProgramData\\Anaconda3\\lib\\site-packages\\ipykernel_launcher.py:62: UserWarning: Boolean Series key will be reindexed to match DataFrame index.\n"
     ]
    },
    {
     "name": "stdout",
     "output_type": "stream",
     "text": [
      "2015-08-19 00:00:00 \t Training Shape:  (49138, 22) \t\t Testing Shape:  (32518, 22)\n",
      "LogisticRegression Testing Accuracy =  0.7943146098127648 \n",
      "\n",
      "\tTP: 10780 \tFP: 525 \n",
      "\tTN: 844 \tFN: 2485\n",
      "\n",
      "\n",
      "\n",
      "[ 0  5  0 95]\n",
      "2015-08-19 00:00:00 \t Training Shape:  (49138, 22) \t\t Testing Shape:  (32518, 22)\n",
      "LogisticRegression Testing Accuracy =  0.95 \n",
      "\n",
      "\tTP: 95 \tFP: 5 \n",
      "\tTN: 0 \tFN: 0\n",
      "\n",
      "\n",
      "\n"
     ]
    },
    {
     "name": "stderr",
     "output_type": "stream",
     "text": [
      "C:\\ProgramData\\Anaconda3\\lib\\site-packages\\ipykernel_launcher.py:52: UserWarning: Boolean Series key will be reindexed to match DataFrame index.\n",
      "C:\\ProgramData\\Anaconda3\\lib\\site-packages\\ipykernel_launcher.py:62: UserWarning: Boolean Series key will be reindexed to match DataFrame index.\n"
     ]
    },
    {
     "name": "stdout",
     "output_type": "stream",
     "text": [
      "2015-09-16 00:00:00 \t Training Shape:  (62400, 22) \t\t Testing Shape:  (76510, 22)\n",
      "LogisticRegression Testing Accuracy =  0.8079836997072835 \n",
      "\n",
      "\tTP: 26143 \tFP: 1357 \n",
      "\tTN: 2012 \tFN: 5334\n",
      "\n",
      "\n",
      "\n",
      "[ 0  3  0 97]\n",
      "2015-09-16 00:00:00 \t Training Shape:  (62400, 22) \t\t Testing Shape:  (76510, 22)\n",
      "LogisticRegression Testing Accuracy =  0.97 \n",
      "\n",
      "\tTP: 97 \tFP: 3 \n",
      "\tTN: 0 \tFN: 0\n",
      "\n",
      "\n",
      "\n"
     ]
    },
    {
     "name": "stderr",
     "output_type": "stream",
     "text": [
      "C:\\ProgramData\\Anaconda3\\lib\\site-packages\\ipykernel_launcher.py:52: UserWarning: Boolean Series key will be reindexed to match DataFrame index.\n",
      "C:\\ProgramData\\Anaconda3\\lib\\site-packages\\ipykernel_launcher.py:62: UserWarning: Boolean Series key will be reindexed to match DataFrame index.\n"
     ]
    },
    {
     "name": "stdout",
     "output_type": "stream",
     "text": [
      "2015-10-14 00:00:00 \t Training Shape:  (121358, 22) \t\t Testing Shape:  (41016, 22)\n",
      "LogisticRegression Testing Accuracy =  0.8194197449316599 \n",
      "\n",
      "\tTP: 15035 \tFP: 560 \n",
      "\tTN: 1092 \tFN: 2994\n",
      "\n",
      "\n",
      "\n",
      "[ 0  2  0 98]\n",
      "2015-10-14 00:00:00 \t Training Shape:  (121358, 22) \t\t Testing Shape:  (41016, 22)\n",
      "LogisticRegression Testing Accuracy =  0.98 \n",
      "\n",
      "\tTP: 98 \tFP: 2 \n",
      "\tTN: 0 \tFN: 0\n",
      "\n",
      "\n",
      "\n"
     ]
    },
    {
     "name": "stderr",
     "output_type": "stream",
     "text": [
      "C:\\ProgramData\\Anaconda3\\lib\\site-packages\\ipykernel_launcher.py:52: UserWarning: Boolean Series key will be reindexed to match DataFrame index.\n",
      "C:\\ProgramData\\Anaconda3\\lib\\site-packages\\ipykernel_launcher.py:62: UserWarning: Boolean Series key will be reindexed to match DataFrame index.\n"
     ]
    },
    {
     "name": "stdout",
     "output_type": "stream",
     "text": [
      "2015-11-11 00:00:00 \t Training Shape:  (144395, 22) \t\t Testing Shape:  (35579, 22)\n",
      "LogisticRegression Testing Accuracy =  0.822977046139578 \n",
      "\n",
      "\tTP: 13149 \tFP: 594 \n",
      "\tTN: 1049 \tFN: 2460\n",
      "\n",
      "\n",
      "\n",
      "[ 0  1  0 99]\n",
      "2015-11-11 00:00:00 \t Training Shape:  (144395, 22) \t\t Testing Shape:  (35579, 22)\n",
      "LogisticRegression Testing Accuracy =  0.99 \n",
      "\n",
      "\tTP: 99 \tFP: 1 \n",
      "\tTN: 0 \tFN: 0\n",
      "\n",
      "\n",
      "\n"
     ]
    },
    {
     "name": "stderr",
     "output_type": "stream",
     "text": [
      "C:\\ProgramData\\Anaconda3\\lib\\site-packages\\ipykernel_launcher.py:52: UserWarning: Boolean Series key will be reindexed to match DataFrame index.\n",
      "C:\\ProgramData\\Anaconda3\\lib\\site-packages\\ipykernel_launcher.py:62: UserWarning: Boolean Series key will be reindexed to match DataFrame index.\n"
     ]
    },
    {
     "name": "stdout",
     "output_type": "stream",
     "text": [
      "2015-12-09 00:00:00 \t Training Shape:  (151533, 22) \t\t Testing Shape:  (40297, 22)\n",
      "LogisticRegression Testing Accuracy =  0.8151366724601042 \n",
      "\n",
      "\tTP: 14370 \tFP: 614 \n",
      "\tTN: 1107 \tFN: 2896\n",
      "\n",
      "\n",
      "\n",
      "[ 0  4  0 96]\n",
      "2015-12-09 00:00:00 \t Training Shape:  (151533, 22) \t\t Testing Shape:  (40297, 22)\n",
      "LogisticRegression Testing Accuracy =  0.96 \n",
      "\n",
      "\tTP: 96 \tFP: 4 \n",
      "\tTN: 0 \tFN: 0\n",
      "\n",
      "\n",
      "\n"
     ]
    },
    {
     "name": "stderr",
     "output_type": "stream",
     "text": [
      "C:\\ProgramData\\Anaconda3\\lib\\site-packages\\ipykernel_launcher.py:52: UserWarning: Boolean Series key will be reindexed to match DataFrame index.\n",
      "C:\\ProgramData\\Anaconda3\\lib\\site-packages\\ipykernel_launcher.py:62: UserWarning: Boolean Series key will be reindexed to match DataFrame index.\n"
     ]
    },
    {
     "name": "stdout",
     "output_type": "stream",
     "text": [
      "2016-01-06 00:00:00 \t Training Shape:  (129385, 22) \t\t Testing Shape:  (29111, 22)\n",
      "LogisticRegression Testing Accuracy =  0.7696008834200978 \n",
      "\n",
      "\tTP: 8739 \tFP: 545 \n",
      "\tTN: 1018 \tFN: 2376\n",
      "\n",
      "\n",
      "\n",
      "[ 0  4  0 96]\n",
      "2016-01-06 00:00:00 \t Training Shape:  (129385, 22) \t\t Testing Shape:  (29111, 22)\n",
      "LogisticRegression Testing Accuracy =  0.96 \n",
      "\n",
      "\tTP: 96 \tFP: 4 \n",
      "\tTN: 0 \tFN: 0\n",
      "\n",
      "\n",
      "\n"
     ]
    },
    {
     "name": "stderr",
     "output_type": "stream",
     "text": [
      "C:\\ProgramData\\Anaconda3\\lib\\site-packages\\ipykernel_launcher.py:52: UserWarning: Boolean Series key will be reindexed to match DataFrame index.\n",
      "C:\\ProgramData\\Anaconda3\\lib\\site-packages\\ipykernel_launcher.py:62: UserWarning: Boolean Series key will be reindexed to match DataFrame index.\n"
     ]
    },
    {
     "name": "stdout",
     "output_type": "stream",
     "text": [
      "2016-02-03 00:00:00 \t Training Shape:  (106286, 22) \t\t Testing Shape:  (36262, 22)\n",
      "LogisticRegression Testing Accuracy =  0.7785705020106369 \n",
      "\n",
      "\tTP: 10671 \tFP: 670 \n",
      "\tTN: 1333 \tFN: 2744\n",
      "\n",
      "\n",
      "\n",
      "[ 0  7  0 93]\n",
      "2016-02-03 00:00:00 \t Training Shape:  (106286, 22) \t\t Testing Shape:  (36262, 22)\n",
      "LogisticRegression Testing Accuracy =  0.93 \n",
      "\n",
      "\tTP: 93 \tFP: 7 \n",
      "\tTN: 0 \tFN: 0\n",
      "\n",
      "\n",
      "\n"
     ]
    },
    {
     "name": "stderr",
     "output_type": "stream",
     "text": [
      "C:\\ProgramData\\Anaconda3\\lib\\site-packages\\ipykernel_launcher.py:52: UserWarning: Boolean Series key will be reindexed to match DataFrame index.\n",
      "C:\\ProgramData\\Anaconda3\\lib\\site-packages\\ipykernel_launcher.py:62: UserWarning: Boolean Series key will be reindexed to match DataFrame index.\n"
     ]
    },
    {
     "name": "stdout",
     "output_type": "stream",
     "text": [
      "2016-03-02 00:00:00 \t Training Shape:  (106286, 22) \t\t Testing Shape:  (34249, 22)\n",
      "LogisticRegression Testing Accuracy =  0.779608938547486 \n",
      "\n",
      "\tTP: 9895 \tFP: 631 \n",
      "\tTN: 1269 \tFN: 2525\n",
      "\n",
      "\n",
      "\n",
      "[ 0  8  0 92]\n",
      "2016-03-02 00:00:00 \t Training Shape:  (106286, 22) \t\t Testing Shape:  (34249, 22)\n",
      "LogisticRegression Testing Accuracy =  0.92 \n",
      "\n",
      "\tTP: 92 \tFP: 8 \n",
      "\tTN: 0 \tFN: 0\n",
      "\n",
      "\n",
      "\n"
     ]
    },
    {
     "name": "stderr",
     "output_type": "stream",
     "text": [
      "C:\\ProgramData\\Anaconda3\\lib\\site-packages\\ipykernel_launcher.py:52: UserWarning: Boolean Series key will be reindexed to match DataFrame index.\n",
      "C:\\ProgramData\\Anaconda3\\lib\\site-packages\\ipykernel_launcher.py:62: UserWarning: Boolean Series key will be reindexed to match DataFrame index.\n"
     ]
    },
    {
     "name": "stdout",
     "output_type": "stream",
     "text": [
      "2016-03-30 00:00:00 \t Training Shape:  (96176, 22) \t\t Testing Shape:  (57808, 22)\n",
      "LogisticRegression Testing Accuracy =  0.7616574194309998 \n",
      "\n",
      "\tTP: 17355 \tFP: 1054 \n",
      "\tTN: 2001 \tFN: 5003\n",
      "\n",
      "\n",
      "\n",
      "[ 0  6  0 94]\n",
      "2016-03-30 00:00:00 \t Training Shape:  (96176, 22) \t\t Testing Shape:  (57808, 22)\n",
      "LogisticRegression Testing Accuracy =  0.94 \n",
      "\n",
      "\tTP: 94 \tFP: 6 \n",
      "\tTN: 0 \tFN: 0\n",
      "\n",
      "\n",
      "\n"
     ]
    },
    {
     "name": "stderr",
     "output_type": "stream",
     "text": [
      "C:\\ProgramData\\Anaconda3\\lib\\site-packages\\ipykernel_launcher.py:52: UserWarning: Boolean Series key will be reindexed to match DataFrame index.\n",
      "C:\\ProgramData\\Anaconda3\\lib\\site-packages\\ipykernel_launcher.py:62: UserWarning: Boolean Series key will be reindexed to match DataFrame index.\n"
     ]
    },
    {
     "name": "stdout",
     "output_type": "stream",
     "text": [
      "2016-04-27 00:00:00 \t Training Shape:  (121145, 22) \t\t Testing Shape:  (29968, 22)\n",
      "LogisticRegression Testing Accuracy =  0.8192044453479704 \n",
      "\n",
      "\tTP: 11047 \tFP: 489 \n",
      "\tTN: 1042 \tFN: 2179\n",
      "\n",
      "\n",
      "\n",
      "[ 0  1  0 99]\n",
      "2016-04-27 00:00:00 \t Training Shape:  (121145, 22) \t\t Testing Shape:  (29968, 22)\n",
      "LogisticRegression Testing Accuracy =  0.99 \n",
      "\n",
      "\tTP: 99 \tFP: 1 \n",
      "\tTN: 0 \tFN: 0\n",
      "\n",
      "\n",
      "\n"
     ]
    },
    {
     "name": "stderr",
     "output_type": "stream",
     "text": [
      "C:\\ProgramData\\Anaconda3\\lib\\site-packages\\ipykernel_launcher.py:52: UserWarning: Boolean Series key will be reindexed to match DataFrame index.\n",
      "C:\\ProgramData\\Anaconda3\\lib\\site-packages\\ipykernel_launcher.py:62: UserWarning: Boolean Series key will be reindexed to match DataFrame index.\n"
     ]
    },
    {
     "name": "stdout",
     "output_type": "stream",
     "text": [
      "2016-05-25 00:00:00 \t Training Shape:  (119985, 22) \t\t Testing Shape:  (25045, 22)\n",
      "LogisticRegression Testing Accuracy =  0.8188220230473752 \n",
      "\n",
      "\tTP: 9434 \tFP: 394 \n",
      "\tTN: 798 \tFN: 1870\n",
      "\n",
      "\n",
      "\n",
      "[ 0  6  0 94]\n",
      "2016-05-25 00:00:00 \t Training Shape:  (119985, 22) \t\t Testing Shape:  (25045, 22)\n",
      "LogisticRegression Testing Accuracy =  0.94 \n",
      "\n",
      "\tTP: 94 \tFP: 6 \n",
      "\tTN: 0 \tFN: 0\n",
      "\n",
      "\n",
      "\n"
     ]
    },
    {
     "name": "stderr",
     "output_type": "stream",
     "text": [
      "C:\\ProgramData\\Anaconda3\\lib\\site-packages\\ipykernel_launcher.py:52: UserWarning: Boolean Series key will be reindexed to match DataFrame index.\n",
      "C:\\ProgramData\\Anaconda3\\lib\\site-packages\\ipykernel_launcher.py:62: UserWarning: Boolean Series key will be reindexed to match DataFrame index.\n"
     ]
    },
    {
     "name": "stdout",
     "output_type": "stream",
     "text": [
      "2016-06-22 00:00:00 \t Training Shape:  (111074, 22) \t\t Testing Shape:  (22955, 22)\n",
      "LogisticRegression Testing Accuracy =  0.8276060980634529 \n",
      "\n",
      "\tTP: 9519 \tFP: 296 \n",
      "\tTN: 524 \tFN: 1796\n",
      "\n",
      "\n",
      "\n",
      "[ 0  3  0 97]\n",
      "2016-06-22 00:00:00 \t Training Shape:  (111074, 22) \t\t Testing Shape:  (22955, 22)\n",
      "LogisticRegression Testing Accuracy =  0.97 \n",
      "\n",
      "\tTP: 97 \tFP: 3 \n",
      "\tTN: 0 \tFN: 0\n",
      "\n",
      "\n",
      "\n"
     ]
    },
    {
     "name": "stderr",
     "output_type": "stream",
     "text": [
      "C:\\ProgramData\\Anaconda3\\lib\\site-packages\\ipykernel_launcher.py:52: UserWarning: Boolean Series key will be reindexed to match DataFrame index.\n",
      "C:\\ProgramData\\Anaconda3\\lib\\site-packages\\ipykernel_launcher.py:62: UserWarning: Boolean Series key will be reindexed to match DataFrame index.\n"
     ]
    },
    {
     "name": "stdout",
     "output_type": "stream",
     "text": [
      "2016-07-20 00:00:00 \t Training Shape:  (75819, 22) \t\t Testing Shape:  (28201, 22)\n",
      "LogisticRegression Testing Accuracy =  0.8106860158311345 \n",
      "\n",
      "\tTP: 10407 \tFP: 408 \n",
      "\tTN: 654 \tFN: 2175\n",
      "\n",
      "\n",
      "\n",
      "[ 0  5  0 95]\n",
      "2016-07-20 00:00:00 \t Training Shape:  (75819, 22) \t\t Testing Shape:  (28201, 22)\n",
      "LogisticRegression Testing Accuracy =  0.95 \n",
      "\n",
      "\tTP: 95 \tFP: 5 \n",
      "\tTN: 0 \tFN: 0\n",
      "\n",
      "\n",
      "\n"
     ]
    },
    {
     "name": "stderr",
     "output_type": "stream",
     "text": [
      "C:\\ProgramData\\Anaconda3\\lib\\site-packages\\ipykernel_launcher.py:52: UserWarning: Boolean Series key will be reindexed to match DataFrame index.\n",
      "C:\\ProgramData\\Anaconda3\\lib\\site-packages\\ipykernel_launcher.py:62: UserWarning: Boolean Series key will be reindexed to match DataFrame index.\n"
     ]
    },
    {
     "name": "stdout",
     "output_type": "stream",
     "text": [
      "2016-08-17 00:00:00 \t Training Shape:  (72221, 22) \t\t Testing Shape:  (61360, 22)\n",
      "LogisticRegression Testing Accuracy =  0.8288478394961529 \n",
      "\n",
      "\tTP: 24085 \tFP: 873 \n",
      "\tTN: 1446 \tFN: 4399\n",
      "\n",
      "\n",
      "\n",
      "[ 0  4  0 96]\n",
      "2016-08-17 00:00:00 \t Training Shape:  (72221, 22) \t\t Testing Shape:  (61360, 22)\n",
      "LogisticRegression Testing Accuracy =  0.96 \n",
      "\n",
      "\tTP: 96 \tFP: 4 \n",
      "\tTN: 0 \tFN: 0\n",
      "\n",
      "\n",
      "\n"
     ]
    },
    {
     "name": "stderr",
     "output_type": "stream",
     "text": [
      "C:\\ProgramData\\Anaconda3\\lib\\site-packages\\ipykernel_launcher.py:52: UserWarning: Boolean Series key will be reindexed to match DataFrame index.\n",
      "C:\\ProgramData\\Anaconda3\\lib\\site-packages\\ipykernel_launcher.py:62: UserWarning: Boolean Series key will be reindexed to match DataFrame index.\n"
     ]
    },
    {
     "name": "stdout",
     "output_type": "stream",
     "text": [
      "2016-09-14 00:00:00 \t Training Shape:  (105787, 22) \t\t Testing Shape:  (83103, 22)\n",
      "LogisticRegression Testing Accuracy =  0.8454774774774775 \n",
      "\n",
      "\tTP: 33180 \tFP: 1197 \n",
      "\tTN: 2013 \tFN: 5235\n",
      "\n",
      "\n",
      "\n",
      "[ 0  1  0 99]\n",
      "2016-09-14 00:00:00 \t Training Shape:  (105787, 22) \t\t Testing Shape:  (83103, 22)\n",
      "LogisticRegression Testing Accuracy =  0.99 \n",
      "\n",
      "\tTP: 99 \tFP: 1 \n",
      "\tTN: 0 \tFN: 0\n",
      "\n",
      "\n",
      "\n"
     ]
    },
    {
     "name": "stderr",
     "output_type": "stream",
     "text": [
      "C:\\ProgramData\\Anaconda3\\lib\\site-packages\\ipykernel_launcher.py:52: UserWarning: Boolean Series key will be reindexed to match DataFrame index.\n",
      "C:\\ProgramData\\Anaconda3\\lib\\site-packages\\ipykernel_launcher.py:62: UserWarning: Boolean Series key will be reindexed to match DataFrame index.\n"
     ]
    },
    {
     "name": "stdout",
     "output_type": "stream",
     "text": [
      "2016-10-12 00:00:00 \t Training Shape:  (164168, 22) \t\t Testing Shape:  (52897, 22)\n",
      "LogisticRegression Testing Accuracy =  0.849181301748784 \n",
      "\n",
      "\tTP: 21374 \tFP: 862 \n",
      "\tTN: 1497 \tFN: 3200\n",
      "\n",
      "\n",
      "\n",
      "[ 0  3  0 97]\n",
      "2016-10-12 00:00:00 \t Training Shape:  (164168, 22) \t\t Testing Shape:  (52897, 22)\n",
      "LogisticRegression Testing Accuracy =  0.97 \n",
      "\n",
      "\tTP: 97 \tFP: 3 \n",
      "\tTN: 0 \tFN: 0\n",
      "\n",
      "\n",
      "\n"
     ]
    },
    {
     "name": "stderr",
     "output_type": "stream",
     "text": [
      "C:\\ProgramData\\Anaconda3\\lib\\site-packages\\ipykernel_launcher.py:52: UserWarning: Boolean Series key will be reindexed to match DataFrame index.\n",
      "C:\\ProgramData\\Anaconda3\\lib\\site-packages\\ipykernel_launcher.py:62: UserWarning: Boolean Series key will be reindexed to match DataFrame index.\n"
     ]
    },
    {
     "name": "stdout",
     "output_type": "stream",
     "text": [
      "2016-11-09 00:00:00 \t Training Shape:  (192026, 22) \t\t Testing Shape:  (37625, 22)\n",
      "LogisticRegression Testing Accuracy =  0.8359919969718271 \n",
      "\n",
      "\tTP: 14351 \tFP: 618 \n",
      "\tTN: 1109 \tFN: 2415\n",
      "\n",
      "\n",
      "\n",
      "[ 0  6  0 94]\n",
      "2016-11-09 00:00:00 \t Training Shape:  (192026, 22) \t\t Testing Shape:  (37625, 22)\n",
      "LogisticRegression Testing Accuracy =  0.94 \n",
      "\n",
      "\tTP: 94 \tFP: 6 \n",
      "\tTN: 0 \tFN: 0\n",
      "\n",
      "\n",
      "\n"
     ]
    },
    {
     "name": "stderr",
     "output_type": "stream",
     "text": [
      "C:\\ProgramData\\Anaconda3\\lib\\site-packages\\ipykernel_launcher.py:52: UserWarning: Boolean Series key will be reindexed to match DataFrame index.\n",
      "C:\\ProgramData\\Anaconda3\\lib\\site-packages\\ipykernel_launcher.py:62: UserWarning: Boolean Series key will be reindexed to match DataFrame index.\n"
     ]
    },
    {
     "name": "stdout",
     "output_type": "stream",
     "text": [
      "2016-12-07 00:00:00 \t Training Shape:  (174423, 22) \t\t Testing Shape:  (45332, 22)\n",
      "LogisticRegression Testing Accuracy =  0.8233566963440045 \n",
      "\n",
      "\tTP: 16200 \tFP: 635 \n",
      "\tTN: 1186 \tFN: 3095\n",
      "\n",
      "\n",
      "\n",
      "[ 0  3  0 97]\n",
      "2016-12-07 00:00:00 \t Training Shape:  (174423, 22) \t\t Testing Shape:  (45332, 22)\n",
      "LogisticRegression Testing Accuracy =  0.97 \n",
      "\n",
      "\tTP: 97 \tFP: 3 \n",
      "\tTN: 0 \tFN: 0\n",
      "\n",
      "\n",
      "\n"
     ]
    },
    {
     "name": "stderr",
     "output_type": "stream",
     "text": [
      "C:\\ProgramData\\Anaconda3\\lib\\site-packages\\ipykernel_launcher.py:52: UserWarning: Boolean Series key will be reindexed to match DataFrame index.\n",
      "C:\\ProgramData\\Anaconda3\\lib\\site-packages\\ipykernel_launcher.py:62: UserWarning: Boolean Series key will be reindexed to match DataFrame index.\n"
     ]
    },
    {
     "name": "stdout",
     "output_type": "stream",
     "text": [
      "2017-01-04 00:00:00 \t Training Shape:  (137496, 22) \t\t Testing Shape:  (34367, 22)\n",
      "LogisticRegression Testing Accuracy =  0.7948365113688487 \n",
      "\n",
      "\tTP: 10814 \tFP: 715 \n",
      "\tTN: 1316 \tFN: 2416\n",
      "\n",
      "\n",
      "\n",
      "[ 0  4  0 96]\n",
      "2017-01-04 00:00:00 \t Training Shape:  (137496, 22) \t\t Testing Shape:  (34367, 22)\n",
      "LogisticRegression Testing Accuracy =  0.96 \n",
      "\n",
      "\tTP: 96 \tFP: 4 \n",
      "\tTN: 0 \tFN: 0\n",
      "\n",
      "\n",
      "\n"
     ]
    },
    {
     "name": "stderr",
     "output_type": "stream",
     "text": [
      "C:\\ProgramData\\Anaconda3\\lib\\site-packages\\ipykernel_launcher.py:52: UserWarning: Boolean Series key will be reindexed to match DataFrame index.\n",
      "C:\\ProgramData\\Anaconda3\\lib\\site-packages\\ipykernel_launcher.py:62: UserWarning: Boolean Series key will be reindexed to match DataFrame index.\n"
     ]
    },
    {
     "name": "stdout",
     "output_type": "stream",
     "text": [
      "2017-02-01 00:00:00 \t Training Shape:  (115213, 22) \t\t Testing Shape:  (56004, 22)\n",
      "LogisticRegression Testing Accuracy =  0.7816878154629935 \n",
      "\n",
      "\tTP: 14615 \tFP: 1037 \n",
      "\tTN: 1956 \tFN: 3591\n",
      "\n",
      "\n",
      "\n",
      "[ 0  5  0 95]\n",
      "2017-02-01 00:00:00 \t Training Shape:  (115213, 22) \t\t Testing Shape:  (56004, 22)\n",
      "LogisticRegression Testing Accuracy =  0.95 \n",
      "\n",
      "\tTP: 95 \tFP: 5 \n",
      "\tTN: 0 \tFN: 0\n",
      "\n",
      "\n",
      "\n"
     ]
    },
    {
     "name": "stderr",
     "output_type": "stream",
     "text": [
      "C:\\ProgramData\\Anaconda3\\lib\\site-packages\\ipykernel_launcher.py:52: UserWarning: Boolean Series key will be reindexed to match DataFrame index.\n",
      "C:\\ProgramData\\Anaconda3\\lib\\site-packages\\ipykernel_launcher.py:62: UserWarning: Boolean Series key will be reindexed to match DataFrame index.\n"
     ]
    },
    {
     "name": "stdout",
     "output_type": "stream",
     "text": [
      "2017-03-01 00:00:00 \t Training Shape:  (129890, 22) \t\t Testing Shape:  (54450, 22)\n",
      "LogisticRegression Testing Accuracy =  0.7763522379355591 \n",
      "\n",
      "\tTP: 13869 \tFP: 986 \n",
      "\tTN: 2106 \tFN: 3616\n",
      "\n",
      "\n",
      "\n",
      "[ 0  6  0 94]\n",
      "2017-03-01 00:00:00 \t Training Shape:  (129890, 22) \t\t Testing Shape:  (54450, 22)\n",
      "LogisticRegression Testing Accuracy =  0.94 \n",
      "\n",
      "\tTP: 94 \tFP: 6 \n",
      "\tTN: 0 \tFN: 0\n",
      "\n",
      "\n",
      "\n"
     ]
    },
    {
     "name": "stderr",
     "output_type": "stream",
     "text": [
      "C:\\ProgramData\\Anaconda3\\lib\\site-packages\\ipykernel_launcher.py:52: UserWarning: Boolean Series key will be reindexed to match DataFrame index.\n",
      "C:\\ProgramData\\Anaconda3\\lib\\site-packages\\ipykernel_launcher.py:62: UserWarning: Boolean Series key will be reindexed to match DataFrame index.\n"
     ]
    },
    {
     "name": "stdout",
     "output_type": "stream",
     "text": [
      "2017-03-29 00:00:00 \t Training Shape:  (138058, 22) \t\t Testing Shape:  (51507, 22)\n",
      "LogisticRegression Testing Accuracy =  0.7662330985553442 \n",
      "\n",
      "\tTP: 12820 \tFP: 861 \n",
      "\tTN: 2084 \tFN: 3686\n",
      "\n",
      "\n",
      "\n",
      "[ 0  7  0 93]\n",
      "2017-03-29 00:00:00 \t Training Shape:  (138058, 22) \t\t Testing Shape:  (51507, 22)\n",
      "LogisticRegression Testing Accuracy =  0.93 \n",
      "\n",
      "\tTP: 93 \tFP: 7 \n",
      "\tTN: 0 \tFN: 0\n",
      "\n",
      "\n",
      "\n"
     ]
    },
    {
     "name": "stderr",
     "output_type": "stream",
     "text": [
      "C:\\ProgramData\\Anaconda3\\lib\\site-packages\\ipykernel_launcher.py:52: UserWarning: Boolean Series key will be reindexed to match DataFrame index.\n",
      "C:\\ProgramData\\Anaconda3\\lib\\site-packages\\ipykernel_launcher.py:62: UserWarning: Boolean Series key will be reindexed to match DataFrame index.\n"
     ]
    },
    {
     "name": "stdout",
     "output_type": "stream",
     "text": [
      "2017-04-26 00:00:00 \t Training Shape:  (148095, 22) \t\t Testing Shape:  (42268, 22)\n",
      "LogisticRegression Testing Accuracy =  0.7544084269335971 \n",
      "\n",
      "\tTP: 11209 \tFP: 731 \n",
      "\tTN: 1754 \tFN: 3489\n",
      "\n",
      "\n",
      "\n",
      "[ 0  6  0 94]\n",
      "2017-04-26 00:00:00 \t Training Shape:  (148095, 22) \t\t Testing Shape:  (42268, 22)\n",
      "LogisticRegression Testing Accuracy =  0.94 \n",
      "\n",
      "\tTP: 94 \tFP: 6 \n",
      "\tTN: 0 \tFN: 0\n",
      "\n",
      "\n",
      "\n"
     ]
    },
    {
     "name": "stderr",
     "output_type": "stream",
     "text": [
      "C:\\ProgramData\\Anaconda3\\lib\\site-packages\\ipykernel_launcher.py:52: UserWarning: Boolean Series key will be reindexed to match DataFrame index.\n",
      "C:\\ProgramData\\Anaconda3\\lib\\site-packages\\ipykernel_launcher.py:62: UserWarning: Boolean Series key will be reindexed to match DataFrame index.\n"
     ]
    },
    {
     "name": "stdout",
     "output_type": "stream",
     "text": [
      "2017-05-24 00:00:00 \t Training Shape:  (139480, 22) \t\t Testing Shape:  (32794, 22)\n",
      "LogisticRegression Testing Accuracy =  0.7897183483729833 \n",
      "\n",
      "\tTP: 10215 \tFP: 543 \n",
      "\tTN: 1337 \tFN: 2533\n",
      "\n",
      "\n",
      "\n",
      "[ 0  9  0 91]\n",
      "2017-05-24 00:00:00 \t Training Shape:  (139480, 22) \t\t Testing Shape:  (32794, 22)\n",
      "LogisticRegression Testing Accuracy =  0.91 \n",
      "\n",
      "\tTP: 91 \tFP: 9 \n",
      "\tTN: 0 \tFN: 0\n",
      "\n",
      "\n",
      "\n"
     ]
    },
    {
     "name": "stderr",
     "output_type": "stream",
     "text": [
      "C:\\ProgramData\\Anaconda3\\lib\\site-packages\\ipykernel_launcher.py:52: UserWarning: Boolean Series key will be reindexed to match DataFrame index.\n",
      "C:\\ProgramData\\Anaconda3\\lib\\site-packages\\ipykernel_launcher.py:62: UserWarning: Boolean Series key will be reindexed to match DataFrame index.\n"
     ]
    },
    {
     "name": "stdout",
     "output_type": "stream",
     "text": [
      "2017-06-21 00:00:00 \t Training Shape:  (120330, 22) \t\t Testing Shape:  (30354, 22)\n",
      "LogisticRegression Testing Accuracy =  0.7947249328242115 \n",
      "\n",
      "\tTP: 10289 \tFP: 422 \n",
      "\tTN: 950 \tFN: 2481\n",
      "\n",
      "\n",
      "\n",
      "[ 0  3  0 97]\n",
      "2017-06-21 00:00:00 \t Training Shape:  (120330, 22) \t\t Testing Shape:  (30354, 22)\n",
      "LogisticRegression Testing Accuracy =  0.97 \n",
      "\n",
      "\tTP: 97 \tFP: 3 \n",
      "\tTN: 0 \tFN: 0\n",
      "\n",
      "\n",
      "\n"
     ]
    },
    {
     "name": "stderr",
     "output_type": "stream",
     "text": [
      "C:\\ProgramData\\Anaconda3\\lib\\site-packages\\ipykernel_launcher.py:52: UserWarning: Boolean Series key will be reindexed to match DataFrame index.\n",
      "C:\\ProgramData\\Anaconda3\\lib\\site-packages\\ipykernel_launcher.py:62: UserWarning: Boolean Series key will be reindexed to match DataFrame index.\n"
     ]
    },
    {
     "name": "stdout",
     "output_type": "stream",
     "text": [
      "2017-07-19 00:00:00 \t Training Shape:  (104366, 22) \t\t Testing Shape:  (42185, 22)\n",
      "LogisticRegression Testing Accuracy =  0.7660298202845967 \n",
      "\n",
      "\tTP: 12338 \tFP: 569 \n",
      "\tTN: 1174 \tFN: 3558\n",
      "\n",
      "\n",
      "\n",
      "[ 0  6  0 94]\n",
      "2017-07-19 00:00:00 \t Training Shape:  (104366, 22) \t\t Testing Shape:  (42185, 22)\n",
      "LogisticRegression Testing Accuracy =  0.94 \n",
      "\n",
      "\tTP: 94 \tFP: 6 \n",
      "\tTN: 0 \tFN: 0\n",
      "\n",
      "\n",
      "\n"
     ]
    },
    {
     "name": "stderr",
     "output_type": "stream",
     "text": [
      "C:\\ProgramData\\Anaconda3\\lib\\site-packages\\ipykernel_launcher.py:52: UserWarning: Boolean Series key will be reindexed to match DataFrame index.\n",
      "C:\\ProgramData\\Anaconda3\\lib\\site-packages\\ipykernel_launcher.py:62: UserWarning: Boolean Series key will be reindexed to match DataFrame index.\n"
     ]
    },
    {
     "name": "stdout",
     "output_type": "stream",
     "text": [
      "2017-08-16 00:00:00 \t Training Shape:  (100296, 22) \t\t Testing Shape:  (78063, 22)\n",
      "LogisticRegression Testing Accuracy =  0.7479188610648636 \n",
      "\n",
      "\tTP: 19524 \tFP: 1359 \n",
      "\tTN: 2488 \tFN: 6060\n",
      "\n",
      "\n",
      "\n",
      "[ 0  7  0 93]\n",
      "2017-08-16 00:00:00 \t Training Shape:  (100296, 22) \t\t Testing Shape:  (78063, 22)\n",
      "LogisticRegression Testing Accuracy =  0.93 \n",
      "\n",
      "\tTP: 93 \tFP: 7 \n",
      "\tTN: 0 \tFN: 0\n",
      "\n",
      "\n",
      "\n"
     ]
    },
    {
     "name": "stderr",
     "output_type": "stream",
     "text": [
      "C:\\ProgramData\\Anaconda3\\lib\\site-packages\\ipykernel_launcher.py:52: UserWarning: Boolean Series key will be reindexed to match DataFrame index.\n",
      "C:\\ProgramData\\Anaconda3\\lib\\site-packages\\ipykernel_launcher.py:62: UserWarning: Boolean Series key will be reindexed to match DataFrame index.\n"
     ]
    },
    {
     "name": "stdout",
     "output_type": "stream",
     "text": [
      "2017-09-13 00:00:00 \t Training Shape:  (139629, 22) \t\t Testing Shape:  (99445, 22)\n",
      "LogisticRegression Testing Accuracy =  0.7819435190405413 \n",
      "\n",
      "\tTP: 27407 \tFP: 1675 \n",
      "\tTN: 3106 \tFN: 6834\n",
      "\n",
      "\n",
      "\n",
      "[ 0  6  0 94]\n",
      "2017-09-13 00:00:00 \t Training Shape:  (139629, 22) \t\t Testing Shape:  (99445, 22)\n",
      "LogisticRegression Testing Accuracy =  0.94 \n",
      "\n",
      "\tTP: 94 \tFP: 6 \n",
      "\tTN: 0 \tFN: 0\n",
      "\n",
      "\n",
      "\n"
     ]
    },
    {
     "name": "stderr",
     "output_type": "stream",
     "text": [
      "C:\\ProgramData\\Anaconda3\\lib\\site-packages\\ipykernel_launcher.py:52: UserWarning: Boolean Series key will be reindexed to match DataFrame index.\n",
      "C:\\ProgramData\\Anaconda3\\lib\\site-packages\\ipykernel_launcher.py:62: UserWarning: Boolean Series key will be reindexed to match DataFrame index.\n"
     ]
    },
    {
     "name": "stdout",
     "output_type": "stream",
     "text": [
      "2017-10-11 00:00:00 \t Training Shape:  (207084, 22) \t\t Testing Shape:  (75513, 22)\n",
      "LogisticRegression Testing Accuracy =  0.7792178188804585 \n",
      "\n",
      "\tTP: 21475 \tFP: 1191 \n",
      "\tTN: 2454 \tFN: 5589\n",
      "\n",
      "\n",
      "\n",
      "[ 0  7  0 93]\n",
      "2017-10-11 00:00:00 \t Training Shape:  (207084, 22) \t\t Testing Shape:  (75513, 22)\n",
      "LogisticRegression Testing Accuracy =  0.93 \n",
      "\n",
      "\tTP: 93 \tFP: 7 \n",
      "\tTN: 0 \tFN: 0\n",
      "\n",
      "\n",
      "\n"
     ]
    },
    {
     "name": "stderr",
     "output_type": "stream",
     "text": [
      "C:\\ProgramData\\Anaconda3\\lib\\site-packages\\ipykernel_launcher.py:52: UserWarning: Boolean Series key will be reindexed to match DataFrame index.\n",
      "C:\\ProgramData\\Anaconda3\\lib\\site-packages\\ipykernel_launcher.py:62: UserWarning: Boolean Series key will be reindexed to match DataFrame index.\n"
     ]
    },
    {
     "name": "stdout",
     "output_type": "stream",
     "text": [
      "2017-11-08 00:00:00 \t Training Shape:  (243322, 22) \t\t Testing Shape:  (63169, 22)\n",
      "LogisticRegression Testing Accuracy =  0.7913723240219457 \n",
      "\n",
      "\tTP: 19947 \tFP: 941 \n",
      "\tTN: 2122 \tFN: 4877\n",
      "\n",
      "\n",
      "\n",
      "[ 0  6  0 94]\n",
      "2017-11-08 00:00:00 \t Training Shape:  (243322, 22) \t\t Testing Shape:  (63169, 22)\n",
      "LogisticRegression Testing Accuracy =  0.94 \n",
      "\n",
      "\tTP: 94 \tFP: 6 \n",
      "\tTN: 0 \tFN: 0\n",
      "\n",
      "\n",
      "\n"
     ]
    },
    {
     "name": "stderr",
     "output_type": "stream",
     "text": [
      "C:\\ProgramData\\Anaconda3\\lib\\site-packages\\ipykernel_launcher.py:52: UserWarning: Boolean Series key will be reindexed to match DataFrame index.\n",
      "C:\\ProgramData\\Anaconda3\\lib\\site-packages\\ipykernel_launcher.py:62: UserWarning: Boolean Series key will be reindexed to match DataFrame index.\n"
     ]
    },
    {
     "name": "stdout",
     "output_type": "stream",
     "text": [
      "2017-12-06 00:00:00 \t Training Shape:  (238731, 22) \t\t Testing Shape:  (55549, 22)\n",
      "LogisticRegression Testing Accuracy =  0.7932841152655394 \n",
      "\n",
      "\tTP: 18277 \tFP: 810 \n",
      "\tTN: 1709 \tFN: 4398\n",
      "\n",
      "\n",
      "\n",
      "[ 0  4  0 96]\n",
      "2017-12-06 00:00:00 \t Training Shape:  (238731, 22) \t\t Testing Shape:  (55549, 22)\n",
      "LogisticRegression Testing Accuracy =  0.96 \n",
      "\n",
      "\tTP: 96 \tFP: 4 \n",
      "\tTN: 0 \tFN: 0\n",
      "\n",
      "\n",
      "\n"
     ]
    },
    {
     "name": "stderr",
     "output_type": "stream",
     "text": [
      "C:\\ProgramData\\Anaconda3\\lib\\site-packages\\ipykernel_launcher.py:52: UserWarning: Boolean Series key will be reindexed to match DataFrame index.\n",
      "C:\\ProgramData\\Anaconda3\\lib\\site-packages\\ipykernel_launcher.py:62: UserWarning: Boolean Series key will be reindexed to match DataFrame index.\n"
     ]
    },
    {
     "name": "stdout",
     "output_type": "stream",
     "text": [
      "2018-01-03 00:00:00 \t Training Shape:  (195624, 22) \t\t Testing Shape:  (43196, 22)\n",
      "LogisticRegression Testing Accuracy =  0.7639273121779224 \n",
      "\n",
      "\tTP: 12304 \tFP: 899 \n",
      "\tTN: 1779 \tFN: 3453\n",
      "\n",
      "\n",
      "\n",
      "[ 0  6  0 94]\n",
      "2018-01-03 00:00:00 \t Training Shape:  (195624, 22) \t\t Testing Shape:  (43196, 22)\n",
      "LogisticRegression Testing Accuracy =  0.94 \n",
      "\n",
      "\tTP: 94 \tFP: 6 \n",
      "\tTN: 0 \tFN: 0\n",
      "\n",
      "\n",
      "\n"
     ]
    },
    {
     "name": "stderr",
     "output_type": "stream",
     "text": [
      "C:\\ProgramData\\Anaconda3\\lib\\site-packages\\ipykernel_launcher.py:52: UserWarning: Boolean Series key will be reindexed to match DataFrame index.\n",
      "C:\\ProgramData\\Anaconda3\\lib\\site-packages\\ipykernel_launcher.py:62: UserWarning: Boolean Series key will be reindexed to match DataFrame index.\n"
     ]
    },
    {
     "name": "stdout",
     "output_type": "stream",
     "text": [
      "2018-01-31 00:00:00 \t Training Shape:  (161277, 22) \t\t Testing Shape:  (69007, 22)\n",
      "LogisticRegression Testing Accuracy =  0.7599104389957422 \n",
      "\n",
      "\tTP: 17888 \tFP: 1364 \n",
      "\tTN: 2815 \tFN: 5177\n",
      "\n",
      "\n",
      "\n",
      "[ 0  8  0 92]\n",
      "2018-01-31 00:00:00 \t Training Shape:  (161277, 22) \t\t Testing Shape:  (69007, 22)\n",
      "LogisticRegression Testing Accuracy =  0.92 \n",
      "\n",
      "\tTP: 92 \tFP: 8 \n",
      "\tTN: 0 \tFN: 0\n",
      "\n",
      "\n",
      "\n"
     ]
    },
    {
     "name": "stderr",
     "output_type": "stream",
     "text": [
      "C:\\ProgramData\\Anaconda3\\lib\\site-packages\\ipykernel_launcher.py:52: UserWarning: Boolean Series key will be reindexed to match DataFrame index.\n",
      "C:\\ProgramData\\Anaconda3\\lib\\site-packages\\ipykernel_launcher.py:62: UserWarning: Boolean Series key will be reindexed to match DataFrame index.\n"
     ]
    },
    {
     "name": "stdout",
     "output_type": "stream",
     "text": [
      "2018-02-28 00:00:00 \t Training Shape:  (163227, 22) \t\t Testing Shape:  (57231, 22)\n",
      "LogisticRegression Testing Accuracy =  0.7631498404092519 \n",
      "\n",
      "\tTP: 15186 \tFP: 944 \n",
      "\tTN: 2268 \tFN: 4473\n",
      "\n",
      "\n",
      "\n",
      "[ 0  3  0 97]\n",
      "2018-02-28 00:00:00 \t Training Shape:  (163227, 22) \t\t Testing Shape:  (57231, 22)\n",
      "LogisticRegression Testing Accuracy =  0.97 \n",
      "\n",
      "\tTP: 97 \tFP: 3 \n",
      "\tTN: 0 \tFN: 0\n",
      "\n",
      "\n",
      "\n"
     ]
    },
    {
     "name": "stderr",
     "output_type": "stream",
     "text": [
      "C:\\ProgramData\\Anaconda3\\lib\\site-packages\\ipykernel_launcher.py:52: UserWarning: Boolean Series key will be reindexed to match DataFrame index.\n",
      "C:\\ProgramData\\Anaconda3\\lib\\site-packages\\ipykernel_launcher.py:62: UserWarning: Boolean Series key will be reindexed to match DataFrame index.\n"
     ]
    },
    {
     "name": "stdout",
     "output_type": "stream",
     "text": [
      "2018-03-28 00:00:00 \t Training Shape:  (163993, 22) \t\t Testing Shape:  (49388, 22)\n",
      "LogisticRegression Testing Accuracy =  0.7662731006160164 \n",
      "\n",
      "\tTP: 13031 \tFP: 855 \n",
      "\tTN: 1896 \tFN: 3698\n",
      "\n",
      "\n",
      "\n",
      "[ 0  8  0 92]\n",
      "2018-03-28 00:00:00 \t Training Shape:  (163993, 22) \t\t Testing Shape:  (49388, 22)\n",
      "LogisticRegression Testing Accuracy =  0.92 \n",
      "\n",
      "\tTP: 92 \tFP: 8 \n",
      "\tTN: 0 \tFN: 0\n",
      "\n",
      "\n",
      "\n"
     ]
    },
    {
     "name": "stderr",
     "output_type": "stream",
     "text": [
      "C:\\ProgramData\\Anaconda3\\lib\\site-packages\\ipykernel_launcher.py:52: UserWarning: Boolean Series key will be reindexed to match DataFrame index.\n",
      "C:\\ProgramData\\Anaconda3\\lib\\site-packages\\ipykernel_launcher.py:62: UserWarning: Boolean Series key will be reindexed to match DataFrame index.\n"
     ]
    },
    {
     "name": "stdout",
     "output_type": "stream",
     "text": [
      "2018-04-25 00:00:00 \t Training Shape:  (170293, 22) \t\t Testing Shape:  (118104, 22)\n",
      "LogisticRegression Testing Accuracy =  0.8160486031708107 \n",
      "\n",
      "\tTP: 44538 \tFP: 1370 \n",
      "\tTN: 3280 \tFN: 9409\n",
      "\n",
      "\n",
      "\n",
      "[ 0  3  0 97]\n",
      "2018-04-25 00:00:00 \t Training Shape:  (170293, 22) \t\t Testing Shape:  (118104, 22)\n",
      "LogisticRegression Testing Accuracy =  0.97 \n",
      "\n",
      "\tTP: 97 \tFP: 3 \n",
      "\tTN: 0 \tFN: 0\n",
      "\n",
      "\n",
      "\n"
     ]
    },
    {
     "data": {
      "text/plain": [
       "DecisionTreeClassifier()"
      ]
     },
     "execution_count": 239,
     "metadata": {},
     "output_type": "execute_result"
    }
   ],
   "source": [
    "#===============================================================================================\n",
    "#                                       DecisionTreeClassifier\n",
    "#===============================================================================================\n",
    "from sklearn import tree\n",
    "\n",
    "DT_clf = tree.DecisionTreeClassifier()\n",
    "\n",
    "T_current=MinT-timedelta(days=28)+timedelta(days=120)    \n",
    "T_period=3 #timedelta(days=28)    \n",
    "DT_acc=[]\n",
    "DT_T=[]\n",
    "DT_pr=[]\n",
    "DT_re=[]\n",
    "\n",
    "DT_accT=[]\n",
    "DT_prT=[]\n",
    "DT_reT=[]\n",
    "sub_var=list(set([\"Project ID\",\"Project Posted Date\",\"Project Expiration Date\",\"Donation Received Date\",\n",
    "         \"Project Cost\",\"Donation Amount\",\"Number of dates since posted\"]+Model_variables_cat+Model_variables_con))\n",
    "\n",
    "Model_variables=Model_variables_con.copy()\n",
    "for i in sub_var: print(i,i in Data.columns)\n",
    "sub_Data =Data.loc[:,sub_var]\n",
    "\n",
    "while (T_current<MaxT-timedelta(days=30)):\n",
    "\n",
    "    T_current = T_current+timedelta(days=28)   \n",
    "    T+=[T_current]\n",
    "    T_Train_start = T_current-timedelta(days=120)\n",
    "    T_Train_end = T_current-timedelta(days=30)\n",
    "    \n",
    "    C_Data = sub_Data[sub_Data[\"Project Posted Date\"] < pd.to_datetime(T_current)]\n",
    "    C_Data = C_Data[C_Data[\"Project Posted Date\"] > pd.to_datetime(T_Train_start)]\n",
    "    C_Data = C_Data[C_Data[\"Number of dates since posted\"] < T_period]\n",
    "    C_Data[\"Fund_Ratio_30\"]=C_Data[\"Donation Amount\"]/C_Data[\"Project Cost\"]\n",
    "#========================================================================================================\n",
    "    for var in Model_variables_cat:\n",
    "        s_data=pd.get_dummies(C_Data[var])\n",
    "        k=sorted(s_data.columns)\n",
    "        k.pop(0)\n",
    "        C_Data=C_Data.drop([var], axis=1)\n",
    "        for col in k:Model_variables+=[var+\"_\"+col]\n",
    "        Model_variables=list(set(Model_variables))\n",
    "        for col in k:C_Data[var+\"_\"+col]=s_data[col]\n",
    "\n",
    "    for i in Model_variables:\n",
    "        if i not in C_Data.columns:  C_Data[i]=0\n",
    "#============================================ Imputing ======================================================\n",
    "            \n",
    "    C_Data.fillna(C_Data.median(), inplace=True)\n",
    "#========================================================================================================    \n",
    "    Train_Data = C_Data[sub_Data[\"Project Posted Date\"] < pd.to_datetime(T_Train_end)]\n",
    "    Train_Data_CR=Train_Data.groupby([\"Project ID\"]).sum()\n",
    "    Train_Data_Final=Train_Data.groupby([\"Project ID\"]).max()\n",
    "    Train_Data_Final[\"Fund_Ratio_30\"]=Train_Data_CR[\"Fund_Ratio_30\"]\n",
    "    Train_Data_Final[\"Donation Amount\"]=Train_Data_CR[\"Donation Amount\"]\n",
    "    Train_Data_Final['Label'] = Train_Data_Final.apply(lambda x : 1 if x['Fund_Ratio_30'] < 0.15  else 0, axis=1)\n",
    "    \n",
    "    Train_Data_Final.rename(columns = {'Donation Received Date':'Last Donation Received Date'})\n",
    "\n",
    "    \n",
    "    Test_Data = C_Data[sub_Data[\"Project Posted Date\"] >= pd.to_datetime(T_Train_end)]\n",
    "    Test_Data_CR=Test_Data.groupby([\"Project ID\"]).sum()\n",
    "    Test_Data_Final=Test_Data.groupby([\"Project ID\"]).max()\n",
    "    Test_Data_Final[\"Fund_Ratio_30\"]=Test_Data_CR[\"Fund_Ratio_30\"]\n",
    "    Test_Data_Final[\"Donation Amount\"]=Test_Data_CR[\"Donation Amount\"]\n",
    "    Test_Data_Final['Label'] = Test_Data_Final.apply(lambda x : 1 if x['Fund_Ratio_30'] < 0.5  else 0, axis=1)\n",
    "    Test_Data_Final=Test_Data_Final.rename(columns = {'Donation Received Date':'Last Donation Received Date'})\n",
    "    \n",
    "    X_train = Train_Data_Final.loc[:,Model_variables]\n",
    "    X_train.head()\n",
    "    Y_train =  Train_Data_Final.loc[:,[\"Label\"]]\n",
    "\n",
    "    X_test = Test_Data_Final.loc[:,Model_variables]\n",
    "    X_test.head()\n",
    "    Y_test =  Test_Data_Final.loc[:,[\"Label\"]]\n",
    "    \n",
    "    #============================================ Imputing ======================================================\n",
    "    \n",
    "#     imputer = KNNImputer(n_neighbors=5,weights='distance',add_indicator=True)\n",
    "#     X_train=imputer.fit_transform(X_train)\n",
    "#     X_test=imputer.fit_transform(X_test)\n",
    "\n",
    "    #============================================ Training ======================================================\n",
    "    \n",
    "    DT_clf.fit(X_train, Y_train)\n",
    "\n",
    "    Y_pred_train_prob = DT_clf.predict_proba(X_train)[:,1]\n",
    "    Y_pred_test = DT_clf.predict(X_test)\n",
    "    Y_pred_test_prob = DT_clf.predict_proba(X_test)[:,1]\n",
    "    Test_Data_Final[\"Y_pred_test_prob\"]=Y_pred_test_prob\n",
    "    Test_Data_Final[\"Y_pred_test\"]=Y_pred_test\n",
    "    \n",
    "    #============================================== Evaluation ===================================================\n",
    "    \n",
    "    cm= confusion_matrix(Y_test,Y_pred_test)\n",
    "    TN, FP ,FN, TP =  cm.ravel()\n",
    "    test_score=(TP+TN)/(TN+ FP +FN+ TP)\n",
    "    DT_acc+=[test_score]\n",
    "    DT_preci=TP/(TP+FP)\n",
    "    DT_rec=TP/(TP+FN)\n",
    "    DT_pr+=[preci]\n",
    "    DT_re+=[rec]\n",
    "    print(T_current,\"\\t\",\"Training Shape: \",Train_Data.shape,\"\\t\\t\",\"Testing Shape: \",Test_Data.shape)\n",
    "    print('LogisticRegression Testing Accuracy = ',test_score,\"\\n\")\n",
    "    print(\"\\tTP:\",TP,\"\\tFP:\",FP,\"\\n\\tTN:\",TN,\"\\tFN:\",FN )\n",
    "    print(\"\\n\"*2)\n",
    "\n",
    "    Test_Data_Final=Test_Data_Final.sort_values(by=['Y_pred_test_prob'], ascending=False)\n",
    "    T100=Test_Data_Final.head(100)\n",
    "    Y_test_100 =  T100.loc[:,[\"Label\"]] \n",
    "    Y_pred_100 =  T100.loc[:,[\"Y_pred_test\"]] \n",
    "    cm= confusion_matrix(Y_test_100,Y_pred_100)\n",
    "    print(cm.ravel())\n",
    "    if len(cm.ravel())==4:TN, FP ,FN, TP =  cm.ravel()\n",
    "    else: TN, FP ,FN, TP=0,0,0,100\n",
    "    test_score=(TP+TN)/(TN+ FP +FN+ TP)\n",
    "    DT_accT+=[test_score]\n",
    "    DT_preci=TP/(TP+FP)\n",
    "    DT_prT+=[preci]\n",
    "    DT_rec=TP/(TP+FN)\n",
    "    DT_reT+=[rec]\n",
    "    print(T_current,\"\\t\",\"Training Shape: \",Train_Data.shape,\"\\t\\t\",\"Testing Shape: \",Test_Data.shape)\n",
    "    print('LogisticRegression Testing Accuracy = ',test_score,\"\\n\")\n",
    "    print(\"\\tTP:\",TP,\"\\tFP:\",FP,\"\\n\\tTN:\",TN,\"\\tFN:\",FN )\n",
    "    print(\"\\n\"*2)\n",
    "\n",
    "DT_clf"
   ]
  },
  {
   "cell_type": "code",
   "execution_count": 181,
   "metadata": {},
   "outputs": [
    {
     "name": "stdout",
     "output_type": "stream",
     "text": [
      "Project Expiration Date True\n",
      "Project Cost True\n",
      "Number of dates since posted True\n",
      "Donation Received Date True\n",
      "Teacher Prefix True\n",
      "Project ID True\n",
      "Project Grade Level Category True\n",
      "Project Posted Date True\n",
      "Donation Amount True\n",
      "School Metro Type True\n",
      "School Percentage Free Lunch True\n"
     ]
    },
    {
     "name": "stderr",
     "output_type": "stream",
     "text": [
      "C:\\ProgramData\\Anaconda3\\lib\\site-packages\\ipykernel_launcher.py:52: UserWarning: Boolean Series key will be reindexed to match DataFrame index.\n",
      "C:\\ProgramData\\Anaconda3\\lib\\site-packages\\ipykernel_launcher.py:62: UserWarning: Boolean Series key will be reindexed to match DataFrame index.\n",
      "C:\\ProgramData\\Anaconda3\\lib\\site-packages\\sklearn\\utils\\validation.py:73: DataConversionWarning: A column-vector y was passed when a 1d array was expected. Please change the shape of y to (n_samples, ), for example using ravel().\n",
      "  return f(**kwargs)\n"
     ]
    },
    {
     "name": "stdout",
     "output_type": "stream",
     "text": [
      "2013-05-01 00:00:00 \t Training Shape:  (52645, 20) \t\t Testing Shape:  (12911, 20)\n",
      "LogisticRegression Testing Accuracy =  0.8959703254088687 \n",
      "\n",
      "\tTP: 5272 \tFP: 591 \n",
      "\tTN: 42 \tFN: 26\n",
      "\n",
      "\n",
      "\n",
      "[100]\n",
      "2013-05-01 00:00:00 \t Training Shape:  (52645, 20) \t\t Testing Shape:  (12911, 20)\n",
      "LogisticRegression Testing Accuracy =  1.0 \n",
      "\n",
      "\tTP: 100 \tFP: 0 \n",
      "\tTN: 0 \tFN: 0\n",
      "\n",
      "\n",
      "\n"
     ]
    },
    {
     "name": "stderr",
     "output_type": "stream",
     "text": [
      "C:\\ProgramData\\Anaconda3\\lib\\site-packages\\ipykernel_launcher.py:52: UserWarning: Boolean Series key will be reindexed to match DataFrame index.\n",
      "C:\\ProgramData\\Anaconda3\\lib\\site-packages\\ipykernel_launcher.py:62: UserWarning: Boolean Series key will be reindexed to match DataFrame index.\n",
      "C:\\ProgramData\\Anaconda3\\lib\\site-packages\\sklearn\\utils\\validation.py:73: DataConversionWarning: A column-vector y was passed when a 1d array was expected. Please change the shape of y to (n_samples, ), for example using ravel().\n",
      "  return f(**kwargs)\n"
     ]
    },
    {
     "name": "stdout",
     "output_type": "stream",
     "text": [
      "2013-05-29 00:00:00 \t Training Shape:  (47943, 20) \t\t Testing Shape:  (12748, 20)\n",
      "LogisticRegression Testing Accuracy =  0.8957931920359666 \n",
      "\n",
      "\tTP: 5523 \tFP: 606 \n",
      "\tTN: 56 \tFN: 43\n",
      "\n",
      "\n",
      "\n",
      "[100]\n",
      "2013-05-29 00:00:00 \t Training Shape:  (47943, 20) \t\t Testing Shape:  (12748, 20)\n",
      "LogisticRegression Testing Accuracy =  1.0 \n",
      "\n",
      "\tTP: 100 \tFP: 0 \n",
      "\tTN: 0 \tFN: 0\n",
      "\n",
      "\n",
      "\n"
     ]
    },
    {
     "name": "stderr",
     "output_type": "stream",
     "text": [
      "C:\\ProgramData\\Anaconda3\\lib\\site-packages\\ipykernel_launcher.py:52: UserWarning: Boolean Series key will be reindexed to match DataFrame index.\n",
      "C:\\ProgramData\\Anaconda3\\lib\\site-packages\\ipykernel_launcher.py:62: UserWarning: Boolean Series key will be reindexed to match DataFrame index.\n",
      "C:\\ProgramData\\Anaconda3\\lib\\site-packages\\sklearn\\utils\\validation.py:73: DataConversionWarning: A column-vector y was passed when a 1d array was expected. Please change the shape of y to (n_samples, ), for example using ravel().\n",
      "  return f(**kwargs)\n"
     ]
    },
    {
     "name": "stdout",
     "output_type": "stream",
     "text": [
      "2013-06-26 00:00:00 \t Training Shape:  (41668, 20) \t\t Testing Shape:  (10438, 20)\n",
      "LogisticRegression Testing Accuracy =  0.943347481085071 \n",
      "\n",
      "\tTP: 5077 \tFP: 277 \n",
      "\tTN: 35 \tFN: 30\n",
      "\n",
      "\n",
      "\n",
      "[100]\n",
      "2013-06-26 00:00:00 \t Training Shape:  (41668, 20) \t\t Testing Shape:  (10438, 20)\n",
      "LogisticRegression Testing Accuracy =  1.0 \n",
      "\n",
      "\tTP: 100 \tFP: 0 \n",
      "\tTN: 0 \tFN: 0\n",
      "\n",
      "\n",
      "\n"
     ]
    },
    {
     "name": "stderr",
     "output_type": "stream",
     "text": [
      "C:\\ProgramData\\Anaconda3\\lib\\site-packages\\ipykernel_launcher.py:52: UserWarning: Boolean Series key will be reindexed to match DataFrame index.\n",
      "C:\\ProgramData\\Anaconda3\\lib\\site-packages\\ipykernel_launcher.py:62: UserWarning: Boolean Series key will be reindexed to match DataFrame index.\n",
      "C:\\ProgramData\\Anaconda3\\lib\\site-packages\\sklearn\\utils\\validation.py:73: DataConversionWarning: A column-vector y was passed when a 1d array was expected. Please change the shape of y to (n_samples, ), for example using ravel().\n",
      "  return f(**kwargs)\n"
     ]
    },
    {
     "name": "stdout",
     "output_type": "stream",
     "text": [
      "2013-07-24 00:00:00 \t Training Shape:  (36178, 21) \t\t Testing Shape:  (14530, 21)\n",
      "LogisticRegression Testing Accuracy =  0.9307076101468624 \n",
      "\n",
      "\tTP: 6920 \tFP: 459 \n",
      "\tTN: 51 \tFN: 60\n",
      "\n",
      "\n",
      "\n",
      "[100]\n",
      "2013-07-24 00:00:00 \t Training Shape:  (36178, 21) \t\t Testing Shape:  (14530, 21)\n",
      "LogisticRegression Testing Accuracy =  1.0 \n",
      "\n",
      "\tTP: 100 \tFP: 0 \n",
      "\tTN: 0 \tFN: 0\n",
      "\n",
      "\n",
      "\n"
     ]
    },
    {
     "name": "stderr",
     "output_type": "stream",
     "text": [
      "C:\\ProgramData\\Anaconda3\\lib\\site-packages\\ipykernel_launcher.py:52: UserWarning: Boolean Series key will be reindexed to match DataFrame index.\n",
      "C:\\ProgramData\\Anaconda3\\lib\\site-packages\\ipykernel_launcher.py:62: UserWarning: Boolean Series key will be reindexed to match DataFrame index.\n",
      "C:\\ProgramData\\Anaconda3\\lib\\site-packages\\sklearn\\utils\\validation.py:73: DataConversionWarning: A column-vector y was passed when a 1d array was expected. Please change the shape of y to (n_samples, ), for example using ravel().\n",
      "  return f(**kwargs)\n"
     ]
    },
    {
     "name": "stdout",
     "output_type": "stream",
     "text": [
      "2013-08-21 00:00:00 \t Training Shape:  (36901, 21) \t\t Testing Shape:  (24997, 21)\n",
      "LogisticRegression Testing Accuracy =  0.9073574227252938 \n",
      "\n",
      "\tTP: 10322 \tFP: 1020 \n",
      "\tTN: 99 \tFN: 44\n",
      "\n",
      "\n",
      "\n",
      "[100]\n",
      "2013-08-21 00:00:00 \t Training Shape:  (36901, 21) \t\t Testing Shape:  (24997, 21)\n",
      "LogisticRegression Testing Accuracy =  1.0 \n",
      "\n",
      "\tTP: 100 \tFP: 0 \n",
      "\tTN: 0 \tFN: 0\n",
      "\n",
      "\n",
      "\n"
     ]
    },
    {
     "name": "stderr",
     "output_type": "stream",
     "text": [
      "C:\\ProgramData\\Anaconda3\\lib\\site-packages\\ipykernel_launcher.py:52: UserWarning: Boolean Series key will be reindexed to match DataFrame index.\n",
      "C:\\ProgramData\\Anaconda3\\lib\\site-packages\\ipykernel_launcher.py:62: UserWarning: Boolean Series key will be reindexed to match DataFrame index.\n",
      "C:\\ProgramData\\Anaconda3\\lib\\site-packages\\sklearn\\utils\\validation.py:73: DataConversionWarning: A column-vector y was passed when a 1d array was expected. Please change the shape of y to (n_samples, ), for example using ravel().\n",
      "  return f(**kwargs)\n"
     ]
    },
    {
     "name": "stdout",
     "output_type": "stream",
     "text": [
      "2013-09-18 00:00:00 \t Training Shape:  (48347, 21) \t\t Testing Shape:  (39163, 21)\n",
      "LogisticRegression Testing Accuracy =  0.9347755543537047 \n",
      "\n",
      "\tTP: 17171 \tFP: 1074 \n",
      "\tTN: 113 \tFN: 132\n",
      "\n",
      "\n",
      "\n",
      "[100]\n",
      "2013-09-18 00:00:00 \t Training Shape:  (48347, 21) \t\t Testing Shape:  (39163, 21)\n",
      "LogisticRegression Testing Accuracy =  1.0 \n",
      "\n",
      "\tTP: 100 \tFP: 0 \n",
      "\tTN: 0 \tFN: 0\n",
      "\n",
      "\n",
      "\n"
     ]
    },
    {
     "name": "stderr",
     "output_type": "stream",
     "text": [
      "C:\\ProgramData\\Anaconda3\\lib\\site-packages\\ipykernel_launcher.py:52: UserWarning: Boolean Series key will be reindexed to match DataFrame index.\n",
      "C:\\ProgramData\\Anaconda3\\lib\\site-packages\\ipykernel_launcher.py:62: UserWarning: Boolean Series key will be reindexed to match DataFrame index.\n",
      "C:\\ProgramData\\Anaconda3\\lib\\site-packages\\sklearn\\utils\\validation.py:73: DataConversionWarning: A column-vector y was passed when a 1d array was expected. Please change the shape of y to (n_samples, ), for example using ravel().\n",
      "  return f(**kwargs)\n"
     ]
    },
    {
     "name": "stdout",
     "output_type": "stream",
     "text": [
      "2013-10-16 00:00:00 \t Training Shape:  (75096, 21) \t\t Testing Shape:  (36123, 21)\n",
      "LogisticRegression Testing Accuracy =  0.9312013348164627 \n",
      "\n",
      "\tTP: 16725 \tFP: 1221 \n",
      "\tTN: 18 \tFN: 16\n",
      "\n",
      "\n",
      "\n",
      "[100]\n",
      "2013-10-16 00:00:00 \t Training Shape:  (75096, 21) \t\t Testing Shape:  (36123, 21)\n",
      "LogisticRegression Testing Accuracy =  1.0 \n",
      "\n",
      "\tTP: 100 \tFP: 0 \n",
      "\tTN: 0 \tFN: 0\n",
      "\n",
      "\n",
      "\n"
     ]
    },
    {
     "name": "stderr",
     "output_type": "stream",
     "text": [
      "C:\\ProgramData\\Anaconda3\\lib\\site-packages\\ipykernel_launcher.py:52: UserWarning: Boolean Series key will be reindexed to match DataFrame index.\n",
      "C:\\ProgramData\\Anaconda3\\lib\\site-packages\\ipykernel_launcher.py:62: UserWarning: Boolean Series key will be reindexed to match DataFrame index.\n",
      "C:\\ProgramData\\Anaconda3\\lib\\site-packages\\sklearn\\utils\\validation.py:73: DataConversionWarning: A column-vector y was passed when a 1d array was expected. Please change the shape of y to (n_samples, ), for example using ravel().\n",
      "  return f(**kwargs)\n"
     ]
    },
    {
     "name": "stdout",
     "output_type": "stream",
     "text": [
      "2013-11-13 00:00:00 \t Training Shape:  (96489, 21) \t\t Testing Shape:  (32293, 21)\n",
      "LogisticRegression Testing Accuracy =  0.9380795868059632 \n",
      "\n",
      "\tTP: 15958 \tFP: 1046 \n",
      "\tTN: 25 \tFN: 9\n",
      "\n",
      "\n",
      "\n",
      "[100]\n",
      "2013-11-13 00:00:00 \t Training Shape:  (96489, 21) \t\t Testing Shape:  (32293, 21)\n",
      "LogisticRegression Testing Accuracy =  1.0 \n",
      "\n",
      "\tTP: 100 \tFP: 0 \n",
      "\tTN: 0 \tFN: 0\n",
      "\n",
      "\n",
      "\n"
     ]
    },
    {
     "name": "stderr",
     "output_type": "stream",
     "text": [
      "C:\\ProgramData\\Anaconda3\\lib\\site-packages\\ipykernel_launcher.py:52: UserWarning: Boolean Series key will be reindexed to match DataFrame index.\n",
      "C:\\ProgramData\\Anaconda3\\lib\\site-packages\\ipykernel_launcher.py:62: UserWarning: Boolean Series key will be reindexed to match DataFrame index.\n",
      "C:\\ProgramData\\Anaconda3\\lib\\site-packages\\sklearn\\utils\\validation.py:73: DataConversionWarning: A column-vector y was passed when a 1d array was expected. Please change the shape of y to (n_samples, ), for example using ravel().\n",
      "  return f(**kwargs)\n"
     ]
    },
    {
     "name": "stdout",
     "output_type": "stream",
     "text": [
      "2013-12-11 00:00:00 \t Training Shape:  (106497, 21) \t\t Testing Shape:  (28285, 21)\n",
      "LogisticRegression Testing Accuracy =  0.9226925115469069 \n",
      "\n",
      "\tTP: 12123 \tFP: 996 \n",
      "\tTN: 63 \tFN: 25\n",
      "\n",
      "\n",
      "\n",
      "[100]\n",
      "2013-12-11 00:00:00 \t Training Shape:  (106497, 21) \t\t Testing Shape:  (28285, 21)\n",
      "LogisticRegression Testing Accuracy =  1.0 \n",
      "\n",
      "\tTP: 100 \tFP: 0 \n",
      "\tTN: 0 \tFN: 0\n",
      "\n",
      "\n",
      "\n"
     ]
    },
    {
     "name": "stderr",
     "output_type": "stream",
     "text": [
      "C:\\ProgramData\\Anaconda3\\lib\\site-packages\\ipykernel_launcher.py:52: UserWarning: Boolean Series key will be reindexed to match DataFrame index.\n",
      "C:\\ProgramData\\Anaconda3\\lib\\site-packages\\ipykernel_launcher.py:62: UserWarning: Boolean Series key will be reindexed to match DataFrame index.\n",
      "C:\\ProgramData\\Anaconda3\\lib\\site-packages\\sklearn\\utils\\validation.py:73: DataConversionWarning: A column-vector y was passed when a 1d array was expected. Please change the shape of y to (n_samples, ), for example using ravel().\n",
      "  return f(**kwargs)\n"
     ]
    },
    {
     "name": "stdout",
     "output_type": "stream",
     "text": [
      "2014-01-08 00:00:00 \t Training Shape:  (96878, 21) \t\t Testing Shape:  (19060, 21)\n",
      "LogisticRegression Testing Accuracy =  0.8907414424655804 \n",
      "\n",
      "\tTP: 7022 \tFP: 847 \n",
      "\tTN: 30 \tFN: 18\n",
      "\n",
      "\n",
      "\n",
      "[100]\n",
      "2014-01-08 00:00:00 \t Training Shape:  (96878, 21) \t\t Testing Shape:  (19060, 21)\n",
      "LogisticRegression Testing Accuracy =  1.0 \n",
      "\n",
      "\tTP: 100 \tFP: 0 \n",
      "\tTN: 0 \tFN: 0\n",
      "\n",
      "\n",
      "\n"
     ]
    },
    {
     "name": "stderr",
     "output_type": "stream",
     "text": [
      "C:\\ProgramData\\Anaconda3\\lib\\site-packages\\ipykernel_launcher.py:52: UserWarning: Boolean Series key will be reindexed to match DataFrame index.\n",
      "C:\\ProgramData\\Anaconda3\\lib\\site-packages\\ipykernel_launcher.py:62: UserWarning: Boolean Series key will be reindexed to match DataFrame index.\n",
      "C:\\ProgramData\\Anaconda3\\lib\\site-packages\\sklearn\\utils\\validation.py:73: DataConversionWarning: A column-vector y was passed when a 1d array was expected. Please change the shape of y to (n_samples, ), for example using ravel().\n",
      "  return f(**kwargs)\n"
     ]
    },
    {
     "name": "stdout",
     "output_type": "stream",
     "text": [
      "2014-02-05 00:00:00 \t Training Shape:  (79672, 21) \t\t Testing Shape:  (22299, 21)\n",
      "LogisticRegression Testing Accuracy =  0.9041067114798865 \n",
      "\n",
      "\tTP: 8577 \tFP: 884 \n",
      "\tTN: 31 \tFN: 29\n",
      "\n",
      "\n",
      "\n",
      "[100]\n",
      "2014-02-05 00:00:00 \t Training Shape:  (79672, 21) \t\t Testing Shape:  (22299, 21)\n",
      "LogisticRegression Testing Accuracy =  1.0 \n",
      "\n",
      "\tTP: 100 \tFP: 0 \n",
      "\tTN: 0 \tFN: 0\n",
      "\n",
      "\n",
      "\n"
     ]
    },
    {
     "name": "stderr",
     "output_type": "stream",
     "text": [
      "C:\\ProgramData\\Anaconda3\\lib\\site-packages\\ipykernel_launcher.py:52: UserWarning: Boolean Series key will be reindexed to match DataFrame index.\n",
      "C:\\ProgramData\\Anaconda3\\lib\\site-packages\\ipykernel_launcher.py:62: UserWarning: Boolean Series key will be reindexed to match DataFrame index.\n",
      "C:\\ProgramData\\Anaconda3\\lib\\site-packages\\sklearn\\utils\\validation.py:73: DataConversionWarning: A column-vector y was passed when a 1d array was expected. Please change the shape of y to (n_samples, ), for example using ravel().\n",
      "  return f(**kwargs)\n"
     ]
    },
    {
     "name": "stdout",
     "output_type": "stream",
     "text": [
      "2014-03-05 00:00:00 \t Training Shape:  (70417, 21) \t\t Testing Shape:  (25562, 21)\n",
      "LogisticRegression Testing Accuracy =  0.8842555732484076 \n",
      "\n",
      "\tTP: 8840 \tFP: 1129 \n",
      "\tTN: 45 \tFN: 34\n",
      "\n",
      "\n",
      "\n",
      "[100]\n",
      "2014-03-05 00:00:00 \t Training Shape:  (70417, 21) \t\t Testing Shape:  (25562, 21)\n",
      "LogisticRegression Testing Accuracy =  1.0 \n",
      "\n",
      "\tTP: 100 \tFP: 0 \n",
      "\tTN: 0 \tFN: 0\n",
      "\n",
      "\n",
      "\n"
     ]
    },
    {
     "name": "stderr",
     "output_type": "stream",
     "text": [
      "C:\\ProgramData\\Anaconda3\\lib\\site-packages\\ipykernel_launcher.py:52: UserWarning: Boolean Series key will be reindexed to match DataFrame index.\n",
      "C:\\ProgramData\\Anaconda3\\lib\\site-packages\\ipykernel_launcher.py:62: UserWarning: Boolean Series key will be reindexed to match DataFrame index.\n",
      "C:\\ProgramData\\Anaconda3\\lib\\site-packages\\sklearn\\utils\\validation.py:73: DataConversionWarning: A column-vector y was passed when a 1d array was expected. Please change the shape of y to (n_samples, ), for example using ravel().\n",
      "  return f(**kwargs)\n"
     ]
    },
    {
     "name": "stdout",
     "output_type": "stream",
     "text": [
      "2014-04-02 00:00:00 \t Training Shape:  (67282, 21) \t\t Testing Shape:  (27950, 21)\n",
      "LogisticRegression Testing Accuracy =  0.8916184971098265 \n",
      "\n",
      "\tTP: 9793 \tFP: 1149 \n",
      "\tTN: 79 \tFN: 51\n",
      "\n",
      "\n",
      "\n",
      "[100]\n",
      "2014-04-02 00:00:00 \t Training Shape:  (67282, 21) \t\t Testing Shape:  (27950, 21)\n",
      "LogisticRegression Testing Accuracy =  1.0 \n",
      "\n",
      "\tTP: 100 \tFP: 0 \n",
      "\tTN: 0 \tFN: 0\n",
      "\n",
      "\n",
      "\n"
     ]
    },
    {
     "name": "stderr",
     "output_type": "stream",
     "text": [
      "C:\\ProgramData\\Anaconda3\\lib\\site-packages\\ipykernel_launcher.py:52: UserWarning: Boolean Series key will be reindexed to match DataFrame index.\n",
      "C:\\ProgramData\\Anaconda3\\lib\\site-packages\\ipykernel_launcher.py:62: UserWarning: Boolean Series key will be reindexed to match DataFrame index.\n",
      "C:\\ProgramData\\Anaconda3\\lib\\site-packages\\sklearn\\utils\\validation.py:73: DataConversionWarning: A column-vector y was passed when a 1d array was expected. Please change the shape of y to (n_samples, ), for example using ravel().\n",
      "  return f(**kwargs)\n"
     ]
    },
    {
     "name": "stdout",
     "output_type": "stream",
     "text": [
      "2014-04-30 00:00:00 \t Training Shape:  (75678, 22) \t\t Testing Shape:  (16926, 22)\n",
      "LogisticRegression Testing Accuracy =  0.8777476255088196 \n",
      "\n",
      "\tTP: 6425 \tFP: 875 \n",
      "\tTN: 44 \tFN: 26\n",
      "\n",
      "\n",
      "\n",
      "[100]\n",
      "2014-04-30 00:00:00 \t Training Shape:  (75678, 22) \t\t Testing Shape:  (16926, 22)\n",
      "LogisticRegression Testing Accuracy =  1.0 \n",
      "\n",
      "\tTP: 100 \tFP: 0 \n",
      "\tTN: 0 \tFN: 0\n",
      "\n",
      "\n",
      "\n"
     ]
    },
    {
     "name": "stderr",
     "output_type": "stream",
     "text": [
      "C:\\ProgramData\\Anaconda3\\lib\\site-packages\\ipykernel_launcher.py:52: UserWarning: Boolean Series key will be reindexed to match DataFrame index.\n",
      "C:\\ProgramData\\Anaconda3\\lib\\site-packages\\ipykernel_launcher.py:62: UserWarning: Boolean Series key will be reindexed to match DataFrame index.\n",
      "C:\\ProgramData\\Anaconda3\\lib\\site-packages\\sklearn\\utils\\validation.py:73: DataConversionWarning: A column-vector y was passed when a 1d array was expected. Please change the shape of y to (n_samples, ), for example using ravel().\n",
      "  return f(**kwargs)\n"
     ]
    },
    {
     "name": "stdout",
     "output_type": "stream",
     "text": [
      "2014-05-28 00:00:00 \t Training Shape:  (71204, 22) \t\t Testing Shape:  (15594, 22)\n",
      "LogisticRegression Testing Accuracy =  0.8897445770761134 \n",
      "\n",
      "\tTP: 6882 \tFP: 821 \n",
      "\tTN: 50 \tFN: 38\n",
      "\n",
      "\n",
      "\n",
      "[100]\n",
      "2014-05-28 00:00:00 \t Training Shape:  (71204, 22) \t\t Testing Shape:  (15594, 22)\n",
      "LogisticRegression Testing Accuracy =  1.0 \n",
      "\n",
      "\tTP: 100 \tFP: 0 \n",
      "\tTN: 0 \tFN: 0\n",
      "\n",
      "\n",
      "\n"
     ]
    },
    {
     "name": "stderr",
     "output_type": "stream",
     "text": [
      "C:\\ProgramData\\Anaconda3\\lib\\site-packages\\ipykernel_launcher.py:52: UserWarning: Boolean Series key will be reindexed to match DataFrame index.\n",
      "C:\\ProgramData\\Anaconda3\\lib\\site-packages\\ipykernel_launcher.py:62: UserWarning: Boolean Series key will be reindexed to match DataFrame index.\n",
      "C:\\ProgramData\\Anaconda3\\lib\\site-packages\\sklearn\\utils\\validation.py:73: DataConversionWarning: A column-vector y was passed when a 1d array was expected. Please change the shape of y to (n_samples, ), for example using ravel().\n",
      "  return f(**kwargs)\n"
     ]
    },
    {
     "name": "stdout",
     "output_type": "stream",
     "text": [
      "2014-06-25 00:00:00 \t Training Shape:  (60458, 22) \t\t Testing Shape:  (14400, 22)\n",
      "LogisticRegression Testing Accuracy =  0.9132673267326733 \n",
      "\n",
      "\tTP: 6870 \tFP: 616 \n",
      "\tTN: 48 \tFN: 41\n",
      "\n",
      "\n",
      "\n",
      "[100]\n",
      "2014-06-25 00:00:00 \t Training Shape:  (60458, 22) \t\t Testing Shape:  (14400, 22)\n",
      "LogisticRegression Testing Accuracy =  1.0 \n",
      "\n",
      "\tTP: 100 \tFP: 0 \n",
      "\tTN: 0 \tFN: 0\n",
      "\n",
      "\n",
      "\n"
     ]
    },
    {
     "name": "stderr",
     "output_type": "stream",
     "text": [
      "C:\\ProgramData\\Anaconda3\\lib\\site-packages\\ipykernel_launcher.py:52: UserWarning: Boolean Series key will be reindexed to match DataFrame index.\n",
      "C:\\ProgramData\\Anaconda3\\lib\\site-packages\\ipykernel_launcher.py:62: UserWarning: Boolean Series key will be reindexed to match DataFrame index.\n",
      "C:\\ProgramData\\Anaconda3\\lib\\site-packages\\sklearn\\utils\\validation.py:73: DataConversionWarning: A column-vector y was passed when a 1d array was expected. Please change the shape of y to (n_samples, ), for example using ravel().\n",
      "  return f(**kwargs)\n"
     ]
    },
    {
     "name": "stdout",
     "output_type": "stream",
     "text": [
      "2014-07-23 00:00:00 \t Training Shape:  (46655, 22) \t\t Testing Shape:  (16011, 22)\n",
      "LogisticRegression Testing Accuracy =  0.9277445617605903 \n",
      "\n",
      "\tTP: 7234 \tFP: 505 \n",
      "\tTN: 59 \tFN: 63\n",
      "\n",
      "\n",
      "\n",
      "[100]\n",
      "2014-07-23 00:00:00 \t Training Shape:  (46655, 22) \t\t Testing Shape:  (16011, 22)\n",
      "LogisticRegression Testing Accuracy =  1.0 \n",
      "\n",
      "\tTP: 100 \tFP: 0 \n",
      "\tTN: 0 \tFN: 0\n",
      "\n",
      "\n",
      "\n"
     ]
    },
    {
     "name": "stderr",
     "output_type": "stream",
     "text": [
      "C:\\ProgramData\\Anaconda3\\lib\\site-packages\\ipykernel_launcher.py:52: UserWarning: Boolean Series key will be reindexed to match DataFrame index.\n",
      "C:\\ProgramData\\Anaconda3\\lib\\site-packages\\ipykernel_launcher.py:62: UserWarning: Boolean Series key will be reindexed to match DataFrame index.\n",
      "C:\\ProgramData\\Anaconda3\\lib\\site-packages\\sklearn\\utils\\validation.py:73: DataConversionWarning: A column-vector y was passed when a 1d array was expected. Please change the shape of y to (n_samples, ), for example using ravel().\n",
      "  return f(**kwargs)\n"
     ]
    },
    {
     "name": "stdout",
     "output_type": "stream",
     "text": [
      "2014-08-20 00:00:00 \t Training Shape:  (42067, 22) \t\t Testing Shape:  (33929, 22)\n",
      "LogisticRegression Testing Accuracy =  0.9191286930395594 \n",
      "\n",
      "\tTP: 14632 \tFP: 1217 \n",
      "\tTN: 52 \tFN: 75\n",
      "\n",
      "\n",
      "\n",
      "[100]\n",
      "2014-08-20 00:00:00 \t Training Shape:  (42067, 22) \t\t Testing Shape:  (33929, 22)\n",
      "LogisticRegression Testing Accuracy =  1.0 \n",
      "\n",
      "\tTP: 100 \tFP: 0 \n",
      "\tTN: 0 \tFN: 0\n",
      "\n",
      "\n",
      "\n"
     ]
    },
    {
     "name": "stderr",
     "output_type": "stream",
     "text": [
      "C:\\ProgramData\\Anaconda3\\lib\\site-packages\\ipykernel_launcher.py:52: UserWarning: Boolean Series key will be reindexed to match DataFrame index.\n",
      "C:\\ProgramData\\Anaconda3\\lib\\site-packages\\ipykernel_launcher.py:62: UserWarning: Boolean Series key will be reindexed to match DataFrame index.\n",
      "C:\\ProgramData\\Anaconda3\\lib\\site-packages\\sklearn\\utils\\validation.py:73: DataConversionWarning: A column-vector y was passed when a 1d array was expected. Please change the shape of y to (n_samples, ), for example using ravel().\n",
      "  return f(**kwargs)\n"
     ]
    },
    {
     "name": "stdout",
     "output_type": "stream",
     "text": [
      "2014-09-17 00:00:00 \t Training Shape:  (59278, 22) \t\t Testing Shape:  (70238, 22)\n",
      "LogisticRegression Testing Accuracy =  0.9426396234090777 \n",
      "\n",
      "\tTP: 32397 \tFP: 1897 \n",
      "\tTN: 43 \tFN: 77\n",
      "\n",
      "\n",
      "\n",
      "[100]\n",
      "2014-09-17 00:00:00 \t Training Shape:  (59278, 22) \t\t Testing Shape:  (70238, 22)\n",
      "LogisticRegression Testing Accuracy =  1.0 \n",
      "\n",
      "\tTP: 100 \tFP: 0 \n",
      "\tTN: 0 \tFN: 0\n",
      "\n",
      "\n",
      "\n"
     ]
    },
    {
     "name": "stderr",
     "output_type": "stream",
     "text": [
      "C:\\ProgramData\\Anaconda3\\lib\\site-packages\\ipykernel_launcher.py:52: UserWarning: Boolean Series key will be reindexed to match DataFrame index.\n",
      "C:\\ProgramData\\Anaconda3\\lib\\site-packages\\ipykernel_launcher.py:62: UserWarning: Boolean Series key will be reindexed to match DataFrame index.\n",
      "C:\\ProgramData\\Anaconda3\\lib\\site-packages\\sklearn\\utils\\validation.py:73: DataConversionWarning: A column-vector y was passed when a 1d array was expected. Please change the shape of y to (n_samples, ), for example using ravel().\n",
      "  return f(**kwargs)\n"
     ]
    },
    {
     "name": "stdout",
     "output_type": "stream",
     "text": [
      "2014-10-15 00:00:00 \t Training Shape:  (115785, 22) \t\t Testing Shape:  (42192, 22)\n",
      "LogisticRegression Testing Accuracy =  0.9508339882979653 \n",
      "\n",
      "\tTP: 21774 \tFP: 1123 \n",
      "\tTN: 2 \tFN: 3\n",
      "\n",
      "\n",
      "\n",
      "[100]\n",
      "2014-10-15 00:00:00 \t Training Shape:  (115785, 22) \t\t Testing Shape:  (42192, 22)\n",
      "LogisticRegression Testing Accuracy =  1.0 \n",
      "\n",
      "\tTP: 100 \tFP: 0 \n",
      "\tTN: 0 \tFN: 0\n",
      "\n",
      "\n",
      "\n"
     ]
    },
    {
     "name": "stderr",
     "output_type": "stream",
     "text": [
      "C:\\ProgramData\\Anaconda3\\lib\\site-packages\\ipykernel_launcher.py:52: UserWarning: Boolean Series key will be reindexed to match DataFrame index.\n",
      "C:\\ProgramData\\Anaconda3\\lib\\site-packages\\ipykernel_launcher.py:62: UserWarning: Boolean Series key will be reindexed to match DataFrame index.\n",
      "C:\\ProgramData\\Anaconda3\\lib\\site-packages\\sklearn\\utils\\validation.py:73: DataConversionWarning: A column-vector y was passed when a 1d array was expected. Please change the shape of y to (n_samples, ), for example using ravel().\n",
      "  return f(**kwargs)\n"
     ]
    },
    {
     "name": "stdout",
     "output_type": "stream",
     "text": [
      "2014-11-12 00:00:00 \t Training Shape:  (141511, 22) \t\t Testing Shape:  (29401, 22)\n",
      "LogisticRegression Testing Accuracy =  0.9362834242607935 \n",
      "\n",
      "\tTP: 13899 \tFP: 941 \n",
      "\tTN: 2 \tFN: 5\n",
      "\n",
      "\n",
      "\n",
      "[100]\n",
      "2014-11-12 00:00:00 \t Training Shape:  (141511, 22) \t\t Testing Shape:  (29401, 22)\n",
      "LogisticRegression Testing Accuracy =  1.0 \n",
      "\n",
      "\tTP: 100 \tFP: 0 \n",
      "\tTN: 0 \tFN: 0\n",
      "\n",
      "\n",
      "\n"
     ]
    },
    {
     "name": "stderr",
     "output_type": "stream",
     "text": [
      "C:\\ProgramData\\Anaconda3\\lib\\site-packages\\ipykernel_launcher.py:52: UserWarning: Boolean Series key will be reindexed to match DataFrame index.\n",
      "C:\\ProgramData\\Anaconda3\\lib\\site-packages\\ipykernel_launcher.py:62: UserWarning: Boolean Series key will be reindexed to match DataFrame index.\n",
      "C:\\ProgramData\\Anaconda3\\lib\\site-packages\\sklearn\\utils\\validation.py:73: DataConversionWarning: A column-vector y was passed when a 1d array was expected. Please change the shape of y to (n_samples, ), for example using ravel().\n",
      "  return f(**kwargs)\n"
     ]
    },
    {
     "name": "stdout",
     "output_type": "stream",
     "text": [
      "2014-12-10 00:00:00 \t Training Shape:  (144514, 22) \t\t Testing Shape:  (24159, 22)\n",
      "LogisticRegression Testing Accuracy =  0.9201119335620148 \n",
      "\n",
      "\tTP: 10189 \tFP: 880 \n",
      "\tTN: 4 \tFN: 5\n",
      "\n",
      "\n",
      "\n",
      "[100]\n",
      "2014-12-10 00:00:00 \t Training Shape:  (144514, 22) \t\t Testing Shape:  (24159, 22)\n",
      "LogisticRegression Testing Accuracy =  1.0 \n",
      "\n",
      "\tTP: 100 \tFP: 0 \n",
      "\tTN: 0 \tFN: 0\n",
      "\n",
      "\n",
      "\n"
     ]
    },
    {
     "name": "stderr",
     "output_type": "stream",
     "text": [
      "C:\\ProgramData\\Anaconda3\\lib\\site-packages\\ipykernel_launcher.py:52: UserWarning: Boolean Series key will be reindexed to match DataFrame index.\n",
      "C:\\ProgramData\\Anaconda3\\lib\\site-packages\\ipykernel_launcher.py:62: UserWarning: Boolean Series key will be reindexed to match DataFrame index.\n",
      "C:\\ProgramData\\Anaconda3\\lib\\site-packages\\sklearn\\utils\\validation.py:73: DataConversionWarning: A column-vector y was passed when a 1d array was expected. Please change the shape of y to (n_samples, ), for example using ravel().\n",
      "  return f(**kwargs)\n"
     ]
    },
    {
     "name": "stdout",
     "output_type": "stream",
     "text": [
      "2015-01-07 00:00:00 \t Training Shape:  (100316, 22) \t\t Testing Shape:  (16552, 22)\n",
      "LogisticRegression Testing Accuracy =  0.897060761829445 \n",
      "\n",
      "\tTP: 6793 \tFP: 778 \n",
      "\tTN: 13 \tFN: 3\n",
      "\n",
      "\n",
      "\n",
      "[100]\n",
      "2015-01-07 00:00:00 \t Training Shape:  (100316, 22) \t\t Testing Shape:  (16552, 22)\n",
      "LogisticRegression Testing Accuracy =  1.0 \n",
      "\n",
      "\tTP: 100 \tFP: 0 \n",
      "\tTN: 0 \tFN: 0\n",
      "\n",
      "\n",
      "\n"
     ]
    },
    {
     "name": "stderr",
     "output_type": "stream",
     "text": [
      "C:\\ProgramData\\Anaconda3\\lib\\site-packages\\ipykernel_launcher.py:52: UserWarning: Boolean Series key will be reindexed to match DataFrame index.\n",
      "C:\\ProgramData\\Anaconda3\\lib\\site-packages\\ipykernel_launcher.py:62: UserWarning: Boolean Series key will be reindexed to match DataFrame index.\n",
      "C:\\ProgramData\\Anaconda3\\lib\\site-packages\\sklearn\\utils\\validation.py:73: DataConversionWarning: A column-vector y was passed when a 1d array was expected. Please change the shape of y to (n_samples, ), for example using ravel().\n",
      "  return f(**kwargs)\n"
     ]
    },
    {
     "name": "stdout",
     "output_type": "stream",
     "text": [
      "2015-02-04 00:00:00 \t Training Shape:  (71166, 22) \t\t Testing Shape:  (31393, 22)\n",
      "LogisticRegression Testing Accuracy =  0.880948665938524 \n",
      "\n",
      "\tTP: 11198 \tFP: 1498 \n",
      "\tTN: 94 \tFN: 28\n",
      "\n",
      "\n",
      "\n",
      "[100]\n",
      "2015-02-04 00:00:00 \t Training Shape:  (71166, 22) \t\t Testing Shape:  (31393, 22)\n",
      "LogisticRegression Testing Accuracy =  1.0 \n",
      "\n",
      "\tTP: 100 \tFP: 0 \n",
      "\tTN: 0 \tFN: 0\n",
      "\n",
      "\n",
      "\n"
     ]
    },
    {
     "name": "stderr",
     "output_type": "stream",
     "text": [
      "C:\\ProgramData\\Anaconda3\\lib\\site-packages\\ipykernel_launcher.py:52: UserWarning: Boolean Series key will be reindexed to match DataFrame index.\n",
      "C:\\ProgramData\\Anaconda3\\lib\\site-packages\\ipykernel_launcher.py:62: UserWarning: Boolean Series key will be reindexed to match DataFrame index.\n",
      "C:\\ProgramData\\Anaconda3\\lib\\site-packages\\sklearn\\utils\\validation.py:73: DataConversionWarning: A column-vector y was passed when a 1d array was expected. Please change the shape of y to (n_samples, ), for example using ravel().\n",
      "  return f(**kwargs)\n"
     ]
    },
    {
     "name": "stdout",
     "output_type": "stream",
     "text": [
      "2015-03-04 00:00:00 \t Training Shape:  (72453, 22) \t\t Testing Shape:  (31115, 22)\n",
      "LogisticRegression Testing Accuracy =  0.8908671806692632 \n",
      "\n",
      "\tTP: 11124 \tFP: 1313 \n",
      "\tTN: 84 \tFN: 60\n",
      "\n",
      "\n",
      "\n",
      "[100]\n",
      "2015-03-04 00:00:00 \t Training Shape:  (72453, 22) \t\t Testing Shape:  (31115, 22)\n",
      "LogisticRegression Testing Accuracy =  1.0 \n",
      "\n",
      "\tTP: 100 \tFP: 0 \n",
      "\tTN: 0 \tFN: 0\n",
      "\n",
      "\n",
      "\n"
     ]
    },
    {
     "name": "stderr",
     "output_type": "stream",
     "text": [
      "C:\\ProgramData\\Anaconda3\\lib\\site-packages\\ipykernel_launcher.py:52: UserWarning: Boolean Series key will be reindexed to match DataFrame index.\n",
      "C:\\ProgramData\\Anaconda3\\lib\\site-packages\\ipykernel_launcher.py:62: UserWarning: Boolean Series key will be reindexed to match DataFrame index.\n",
      "C:\\ProgramData\\Anaconda3\\lib\\site-packages\\sklearn\\utils\\validation.py:73: DataConversionWarning: A column-vector y was passed when a 1d array was expected. Please change the shape of y to (n_samples, ), for example using ravel().\n",
      "  return f(**kwargs)\n"
     ]
    },
    {
     "name": "stdout",
     "output_type": "stream",
     "text": [
      "2015-04-01 00:00:00 \t Training Shape:  (78577, 22) \t\t Testing Shape:  (28235, 22)\n",
      "LogisticRegression Testing Accuracy =  0.9026526315789474 \n",
      "\n",
      "\tTP: 10621 \tFP: 1078 \n",
      "\tTN: 98 \tFN: 78\n",
      "\n",
      "\n",
      "\n",
      "[100]\n",
      "2015-04-01 00:00:00 \t Training Shape:  (78577, 22) \t\t Testing Shape:  (28235, 22)\n",
      "LogisticRegression Testing Accuracy =  1.0 \n",
      "\n",
      "\tTP: 100 \tFP: 0 \n",
      "\tTN: 0 \tFN: 0\n",
      "\n",
      "\n",
      "\n"
     ]
    },
    {
     "name": "stderr",
     "output_type": "stream",
     "text": [
      "C:\\ProgramData\\Anaconda3\\lib\\site-packages\\ipykernel_launcher.py:52: UserWarning: Boolean Series key will be reindexed to match DataFrame index.\n",
      "C:\\ProgramData\\Anaconda3\\lib\\site-packages\\ipykernel_launcher.py:62: UserWarning: Boolean Series key will be reindexed to match DataFrame index.\n",
      "C:\\ProgramData\\Anaconda3\\lib\\site-packages\\sklearn\\utils\\validation.py:73: DataConversionWarning: A column-vector y was passed when a 1d array was expected. Please change the shape of y to (n_samples, ), for example using ravel().\n",
      "  return f(**kwargs)\n"
     ]
    },
    {
     "name": "stdout",
     "output_type": "stream",
     "text": [
      "2015-04-29 00:00:00 \t Training Shape:  (86424, 22) \t\t Testing Shape:  (19859, 22)\n",
      "LogisticRegression Testing Accuracy =  0.8834621691262591 \n",
      "\n",
      "\tTP: 7389 \tFP: 913 \n",
      "\tTN: 154 \tFN: 82\n",
      "\n",
      "\n",
      "\n",
      "[100]\n",
      "2015-04-29 00:00:00 \t Training Shape:  (86424, 22) \t\t Testing Shape:  (19859, 22)\n",
      "LogisticRegression Testing Accuracy =  1.0 \n",
      "\n",
      "\tTP: 100 \tFP: 0 \n",
      "\tTN: 0 \tFN: 0\n",
      "\n",
      "\n",
      "\n"
     ]
    },
    {
     "name": "stderr",
     "output_type": "stream",
     "text": [
      "C:\\ProgramData\\Anaconda3\\lib\\site-packages\\ipykernel_launcher.py:52: UserWarning: Boolean Series key will be reindexed to match DataFrame index.\n",
      "C:\\ProgramData\\Anaconda3\\lib\\site-packages\\ipykernel_launcher.py:62: UserWarning: Boolean Series key will be reindexed to match DataFrame index.\n",
      "C:\\ProgramData\\Anaconda3\\lib\\site-packages\\sklearn\\utils\\validation.py:73: DataConversionWarning: A column-vector y was passed when a 1d array was expected. Please change the shape of y to (n_samples, ), for example using ravel().\n",
      "  return f(**kwargs)\n"
     ]
    },
    {
     "name": "stdout",
     "output_type": "stream",
     "text": [
      "2015-05-27 00:00:00 \t Training Shape:  (78248, 22) \t\t Testing Shape:  (18675, 22)\n",
      "LogisticRegression Testing Accuracy =  0.9087484303055672 \n",
      "\n",
      "\tTP: 8518 \tFP: 768 \n",
      "\tTN: 166 \tFN: 104\n",
      "\n",
      "\n",
      "\n",
      "[100]\n",
      "2015-05-27 00:00:00 \t Training Shape:  (78248, 22) \t\t Testing Shape:  (18675, 22)\n",
      "LogisticRegression Testing Accuracy =  1.0 \n",
      "\n",
      "\tTP: 100 \tFP: 0 \n",
      "\tTN: 0 \tFN: 0\n",
      "\n",
      "\n",
      "\n"
     ]
    },
    {
     "name": "stderr",
     "output_type": "stream",
     "text": [
      "C:\\ProgramData\\Anaconda3\\lib\\site-packages\\ipykernel_launcher.py:52: UserWarning: Boolean Series key will be reindexed to match DataFrame index.\n",
      "C:\\ProgramData\\Anaconda3\\lib\\site-packages\\ipykernel_launcher.py:62: UserWarning: Boolean Series key will be reindexed to match DataFrame index.\n",
      "C:\\ProgramData\\Anaconda3\\lib\\site-packages\\sklearn\\utils\\validation.py:73: DataConversionWarning: A column-vector y was passed when a 1d array was expected. Please change the shape of y to (n_samples, ), for example using ravel().\n",
      "  return f(**kwargs)\n"
     ]
    },
    {
     "name": "stdout",
     "output_type": "stream",
     "text": [
      "2015-06-24 00:00:00 \t Training Shape:  (66930, 22) \t\t Testing Shape:  (15618, 22)\n",
      "LogisticRegression Testing Accuracy =  0.9232685600398605 \n",
      "\n",
      "\tTP: 7313 \tFP: 515 \n",
      "\tTN: 99 \tFN: 101\n",
      "\n",
      "\n",
      "\n",
      "[100]\n",
      "2015-06-24 00:00:00 \t Training Shape:  (66930, 22) \t\t Testing Shape:  (15618, 22)\n",
      "LogisticRegression Testing Accuracy =  1.0 \n",
      "\n",
      "\tTP: 100 \tFP: 0 \n",
      "\tTN: 0 \tFN: 0\n",
      "\n",
      "\n",
      "\n"
     ]
    },
    {
     "name": "stderr",
     "output_type": "stream",
     "text": [
      "C:\\ProgramData\\Anaconda3\\lib\\site-packages\\ipykernel_launcher.py:52: UserWarning: Boolean Series key will be reindexed to match DataFrame index.\n",
      "C:\\ProgramData\\Anaconda3\\lib\\site-packages\\ipykernel_launcher.py:62: UserWarning: Boolean Series key will be reindexed to match DataFrame index.\n",
      "C:\\ProgramData\\Anaconda3\\lib\\site-packages\\sklearn\\utils\\validation.py:73: DataConversionWarning: A column-vector y was passed when a 1d array was expected. Please change the shape of y to (n_samples, ), for example using ravel().\n",
      "  return f(**kwargs)\n"
     ]
    },
    {
     "name": "stdout",
     "output_type": "stream",
     "text": [
      "2015-07-22 00:00:00 \t Training Shape:  (55053, 22) \t\t Testing Shape:  (15700, 22)\n",
      "LogisticRegression Testing Accuracy =  0.9228074727555786 \n",
      "\n",
      "\tTP: 7053 \tFP: 523 \n",
      "\tTN: 60 \tFN: 72\n",
      "\n",
      "\n",
      "\n",
      "[100]\n",
      "2015-07-22 00:00:00 \t Training Shape:  (55053, 22) \t\t Testing Shape:  (15700, 22)\n",
      "LogisticRegression Testing Accuracy =  1.0 \n",
      "\n",
      "\tTP: 100 \tFP: 0 \n",
      "\tTN: 0 \tFN: 0\n",
      "\n",
      "\n",
      "\n"
     ]
    },
    {
     "name": "stderr",
     "output_type": "stream",
     "text": [
      "C:\\ProgramData\\Anaconda3\\lib\\site-packages\\ipykernel_launcher.py:52: UserWarning: Boolean Series key will be reindexed to match DataFrame index.\n",
      "C:\\ProgramData\\Anaconda3\\lib\\site-packages\\ipykernel_launcher.py:62: UserWarning: Boolean Series key will be reindexed to match DataFrame index.\n",
      "C:\\ProgramData\\Anaconda3\\lib\\site-packages\\sklearn\\utils\\validation.py:73: DataConversionWarning: A column-vector y was passed when a 1d array was expected. Please change the shape of y to (n_samples, ), for example using ravel().\n",
      "  return f(**kwargs)\n"
     ]
    },
    {
     "name": "stdout",
     "output_type": "stream",
     "text": [
      "2015-08-19 00:00:00 \t Training Shape:  (49138, 22) \t\t Testing Shape:  (32518, 22)\n",
      "LogisticRegression Testing Accuracy =  0.9074074074074074 \n",
      "\n",
      "\tTP: 13206 \tFP: 1296 \n",
      "\tTN: 73 \tFN: 59\n",
      "\n",
      "\n",
      "\n",
      "[100]\n",
      "2015-08-19 00:00:00 \t Training Shape:  (49138, 22) \t\t Testing Shape:  (32518, 22)\n",
      "LogisticRegression Testing Accuracy =  1.0 \n",
      "\n",
      "\tTP: 100 \tFP: 0 \n",
      "\tTN: 0 \tFN: 0\n",
      "\n",
      "\n",
      "\n"
     ]
    },
    {
     "name": "stderr",
     "output_type": "stream",
     "text": [
      "C:\\ProgramData\\Anaconda3\\lib\\site-packages\\ipykernel_launcher.py:52: UserWarning: Boolean Series key will be reindexed to match DataFrame index.\n",
      "C:\\ProgramData\\Anaconda3\\lib\\site-packages\\ipykernel_launcher.py:62: UserWarning: Boolean Series key will be reindexed to match DataFrame index.\n",
      "C:\\ProgramData\\Anaconda3\\lib\\site-packages\\sklearn\\utils\\validation.py:73: DataConversionWarning: A column-vector y was passed when a 1d array was expected. Please change the shape of y to (n_samples, ), for example using ravel().\n",
      "  return f(**kwargs)\n"
     ]
    },
    {
     "name": "stdout",
     "output_type": "stream",
     "text": [
      "2015-09-16 00:00:00 \t Training Shape:  (62400, 22) \t\t Testing Shape:  (76510, 22)\n",
      "LogisticRegression Testing Accuracy =  0.9038914079090857 \n",
      "\n",
      "\tTP: 31386 \tFP: 3258 \n",
      "\tTN: 111 \tFN: 91\n",
      "\n",
      "\n",
      "\n",
      "[100]\n",
      "2015-09-16 00:00:00 \t Training Shape:  (62400, 22) \t\t Testing Shape:  (76510, 22)\n",
      "LogisticRegression Testing Accuracy =  1.0 \n",
      "\n",
      "\tTP: 100 \tFP: 0 \n",
      "\tTN: 0 \tFN: 0\n",
      "\n",
      "\n",
      "\n"
     ]
    },
    {
     "name": "stderr",
     "output_type": "stream",
     "text": [
      "C:\\ProgramData\\Anaconda3\\lib\\site-packages\\ipykernel_launcher.py:52: UserWarning: Boolean Series key will be reindexed to match DataFrame index.\n",
      "C:\\ProgramData\\Anaconda3\\lib\\site-packages\\ipykernel_launcher.py:62: UserWarning: Boolean Series key will be reindexed to match DataFrame index.\n",
      "C:\\ProgramData\\Anaconda3\\lib\\site-packages\\sklearn\\utils\\validation.py:73: DataConversionWarning: A column-vector y was passed when a 1d array was expected. Please change the shape of y to (n_samples, ), for example using ravel().\n",
      "  return f(**kwargs)\n"
     ]
    },
    {
     "name": "stdout",
     "output_type": "stream",
     "text": [
      "2015-10-14 00:00:00 \t Training Shape:  (121358, 22) \t\t Testing Shape:  (41016, 22)\n",
      "LogisticRegression Testing Accuracy =  0.916213607032163 \n",
      "\n",
      "\tTP: 17965 \tFP: 1585 \n",
      "\tTN: 67 \tFN: 64\n",
      "\n",
      "\n",
      "\n",
      "[100]\n",
      "2015-10-14 00:00:00 \t Training Shape:  (121358, 22) \t\t Testing Shape:  (41016, 22)\n",
      "LogisticRegression Testing Accuracy =  1.0 \n",
      "\n",
      "\tTP: 100 \tFP: 0 \n",
      "\tTN: 0 \tFN: 0\n",
      "\n",
      "\n",
      "\n"
     ]
    },
    {
     "name": "stderr",
     "output_type": "stream",
     "text": [
      "C:\\ProgramData\\Anaconda3\\lib\\site-packages\\ipykernel_launcher.py:52: UserWarning: Boolean Series key will be reindexed to match DataFrame index.\n",
      "C:\\ProgramData\\Anaconda3\\lib\\site-packages\\ipykernel_launcher.py:62: UserWarning: Boolean Series key will be reindexed to match DataFrame index.\n",
      "C:\\ProgramData\\Anaconda3\\lib\\site-packages\\sklearn\\utils\\validation.py:73: DataConversionWarning: A column-vector y was passed when a 1d array was expected. Please change the shape of y to (n_samples, ), for example using ravel().\n",
      "  return f(**kwargs)\n"
     ]
    },
    {
     "name": "stdout",
     "output_type": "stream",
     "text": [
      "2015-11-11 00:00:00 \t Training Shape:  (144395, 22) \t\t Testing Shape:  (35579, 22)\n",
      "LogisticRegression Testing Accuracy =  0.9066195223742175 \n",
      "\n",
      "\tTP: 15546 \tFP: 1548 \n",
      "\tTN: 95 \tFN: 63\n",
      "\n",
      "\n",
      "\n",
      "[100]\n",
      "2015-11-11 00:00:00 \t Training Shape:  (144395, 22) \t\t Testing Shape:  (35579, 22)\n",
      "LogisticRegression Testing Accuracy =  1.0 \n",
      "\n",
      "\tTP: 100 \tFP: 0 \n",
      "\tTN: 0 \tFN: 0\n",
      "\n",
      "\n",
      "\n"
     ]
    },
    {
     "name": "stderr",
     "output_type": "stream",
     "text": [
      "C:\\ProgramData\\Anaconda3\\lib\\site-packages\\ipykernel_launcher.py:52: UserWarning: Boolean Series key will be reindexed to match DataFrame index.\n",
      "C:\\ProgramData\\Anaconda3\\lib\\site-packages\\ipykernel_launcher.py:62: UserWarning: Boolean Series key will be reindexed to match DataFrame index.\n",
      "C:\\ProgramData\\Anaconda3\\lib\\site-packages\\sklearn\\utils\\validation.py:73: DataConversionWarning: A column-vector y was passed when a 1d array was expected. Please change the shape of y to (n_samples, ), for example using ravel().\n",
      "  return f(**kwargs)\n"
     ]
    },
    {
     "name": "stdout",
     "output_type": "stream",
     "text": [
      "2015-12-09 00:00:00 \t Training Shape:  (151533, 22) \t\t Testing Shape:  (40297, 22)\n",
      "LogisticRegression Testing Accuracy =  0.9116764101753831 \n",
      "\n",
      "\tTP: 17149 \tFP: 1560 \n",
      "\tTN: 161 \tFN: 117\n",
      "\n",
      "\n",
      "\n",
      "[100]\n",
      "2015-12-09 00:00:00 \t Training Shape:  (151533, 22) \t\t Testing Shape:  (40297, 22)\n",
      "LogisticRegression Testing Accuracy =  1.0 \n",
      "\n",
      "\tTP: 100 \tFP: 0 \n",
      "\tTN: 0 \tFN: 0\n",
      "\n",
      "\n",
      "\n"
     ]
    },
    {
     "name": "stderr",
     "output_type": "stream",
     "text": [
      "C:\\ProgramData\\Anaconda3\\lib\\site-packages\\ipykernel_launcher.py:52: UserWarning: Boolean Series key will be reindexed to match DataFrame index.\n",
      "C:\\ProgramData\\Anaconda3\\lib\\site-packages\\ipykernel_launcher.py:62: UserWarning: Boolean Series key will be reindexed to match DataFrame index.\n",
      "C:\\ProgramData\\Anaconda3\\lib\\site-packages\\sklearn\\utils\\validation.py:73: DataConversionWarning: A column-vector y was passed when a 1d array was expected. Please change the shape of y to (n_samples, ), for example using ravel().\n",
      "  return f(**kwargs)\n"
     ]
    },
    {
     "name": "stdout",
     "output_type": "stream",
     "text": [
      "2016-01-06 00:00:00 \t Training Shape:  (129385, 22) \t\t Testing Shape:  (29111, 22)\n",
      "LogisticRegression Testing Accuracy =  0.8764789398958827 \n",
      "\n",
      "\tTP: 10945 \tFP: 1396 \n",
      "\tTN: 167 \tFN: 170\n",
      "\n",
      "\n",
      "\n",
      "[100]\n",
      "2016-01-06 00:00:00 \t Training Shape:  (129385, 22) \t\t Testing Shape:  (29111, 22)\n",
      "LogisticRegression Testing Accuracy =  1.0 \n",
      "\n",
      "\tTP: 100 \tFP: 0 \n",
      "\tTN: 0 \tFN: 0\n",
      "\n",
      "\n",
      "\n"
     ]
    },
    {
     "name": "stderr",
     "output_type": "stream",
     "text": [
      "C:\\ProgramData\\Anaconda3\\lib\\site-packages\\ipykernel_launcher.py:52: UserWarning: Boolean Series key will be reindexed to match DataFrame index.\n",
      "C:\\ProgramData\\Anaconda3\\lib\\site-packages\\ipykernel_launcher.py:62: UserWarning: Boolean Series key will be reindexed to match DataFrame index.\n",
      "C:\\ProgramData\\Anaconda3\\lib\\site-packages\\sklearn\\utils\\validation.py:73: DataConversionWarning: A column-vector y was passed when a 1d array was expected. Please change the shape of y to (n_samples, ), for example using ravel().\n",
      "  return f(**kwargs)\n"
     ]
    },
    {
     "name": "stdout",
     "output_type": "stream",
     "text": [
      "2016-02-03 00:00:00 \t Training Shape:  (106286, 22) \t\t Testing Shape:  (36262, 22)\n",
      "LogisticRegression Testing Accuracy =  0.8754702296017641 \n",
      "\n",
      "\tTP: 13244 \tFP: 1749 \n",
      "\tTN: 254 \tFN: 171\n",
      "\n",
      "\n",
      "\n",
      "[100]\n",
      "2016-02-03 00:00:00 \t Training Shape:  (106286, 22) \t\t Testing Shape:  (36262, 22)\n",
      "LogisticRegression Testing Accuracy =  1.0 \n",
      "\n",
      "\tTP: 100 \tFP: 0 \n",
      "\tTN: 0 \tFN: 0\n",
      "\n",
      "\n",
      "\n"
     ]
    },
    {
     "name": "stderr",
     "output_type": "stream",
     "text": [
      "C:\\ProgramData\\Anaconda3\\lib\\site-packages\\ipykernel_launcher.py:52: UserWarning: Boolean Series key will be reindexed to match DataFrame index.\n",
      "C:\\ProgramData\\Anaconda3\\lib\\site-packages\\ipykernel_launcher.py:62: UserWarning: Boolean Series key will be reindexed to match DataFrame index.\n",
      "C:\\ProgramData\\Anaconda3\\lib\\site-packages\\sklearn\\utils\\validation.py:73: DataConversionWarning: A column-vector y was passed when a 1d array was expected. Please change the shape of y to (n_samples, ), for example using ravel().\n",
      "  return f(**kwargs)\n"
     ]
    },
    {
     "name": "stdout",
     "output_type": "stream",
     "text": [
      "2016-03-02 00:00:00 \t Training Shape:  (106286, 22) \t\t Testing Shape:  (34249, 22)\n",
      "LogisticRegression Testing Accuracy =  0.8709497206703911 \n",
      "\n",
      "\tTP: 12245 \tFP: 1673 \n",
      "\tTN: 227 \tFN: 175\n",
      "\n",
      "\n",
      "\n",
      "[100]\n",
      "2016-03-02 00:00:00 \t Training Shape:  (106286, 22) \t\t Testing Shape:  (34249, 22)\n",
      "LogisticRegression Testing Accuracy =  1.0 \n",
      "\n",
      "\tTP: 100 \tFP: 0 \n",
      "\tTN: 0 \tFN: 0\n",
      "\n",
      "\n",
      "\n"
     ]
    },
    {
     "name": "stderr",
     "output_type": "stream",
     "text": [
      "C:\\ProgramData\\Anaconda3\\lib\\site-packages\\ipykernel_launcher.py:52: UserWarning: Boolean Series key will be reindexed to match DataFrame index.\n",
      "C:\\ProgramData\\Anaconda3\\lib\\site-packages\\ipykernel_launcher.py:62: UserWarning: Boolean Series key will be reindexed to match DataFrame index.\n",
      "C:\\ProgramData\\Anaconda3\\lib\\site-packages\\sklearn\\utils\\validation.py:73: DataConversionWarning: A column-vector y was passed when a 1d array was expected. Please change the shape of y to (n_samples, ), for example using ravel().\n",
      "  return f(**kwargs)\n"
     ]
    },
    {
     "name": "stdout",
     "output_type": "stream",
     "text": [
      "2016-03-30 00:00:00 \t Training Shape:  (96176, 22) \t\t Testing Shape:  (57808, 22)\n",
      "LogisticRegression Testing Accuracy =  0.880533585172943 \n",
      "\n",
      "\tTP: 22023 \tFP: 2701 \n",
      "\tTN: 354 \tFN: 335\n",
      "\n",
      "\n",
      "\n",
      "[100]\n",
      "2016-03-30 00:00:00 \t Training Shape:  (96176, 22) \t\t Testing Shape:  (57808, 22)\n",
      "LogisticRegression Testing Accuracy =  1.0 \n",
      "\n",
      "\tTP: 100 \tFP: 0 \n",
      "\tTN: 0 \tFN: 0\n",
      "\n",
      "\n",
      "\n"
     ]
    },
    {
     "name": "stderr",
     "output_type": "stream",
     "text": [
      "C:\\ProgramData\\Anaconda3\\lib\\site-packages\\ipykernel_launcher.py:52: UserWarning: Boolean Series key will be reindexed to match DataFrame index.\n",
      "C:\\ProgramData\\Anaconda3\\lib\\site-packages\\ipykernel_launcher.py:62: UserWarning: Boolean Series key will be reindexed to match DataFrame index.\n",
      "C:\\ProgramData\\Anaconda3\\lib\\site-packages\\sklearn\\utils\\validation.py:73: DataConversionWarning: A column-vector y was passed when a 1d array was expected. Please change the shape of y to (n_samples, ), for example using ravel().\n",
      "  return f(**kwargs)\n"
     ]
    },
    {
     "name": "stdout",
     "output_type": "stream",
     "text": [
      "2016-04-27 00:00:00 \t Training Shape:  (121145, 22) \t\t Testing Shape:  (29968, 22)\n",
      "LogisticRegression Testing Accuracy =  0.9008606085247679 \n",
      "\n",
      "\tTP: 13077 \tFP: 1314 \n",
      "\tTN: 217 \tFN: 149\n",
      "\n",
      "\n",
      "\n",
      "[100]\n",
      "2016-04-27 00:00:00 \t Training Shape:  (121145, 22) \t\t Testing Shape:  (29968, 22)\n",
      "LogisticRegression Testing Accuracy =  1.0 \n",
      "\n",
      "\tTP: 100 \tFP: 0 \n",
      "\tTN: 0 \tFN: 0\n",
      "\n",
      "\n",
      "\n"
     ]
    },
    {
     "name": "stderr",
     "output_type": "stream",
     "text": [
      "C:\\ProgramData\\Anaconda3\\lib\\site-packages\\ipykernel_launcher.py:52: UserWarning: Boolean Series key will be reindexed to match DataFrame index.\n",
      "C:\\ProgramData\\Anaconda3\\lib\\site-packages\\ipykernel_launcher.py:62: UserWarning: Boolean Series key will be reindexed to match DataFrame index.\n",
      "C:\\ProgramData\\Anaconda3\\lib\\site-packages\\sklearn\\utils\\validation.py:73: DataConversionWarning: A column-vector y was passed when a 1d array was expected. Please change the shape of y to (n_samples, ), for example using ravel().\n",
      "  return f(**kwargs)\n"
     ]
    },
    {
     "name": "stdout",
     "output_type": "stream",
     "text": [
      "2016-05-25 00:00:00 \t Training Shape:  (119985, 22) \t\t Testing Shape:  (25045, 22)\n",
      "LogisticRegression Testing Accuracy =  0.9062099871959027 \n",
      "\n",
      "\tTP: 11177 \tFP: 1045 \n",
      "\tTN: 147 \tFN: 127\n",
      "\n",
      "\n",
      "\n",
      "[ 0  1  0 99]\n",
      "2016-05-25 00:00:00 \t Training Shape:  (119985, 22) \t\t Testing Shape:  (25045, 22)\n",
      "LogisticRegression Testing Accuracy =  0.99 \n",
      "\n",
      "\tTP: 99 \tFP: 1 \n",
      "\tTN: 0 \tFN: 0\n",
      "\n",
      "\n",
      "\n"
     ]
    },
    {
     "name": "stderr",
     "output_type": "stream",
     "text": [
      "C:\\ProgramData\\Anaconda3\\lib\\site-packages\\ipykernel_launcher.py:52: UserWarning: Boolean Series key will be reindexed to match DataFrame index.\n",
      "C:\\ProgramData\\Anaconda3\\lib\\site-packages\\ipykernel_launcher.py:62: UserWarning: Boolean Series key will be reindexed to match DataFrame index.\n",
      "C:\\ProgramData\\Anaconda3\\lib\\site-packages\\sklearn\\utils\\validation.py:73: DataConversionWarning: A column-vector y was passed when a 1d array was expected. Please change the shape of y to (n_samples, ), for example using ravel().\n",
      "  return f(**kwargs)\n"
     ]
    },
    {
     "name": "stdout",
     "output_type": "stream",
     "text": [
      "2016-06-22 00:00:00 \t Training Shape:  (111074, 22) \t\t Testing Shape:  (22955, 22)\n",
      "LogisticRegression Testing Accuracy =  0.9309435517099299 \n",
      "\n",
      "\tTP: 11199 \tFP: 722 \n",
      "\tTN: 98 \tFN: 116\n",
      "\n",
      "\n",
      "\n",
      "[100]\n",
      "2016-06-22 00:00:00 \t Training Shape:  (111074, 22) \t\t Testing Shape:  (22955, 22)\n",
      "LogisticRegression Testing Accuracy =  1.0 \n",
      "\n",
      "\tTP: 100 \tFP: 0 \n",
      "\tTN: 0 \tFN: 0\n",
      "\n",
      "\n",
      "\n"
     ]
    },
    {
     "name": "stderr",
     "output_type": "stream",
     "text": [
      "C:\\ProgramData\\Anaconda3\\lib\\site-packages\\ipykernel_launcher.py:52: UserWarning: Boolean Series key will be reindexed to match DataFrame index.\n",
      "C:\\ProgramData\\Anaconda3\\lib\\site-packages\\ipykernel_launcher.py:62: UserWarning: Boolean Series key will be reindexed to match DataFrame index.\n",
      "C:\\ProgramData\\Anaconda3\\lib\\site-packages\\sklearn\\utils\\validation.py:73: DataConversionWarning: A column-vector y was passed when a 1d array was expected. Please change the shape of y to (n_samples, ), for example using ravel().\n",
      "  return f(**kwargs)\n"
     ]
    },
    {
     "name": "stdout",
     "output_type": "stream",
     "text": [
      "2016-07-20 00:00:00 \t Training Shape:  (75819, 22) \t\t Testing Shape:  (28201, 22)\n",
      "LogisticRegression Testing Accuracy =  0.9211374963353856 \n",
      "\n",
      "\tTP: 12461 \tFP: 955 \n",
      "\tTN: 107 \tFN: 121\n",
      "\n",
      "\n",
      "\n",
      "[100]\n",
      "2016-07-20 00:00:00 \t Training Shape:  (75819, 22) \t\t Testing Shape:  (28201, 22)\n",
      "LogisticRegression Testing Accuracy =  1.0 \n",
      "\n",
      "\tTP: 100 \tFP: 0 \n",
      "\tTN: 0 \tFN: 0\n",
      "\n",
      "\n",
      "\n"
     ]
    },
    {
     "name": "stderr",
     "output_type": "stream",
     "text": [
      "C:\\ProgramData\\Anaconda3\\lib\\site-packages\\ipykernel_launcher.py:52: UserWarning: Boolean Series key will be reindexed to match DataFrame index.\n",
      "C:\\ProgramData\\Anaconda3\\lib\\site-packages\\ipykernel_launcher.py:62: UserWarning: Boolean Series key will be reindexed to match DataFrame index.\n",
      "C:\\ProgramData\\Anaconda3\\lib\\site-packages\\sklearn\\utils\\validation.py:73: DataConversionWarning: A column-vector y was passed when a 1d array was expected. Please change the shape of y to (n_samples, ), for example using ravel().\n",
      "  return f(**kwargs)\n"
     ]
    },
    {
     "name": "stdout",
     "output_type": "stream",
     "text": [
      "2016-08-17 00:00:00 \t Training Shape:  (72221, 22) \t\t Testing Shape:  (61360, 22)\n",
      "LogisticRegression Testing Accuracy =  0.9252670194461579 \n",
      "\n",
      "\tTP: 28410 \tFP: 2228 \n",
      "\tTN: 91 \tFN: 74\n",
      "\n",
      "\n",
      "\n",
      "[100]\n",
      "2016-08-17 00:00:00 \t Training Shape:  (72221, 22) \t\t Testing Shape:  (61360, 22)\n",
      "LogisticRegression Testing Accuracy =  1.0 \n",
      "\n",
      "\tTP: 100 \tFP: 0 \n",
      "\tTN: 0 \tFN: 0\n",
      "\n",
      "\n",
      "\n"
     ]
    },
    {
     "name": "stderr",
     "output_type": "stream",
     "text": [
      "C:\\ProgramData\\Anaconda3\\lib\\site-packages\\ipykernel_launcher.py:52: UserWarning: Boolean Series key will be reindexed to match DataFrame index.\n",
      "C:\\ProgramData\\Anaconda3\\lib\\site-packages\\ipykernel_launcher.py:62: UserWarning: Boolean Series key will be reindexed to match DataFrame index.\n",
      "C:\\ProgramData\\Anaconda3\\lib\\site-packages\\sklearn\\utils\\validation.py:73: DataConversionWarning: A column-vector y was passed when a 1d array was expected. Please change the shape of y to (n_samples, ), for example using ravel().\n",
      "  return f(**kwargs)\n"
     ]
    },
    {
     "name": "stdout",
     "output_type": "stream",
     "text": [
      "2016-09-14 00:00:00 \t Training Shape:  (105787, 22) \t\t Testing Shape:  (83103, 22)\n",
      "LogisticRegression Testing Accuracy =  0.9231951951951952 \n",
      "\n",
      "\tTP: 38323 \tFP: 3105 \n",
      "\tTN: 105 \tFN: 92\n",
      "\n",
      "\n",
      "\n",
      "[100]\n",
      "2016-09-14 00:00:00 \t Training Shape:  (105787, 22) \t\t Testing Shape:  (83103, 22)\n",
      "LogisticRegression Testing Accuracy =  1.0 \n",
      "\n",
      "\tTP: 100 \tFP: 0 \n",
      "\tTN: 0 \tFN: 0\n",
      "\n",
      "\n",
      "\n"
     ]
    },
    {
     "name": "stderr",
     "output_type": "stream",
     "text": [
      "C:\\ProgramData\\Anaconda3\\lib\\site-packages\\ipykernel_launcher.py:52: UserWarning: Boolean Series key will be reindexed to match DataFrame index.\n",
      "C:\\ProgramData\\Anaconda3\\lib\\site-packages\\ipykernel_launcher.py:62: UserWarning: Boolean Series key will be reindexed to match DataFrame index.\n",
      "C:\\ProgramData\\Anaconda3\\lib\\site-packages\\sklearn\\utils\\validation.py:73: DataConversionWarning: A column-vector y was passed when a 1d array was expected. Please change the shape of y to (n_samples, ), for example using ravel().\n",
      "  return f(**kwargs)\n"
     ]
    },
    {
     "name": "stdout",
     "output_type": "stream",
     "text": [
      "2016-10-12 00:00:00 \t Training Shape:  (164168, 22) \t\t Testing Shape:  (52897, 22)\n",
      "LogisticRegression Testing Accuracy =  0.9127093157093529 \n",
      "\n",
      "\tTP: 24445 \tFP: 2222 \n",
      "\tTN: 137 \tFN: 129\n",
      "\n",
      "\n",
      "\n",
      "[100]\n",
      "2016-10-12 00:00:00 \t Training Shape:  (164168, 22) \t\t Testing Shape:  (52897, 22)\n",
      "LogisticRegression Testing Accuracy =  1.0 \n",
      "\n",
      "\tTP: 100 \tFP: 0 \n",
      "\tTN: 0 \tFN: 0\n",
      "\n",
      "\n",
      "\n"
     ]
    },
    {
     "name": "stderr",
     "output_type": "stream",
     "text": [
      "C:\\ProgramData\\Anaconda3\\lib\\site-packages\\ipykernel_launcher.py:52: UserWarning: Boolean Series key will be reindexed to match DataFrame index.\n",
      "C:\\ProgramData\\Anaconda3\\lib\\site-packages\\ipykernel_launcher.py:62: UserWarning: Boolean Series key will be reindexed to match DataFrame index.\n",
      "C:\\ProgramData\\Anaconda3\\lib\\site-packages\\sklearn\\utils\\validation.py:73: DataConversionWarning: A column-vector y was passed when a 1d array was expected. Please change the shape of y to (n_samples, ), for example using ravel().\n",
      "  return f(**kwargs)\n"
     ]
    },
    {
     "name": "stdout",
     "output_type": "stream",
     "text": [
      "2016-11-09 00:00:00 \t Training Shape:  (192026, 22) \t\t Testing Shape:  (37625, 22)\n",
      "LogisticRegression Testing Accuracy =  0.9092629643648948 \n",
      "\n",
      "\tTP: 16643 \tFP: 1555 \n",
      "\tTN: 172 \tFN: 123\n",
      "\n",
      "\n",
      "\n",
      "[100]\n",
      "2016-11-09 00:00:00 \t Training Shape:  (192026, 22) \t\t Testing Shape:  (37625, 22)\n",
      "LogisticRegression Testing Accuracy =  1.0 \n",
      "\n",
      "\tTP: 100 \tFP: 0 \n",
      "\tTN: 0 \tFN: 0\n",
      "\n",
      "\n",
      "\n"
     ]
    },
    {
     "name": "stderr",
     "output_type": "stream",
     "text": [
      "C:\\ProgramData\\Anaconda3\\lib\\site-packages\\ipykernel_launcher.py:52: UserWarning: Boolean Series key will be reindexed to match DataFrame index.\n",
      "C:\\ProgramData\\Anaconda3\\lib\\site-packages\\ipykernel_launcher.py:62: UserWarning: Boolean Series key will be reindexed to match DataFrame index.\n",
      "C:\\ProgramData\\Anaconda3\\lib\\site-packages\\sklearn\\utils\\validation.py:73: DataConversionWarning: A column-vector y was passed when a 1d array was expected. Please change the shape of y to (n_samples, ), for example using ravel().\n",
      "  return f(**kwargs)\n"
     ]
    },
    {
     "name": "stdout",
     "output_type": "stream",
     "text": [
      "2016-12-07 00:00:00 \t Training Shape:  (174423, 22) \t\t Testing Shape:  (45332, 22)\n",
      "LogisticRegression Testing Accuracy =  0.9141409357832923 \n",
      "\n",
      "\tTP: 19083 \tFP: 1601 \n",
      "\tTN: 220 \tFN: 212\n",
      "\n",
      "\n",
      "\n",
      "[100]\n",
      "2016-12-07 00:00:00 \t Training Shape:  (174423, 22) \t\t Testing Shape:  (45332, 22)\n",
      "LogisticRegression Testing Accuracy =  1.0 \n",
      "\n",
      "\tTP: 100 \tFP: 0 \n",
      "\tTN: 0 \tFN: 0\n",
      "\n",
      "\n",
      "\n"
     ]
    },
    {
     "name": "stderr",
     "output_type": "stream",
     "text": [
      "C:\\ProgramData\\Anaconda3\\lib\\site-packages\\ipykernel_launcher.py:52: UserWarning: Boolean Series key will be reindexed to match DataFrame index.\n",
      "C:\\ProgramData\\Anaconda3\\lib\\site-packages\\ipykernel_launcher.py:62: UserWarning: Boolean Series key will be reindexed to match DataFrame index.\n",
      "C:\\ProgramData\\Anaconda3\\lib\\site-packages\\sklearn\\utils\\validation.py:73: DataConversionWarning: A column-vector y was passed when a 1d array was expected. Please change the shape of y to (n_samples, ), for example using ravel().\n",
      "  return f(**kwargs)\n"
     ]
    },
    {
     "name": "stdout",
     "output_type": "stream",
     "text": [
      "2017-01-04 00:00:00 \t Training Shape:  (137496, 22) \t\t Testing Shape:  (34367, 22)\n",
      "LogisticRegression Testing Accuracy =  0.8732717384181902 \n",
      "\n",
      "\tTP: 13075 \tFP: 1779 \n",
      "\tTN: 252 \tFN: 155\n",
      "\n",
      "\n",
      "\n",
      "[100]\n",
      "2017-01-04 00:00:00 \t Training Shape:  (137496, 22) \t\t Testing Shape:  (34367, 22)\n",
      "LogisticRegression Testing Accuracy =  1.0 \n",
      "\n",
      "\tTP: 100 \tFP: 0 \n",
      "\tTN: 0 \tFN: 0\n",
      "\n",
      "\n",
      "\n"
     ]
    },
    {
     "name": "stderr",
     "output_type": "stream",
     "text": [
      "C:\\ProgramData\\Anaconda3\\lib\\site-packages\\ipykernel_launcher.py:52: UserWarning: Boolean Series key will be reindexed to match DataFrame index.\n",
      "C:\\ProgramData\\Anaconda3\\lib\\site-packages\\ipykernel_launcher.py:62: UserWarning: Boolean Series key will be reindexed to match DataFrame index.\n",
      "C:\\ProgramData\\Anaconda3\\lib\\site-packages\\sklearn\\utils\\validation.py:73: DataConversionWarning: A column-vector y was passed when a 1d array was expected. Please change the shape of y to (n_samples, ), for example using ravel().\n",
      "  return f(**kwargs)\n"
     ]
    },
    {
     "name": "stdout",
     "output_type": "stream",
     "text": [
      "2017-02-01 00:00:00 \t Training Shape:  (115213, 22) \t\t Testing Shape:  (56004, 22)\n",
      "LogisticRegression Testing Accuracy =  0.8664087928675881 \n",
      "\n",
      "\tTP: 17925 \tFP: 2551 \n",
      "\tTN: 442 \tFN: 281\n",
      "\n",
      "\n",
      "\n",
      "[100]\n",
      "2017-02-01 00:00:00 \t Training Shape:  (115213, 22) \t\t Testing Shape:  (56004, 22)\n",
      "LogisticRegression Testing Accuracy =  1.0 \n",
      "\n",
      "\tTP: 100 \tFP: 0 \n",
      "\tTN: 0 \tFN: 0\n",
      "\n",
      "\n",
      "\n"
     ]
    },
    {
     "name": "stderr",
     "output_type": "stream",
     "text": [
      "C:\\ProgramData\\Anaconda3\\lib\\site-packages\\ipykernel_launcher.py:52: UserWarning: Boolean Series key will be reindexed to match DataFrame index.\n",
      "C:\\ProgramData\\Anaconda3\\lib\\site-packages\\ipykernel_launcher.py:62: UserWarning: Boolean Series key will be reindexed to match DataFrame index.\n",
      "C:\\ProgramData\\Anaconda3\\lib\\site-packages\\sklearn\\utils\\validation.py:73: DataConversionWarning: A column-vector y was passed when a 1d array was expected. Please change the shape of y to (n_samples, ), for example using ravel().\n",
      "  return f(**kwargs)\n"
     ]
    },
    {
     "name": "stdout",
     "output_type": "stream",
     "text": [
      "2017-03-01 00:00:00 \t Training Shape:  (129890, 22) \t\t Testing Shape:  (54450, 22)\n",
      "LogisticRegression Testing Accuracy =  0.8587743597220198 \n",
      "\n",
      "\tTP: 17111 \tFP: 2532 \n",
      "\tTN: 560 \tFN: 374\n",
      "\n",
      "\n",
      "\n",
      "[ 0  1  0 99]\n",
      "2017-03-01 00:00:00 \t Training Shape:  (129890, 22) \t\t Testing Shape:  (54450, 22)\n",
      "LogisticRegression Testing Accuracy =  0.99 \n",
      "\n",
      "\tTP: 99 \tFP: 1 \n",
      "\tTN: 0 \tFN: 0\n",
      "\n",
      "\n",
      "\n"
     ]
    },
    {
     "name": "stderr",
     "output_type": "stream",
     "text": [
      "C:\\ProgramData\\Anaconda3\\lib\\site-packages\\ipykernel_launcher.py:52: UserWarning: Boolean Series key will be reindexed to match DataFrame index.\n",
      "C:\\ProgramData\\Anaconda3\\lib\\site-packages\\ipykernel_launcher.py:62: UserWarning: Boolean Series key will be reindexed to match DataFrame index.\n",
      "C:\\ProgramData\\Anaconda3\\lib\\site-packages\\sklearn\\utils\\validation.py:73: DataConversionWarning: A column-vector y was passed when a 1d array was expected. Please change the shape of y to (n_samples, ), for example using ravel().\n",
      "  return f(**kwargs)\n"
     ]
    },
    {
     "name": "stdout",
     "output_type": "stream",
     "text": [
      "2017-03-29 00:00:00 \t Training Shape:  (138058, 22) \t\t Testing Shape:  (51507, 22)\n",
      "LogisticRegression Testing Accuracy =  0.8553287748701867 \n",
      "\n",
      "\tTP: 15931 \tFP: 2239 \n",
      "\tTN: 706 \tFN: 575\n",
      "\n",
      "\n",
      "\n",
      "[100]\n",
      "2017-03-29 00:00:00 \t Training Shape:  (138058, 22) \t\t Testing Shape:  (51507, 22)\n",
      "LogisticRegression Testing Accuracy =  1.0 \n",
      "\n",
      "\tTP: 100 \tFP: 0 \n",
      "\tTN: 0 \tFN: 0\n",
      "\n",
      "\n",
      "\n"
     ]
    },
    {
     "name": "stderr",
     "output_type": "stream",
     "text": [
      "C:\\ProgramData\\Anaconda3\\lib\\site-packages\\ipykernel_launcher.py:52: UserWarning: Boolean Series key will be reindexed to match DataFrame index.\n",
      "C:\\ProgramData\\Anaconda3\\lib\\site-packages\\ipykernel_launcher.py:62: UserWarning: Boolean Series key will be reindexed to match DataFrame index.\n",
      "C:\\ProgramData\\Anaconda3\\lib\\site-packages\\sklearn\\utils\\validation.py:73: DataConversionWarning: A column-vector y was passed when a 1d array was expected. Please change the shape of y to (n_samples, ), for example using ravel().\n",
      "  return f(**kwargs)\n"
     ]
    },
    {
     "name": "stdout",
     "output_type": "stream",
     "text": [
      "2017-04-26 00:00:00 \t Training Shape:  (148095, 22) \t\t Testing Shape:  (42268, 22)\n",
      "LogisticRegression Testing Accuracy =  0.8541581795961124 \n",
      "\n",
      "\tTP: 14018 \tFP: 1826 \n",
      "\tTN: 659 \tFN: 680\n",
      "\n",
      "\n",
      "\n",
      "[100]\n",
      "2017-04-26 00:00:00 \t Training Shape:  (148095, 22) \t\t Testing Shape:  (42268, 22)\n",
      "LogisticRegression Testing Accuracy =  1.0 \n",
      "\n",
      "\tTP: 100 \tFP: 0 \n",
      "\tTN: 0 \tFN: 0\n",
      "\n",
      "\n",
      "\n"
     ]
    },
    {
     "name": "stderr",
     "output_type": "stream",
     "text": [
      "C:\\ProgramData\\Anaconda3\\lib\\site-packages\\ipykernel_launcher.py:52: UserWarning: Boolean Series key will be reindexed to match DataFrame index.\n",
      "C:\\ProgramData\\Anaconda3\\lib\\site-packages\\ipykernel_launcher.py:62: UserWarning: Boolean Series key will be reindexed to match DataFrame index.\n",
      "C:\\ProgramData\\Anaconda3\\lib\\site-packages\\sklearn\\utils\\validation.py:73: DataConversionWarning: A column-vector y was passed when a 1d array was expected. Please change the shape of y to (n_samples, ), for example using ravel().\n",
      "  return f(**kwargs)\n"
     ]
    },
    {
     "name": "stdout",
     "output_type": "stream",
     "text": [
      "2017-05-24 00:00:00 \t Training Shape:  (139480, 22) \t\t Testing Shape:  (32794, 22)\n",
      "LogisticRegression Testing Accuracy =  0.8762646978397594 \n",
      "\n",
      "\tTP: 12440 \tFP: 1502 \n",
      "\tTN: 378 \tFN: 308\n",
      "\n",
      "\n",
      "\n",
      "[100]\n",
      "2017-05-24 00:00:00 \t Training Shape:  (139480, 22) \t\t Testing Shape:  (32794, 22)\n",
      "LogisticRegression Testing Accuracy =  1.0 \n",
      "\n",
      "\tTP: 100 \tFP: 0 \n",
      "\tTN: 0 \tFN: 0\n",
      "\n",
      "\n",
      "\n"
     ]
    },
    {
     "name": "stderr",
     "output_type": "stream",
     "text": [
      "C:\\ProgramData\\Anaconda3\\lib\\site-packages\\ipykernel_launcher.py:52: UserWarning: Boolean Series key will be reindexed to match DataFrame index.\n",
      "C:\\ProgramData\\Anaconda3\\lib\\site-packages\\ipykernel_launcher.py:62: UserWarning: Boolean Series key will be reindexed to match DataFrame index.\n",
      "C:\\ProgramData\\Anaconda3\\lib\\site-packages\\sklearn\\utils\\validation.py:73: DataConversionWarning: A column-vector y was passed when a 1d array was expected. Please change the shape of y to (n_samples, ), for example using ravel().\n",
      "  return f(**kwargs)\n"
     ]
    },
    {
     "name": "stdout",
     "output_type": "stream",
     "text": [
      "2017-06-21 00:00:00 \t Training Shape:  (120330, 22) \t\t Testing Shape:  (30354, 22)\n",
      "LogisticRegression Testing Accuracy =  0.9006505444774431 \n",
      "\n",
      "\tTP: 12526 \tFP: 1161 \n",
      "\tTN: 211 \tFN: 244\n",
      "\n",
      "\n",
      "\n",
      "[100]\n",
      "2017-06-21 00:00:00 \t Training Shape:  (120330, 22) \t\t Testing Shape:  (30354, 22)\n",
      "LogisticRegression Testing Accuracy =  1.0 \n",
      "\n",
      "\tTP: 100 \tFP: 0 \n",
      "\tTN: 0 \tFN: 0\n",
      "\n",
      "\n",
      "\n"
     ]
    },
    {
     "name": "stderr",
     "output_type": "stream",
     "text": [
      "C:\\ProgramData\\Anaconda3\\lib\\site-packages\\ipykernel_launcher.py:52: UserWarning: Boolean Series key will be reindexed to match DataFrame index.\n",
      "C:\\ProgramData\\Anaconda3\\lib\\site-packages\\ipykernel_launcher.py:62: UserWarning: Boolean Series key will be reindexed to match DataFrame index.\n",
      "C:\\ProgramData\\Anaconda3\\lib\\site-packages\\sklearn\\utils\\validation.py:73: DataConversionWarning: A column-vector y was passed when a 1d array was expected. Please change the shape of y to (n_samples, ), for example using ravel().\n",
      "  return f(**kwargs)\n"
     ]
    },
    {
     "name": "stdout",
     "output_type": "stream",
     "text": [
      "2017-07-19 00:00:00 \t Training Shape:  (104366, 22) \t\t Testing Shape:  (42185, 22)\n",
      "LogisticRegression Testing Accuracy =  0.898690401950224 \n",
      "\n",
      "\tTP: 15689 \tFP: 1580 \n",
      "\tTN: 163 \tFN: 207\n",
      "\n",
      "\n",
      "\n",
      "[100]\n",
      "2017-07-19 00:00:00 \t Training Shape:  (104366, 22) \t\t Testing Shape:  (42185, 22)\n",
      "LogisticRegression Testing Accuracy =  1.0 \n",
      "\n",
      "\tTP: 100 \tFP: 0 \n",
      "\tTN: 0 \tFN: 0\n",
      "\n",
      "\n",
      "\n"
     ]
    },
    {
     "name": "stderr",
     "output_type": "stream",
     "text": [
      "C:\\ProgramData\\Anaconda3\\lib\\site-packages\\ipykernel_launcher.py:52: UserWarning: Boolean Series key will be reindexed to match DataFrame index.\n",
      "C:\\ProgramData\\Anaconda3\\lib\\site-packages\\ipykernel_launcher.py:62: UserWarning: Boolean Series key will be reindexed to match DataFrame index.\n",
      "C:\\ProgramData\\Anaconda3\\lib\\site-packages\\sklearn\\utils\\validation.py:73: DataConversionWarning: A column-vector y was passed when a 1d array was expected. Please change the shape of y to (n_samples, ), for example using ravel().\n",
      "  return f(**kwargs)\n"
     ]
    },
    {
     "name": "stdout",
     "output_type": "stream",
     "text": [
      "2017-08-16 00:00:00 \t Training Shape:  (100296, 22) \t\t Testing Shape:  (78063, 22)\n",
      "LogisticRegression Testing Accuracy =  0.869797152662159 \n",
      "\n",
      "\tTP: 25421 \tFP: 3669 \n",
      "\tTN: 178 \tFN: 163\n",
      "\n",
      "\n",
      "\n",
      "[100]\n",
      "2017-08-16 00:00:00 \t Training Shape:  (100296, 22) \t\t Testing Shape:  (78063, 22)\n",
      "LogisticRegression Testing Accuracy =  1.0 \n",
      "\n",
      "\tTP: 100 \tFP: 0 \n",
      "\tTN: 0 \tFN: 0\n",
      "\n",
      "\n",
      "\n"
     ]
    },
    {
     "name": "stderr",
     "output_type": "stream",
     "text": [
      "C:\\ProgramData\\Anaconda3\\lib\\site-packages\\ipykernel_launcher.py:52: UserWarning: Boolean Series key will be reindexed to match DataFrame index.\n",
      "C:\\ProgramData\\Anaconda3\\lib\\site-packages\\ipykernel_launcher.py:62: UserWarning: Boolean Series key will be reindexed to match DataFrame index.\n",
      "C:\\ProgramData\\Anaconda3\\lib\\site-packages\\sklearn\\utils\\validation.py:73: DataConversionWarning: A column-vector y was passed when a 1d array was expected. Please change the shape of y to (n_samples, ), for example using ravel().\n",
      "  return f(**kwargs)\n"
     ]
    },
    {
     "name": "stdout",
     "output_type": "stream",
     "text": [
      "2017-09-13 00:00:00 \t Training Shape:  (139629, 22) \t\t Testing Shape:  (99445, 22)\n",
      "LogisticRegression Testing Accuracy =  0.8783506739787812 \n",
      "\n",
      "\tTP: 34156 \tFP: 4662 \n",
      "\tTN: 119 \tFN: 85\n",
      "\n",
      "\n",
      "\n",
      "[100]\n",
      "2017-09-13 00:00:00 \t Training Shape:  (139629, 22) \t\t Testing Shape:  (99445, 22)\n",
      "LogisticRegression Testing Accuracy =  1.0 \n",
      "\n",
      "\tTP: 100 \tFP: 0 \n",
      "\tTN: 0 \tFN: 0\n",
      "\n",
      "\n",
      "\n"
     ]
    },
    {
     "name": "stderr",
     "output_type": "stream",
     "text": [
      "C:\\ProgramData\\Anaconda3\\lib\\site-packages\\ipykernel_launcher.py:52: UserWarning: Boolean Series key will be reindexed to match DataFrame index.\n",
      "C:\\ProgramData\\Anaconda3\\lib\\site-packages\\ipykernel_launcher.py:62: UserWarning: Boolean Series key will be reindexed to match DataFrame index.\n",
      "C:\\ProgramData\\Anaconda3\\lib\\site-packages\\sklearn\\utils\\validation.py:73: DataConversionWarning: A column-vector y was passed when a 1d array was expected. Please change the shape of y to (n_samples, ), for example using ravel().\n",
      "  return f(**kwargs)\n"
     ]
    },
    {
     "name": "stdout",
     "output_type": "stream",
     "text": [
      "2017-10-11 00:00:00 \t Training Shape:  (207084, 22) \t\t Testing Shape:  (75513, 22)\n",
      "LogisticRegression Testing Accuracy =  0.8820866846852714 \n",
      "\n",
      "\tTP: 26949 \tFP: 3506 \n",
      "\tTN: 139 \tFN: 115\n",
      "\n",
      "\n",
      "\n",
      "[100]\n",
      "2017-10-11 00:00:00 \t Training Shape:  (207084, 22) \t\t Testing Shape:  (75513, 22)\n",
      "LogisticRegression Testing Accuracy =  1.0 \n",
      "\n",
      "\tTP: 100 \tFP: 0 \n",
      "\tTN: 0 \tFN: 0\n",
      "\n",
      "\n",
      "\n"
     ]
    },
    {
     "name": "stderr",
     "output_type": "stream",
     "text": [
      "C:\\ProgramData\\Anaconda3\\lib\\site-packages\\ipykernel_launcher.py:52: UserWarning: Boolean Series key will be reindexed to match DataFrame index.\n",
      "C:\\ProgramData\\Anaconda3\\lib\\site-packages\\ipykernel_launcher.py:62: UserWarning: Boolean Series key will be reindexed to match DataFrame index.\n",
      "C:\\ProgramData\\Anaconda3\\lib\\site-packages\\sklearn\\utils\\validation.py:73: DataConversionWarning: A column-vector y was passed when a 1d array was expected. Please change the shape of y to (n_samples, ), for example using ravel().\n",
      "  return f(**kwargs)\n"
     ]
    },
    {
     "name": "stdout",
     "output_type": "stream",
     "text": [
      "2017-11-08 00:00:00 \t Training Shape:  (243322, 22) \t\t Testing Shape:  (63169, 22)\n",
      "LogisticRegression Testing Accuracy =  0.8926022878043532 \n",
      "\n",
      "\tTP: 24687 \tFP: 2858 \n",
      "\tTN: 205 \tFN: 137\n",
      "\n",
      "\n",
      "\n",
      "[100]\n",
      "2017-11-08 00:00:00 \t Training Shape:  (243322, 22) \t\t Testing Shape:  (63169, 22)\n",
      "LogisticRegression Testing Accuracy =  1.0 \n",
      "\n",
      "\tTP: 100 \tFP: 0 \n",
      "\tTN: 0 \tFN: 0\n",
      "\n",
      "\n",
      "\n"
     ]
    },
    {
     "name": "stderr",
     "output_type": "stream",
     "text": [
      "C:\\ProgramData\\Anaconda3\\lib\\site-packages\\ipykernel_launcher.py:52: UserWarning: Boolean Series key will be reindexed to match DataFrame index.\n",
      "C:\\ProgramData\\Anaconda3\\lib\\site-packages\\ipykernel_launcher.py:62: UserWarning: Boolean Series key will be reindexed to match DataFrame index.\n",
      "C:\\ProgramData\\Anaconda3\\lib\\site-packages\\sklearn\\utils\\validation.py:73: DataConversionWarning: A column-vector y was passed when a 1d array was expected. Please change the shape of y to (n_samples, ), for example using ravel().\n",
      "  return f(**kwargs)\n"
     ]
    },
    {
     "name": "stdout",
     "output_type": "stream",
     "text": [
      "2017-12-06 00:00:00 \t Training Shape:  (238731, 22) \t\t Testing Shape:  (55549, 22)\n",
      "LogisticRegression Testing Accuracy =  0.9025164721759149 \n",
      "\n",
      "\tTP: 22461 \tFP: 2242 \n",
      "\tTN: 277 \tFN: 214\n",
      "\n",
      "\n",
      "\n",
      "[100]\n",
      "2017-12-06 00:00:00 \t Training Shape:  (238731, 22) \t\t Testing Shape:  (55549, 22)\n",
      "LogisticRegression Testing Accuracy =  1.0 \n",
      "\n",
      "\tTP: 100 \tFP: 0 \n",
      "\tTN: 0 \tFN: 0\n",
      "\n",
      "\n",
      "\n"
     ]
    },
    {
     "name": "stderr",
     "output_type": "stream",
     "text": [
      "C:\\ProgramData\\Anaconda3\\lib\\site-packages\\ipykernel_launcher.py:52: UserWarning: Boolean Series key will be reindexed to match DataFrame index.\n",
      "C:\\ProgramData\\Anaconda3\\lib\\site-packages\\ipykernel_launcher.py:62: UserWarning: Boolean Series key will be reindexed to match DataFrame index.\n",
      "C:\\ProgramData\\Anaconda3\\lib\\site-packages\\sklearn\\utils\\validation.py:73: DataConversionWarning: A column-vector y was passed when a 1d array was expected. Please change the shape of y to (n_samples, ), for example using ravel().\n",
      "  return f(**kwargs)\n"
     ]
    },
    {
     "name": "stdout",
     "output_type": "stream",
     "text": [
      "2018-01-03 00:00:00 \t Training Shape:  (195624, 22) \t\t Testing Shape:  (43196, 22)\n",
      "LogisticRegression Testing Accuracy =  0.8607540005424464 \n",
      "\n",
      "\tTP: 15515 \tFP: 2325 \n",
      "\tTN: 353 \tFN: 242\n",
      "\n",
      "\n",
      "\n",
      "[100]\n",
      "2018-01-03 00:00:00 \t Training Shape:  (195624, 22) \t\t Testing Shape:  (43196, 22)\n",
      "LogisticRegression Testing Accuracy =  1.0 \n",
      "\n",
      "\tTP: 100 \tFP: 0 \n",
      "\tTN: 0 \tFN: 0\n",
      "\n",
      "\n",
      "\n"
     ]
    },
    {
     "name": "stderr",
     "output_type": "stream",
     "text": [
      "C:\\ProgramData\\Anaconda3\\lib\\site-packages\\ipykernel_launcher.py:52: UserWarning: Boolean Series key will be reindexed to match DataFrame index.\n",
      "C:\\ProgramData\\Anaconda3\\lib\\site-packages\\ipykernel_launcher.py:62: UserWarning: Boolean Series key will be reindexed to match DataFrame index.\n",
      "C:\\ProgramData\\Anaconda3\\lib\\site-packages\\sklearn\\utils\\validation.py:73: DataConversionWarning: A column-vector y was passed when a 1d array was expected. Please change the shape of y to (n_samples, ), for example using ravel().\n",
      "  return f(**kwargs)\n"
     ]
    },
    {
     "name": "stdout",
     "output_type": "stream",
     "text": [
      "2018-01-31 00:00:00 \t Training Shape:  (161277, 22) \t\t Testing Shape:  (69007, 22)\n",
      "LogisticRegression Testing Accuracy =  0.8513801203934811 \n",
      "\n",
      "\tTP: 22434 \tFP: 3418 \n",
      "\tTN: 761 \tFN: 631\n",
      "\n",
      "\n",
      "\n",
      "[100]\n",
      "2018-01-31 00:00:00 \t Training Shape:  (161277, 22) \t\t Testing Shape:  (69007, 22)\n",
      "LogisticRegression Testing Accuracy =  1.0 \n",
      "\n",
      "\tTP: 100 \tFP: 0 \n",
      "\tTN: 0 \tFN: 0\n",
      "\n",
      "\n",
      "\n"
     ]
    },
    {
     "name": "stderr",
     "output_type": "stream",
     "text": [
      "C:\\ProgramData\\Anaconda3\\lib\\site-packages\\ipykernel_launcher.py:52: UserWarning: Boolean Series key will be reindexed to match DataFrame index.\n",
      "C:\\ProgramData\\Anaconda3\\lib\\site-packages\\ipykernel_launcher.py:62: UserWarning: Boolean Series key will be reindexed to match DataFrame index.\n",
      "C:\\ProgramData\\Anaconda3\\lib\\site-packages\\sklearn\\utils\\validation.py:73: DataConversionWarning: A column-vector y was passed when a 1d array was expected. Please change the shape of y to (n_samples, ), for example using ravel().\n",
      "  return f(**kwargs)\n"
     ]
    },
    {
     "name": "stdout",
     "output_type": "stream",
     "text": [
      "2018-02-28 00:00:00 \t Training Shape:  (163227, 22) \t\t Testing Shape:  (57231, 22)\n",
      "LogisticRegression Testing Accuracy =  0.8660312185737397 \n",
      "\n",
      "\tTP: 19150 \tFP: 2555 \n",
      "\tTN: 657 \tFN: 509\n",
      "\n",
      "\n",
      "\n",
      "[100]\n",
      "2018-02-28 00:00:00 \t Training Shape:  (163227, 22) \t\t Testing Shape:  (57231, 22)\n",
      "LogisticRegression Testing Accuracy =  1.0 \n",
      "\n",
      "\tTP: 100 \tFP: 0 \n",
      "\tTN: 0 \tFN: 0\n",
      "\n",
      "\n",
      "\n"
     ]
    },
    {
     "name": "stderr",
     "output_type": "stream",
     "text": [
      "C:\\ProgramData\\Anaconda3\\lib\\site-packages\\ipykernel_launcher.py:52: UserWarning: Boolean Series key will be reindexed to match DataFrame index.\n",
      "C:\\ProgramData\\Anaconda3\\lib\\site-packages\\ipykernel_launcher.py:62: UserWarning: Boolean Series key will be reindexed to match DataFrame index.\n",
      "C:\\ProgramData\\Anaconda3\\lib\\site-packages\\sklearn\\utils\\validation.py:73: DataConversionWarning: A column-vector y was passed when a 1d array was expected. Please change the shape of y to (n_samples, ), for example using ravel().\n",
      "  return f(**kwargs)\n"
     ]
    },
    {
     "name": "stdout",
     "output_type": "stream",
     "text": [
      "2018-03-28 00:00:00 \t Training Shape:  (163993, 22) \t\t Testing Shape:  (49388, 22)\n",
      "LogisticRegression Testing Accuracy =  0.8664271047227926 \n",
      "\n",
      "\tTP: 16321 \tFP: 2194 \n",
      "\tTN: 557 \tFN: 408\n",
      "\n",
      "\n",
      "\n",
      "[100]\n",
      "2018-03-28 00:00:00 \t Training Shape:  (163993, 22) \t\t Testing Shape:  (49388, 22)\n",
      "LogisticRegression Testing Accuracy =  1.0 \n",
      "\n",
      "\tTP: 100 \tFP: 0 \n",
      "\tTN: 0 \tFN: 0\n",
      "\n",
      "\n",
      "\n"
     ]
    },
    {
     "name": "stderr",
     "output_type": "stream",
     "text": [
      "C:\\ProgramData\\Anaconda3\\lib\\site-packages\\ipykernel_launcher.py:52: UserWarning: Boolean Series key will be reindexed to match DataFrame index.\n",
      "C:\\ProgramData\\Anaconda3\\lib\\site-packages\\ipykernel_launcher.py:62: UserWarning: Boolean Series key will be reindexed to match DataFrame index.\n",
      "C:\\ProgramData\\Anaconda3\\lib\\site-packages\\sklearn\\utils\\validation.py:73: DataConversionWarning: A column-vector y was passed when a 1d array was expected. Please change the shape of y to (n_samples, ), for example using ravel().\n",
      "  return f(**kwargs)\n"
     ]
    },
    {
     "name": "stdout",
     "output_type": "stream",
     "text": [
      "2018-04-25 00:00:00 \t Training Shape:  (170293, 22) \t\t Testing Shape:  (118104, 22)\n",
      "LogisticRegression Testing Accuracy =  0.920610270150349 \n",
      "\n",
      "\tTP: 53096 \tFP: 3801 \n",
      "\tTN: 849 \tFN: 851\n",
      "\n",
      "\n",
      "\n",
      "[100]\n",
      "2018-04-25 00:00:00 \t Training Shape:  (170293, 22) \t\t Testing Shape:  (118104, 22)\n",
      "LogisticRegression Testing Accuracy =  1.0 \n",
      "\n",
      "\tTP: 100 \tFP: 0 \n",
      "\tTN: 0 \tFN: 0\n",
      "\n",
      "\n",
      "\n"
     ]
    }
   ],
   "source": [
    "#===============================================================================================\n",
    "#                                       XGBClassifier\n",
    "#===============================================================================================\n",
    "import xgboost\n",
    "\n",
    "XGB_clf = xgboost.XGBClassifier()\n",
    "\n",
    "T_current=MinT-timedelta(days=28)+timedelta(days=120)    \n",
    "T_period=3 #timedelta(days=28)    \n",
    "XGB_acc=[]\n",
    "XGB_T=[]\n",
    "XGB_pr=[]\n",
    "XGB_re=[]\n",
    "\n",
    "XGB_accT=[]\n",
    "XGB_prT=[]\n",
    "XGB_reT=[]\n",
    "sub_var=list(set([\"Project ID\",\"Project Posted Date\",\"Project Expiration Date\",\"Donation Received Date\",\n",
    "         \"Project Cost\",\"Donation Amount\",\"Number of dates since posted\"]+Model_variables_cat+Model_variables_con))\n",
    "\n",
    "Model_variables=Model_variables_con.copy()\n",
    "for i in sub_var: print(i,i in Data.columns)\n",
    "sub_Data =Data.loc[:,sub_var]\n",
    "\n",
    "while (T_current<MaxT-timedelta(days=30)):\n",
    "\n",
    "    T_current = T_current+timedelta(days=28)   \n",
    "    T+=[T_current]\n",
    "    T_Train_start = T_current-timedelta(days=120)\n",
    "    T_Train_end = T_current-timedelta(days=30)\n",
    "    \n",
    "    C_Data = sub_Data[sub_Data[\"Project Posted Date\"] < pd.to_datetime(T_current)]\n",
    "    C_Data = C_Data[C_Data[\"Project Posted Date\"] > pd.to_datetime(T_Train_start)]\n",
    "    C_Data = C_Data[C_Data[\"Number of dates since posted\"] < T_period]\n",
    "    C_Data[\"Fund_Ratio_30\"]=C_Data[\"Donation Amount\"]/C_Data[\"Project Cost\"]\n",
    "#========================================================================================================\n",
    "    for var in Model_variables_cat:\n",
    "        s_data=pd.get_dummies(C_Data[var])\n",
    "        k=sorted(s_data.columns)\n",
    "        k.pop(0)\n",
    "        C_Data=C_Data.drop([var], axis=1)\n",
    "        for col in k:Model_variables+=[var+\"_\"+col]\n",
    "        Model_variables=list(set(Model_variables))\n",
    "        for col in k:C_Data[var+\"_\"+col]=s_data[col]\n",
    "\n",
    "    for i in Model_variables:\n",
    "        if i not in C_Data.columns:  C_Data[i]=0\n",
    "    #============================================ Imputing ==========================================\n",
    "            \n",
    "    C_Data.fillna(C_Data.median(), inplace=True)\n",
    "#========================================================================================================    \n",
    "    Train_Data = C_Data[sub_Data[\"Project Posted Date\"] < pd.to_datetime(T_Train_end)]\n",
    "    Train_Data_CR=Train_Data.groupby([\"Project ID\"]).sum()\n",
    "    Train_Data_Final=Train_Data.groupby([\"Project ID\"]).max()\n",
    "    Train_Data_Final[\"Fund_Ratio_30\"]=Train_Data_CR[\"Fund_Ratio_30\"]\n",
    "    Train_Data_Final[\"Donation Amount\"]=Train_Data_CR[\"Donation Amount\"]\n",
    "    Train_Data_Final['Label'] = Train_Data_Final.apply(lambda x : 1 if x['Fund_Ratio_30'] < 0.15  else 0, axis=1)\n",
    "    \n",
    "    Train_Data_Final.rename(columns = {'Donation Received Date':'Last Donation Received Date'})\n",
    "\n",
    "    \n",
    "    Test_Data = C_Data[sub_Data[\"Project Posted Date\"] >= pd.to_datetime(T_Train_end)]\n",
    "    Test_Data_CR=Test_Data.groupby([\"Project ID\"]).sum()\n",
    "    Test_Data_Final=Test_Data.groupby([\"Project ID\"]).max()\n",
    "    Test_Data_Final[\"Fund_Ratio_30\"]=Test_Data_CR[\"Fund_Ratio_30\"]\n",
    "    Test_Data_Final[\"Donation Amount\"]=Test_Data_CR[\"Donation Amount\"]\n",
    "    Test_Data_Final['Label'] = Test_Data_Final.apply(lambda x : 1 if x['Fund_Ratio_30'] < 0.5  else 0, axis=1)\n",
    "    Test_Data_Final=Test_Data_Final.rename(columns = {'Donation Received Date':'Last Donation Received Date'})\n",
    "    \n",
    "    X_train = Train_Data_Final.loc[:,Model_variables]\n",
    "    X_train.head()\n",
    "    Y_train =  Train_Data_Final.loc[:,[\"Label\"]]\n",
    "\n",
    "    X_test = Test_Data_Final.loc[:,Model_variables]\n",
    "    X_test.head()\n",
    "    Y_test =  Test_Data_Final.loc[:,[\"Label\"]]\n",
    "    \n",
    "    #============================================ Imputing ======================================================\n",
    "    \n",
    "#     imputer = KNNImputer(n_neighbors=5,weights='distance',add_indicator=True)\n",
    "#     X_train=imputer.fit_transform(X_train)\n",
    "#     X_test=imputer.fit_transform(X_test)\n",
    "\n",
    "    #============================================ Training ======================================================\n",
    "    \n",
    "    XGB_clf.fit(X_train, Y_train)\n",
    "\n",
    "    Y_pred_train_prob = XGB_clf.predict_proba(X_train)[:,1]\n",
    "    Y_pred_test = XGB_clf.predict(X_test)\n",
    "    Y_pred_test_prob = XGB_clf.predict_proba(X_test)[:,1]\n",
    "    Test_Data_Final[\"Y_pred_test_prob\"]=Y_pred_test_prob\n",
    "    Test_Data_Final[\"Y_pred_test\"]=Y_pred_test\n",
    "    \n",
    "    #============================================== Evaluation ===================================================\n",
    "    \n",
    "    cm= confusion_matrix(Y_test,Y_pred_test)\n",
    "    TN, FP ,FN, TP =  cm.ravel()\n",
    "    test_score=(TP+TN)/(TN+ FP +FN+ TP)\n",
    "    XGB_acc+=[test_score]\n",
    "    XGB_preci=TP/(TP+FP)\n",
    "    XGB_rec=TP/(TP+FN)\n",
    "    XGB_pr+=[preci]\n",
    "    XGB_re+=[rec]\n",
    "    print(T_current,\"\\t\",\"Training Shape: \",Train_Data.shape,\"\\t\\t\",\"Testing Shape: \",Test_Data.shape)\n",
    "    print('LogisticRegression Testing Accuracy = ',test_score,\"\\n\")\n",
    "    print(\"\\tTP:\",TP,\"\\tFP:\",FP,\"\\n\\tTN:\",TN,\"\\tFN:\",FN )\n",
    "    print(\"\\n\"*2)\n",
    "\n",
    "    Test_Data_Final=Test_Data_Final.sort_values(by=['Y_pred_test_prob'], ascending=False)\n",
    "    T100=Test_Data_Final.head(100)\n",
    "    Y_test_100 =  T100.loc[:,[\"Label\"]] \n",
    "    Y_pred_100 =  T100.loc[:,[\"Y_pred_test\"]] \n",
    "    cm= confusion_matrix(Y_test_100,Y_pred_100)\n",
    "    print(cm.ravel())\n",
    "    if len(cm.ravel())==4:TN, FP ,FN, TP =  cm.ravel()\n",
    "    else: TN, FP ,FN, TP=0,0,0,100\n",
    "    test_score=(TP+TN)/(TN+ FP +FN+ TP)\n",
    "    XGB_accT+=[test_score]\n",
    "    XGB_preci=TP/(TP+FP)\n",
    "    XGB_prT+=[preci]\n",
    "    XGB_rec=TP/(TP+FN)\n",
    "    XGB_reT+=[rec]\n",
    "    print(T_current,\"\\t\",\"Training Shape: \",Train_Data.shape,\"\\t\\t\",\"Testing Shape: \",Test_Data.shape)\n",
    "    print('LogisticRegression Testing Accuracy = ',test_score,\"\\n\")\n",
    "    print(\"\\tTP:\",TP,\"\\tFP:\",FP,\"\\n\\tTN:\",TN,\"\\tFN:\",FN )\n",
    "    print(\"\\n\"*2)\n"
   ]
  },
  {
   "cell_type": "code",
   "execution_count": 247,
   "metadata": {},
   "outputs": [
    {
     "name": "stdout",
     "output_type": "stream",
     "text": [
      "School Metro Type_unknown True\n",
      "Project Cost True\n",
      "Project Grade Level Category_unknown True\n",
      "Project Grade Level Category_Grades 6-8 True\n",
      "Number of dates since posted True\n",
      "Teacher Prefix_Ms. True\n",
      "School Metro Type_town True\n",
      "Teacher Prefix_Mrs. True\n",
      "School Metro Type_urban True\n",
      "Project Grade Level Category_Grades 9-12 True\n",
      "School Metro Type_suburban True\n",
      "Teacher Prefix_Teacher True\n",
      "Teacher Prefix_Mr. True\n",
      "Teacher Prefix_Mx. True\n",
      "School Percentage Free Lunch True\n",
      "Project Grade Level Category_Grades PreK-2 True\n"
     ]
    }
   ],
   "source": [
    "for i in Model_variables:\n",
    "    print(i,i in Train_Data_Final.columns )"
   ]
  },
  {
   "cell_type": "code",
   "execution_count": 248,
   "metadata": {},
   "outputs": [
    {
     "data": {
      "text/html": [
       "<div>\n",
       "<style scoped>\n",
       "    .dataframe tbody tr th:only-of-type {\n",
       "        vertical-align: middle;\n",
       "    }\n",
       "\n",
       "    .dataframe tbody tr th {\n",
       "        vertical-align: top;\n",
       "    }\n",
       "\n",
       "    .dataframe thead th {\n",
       "        text-align: right;\n",
       "    }\n",
       "</style>\n",
       "<table border=\"1\" class=\"dataframe\">\n",
       "  <thead>\n",
       "    <tr style=\"text-align: right;\">\n",
       "      <th></th>\n",
       "      <th>Project Expiration Date</th>\n",
       "      <th>Project Cost</th>\n",
       "      <th>Number of dates since posted</th>\n",
       "      <th>Last Donation Received Date</th>\n",
       "      <th>Project Posted Date</th>\n",
       "      <th>Donation Amount</th>\n",
       "      <th>School Percentage Free Lunch</th>\n",
       "      <th>Fund_Ratio_30</th>\n",
       "      <th>School Metro Type_suburban</th>\n",
       "      <th>School Metro Type_town</th>\n",
       "      <th>...</th>\n",
       "      <th>Project Grade Level Category_Grades 9-12</th>\n",
       "      <th>Project Grade Level Category_Grades PreK-2</th>\n",
       "      <th>Project Grade Level Category_unknown</th>\n",
       "      <th>Label</th>\n",
       "      <th>Y_pred_test_prob</th>\n",
       "      <th>Y_pred_test</th>\n",
       "      <th>Y_pred_test_LR</th>\n",
       "      <th>Y_pred_test_LR_prob</th>\n",
       "      <th>Y_pred_test_DT</th>\n",
       "      <th>Y_pred_test_DT_prob</th>\n",
       "    </tr>\n",
       "    <tr>\n",
       "      <th>Project ID</th>\n",
       "      <th></th>\n",
       "      <th></th>\n",
       "      <th></th>\n",
       "      <th></th>\n",
       "      <th></th>\n",
       "      <th></th>\n",
       "      <th></th>\n",
       "      <th></th>\n",
       "      <th></th>\n",
       "      <th></th>\n",
       "      <th></th>\n",
       "      <th></th>\n",
       "      <th></th>\n",
       "      <th></th>\n",
       "      <th></th>\n",
       "      <th></th>\n",
       "      <th></th>\n",
       "      <th></th>\n",
       "      <th></th>\n",
       "      <th></th>\n",
       "      <th></th>\n",
       "    </tr>\n",
       "  </thead>\n",
       "  <tbody>\n",
       "    <tr>\n",
       "      <th>fffffcc42d1bf7ab742a4fa2d820f9f0</th>\n",
       "      <td>2018-08-08</td>\n",
       "      <td>519.42</td>\n",
       "      <td>0.000000</td>\n",
       "      <td>2018-04-11 00:00:00</td>\n",
       "      <td>2018-04-11</td>\n",
       "      <td>0.00</td>\n",
       "      <td>64.0</td>\n",
       "      <td>0.000000</td>\n",
       "      <td>1</td>\n",
       "      <td>0</td>\n",
       "      <td>...</td>\n",
       "      <td>0</td>\n",
       "      <td>0</td>\n",
       "      <td>0</td>\n",
       "      <td>1</td>\n",
       "      <td>1.0</td>\n",
       "      <td>1</td>\n",
       "      <td>1</td>\n",
       "      <td>0.573121</td>\n",
       "      <td>0</td>\n",
       "      <td>0.0</td>\n",
       "    </tr>\n",
       "    <tr>\n",
       "      <th>8ac6ba0c30fcdfee24d2f3b333660163</th>\n",
       "      <td>2018-08-05</td>\n",
       "      <td>245.32</td>\n",
       "      <td>0.000000</td>\n",
       "      <td>2018-04-09 00:00:00</td>\n",
       "      <td>2018-04-09</td>\n",
       "      <td>0.00</td>\n",
       "      <td>52.0</td>\n",
       "      <td>0.000000</td>\n",
       "      <td>0</td>\n",
       "      <td>0</td>\n",
       "      <td>...</td>\n",
       "      <td>0</td>\n",
       "      <td>0</td>\n",
       "      <td>0</td>\n",
       "      <td>1</td>\n",
       "      <td>1.0</td>\n",
       "      <td>1</td>\n",
       "      <td>1</td>\n",
       "      <td>0.958161</td>\n",
       "      <td>1</td>\n",
       "      <td>1.0</td>\n",
       "    </tr>\n",
       "    <tr>\n",
       "      <th>8ac742c17ed5d50f5d23908732901df4</th>\n",
       "      <td>2018-08-03</td>\n",
       "      <td>2823.65</td>\n",
       "      <td>0.000000</td>\n",
       "      <td>2018-04-05 00:00:00</td>\n",
       "      <td>2018-04-05</td>\n",
       "      <td>0.00</td>\n",
       "      <td>93.0</td>\n",
       "      <td>0.000000</td>\n",
       "      <td>0</td>\n",
       "      <td>0</td>\n",
       "      <td>...</td>\n",
       "      <td>1</td>\n",
       "      <td>0</td>\n",
       "      <td>0</td>\n",
       "      <td>1</td>\n",
       "      <td>1.0</td>\n",
       "      <td>1</td>\n",
       "      <td>1</td>\n",
       "      <td>0.830797</td>\n",
       "      <td>0</td>\n",
       "      <td>0.0</td>\n",
       "    </tr>\n",
       "    <tr>\n",
       "      <th>8ac8350b9be18ed62066d2273f84d94e</th>\n",
       "      <td>2018-08-20</td>\n",
       "      <td>1547.60</td>\n",
       "      <td>0.000000</td>\n",
       "      <td>2018-04-22 00:00:00</td>\n",
       "      <td>2018-04-22</td>\n",
       "      <td>0.00</td>\n",
       "      <td>74.0</td>\n",
       "      <td>0.000000</td>\n",
       "      <td>1</td>\n",
       "      <td>0</td>\n",
       "      <td>...</td>\n",
       "      <td>0</td>\n",
       "      <td>0</td>\n",
       "      <td>0</td>\n",
       "      <td>1</td>\n",
       "      <td>1.0</td>\n",
       "      <td>1</td>\n",
       "      <td>0</td>\n",
       "      <td>0.265034</td>\n",
       "      <td>1</td>\n",
       "      <td>1.0</td>\n",
       "    </tr>\n",
       "    <tr>\n",
       "      <th>8ac8619e6182b441a6f241d4d16e5ba6</th>\n",
       "      <td>2018-07-29</td>\n",
       "      <td>508.80</td>\n",
       "      <td>1.739120</td>\n",
       "      <td>2018-03-31 17:44:20</td>\n",
       "      <td>2018-03-30</td>\n",
       "      <td>95.00</td>\n",
       "      <td>89.0</td>\n",
       "      <td>0.186714</td>\n",
       "      <td>0</td>\n",
       "      <td>0</td>\n",
       "      <td>...</td>\n",
       "      <td>0</td>\n",
       "      <td>0</td>\n",
       "      <td>0</td>\n",
       "      <td>1</td>\n",
       "      <td>1.0</td>\n",
       "      <td>1</td>\n",
       "      <td>1</td>\n",
       "      <td>0.896465</td>\n",
       "      <td>1</td>\n",
       "      <td>1.0</td>\n",
       "    </tr>\n",
       "    <tr>\n",
       "      <th>...</th>\n",
       "      <td>...</td>\n",
       "      <td>...</td>\n",
       "      <td>...</td>\n",
       "      <td>...</td>\n",
       "      <td>...</td>\n",
       "      <td>...</td>\n",
       "      <td>...</td>\n",
       "      <td>...</td>\n",
       "      <td>...</td>\n",
       "      <td>...</td>\n",
       "      <td>...</td>\n",
       "      <td>...</td>\n",
       "      <td>...</td>\n",
       "      <td>...</td>\n",
       "      <td>...</td>\n",
       "      <td>...</td>\n",
       "      <td>...</td>\n",
       "      <td>...</td>\n",
       "      <td>...</td>\n",
       "      <td>...</td>\n",
       "      <td>...</td>\n",
       "    </tr>\n",
       "    <tr>\n",
       "      <th>8bb26a0e41ae2c51a5817ba7286c0d2b</th>\n",
       "      <td>2018-08-18</td>\n",
       "      <td>519.27</td>\n",
       "      <td>2.518218</td>\n",
       "      <td>2018-04-22 12:26:14</td>\n",
       "      <td>2018-04-20</td>\n",
       "      <td>200.00</td>\n",
       "      <td>79.0</td>\n",
       "      <td>0.385156</td>\n",
       "      <td>0</td>\n",
       "      <td>0</td>\n",
       "      <td>...</td>\n",
       "      <td>0</td>\n",
       "      <td>1</td>\n",
       "      <td>0</td>\n",
       "      <td>1</td>\n",
       "      <td>0.0</td>\n",
       "      <td>0</td>\n",
       "      <td>1</td>\n",
       "      <td>0.987797</td>\n",
       "      <td>1</td>\n",
       "      <td>1.0</td>\n",
       "    </tr>\n",
       "    <tr>\n",
       "      <th>8bafcfa63cf7ce005cff8d2924b4086e</th>\n",
       "      <td>2018-08-17</td>\n",
       "      <td>212.06</td>\n",
       "      <td>1.033611</td>\n",
       "      <td>2018-04-19 00:48:24</td>\n",
       "      <td>2018-04-18</td>\n",
       "      <td>137.06</td>\n",
       "      <td>72.0</td>\n",
       "      <td>0.646327</td>\n",
       "      <td>1</td>\n",
       "      <td>0</td>\n",
       "      <td>...</td>\n",
       "      <td>1</td>\n",
       "      <td>0</td>\n",
       "      <td>0</td>\n",
       "      <td>0</td>\n",
       "      <td>0.0</td>\n",
       "      <td>0</td>\n",
       "      <td>1</td>\n",
       "      <td>0.890101</td>\n",
       "      <td>1</td>\n",
       "      <td>1.0</td>\n",
       "    </tr>\n",
       "    <tr>\n",
       "      <th>8bad9f3a947569f3699246a5f22431b6</th>\n",
       "      <td>2018-07-26</td>\n",
       "      <td>399.98</td>\n",
       "      <td>0.901782</td>\n",
       "      <td>2018-03-26 21:38:34</td>\n",
       "      <td>2018-03-26</td>\n",
       "      <td>70.00</td>\n",
       "      <td>92.0</td>\n",
       "      <td>0.175009</td>\n",
       "      <td>0</td>\n",
       "      <td>0</td>\n",
       "      <td>...</td>\n",
       "      <td>0</td>\n",
       "      <td>0</td>\n",
       "      <td>0</td>\n",
       "      <td>1</td>\n",
       "      <td>0.0</td>\n",
       "      <td>0</td>\n",
       "      <td>1</td>\n",
       "      <td>0.876766</td>\n",
       "      <td>1</td>\n",
       "      <td>1.0</td>\n",
       "    </tr>\n",
       "    <tr>\n",
       "      <th>8ba9918245313df7e2b1284978a18abe</th>\n",
       "      <td>2018-07-30</td>\n",
       "      <td>377.66</td>\n",
       "      <td>0.264144</td>\n",
       "      <td>2018-03-31 06:20:22</td>\n",
       "      <td>2018-03-31</td>\n",
       "      <td>188.83</td>\n",
       "      <td>66.0</td>\n",
       "      <td>0.500000</td>\n",
       "      <td>1</td>\n",
       "      <td>0</td>\n",
       "      <td>...</td>\n",
       "      <td>1</td>\n",
       "      <td>0</td>\n",
       "      <td>0</td>\n",
       "      <td>0</td>\n",
       "      <td>0.0</td>\n",
       "      <td>0</td>\n",
       "      <td>1</td>\n",
       "      <td>0.765252</td>\n",
       "      <td>0</td>\n",
       "      <td>0.0</td>\n",
       "    </tr>\n",
       "    <tr>\n",
       "      <th>801e4cc4553b328b0fd5f63db4525569</th>\n",
       "      <td>2018-08-17</td>\n",
       "      <td>166.04</td>\n",
       "      <td>0.921713</td>\n",
       "      <td>2018-04-18 22:07:16</td>\n",
       "      <td>2018-04-18</td>\n",
       "      <td>80.00</td>\n",
       "      <td>68.0</td>\n",
       "      <td>0.481812</td>\n",
       "      <td>0</td>\n",
       "      <td>0</td>\n",
       "      <td>...</td>\n",
       "      <td>1</td>\n",
       "      <td>0</td>\n",
       "      <td>0</td>\n",
       "      <td>1</td>\n",
       "      <td>0.0</td>\n",
       "      <td>0</td>\n",
       "      <td>1</td>\n",
       "      <td>0.899860</td>\n",
       "      <td>1</td>\n",
       "      <td>1.0</td>\n",
       "    </tr>\n",
       "  </tbody>\n",
       "</table>\n",
       "<p>58597 rows × 28 columns</p>\n",
       "</div>"
      ],
      "text/plain": [
       "                                 Project Expiration Date  Project Cost  \\\n",
       "Project ID                                                               \n",
       "fffffcc42d1bf7ab742a4fa2d820f9f0              2018-08-08        519.42   \n",
       "8ac6ba0c30fcdfee24d2f3b333660163              2018-08-05        245.32   \n",
       "8ac742c17ed5d50f5d23908732901df4              2018-08-03       2823.65   \n",
       "8ac8350b9be18ed62066d2273f84d94e              2018-08-20       1547.60   \n",
       "8ac8619e6182b441a6f241d4d16e5ba6              2018-07-29        508.80   \n",
       "...                                                  ...           ...   \n",
       "8bb26a0e41ae2c51a5817ba7286c0d2b              2018-08-18        519.27   \n",
       "8bafcfa63cf7ce005cff8d2924b4086e              2018-08-17        212.06   \n",
       "8bad9f3a947569f3699246a5f22431b6              2018-07-26        399.98   \n",
       "8ba9918245313df7e2b1284978a18abe              2018-07-30        377.66   \n",
       "801e4cc4553b328b0fd5f63db4525569              2018-08-17        166.04   \n",
       "\n",
       "                                  Number of dates since posted  \\\n",
       "Project ID                                                       \n",
       "fffffcc42d1bf7ab742a4fa2d820f9f0                      0.000000   \n",
       "8ac6ba0c30fcdfee24d2f3b333660163                      0.000000   \n",
       "8ac742c17ed5d50f5d23908732901df4                      0.000000   \n",
       "8ac8350b9be18ed62066d2273f84d94e                      0.000000   \n",
       "8ac8619e6182b441a6f241d4d16e5ba6                      1.739120   \n",
       "...                                                        ...   \n",
       "8bb26a0e41ae2c51a5817ba7286c0d2b                      2.518218   \n",
       "8bafcfa63cf7ce005cff8d2924b4086e                      1.033611   \n",
       "8bad9f3a947569f3699246a5f22431b6                      0.901782   \n",
       "8ba9918245313df7e2b1284978a18abe                      0.264144   \n",
       "801e4cc4553b328b0fd5f63db4525569                      0.921713   \n",
       "\n",
       "                                 Last Donation Received Date  \\\n",
       "Project ID                                                     \n",
       "fffffcc42d1bf7ab742a4fa2d820f9f0         2018-04-11 00:00:00   \n",
       "8ac6ba0c30fcdfee24d2f3b333660163         2018-04-09 00:00:00   \n",
       "8ac742c17ed5d50f5d23908732901df4         2018-04-05 00:00:00   \n",
       "8ac8350b9be18ed62066d2273f84d94e         2018-04-22 00:00:00   \n",
       "8ac8619e6182b441a6f241d4d16e5ba6         2018-03-31 17:44:20   \n",
       "...                                                      ...   \n",
       "8bb26a0e41ae2c51a5817ba7286c0d2b         2018-04-22 12:26:14   \n",
       "8bafcfa63cf7ce005cff8d2924b4086e         2018-04-19 00:48:24   \n",
       "8bad9f3a947569f3699246a5f22431b6         2018-03-26 21:38:34   \n",
       "8ba9918245313df7e2b1284978a18abe         2018-03-31 06:20:22   \n",
       "801e4cc4553b328b0fd5f63db4525569         2018-04-18 22:07:16   \n",
       "\n",
       "                                 Project Posted Date  Donation Amount  \\\n",
       "Project ID                                                              \n",
       "fffffcc42d1bf7ab742a4fa2d820f9f0          2018-04-11             0.00   \n",
       "8ac6ba0c30fcdfee24d2f3b333660163          2018-04-09             0.00   \n",
       "8ac742c17ed5d50f5d23908732901df4          2018-04-05             0.00   \n",
       "8ac8350b9be18ed62066d2273f84d94e          2018-04-22             0.00   \n",
       "8ac8619e6182b441a6f241d4d16e5ba6          2018-03-30            95.00   \n",
       "...                                              ...              ...   \n",
       "8bb26a0e41ae2c51a5817ba7286c0d2b          2018-04-20           200.00   \n",
       "8bafcfa63cf7ce005cff8d2924b4086e          2018-04-18           137.06   \n",
       "8bad9f3a947569f3699246a5f22431b6          2018-03-26            70.00   \n",
       "8ba9918245313df7e2b1284978a18abe          2018-03-31           188.83   \n",
       "801e4cc4553b328b0fd5f63db4525569          2018-04-18            80.00   \n",
       "\n",
       "                                  School Percentage Free Lunch  Fund_Ratio_30  \\\n",
       "Project ID                                                                      \n",
       "fffffcc42d1bf7ab742a4fa2d820f9f0                          64.0       0.000000   \n",
       "8ac6ba0c30fcdfee24d2f3b333660163                          52.0       0.000000   \n",
       "8ac742c17ed5d50f5d23908732901df4                          93.0       0.000000   \n",
       "8ac8350b9be18ed62066d2273f84d94e                          74.0       0.000000   \n",
       "8ac8619e6182b441a6f241d4d16e5ba6                          89.0       0.186714   \n",
       "...                                                        ...            ...   \n",
       "8bb26a0e41ae2c51a5817ba7286c0d2b                          79.0       0.385156   \n",
       "8bafcfa63cf7ce005cff8d2924b4086e                          72.0       0.646327   \n",
       "8bad9f3a947569f3699246a5f22431b6                          92.0       0.175009   \n",
       "8ba9918245313df7e2b1284978a18abe                          66.0       0.500000   \n",
       "801e4cc4553b328b0fd5f63db4525569                          68.0       0.481812   \n",
       "\n",
       "                                  School Metro Type_suburban  \\\n",
       "Project ID                                                     \n",
       "fffffcc42d1bf7ab742a4fa2d820f9f0                           1   \n",
       "8ac6ba0c30fcdfee24d2f3b333660163                           0   \n",
       "8ac742c17ed5d50f5d23908732901df4                           0   \n",
       "8ac8350b9be18ed62066d2273f84d94e                           1   \n",
       "8ac8619e6182b441a6f241d4d16e5ba6                           0   \n",
       "...                                                      ...   \n",
       "8bb26a0e41ae2c51a5817ba7286c0d2b                           0   \n",
       "8bafcfa63cf7ce005cff8d2924b4086e                           1   \n",
       "8bad9f3a947569f3699246a5f22431b6                           0   \n",
       "8ba9918245313df7e2b1284978a18abe                           1   \n",
       "801e4cc4553b328b0fd5f63db4525569                           0   \n",
       "\n",
       "                                  School Metro Type_town  ...  \\\n",
       "Project ID                                                ...   \n",
       "fffffcc42d1bf7ab742a4fa2d820f9f0                       0  ...   \n",
       "8ac6ba0c30fcdfee24d2f3b333660163                       0  ...   \n",
       "8ac742c17ed5d50f5d23908732901df4                       0  ...   \n",
       "8ac8350b9be18ed62066d2273f84d94e                       0  ...   \n",
       "8ac8619e6182b441a6f241d4d16e5ba6                       0  ...   \n",
       "...                                                  ...  ...   \n",
       "8bb26a0e41ae2c51a5817ba7286c0d2b                       0  ...   \n",
       "8bafcfa63cf7ce005cff8d2924b4086e                       0  ...   \n",
       "8bad9f3a947569f3699246a5f22431b6                       0  ...   \n",
       "8ba9918245313df7e2b1284978a18abe                       0  ...   \n",
       "801e4cc4553b328b0fd5f63db4525569                       0  ...   \n",
       "\n",
       "                                  Project Grade Level Category_Grades 9-12  \\\n",
       "Project ID                                                                   \n",
       "fffffcc42d1bf7ab742a4fa2d820f9f0                                         0   \n",
       "8ac6ba0c30fcdfee24d2f3b333660163                                         0   \n",
       "8ac742c17ed5d50f5d23908732901df4                                         1   \n",
       "8ac8350b9be18ed62066d2273f84d94e                                         0   \n",
       "8ac8619e6182b441a6f241d4d16e5ba6                                         0   \n",
       "...                                                                    ...   \n",
       "8bb26a0e41ae2c51a5817ba7286c0d2b                                         0   \n",
       "8bafcfa63cf7ce005cff8d2924b4086e                                         1   \n",
       "8bad9f3a947569f3699246a5f22431b6                                         0   \n",
       "8ba9918245313df7e2b1284978a18abe                                         1   \n",
       "801e4cc4553b328b0fd5f63db4525569                                         1   \n",
       "\n",
       "                                  Project Grade Level Category_Grades PreK-2  \\\n",
       "Project ID                                                                     \n",
       "fffffcc42d1bf7ab742a4fa2d820f9f0                                           0   \n",
       "8ac6ba0c30fcdfee24d2f3b333660163                                           0   \n",
       "8ac742c17ed5d50f5d23908732901df4                                           0   \n",
       "8ac8350b9be18ed62066d2273f84d94e                                           0   \n",
       "8ac8619e6182b441a6f241d4d16e5ba6                                           0   \n",
       "...                                                                      ...   \n",
       "8bb26a0e41ae2c51a5817ba7286c0d2b                                           1   \n",
       "8bafcfa63cf7ce005cff8d2924b4086e                                           0   \n",
       "8bad9f3a947569f3699246a5f22431b6                                           0   \n",
       "8ba9918245313df7e2b1284978a18abe                                           0   \n",
       "801e4cc4553b328b0fd5f63db4525569                                           0   \n",
       "\n",
       "                                  Project Grade Level Category_unknown  Label  \\\n",
       "Project ID                                                                      \n",
       "fffffcc42d1bf7ab742a4fa2d820f9f0                                     0      1   \n",
       "8ac6ba0c30fcdfee24d2f3b333660163                                     0      1   \n",
       "8ac742c17ed5d50f5d23908732901df4                                     0      1   \n",
       "8ac8350b9be18ed62066d2273f84d94e                                     0      1   \n",
       "8ac8619e6182b441a6f241d4d16e5ba6                                     0      1   \n",
       "...                                                                ...    ...   \n",
       "8bb26a0e41ae2c51a5817ba7286c0d2b                                     0      1   \n",
       "8bafcfa63cf7ce005cff8d2924b4086e                                     0      0   \n",
       "8bad9f3a947569f3699246a5f22431b6                                     0      1   \n",
       "8ba9918245313df7e2b1284978a18abe                                     0      0   \n",
       "801e4cc4553b328b0fd5f63db4525569                                     0      1   \n",
       "\n",
       "                                  Y_pred_test_prob  Y_pred_test  \\\n",
       "Project ID                                                        \n",
       "fffffcc42d1bf7ab742a4fa2d820f9f0               1.0            1   \n",
       "8ac6ba0c30fcdfee24d2f3b333660163               1.0            1   \n",
       "8ac742c17ed5d50f5d23908732901df4               1.0            1   \n",
       "8ac8350b9be18ed62066d2273f84d94e               1.0            1   \n",
       "8ac8619e6182b441a6f241d4d16e5ba6               1.0            1   \n",
       "...                                            ...          ...   \n",
       "8bb26a0e41ae2c51a5817ba7286c0d2b               0.0            0   \n",
       "8bafcfa63cf7ce005cff8d2924b4086e               0.0            0   \n",
       "8bad9f3a947569f3699246a5f22431b6               0.0            0   \n",
       "8ba9918245313df7e2b1284978a18abe               0.0            0   \n",
       "801e4cc4553b328b0fd5f63db4525569               0.0            0   \n",
       "\n",
       "                                  Y_pred_test_LR  Y_pred_test_LR_prob  \\\n",
       "Project ID                                                              \n",
       "fffffcc42d1bf7ab742a4fa2d820f9f0               1             0.573121   \n",
       "8ac6ba0c30fcdfee24d2f3b333660163               1             0.958161   \n",
       "8ac742c17ed5d50f5d23908732901df4               1             0.830797   \n",
       "8ac8350b9be18ed62066d2273f84d94e               0             0.265034   \n",
       "8ac8619e6182b441a6f241d4d16e5ba6               1             0.896465   \n",
       "...                                          ...                  ...   \n",
       "8bb26a0e41ae2c51a5817ba7286c0d2b               1             0.987797   \n",
       "8bafcfa63cf7ce005cff8d2924b4086e               1             0.890101   \n",
       "8bad9f3a947569f3699246a5f22431b6               1             0.876766   \n",
       "8ba9918245313df7e2b1284978a18abe               1             0.765252   \n",
       "801e4cc4553b328b0fd5f63db4525569               1             0.899860   \n",
       "\n",
       "                                  Y_pred_test_DT  Y_pred_test_DT_prob  \n",
       "Project ID                                                             \n",
       "fffffcc42d1bf7ab742a4fa2d820f9f0               0                  0.0  \n",
       "8ac6ba0c30fcdfee24d2f3b333660163               1                  1.0  \n",
       "8ac742c17ed5d50f5d23908732901df4               0                  0.0  \n",
       "8ac8350b9be18ed62066d2273f84d94e               1                  1.0  \n",
       "8ac8619e6182b441a6f241d4d16e5ba6               1                  1.0  \n",
       "...                                          ...                  ...  \n",
       "8bb26a0e41ae2c51a5817ba7286c0d2b               1                  1.0  \n",
       "8bafcfa63cf7ce005cff8d2924b4086e               1                  1.0  \n",
       "8bad9f3a947569f3699246a5f22431b6               1                  1.0  \n",
       "8ba9918245313df7e2b1284978a18abe               0                  0.0  \n",
       "801e4cc4553b328b0fd5f63db4525569               1                  1.0  \n",
       "\n",
       "[58597 rows x 28 columns]"
      ]
     },
     "execution_count": 248,
     "metadata": {},
     "output_type": "execute_result"
    }
   ],
   "source": [
    "Test_Data_Final"
   ]
  },
  {
   "cell_type": "code",
   "execution_count": 250,
   "metadata": {},
   "outputs": [
    {
     "data": {
      "text/plain": [
       "['School Metro Type_unknown',\n",
       " 'Project Cost',\n",
       " 'Project Grade Level Category_unknown',\n",
       " 'Project Grade Level Category_Grades 6-8',\n",
       " 'Number of dates since posted',\n",
       " 'Teacher Prefix_Ms.',\n",
       " 'School Metro Type_town',\n",
       " 'Teacher Prefix_Mrs.',\n",
       " 'School Metro Type_urban',\n",
       " 'Project Grade Level Category_Grades 9-12',\n",
       " 'School Metro Type_suburban',\n",
       " 'Teacher Prefix_Teacher',\n",
       " 'Teacher Prefix_Mr.',\n",
       " 'Teacher Prefix_Mx.',\n",
       " 'School Percentage Free Lunch',\n",
       " 'Project Grade Level Category_Grades PreK-2']"
      ]
     },
     "execution_count": 250,
     "metadata": {},
     "output_type": "execute_result"
    }
   ],
   "source": [
    "Model_variables"
   ]
  },
  {
   "cell_type": "code",
   "execution_count": 251,
   "metadata": {},
   "outputs": [
    {
     "data": {
      "text/plain": [
       "Text(0.5, 1.0, '2-class Precision-Recall curve:')"
      ]
     },
     "execution_count": 251,
     "metadata": {},
     "output_type": "execute_result"
    },
    {
     "data": {
      "image/png": "[encoded data removed]",
      "text/plain": [
       "<Figure size 432x288 with 1 Axes>"
      ]
     },
     "metadata": {
      "needs_background": "light"
     },
     "output_type": "display_data"
    }
   ],
   "source": [
    "disp = plot_precision_recall_curve(LR_clf, X_test, Y_test)\n",
    "disp.ax_.set_title('2-class Precision-Recall curve:')"
   ]
  },
  {
   "cell_type": "code",
   "execution_count": 252,
   "metadata": {},
   "outputs": [
    {
     "data": {
      "text/plain": [
       "Text(0.5, 1.0, '2-class Precision-Recall curve:')"
      ]
     },
     "execution_count": 252,
     "metadata": {},
     "output_type": "execute_result"
    },
    {
     "data": {
      "image/png": "[encoded data removed]",
      "text/plain": [
       "<Figure size 432x288 with 1 Axes>"
      ]
     },
     "metadata": {
      "needs_background": "light"
     },
     "output_type": "display_data"
    }
   ],
   "source": [
    "disp = plot_precision_recall_curve(DT_clf, X_test, Y_test)\n",
    "disp.ax_.set_title('2-class Precision-Recall curve:')"
   ]
  },
  {
   "cell_type": "code",
   "execution_count": 188,
   "metadata": {},
   "outputs": [
    {
     "ename": "ValueError",
     "evalue": "feature_names mismatch: ['School Metro Type_unknown', 'Project Cost', 'Project Grade Level Category_unknown', 'Project Grade Level Category_Grades 6-8', 'Number of dates since posted', 'Teacher Prefix_Ms.', 'School Metro Type_town', 'Teacher Prefix_Mrs.', 'School Metro Type_urban', 'Project Grade Level Category_Grades 9-12', 'School Metro Type_suburban', 'Teacher Prefix_Teacher', 'Teacher Prefix_Mr.', 'Teacher Prefix_Mx.', 'School Percentage Free Lunch', 'Project Grade Level Category_Grades PreK-2'] ['f0', 'f1', 'f2', 'f3', 'f4', 'f5', 'f6', 'f7', 'f8', 'f9', 'f10', 'f11', 'f12', 'f13', 'f14', 'f15']\nexpected School Metro Type_unknown, Project Cost, Project Grade Level Category_unknown, Project Grade Level Category_Grades 6-8, Number of dates since posted, Teacher Prefix_Ms., School Metro Type_town, Teacher Prefix_Mrs., School Metro Type_urban, Project Grade Level Category_Grades 9-12, School Metro Type_suburban, Teacher Prefix_Teacher, Teacher Prefix_Mr., Teacher Prefix_Mx., School Percentage Free Lunch, Project Grade Level Category_Grades PreK-2 in input data\ntraining data did not have the following fields: f9, f13, f3, f14, f5, f6, f10, f2, f11, f15, f4, f1, f7, f12, f0, f8",
     "output_type": "error",
     "traceback": [
      "\u001b[1;31m---------------------------------------------------------------------------\u001b[0m",
      "\u001b[1;31mValueError\u001b[0m                                Traceback (most recent call last)",
      "\u001b[1;32m<ipython-input-188-738c8c3c0094>\u001b[0m in \u001b[0;36m<module>\u001b[1;34m\u001b[0m\n\u001b[1;32m----> 1\u001b[1;33m \u001b[0mdisp\u001b[0m \u001b[1;33m=\u001b[0m \u001b[0mplot_precision_recall_curve\u001b[0m\u001b[1;33m(\u001b[0m\u001b[0mXGB_clf\u001b[0m\u001b[1;33m,\u001b[0m \u001b[0mX_test\u001b[0m\u001b[1;33m,\u001b[0m \u001b[0mY_test\u001b[0m\u001b[1;33m)\u001b[0m\u001b[1;33m\u001b[0m\u001b[1;33m\u001b[0m\u001b[0m\n\u001b[0m\u001b[0;32m      2\u001b[0m \u001b[0mdisp\u001b[0m\u001b[1;33m.\u001b[0m\u001b[0max_\u001b[0m\u001b[1;33m.\u001b[0m\u001b[0mset_title\u001b[0m\u001b[1;33m(\u001b[0m\u001b[1;34m'2-class Precision-Recall curve:'\u001b[0m\u001b[1;33m)\u001b[0m\u001b[1;33m\u001b[0m\u001b[1;33m\u001b[0m\u001b[0m\n",
      "\u001b[1;32mC:\\ProgramData\\Anaconda3\\lib\\site-packages\\sklearn\\utils\\validation.py\u001b[0m in \u001b[0;36minner_f\u001b[1;34m(*args, **kwargs)\u001b[0m\n\u001b[0;32m     71\u001b[0m                           FutureWarning)\n\u001b[0;32m     72\u001b[0m         \u001b[0mkwargs\u001b[0m\u001b[1;33m.\u001b[0m\u001b[0mupdate\u001b[0m\u001b[1;33m(\u001b[0m\u001b[1;33m{\u001b[0m\u001b[0mk\u001b[0m\u001b[1;33m:\u001b[0m \u001b[0marg\u001b[0m \u001b[1;32mfor\u001b[0m \u001b[0mk\u001b[0m\u001b[1;33m,\u001b[0m \u001b[0marg\u001b[0m \u001b[1;32min\u001b[0m \u001b[0mzip\u001b[0m\u001b[1;33m(\u001b[0m\u001b[0msig\u001b[0m\u001b[1;33m.\u001b[0m\u001b[0mparameters\u001b[0m\u001b[1;33m,\u001b[0m \u001b[0margs\u001b[0m\u001b[1;33m)\u001b[0m\u001b[1;33m}\u001b[0m\u001b[1;33m)\u001b[0m\u001b[1;33m\u001b[0m\u001b[1;33m\u001b[0m\u001b[0m\n\u001b[1;32m---> 73\u001b[1;33m         \u001b[1;32mreturn\u001b[0m \u001b[0mf\u001b[0m\u001b[1;33m(\u001b[0m\u001b[1;33m**\u001b[0m\u001b[0mkwargs\u001b[0m\u001b[1;33m)\u001b[0m\u001b[1;33m\u001b[0m\u001b[1;33m\u001b[0m\u001b[0m\n\u001b[0m\u001b[0;32m     74\u001b[0m     \u001b[1;32mreturn\u001b[0m \u001b[0minner_f\u001b[0m\u001b[1;33m\u001b[0m\u001b[1;33m\u001b[0m\u001b[0m\n\u001b[0;32m     75\u001b[0m \u001b[1;33m\u001b[0m\u001b[0m\n",
      "\u001b[1;32mC:\\ProgramData\\Anaconda3\\lib\\site-packages\\sklearn\\metrics\\_plot\\precision_recall_curve.py\u001b[0m in \u001b[0;36mplot_precision_recall_curve\u001b[1;34m(estimator, X, y, sample_weight, response_method, name, ax, **kwargs)\u001b[0m\n\u001b[0;32m    159\u001b[0m     prediction_method = _check_classifer_response_method(estimator,\n\u001b[0;32m    160\u001b[0m                                                          response_method)\n\u001b[1;32m--> 161\u001b[1;33m     \u001b[0my_pred\u001b[0m \u001b[1;33m=\u001b[0m \u001b[0mprediction_method\u001b[0m\u001b[1;33m(\u001b[0m\u001b[0mX\u001b[0m\u001b[1;33m)\u001b[0m\u001b[1;33m\u001b[0m\u001b[1;33m\u001b[0m\u001b[0m\n\u001b[0m\u001b[0;32m    162\u001b[0m \u001b[1;33m\u001b[0m\u001b[0m\n\u001b[0;32m    163\u001b[0m     \u001b[1;32mif\u001b[0m \u001b[0my_pred\u001b[0m\u001b[1;33m.\u001b[0m\u001b[0mndim\u001b[0m \u001b[1;33m!=\u001b[0m \u001b[1;36m1\u001b[0m\u001b[1;33m:\u001b[0m\u001b[1;33m\u001b[0m\u001b[1;33m\u001b[0m\u001b[0m\n",
      "\u001b[1;32mC:\\ProgramData\\Anaconda3\\lib\\site-packages\\xgboost\\sklearn.py\u001b[0m in \u001b[0;36mpredict_proba\u001b[1;34m(self, data, ntree_limit, validate_features)\u001b[0m\n\u001b[0;32m    832\u001b[0m         class_probs = self.get_booster().predict(test_dmatrix,\n\u001b[0;32m    833\u001b[0m                                                  \u001b[0mntree_limit\u001b[0m\u001b[1;33m=\u001b[0m\u001b[0mntree_limit\u001b[0m\u001b[1;33m,\u001b[0m\u001b[1;33m\u001b[0m\u001b[1;33m\u001b[0m\u001b[0m\n\u001b[1;32m--> 834\u001b[1;33m                                                  validate_features=validate_features)\n\u001b[0m\u001b[0;32m    835\u001b[0m         \u001b[1;32mif\u001b[0m \u001b[0mself\u001b[0m\u001b[1;33m.\u001b[0m\u001b[0mobjective\u001b[0m \u001b[1;33m==\u001b[0m \u001b[1;34m\"multi:softprob\"\u001b[0m\u001b[1;33m:\u001b[0m\u001b[1;33m\u001b[0m\u001b[1;33m\u001b[0m\u001b[0m\n\u001b[0;32m    836\u001b[0m             \u001b[1;32mreturn\u001b[0m \u001b[0mclass_probs\u001b[0m\u001b[1;33m\u001b[0m\u001b[1;33m\u001b[0m\u001b[0m\n",
      "\u001b[1;32mC:\\ProgramData\\Anaconda3\\lib\\site-packages\\xgboost\\core.py\u001b[0m in \u001b[0;36mpredict\u001b[1;34m(self, data, output_margin, ntree_limit, pred_leaf, pred_contribs, approx_contribs, pred_interactions, validate_features)\u001b[0m\n\u001b[0;32m   1282\u001b[0m \u001b[1;33m\u001b[0m\u001b[0m\n\u001b[0;32m   1283\u001b[0m         \u001b[1;32mif\u001b[0m \u001b[0mvalidate_features\u001b[0m\u001b[1;33m:\u001b[0m\u001b[1;33m\u001b[0m\u001b[1;33m\u001b[0m\u001b[0m\n\u001b[1;32m-> 1284\u001b[1;33m             \u001b[0mself\u001b[0m\u001b[1;33m.\u001b[0m\u001b[0m_validate_features\u001b[0m\u001b[1;33m(\u001b[0m\u001b[0mdata\u001b[0m\u001b[1;33m)\u001b[0m\u001b[1;33m\u001b[0m\u001b[1;33m\u001b[0m\u001b[0m\n\u001b[0m\u001b[0;32m   1285\u001b[0m \u001b[1;33m\u001b[0m\u001b[0m\n\u001b[0;32m   1286\u001b[0m         \u001b[0mlength\u001b[0m \u001b[1;33m=\u001b[0m \u001b[0mc_bst_ulong\u001b[0m\u001b[1;33m(\u001b[0m\u001b[1;33m)\u001b[0m\u001b[1;33m\u001b[0m\u001b[1;33m\u001b[0m\u001b[0m\n",
      "\u001b[1;32mC:\\ProgramData\\Anaconda3\\lib\\site-packages\\xgboost\\core.py\u001b[0m in \u001b[0;36m_validate_features\u001b[1;34m(self, data)\u001b[0m\n\u001b[0;32m   1688\u001b[0m \u001b[1;33m\u001b[0m\u001b[0m\n\u001b[0;32m   1689\u001b[0m                 raise ValueError(msg.format(self.feature_names,\n\u001b[1;32m-> 1690\u001b[1;33m                                             data.feature_names))\n\u001b[0m\u001b[0;32m   1691\u001b[0m \u001b[1;33m\u001b[0m\u001b[0m\n\u001b[0;32m   1692\u001b[0m     \u001b[1;32mdef\u001b[0m \u001b[0mget_split_value_histogram\u001b[0m\u001b[1;33m(\u001b[0m\u001b[0mself\u001b[0m\u001b[1;33m,\u001b[0m \u001b[0mfeature\u001b[0m\u001b[1;33m,\u001b[0m \u001b[0mfmap\u001b[0m\u001b[1;33m=\u001b[0m\u001b[1;34m''\u001b[0m\u001b[1;33m,\u001b[0m \u001b[0mbins\u001b[0m\u001b[1;33m=\u001b[0m\u001b[1;32mNone\u001b[0m\u001b[1;33m,\u001b[0m \u001b[0mas_pandas\u001b[0m\u001b[1;33m=\u001b[0m\u001b[1;32mTrue\u001b[0m\u001b[1;33m)\u001b[0m\u001b[1;33m:\u001b[0m\u001b[1;33m\u001b[0m\u001b[1;33m\u001b[0m\u001b[0m\n",
      "\u001b[1;31mValueError\u001b[0m: feature_names mismatch: ['School Metro Type_unknown', 'Project Cost', 'Project Grade Level Category_unknown', 'Project Grade Level Category_Grades 6-8', 'Number of dates since posted', 'Teacher Prefix_Ms.', 'School Metro Type_town', 'Teacher Prefix_Mrs.', 'School Metro Type_urban', 'Project Grade Level Category_Grades 9-12', 'School Metro Type_suburban', 'Teacher Prefix_Teacher', 'Teacher Prefix_Mr.', 'Teacher Prefix_Mx.', 'School Percentage Free Lunch', 'Project Grade Level Category_Grades PreK-2'] ['f0', 'f1', 'f2', 'f3', 'f4', 'f5', 'f6', 'f7', 'f8', 'f9', 'f10', 'f11', 'f12', 'f13', 'f14', 'f15']\nexpected School Metro Type_unknown, Project Cost, Project Grade Level Category_unknown, Project Grade Level Category_Grades 6-8, Number of dates since posted, Teacher Prefix_Ms., School Metro Type_town, Teacher Prefix_Mrs., School Metro Type_urban, Project Grade Level Category_Grades 9-12, School Metro Type_suburban, Teacher Prefix_Teacher, Teacher Prefix_Mr., Teacher Prefix_Mx., School Percentage Free Lunch, Project Grade Level Category_Grades PreK-2 in input data\ntraining data did not have the following fields: f9, f13, f3, f14, f5, f6, f10, f2, f11, f15, f4, f1, f7, f12, f0, f8"
     ]
    }
   ],
   "source": [
    "disp = plot_precision_recall_curve(XGB_clf, X_test, Y_test)\n",
    "disp.ax_.set_title('2-class Precision-Recall curve:')"
   ]
  },
  {
   "cell_type": "code",
   "execution_count": 253,
   "metadata": {},
   "outputs": [
    {
     "data": {
      "image/png": "[encoded data removed]",
      "text/plain": [
       "<Figure size 432x288 with 1 Axes>"
      ]
     },
     "metadata": {
      "needs_background": "light"
     },
     "output_type": "display_data"
    }
   ],
   "source": [
    "disp = plot_precision_recall_curve(clf, X_train, Y_train)"
   ]
  },
  {
   "cell_type": "code",
   "execution_count": 190,
   "metadata": {},
   "outputs": [
    {
     "data": {
      "text/html": [
       "<div>\n",
       "<style scoped>\n",
       "    .dataframe tbody tr th:only-of-type {\n",
       "        vertical-align: middle;\n",
       "    }\n",
       "\n",
       "    .dataframe tbody tr th {\n",
       "        vertical-align: top;\n",
       "    }\n",
       "\n",
       "    .dataframe thead th {\n",
       "        text-align: right;\n",
       "    }\n",
       "</style>\n",
       "<table border=\"1\" class=\"dataframe\">\n",
       "  <thead>\n",
       "    <tr style=\"text-align: right;\">\n",
       "      <th></th>\n",
       "      <th>Project Expiration Date</th>\n",
       "      <th>Project Cost</th>\n",
       "      <th>Number of dates since posted</th>\n",
       "      <th>Last Donation Received Date</th>\n",
       "      <th>Project Posted Date</th>\n",
       "      <th>Donation Amount</th>\n",
       "      <th>School Percentage Free Lunch</th>\n",
       "      <th>Fund_Ratio_30</th>\n",
       "      <th>School Metro Type_suburban</th>\n",
       "      <th>School Metro Type_town</th>\n",
       "      <th>...</th>\n",
       "      <th>Teacher Prefix_Ms.</th>\n",
       "      <th>Teacher Prefix_Mx.</th>\n",
       "      <th>Teacher Prefix_Teacher</th>\n",
       "      <th>Project Grade Level Category_Grades 6-8</th>\n",
       "      <th>Project Grade Level Category_Grades 9-12</th>\n",
       "      <th>Project Grade Level Category_Grades PreK-2</th>\n",
       "      <th>Project Grade Level Category_unknown</th>\n",
       "      <th>Label</th>\n",
       "      <th>Y_pred_test_prob</th>\n",
       "      <th>Y_pred_test</th>\n",
       "    </tr>\n",
       "    <tr>\n",
       "      <th>Project ID</th>\n",
       "      <th></th>\n",
       "      <th></th>\n",
       "      <th></th>\n",
       "      <th></th>\n",
       "      <th></th>\n",
       "      <th></th>\n",
       "      <th></th>\n",
       "      <th></th>\n",
       "      <th></th>\n",
       "      <th></th>\n",
       "      <th></th>\n",
       "      <th></th>\n",
       "      <th></th>\n",
       "      <th></th>\n",
       "      <th></th>\n",
       "      <th></th>\n",
       "      <th></th>\n",
       "      <th></th>\n",
       "      <th></th>\n",
       "      <th></th>\n",
       "      <th></th>\n",
       "    </tr>\n",
       "  </thead>\n",
       "  <tbody>\n",
       "    <tr>\n",
       "      <th>f664a4b580615ec134362beea4a7db81</th>\n",
       "      <td>2018-07-28</td>\n",
       "      <td>27972.85</td>\n",
       "      <td>0.833241</td>\n",
       "      <td>2018-03-28 19:59:52</td>\n",
       "      <td>2018-03-28</td>\n",
       "      <td>1.0</td>\n",
       "      <td>89.0</td>\n",
       "      <td>0.000036</td>\n",
       "      <td>0</td>\n",
       "      <td>0</td>\n",
       "      <td>...</td>\n",
       "      <td>1</td>\n",
       "      <td>0</td>\n",
       "      <td>0</td>\n",
       "      <td>1</td>\n",
       "      <td>0</td>\n",
       "      <td>0</td>\n",
       "      <td>0</td>\n",
       "      <td>1</td>\n",
       "      <td>1.0</td>\n",
       "      <td>1</td>\n",
       "    </tr>\n",
       "    <tr>\n",
       "      <th>3a1e9357a163fae01911b1628f4692fa</th>\n",
       "      <td>2018-08-02</td>\n",
       "      <td>44648.42</td>\n",
       "      <td>0.000000</td>\n",
       "      <td>2018-04-09 00:00:00</td>\n",
       "      <td>2018-04-09</td>\n",
       "      <td>0.0</td>\n",
       "      <td>56.0</td>\n",
       "      <td>0.000000</td>\n",
       "      <td>1</td>\n",
       "      <td>0</td>\n",
       "      <td>...</td>\n",
       "      <td>0</td>\n",
       "      <td>0</td>\n",
       "      <td>0</td>\n",
       "      <td>0</td>\n",
       "      <td>0</td>\n",
       "      <td>0</td>\n",
       "      <td>0</td>\n",
       "      <td>1</td>\n",
       "      <td>1.0</td>\n",
       "      <td>1</td>\n",
       "    </tr>\n",
       "    <tr>\n",
       "      <th>32f81e7617aeda8bddeb6db9c3979f43</th>\n",
       "      <td>2018-08-05</td>\n",
       "      <td>24961.42</td>\n",
       "      <td>0.000000</td>\n",
       "      <td>2018-04-18 00:00:00</td>\n",
       "      <td>2018-04-18</td>\n",
       "      <td>0.0</td>\n",
       "      <td>54.0</td>\n",
       "      <td>0.000000</td>\n",
       "      <td>0</td>\n",
       "      <td>0</td>\n",
       "      <td>...</td>\n",
       "      <td>0</td>\n",
       "      <td>0</td>\n",
       "      <td>0</td>\n",
       "      <td>0</td>\n",
       "      <td>1</td>\n",
       "      <td>0</td>\n",
       "      <td>0</td>\n",
       "      <td>1</td>\n",
       "      <td>1.0</td>\n",
       "      <td>1</td>\n",
       "    </tr>\n",
       "    <tr>\n",
       "      <th>b8743e15586241a71ed4708c5ca76eb3</th>\n",
       "      <td>2018-08-03</td>\n",
       "      <td>66454.25</td>\n",
       "      <td>0.000000</td>\n",
       "      <td>2018-04-09 00:00:00</td>\n",
       "      <td>2018-04-09</td>\n",
       "      <td>0.0</td>\n",
       "      <td>88.0</td>\n",
       "      <td>0.000000</td>\n",
       "      <td>0</td>\n",
       "      <td>0</td>\n",
       "      <td>...</td>\n",
       "      <td>1</td>\n",
       "      <td>0</td>\n",
       "      <td>0</td>\n",
       "      <td>0</td>\n",
       "      <td>1</td>\n",
       "      <td>0</td>\n",
       "      <td>0</td>\n",
       "      <td>1</td>\n",
       "      <td>1.0</td>\n",
       "      <td>1</td>\n",
       "    </tr>\n",
       "    <tr>\n",
       "      <th>5f1e1195575ab5e4afb3a3757e675d3c</th>\n",
       "      <td>2018-08-13</td>\n",
       "      <td>19091.74</td>\n",
       "      <td>0.000000</td>\n",
       "      <td>2018-04-20 00:00:00</td>\n",
       "      <td>2018-04-20</td>\n",
       "      <td>0.0</td>\n",
       "      <td>73.0</td>\n",
       "      <td>0.000000</td>\n",
       "      <td>0</td>\n",
       "      <td>0</td>\n",
       "      <td>...</td>\n",
       "      <td>0</td>\n",
       "      <td>0</td>\n",
       "      <td>0</td>\n",
       "      <td>1</td>\n",
       "      <td>0</td>\n",
       "      <td>0</td>\n",
       "      <td>0</td>\n",
       "      <td>1</td>\n",
       "      <td>1.0</td>\n",
       "      <td>1</td>\n",
       "    </tr>\n",
       "    <tr>\n",
       "      <th>45e4a6adba2c26ad63799c5afac16a8f</th>\n",
       "      <td>2018-07-28</td>\n",
       "      <td>16385.15</td>\n",
       "      <td>0.000000</td>\n",
       "      <td>2018-03-30 00:00:00</td>\n",
       "      <td>2018-03-30</td>\n",
       "      <td>0.0</td>\n",
       "      <td>91.0</td>\n",
       "      <td>0.000000</td>\n",
       "      <td>1</td>\n",
       "      <td>0</td>\n",
       "      <td>...</td>\n",
       "      <td>0</td>\n",
       "      <td>0</td>\n",
       "      <td>0</td>\n",
       "      <td>0</td>\n",
       "      <td>0</td>\n",
       "      <td>1</td>\n",
       "      <td>0</td>\n",
       "      <td>1</td>\n",
       "      <td>1.0</td>\n",
       "      <td>1</td>\n",
       "    </tr>\n",
       "    <tr>\n",
       "      <th>46bd4fa1d63f612d728774f7e41ef020</th>\n",
       "      <td>2018-07-19</td>\n",
       "      <td>16484.86</td>\n",
       "      <td>0.414306</td>\n",
       "      <td>2018-03-26 09:56:36</td>\n",
       "      <td>2018-03-26</td>\n",
       "      <td>25.0</td>\n",
       "      <td>67.0</td>\n",
       "      <td>0.001517</td>\n",
       "      <td>1</td>\n",
       "      <td>0</td>\n",
       "      <td>...</td>\n",
       "      <td>1</td>\n",
       "      <td>0</td>\n",
       "      <td>0</td>\n",
       "      <td>0</td>\n",
       "      <td>0</td>\n",
       "      <td>0</td>\n",
       "      <td>0</td>\n",
       "      <td>1</td>\n",
       "      <td>1.0</td>\n",
       "      <td>1</td>\n",
       "    </tr>\n",
       "    <tr>\n",
       "      <th>025761e7b80c3888cb2d37739c82f48b</th>\n",
       "      <td>2018-07-28</td>\n",
       "      <td>15808.40</td>\n",
       "      <td>0.000000</td>\n",
       "      <td>2018-04-16 00:00:00</td>\n",
       "      <td>2018-04-16</td>\n",
       "      <td>0.0</td>\n",
       "      <td>70.0</td>\n",
       "      <td>0.000000</td>\n",
       "      <td>0</td>\n",
       "      <td>0</td>\n",
       "      <td>...</td>\n",
       "      <td>0</td>\n",
       "      <td>0</td>\n",
       "      <td>0</td>\n",
       "      <td>0</td>\n",
       "      <td>0</td>\n",
       "      <td>1</td>\n",
       "      <td>0</td>\n",
       "      <td>1</td>\n",
       "      <td>1.0</td>\n",
       "      <td>1</td>\n",
       "    </tr>\n",
       "    <tr>\n",
       "      <th>58ff79f263604bf63a3d4e664eb80f69</th>\n",
       "      <td>2018-08-09</td>\n",
       "      <td>15630.11</td>\n",
       "      <td>0.000000</td>\n",
       "      <td>2018-04-10 00:00:00</td>\n",
       "      <td>2018-04-10</td>\n",
       "      <td>0.0</td>\n",
       "      <td>82.0</td>\n",
       "      <td>0.000000</td>\n",
       "      <td>1</td>\n",
       "      <td>0</td>\n",
       "      <td>...</td>\n",
       "      <td>0</td>\n",
       "      <td>0</td>\n",
       "      <td>0</td>\n",
       "      <td>0</td>\n",
       "      <td>1</td>\n",
       "      <td>0</td>\n",
       "      <td>0</td>\n",
       "      <td>1</td>\n",
       "      <td>1.0</td>\n",
       "      <td>1</td>\n",
       "    </tr>\n",
       "    <tr>\n",
       "      <th>8dfbe005e8cf3a6dc1afe71883e21a40</th>\n",
       "      <td>2018-08-16</td>\n",
       "      <td>15968.47</td>\n",
       "      <td>0.000000</td>\n",
       "      <td>2018-04-24 00:00:00</td>\n",
       "      <td>2018-04-24</td>\n",
       "      <td>0.0</td>\n",
       "      <td>42.0</td>\n",
       "      <td>0.000000</td>\n",
       "      <td>0</td>\n",
       "      <td>0</td>\n",
       "      <td>...</td>\n",
       "      <td>0</td>\n",
       "      <td>0</td>\n",
       "      <td>0</td>\n",
       "      <td>0</td>\n",
       "      <td>0</td>\n",
       "      <td>0</td>\n",
       "      <td>0</td>\n",
       "      <td>1</td>\n",
       "      <td>1.0</td>\n",
       "      <td>1</td>\n",
       "    </tr>\n",
       "    <tr>\n",
       "      <th>28c7e2f2f92c93cddc30862027c7c22a</th>\n",
       "      <td>2018-08-05</td>\n",
       "      <td>15659.19</td>\n",
       "      <td>0.000000</td>\n",
       "      <td>2018-04-18 00:00:00</td>\n",
       "      <td>2018-04-18</td>\n",
       "      <td>0.0</td>\n",
       "      <td>77.0</td>\n",
       "      <td>0.000000</td>\n",
       "      <td>0</td>\n",
       "      <td>0</td>\n",
       "      <td>...</td>\n",
       "      <td>0</td>\n",
       "      <td>0</td>\n",
       "      <td>0</td>\n",
       "      <td>0</td>\n",
       "      <td>0</td>\n",
       "      <td>0</td>\n",
       "      <td>0</td>\n",
       "      <td>1</td>\n",
       "      <td>1.0</td>\n",
       "      <td>1</td>\n",
       "    </tr>\n",
       "    <tr>\n",
       "      <th>9cbf993976c6f81719a9c65358d58cc7</th>\n",
       "      <td>2018-08-11</td>\n",
       "      <td>15059.32</td>\n",
       "      <td>0.000000</td>\n",
       "      <td>2018-04-24 00:00:00</td>\n",
       "      <td>2018-04-24</td>\n",
       "      <td>0.0</td>\n",
       "      <td>95.0</td>\n",
       "      <td>0.000000</td>\n",
       "      <td>0</td>\n",
       "      <td>0</td>\n",
       "      <td>...</td>\n",
       "      <td>1</td>\n",
       "      <td>0</td>\n",
       "      <td>0</td>\n",
       "      <td>0</td>\n",
       "      <td>0</td>\n",
       "      <td>1</td>\n",
       "      <td>0</td>\n",
       "      <td>1</td>\n",
       "      <td>1.0</td>\n",
       "      <td>1</td>\n",
       "    </tr>\n",
       "    <tr>\n",
       "      <th>fe6efa303f3a39b8b72cf3fc9a413167</th>\n",
       "      <td>2018-08-09</td>\n",
       "      <td>13637.01</td>\n",
       "      <td>0.000000</td>\n",
       "      <td>2018-04-16 00:00:00</td>\n",
       "      <td>2018-04-16</td>\n",
       "      <td>0.0</td>\n",
       "      <td>90.0</td>\n",
       "      <td>0.000000</td>\n",
       "      <td>0</td>\n",
       "      <td>0</td>\n",
       "      <td>...</td>\n",
       "      <td>0</td>\n",
       "      <td>0</td>\n",
       "      <td>0</td>\n",
       "      <td>0</td>\n",
       "      <td>0</td>\n",
       "      <td>0</td>\n",
       "      <td>0</td>\n",
       "      <td>1</td>\n",
       "      <td>1.0</td>\n",
       "      <td>1</td>\n",
       "    </tr>\n",
       "    <tr>\n",
       "      <th>ebd52896f470ded68254f60175bf453b</th>\n",
       "      <td>2018-07-29</td>\n",
       "      <td>14140.09</td>\n",
       "      <td>0.770046</td>\n",
       "      <td>2018-04-06 18:28:52</td>\n",
       "      <td>2018-04-06</td>\n",
       "      <td>25.0</td>\n",
       "      <td>60.0</td>\n",
       "      <td>0.001768</td>\n",
       "      <td>0</td>\n",
       "      <td>0</td>\n",
       "      <td>...</td>\n",
       "      <td>0</td>\n",
       "      <td>0</td>\n",
       "      <td>0</td>\n",
       "      <td>0</td>\n",
       "      <td>0</td>\n",
       "      <td>0</td>\n",
       "      <td>0</td>\n",
       "      <td>1</td>\n",
       "      <td>1.0</td>\n",
       "      <td>1</td>\n",
       "    </tr>\n",
       "    <tr>\n",
       "      <th>f97a24cebf029e7cc9f248c82c915a5b</th>\n",
       "      <td>2018-07-28</td>\n",
       "      <td>13360.44</td>\n",
       "      <td>0.000000</td>\n",
       "      <td>2018-03-29 00:00:00</td>\n",
       "      <td>2018-03-29</td>\n",
       "      <td>0.0</td>\n",
       "      <td>95.0</td>\n",
       "      <td>0.000000</td>\n",
       "      <td>0</td>\n",
       "      <td>0</td>\n",
       "      <td>...</td>\n",
       "      <td>0</td>\n",
       "      <td>0</td>\n",
       "      <td>0</td>\n",
       "      <td>0</td>\n",
       "      <td>0</td>\n",
       "      <td>0</td>\n",
       "      <td>0</td>\n",
       "      <td>1</td>\n",
       "      <td>1.0</td>\n",
       "      <td>1</td>\n",
       "    </tr>\n",
       "    <tr>\n",
       "      <th>6bb04f7fd9f98858ec08886703acceab</th>\n",
       "      <td>2018-07-29</td>\n",
       "      <td>14140.09</td>\n",
       "      <td>1.056412</td>\n",
       "      <td>2018-04-07 01:21:14</td>\n",
       "      <td>2018-04-06</td>\n",
       "      <td>100.0</td>\n",
       "      <td>60.0</td>\n",
       "      <td>0.007072</td>\n",
       "      <td>0</td>\n",
       "      <td>0</td>\n",
       "      <td>...</td>\n",
       "      <td>0</td>\n",
       "      <td>0</td>\n",
       "      <td>0</td>\n",
       "      <td>0</td>\n",
       "      <td>0</td>\n",
       "      <td>0</td>\n",
       "      <td>0</td>\n",
       "      <td>1</td>\n",
       "      <td>1.0</td>\n",
       "      <td>1</td>\n",
       "    </tr>\n",
       "    <tr>\n",
       "      <th>57b875927063a728d4f29f1e50d96456</th>\n",
       "      <td>2018-07-28</td>\n",
       "      <td>13637.01</td>\n",
       "      <td>0.725938</td>\n",
       "      <td>2018-03-29 17:25:21</td>\n",
       "      <td>2018-03-29</td>\n",
       "      <td>100.0</td>\n",
       "      <td>87.0</td>\n",
       "      <td>0.007333</td>\n",
       "      <td>1</td>\n",
       "      <td>0</td>\n",
       "      <td>...</td>\n",
       "      <td>0</td>\n",
       "      <td>0</td>\n",
       "      <td>0</td>\n",
       "      <td>0</td>\n",
       "      <td>0</td>\n",
       "      <td>0</td>\n",
       "      <td>0</td>\n",
       "      <td>1</td>\n",
       "      <td>1.0</td>\n",
       "      <td>1</td>\n",
       "    </tr>\n",
       "    <tr>\n",
       "      <th>9cf260d9a66a5853ff077a71d5e93764</th>\n",
       "      <td>2018-07-28</td>\n",
       "      <td>13637.01</td>\n",
       "      <td>0.000000</td>\n",
       "      <td>2018-03-29 00:00:00</td>\n",
       "      <td>2018-03-29</td>\n",
       "      <td>0.0</td>\n",
       "      <td>45.0</td>\n",
       "      <td>0.000000</td>\n",
       "      <td>0</td>\n",
       "      <td>0</td>\n",
       "      <td>...</td>\n",
       "      <td>0</td>\n",
       "      <td>0</td>\n",
       "      <td>1</td>\n",
       "      <td>1</td>\n",
       "      <td>0</td>\n",
       "      <td>0</td>\n",
       "      <td>0</td>\n",
       "      <td>1</td>\n",
       "      <td>1.0</td>\n",
       "      <td>1</td>\n",
       "    </tr>\n",
       "    <tr>\n",
       "      <th>7647664460dd60eb54a905fc4aaa18aa</th>\n",
       "      <td>2018-07-29</td>\n",
       "      <td>13514.09</td>\n",
       "      <td>0.000000</td>\n",
       "      <td>2018-04-05 00:00:00</td>\n",
       "      <td>2018-04-05</td>\n",
       "      <td>0.0</td>\n",
       "      <td>31.0</td>\n",
       "      <td>0.000000</td>\n",
       "      <td>1</td>\n",
       "      <td>0</td>\n",
       "      <td>...</td>\n",
       "      <td>1</td>\n",
       "      <td>0</td>\n",
       "      <td>0</td>\n",
       "      <td>0</td>\n",
       "      <td>0</td>\n",
       "      <td>1</td>\n",
       "      <td>0</td>\n",
       "      <td>1</td>\n",
       "      <td>1.0</td>\n",
       "      <td>1</td>\n",
       "    </tr>\n",
       "    <tr>\n",
       "      <th>417601ad9ca9ec06a4aa194bd4e9e1f8</th>\n",
       "      <td>2018-07-28</td>\n",
       "      <td>13142.25</td>\n",
       "      <td>0.000000</td>\n",
       "      <td>2018-04-02 00:00:00</td>\n",
       "      <td>2018-04-02</td>\n",
       "      <td>0.0</td>\n",
       "      <td>72.0</td>\n",
       "      <td>0.000000</td>\n",
       "      <td>0</td>\n",
       "      <td>0</td>\n",
       "      <td>...</td>\n",
       "      <td>0</td>\n",
       "      <td>0</td>\n",
       "      <td>0</td>\n",
       "      <td>0</td>\n",
       "      <td>1</td>\n",
       "      <td>0</td>\n",
       "      <td>0</td>\n",
       "      <td>1</td>\n",
       "      <td>1.0</td>\n",
       "      <td>1</td>\n",
       "    </tr>\n",
       "  </tbody>\n",
       "</table>\n",
       "<p>20 rows × 24 columns</p>\n",
       "</div>"
      ],
      "text/plain": [
       "                                 Project Expiration Date  Project Cost  \\\n",
       "Project ID                                                               \n",
       "f664a4b580615ec134362beea4a7db81              2018-07-28      27972.85   \n",
       "3a1e9357a163fae01911b1628f4692fa              2018-08-02      44648.42   \n",
       "32f81e7617aeda8bddeb6db9c3979f43              2018-08-05      24961.42   \n",
       "b8743e15586241a71ed4708c5ca76eb3              2018-08-03      66454.25   \n",
       "5f1e1195575ab5e4afb3a3757e675d3c              2018-08-13      19091.74   \n",
       "45e4a6adba2c26ad63799c5afac16a8f              2018-07-28      16385.15   \n",
       "46bd4fa1d63f612d728774f7e41ef020              2018-07-19      16484.86   \n",
       "025761e7b80c3888cb2d37739c82f48b              2018-07-28      15808.40   \n",
       "58ff79f263604bf63a3d4e664eb80f69              2018-08-09      15630.11   \n",
       "8dfbe005e8cf3a6dc1afe71883e21a40              2018-08-16      15968.47   \n",
       "28c7e2f2f92c93cddc30862027c7c22a              2018-08-05      15659.19   \n",
       "9cbf993976c6f81719a9c65358d58cc7              2018-08-11      15059.32   \n",
       "fe6efa303f3a39b8b72cf3fc9a413167              2018-08-09      13637.01   \n",
       "ebd52896f470ded68254f60175bf453b              2018-07-29      14140.09   \n",
       "f97a24cebf029e7cc9f248c82c915a5b              2018-07-28      13360.44   \n",
       "6bb04f7fd9f98858ec08886703acceab              2018-07-29      14140.09   \n",
       "57b875927063a728d4f29f1e50d96456              2018-07-28      13637.01   \n",
       "9cf260d9a66a5853ff077a71d5e93764              2018-07-28      13637.01   \n",
       "7647664460dd60eb54a905fc4aaa18aa              2018-07-29      13514.09   \n",
       "417601ad9ca9ec06a4aa194bd4e9e1f8              2018-07-28      13142.25   \n",
       "\n",
       "                                  Number of dates since posted  \\\n",
       "Project ID                                                       \n",
       "f664a4b580615ec134362beea4a7db81                      0.833241   \n",
       "3a1e9357a163fae01911b1628f4692fa                      0.000000   \n",
       "32f81e7617aeda8bddeb6db9c3979f43                      0.000000   \n",
       "b8743e15586241a71ed4708c5ca76eb3                      0.000000   \n",
       "5f1e1195575ab5e4afb3a3757e675d3c                      0.000000   \n",
       "45e4a6adba2c26ad63799c5afac16a8f                      0.000000   \n",
       "46bd4fa1d63f612d728774f7e41ef020                      0.414306   \n",
       "025761e7b80c3888cb2d37739c82f48b                      0.000000   \n",
       "58ff79f263604bf63a3d4e664eb80f69                      0.000000   \n",
       "8dfbe005e8cf3a6dc1afe71883e21a40                      0.000000   \n",
       "28c7e2f2f92c93cddc30862027c7c22a                      0.000000   \n",
       "9cbf993976c6f81719a9c65358d58cc7                      0.000000   \n",
       "fe6efa303f3a39b8b72cf3fc9a413167                      0.000000   \n",
       "ebd52896f470ded68254f60175bf453b                      0.770046   \n",
       "f97a24cebf029e7cc9f248c82c915a5b                      0.000000   \n",
       "6bb04f7fd9f98858ec08886703acceab                      1.056412   \n",
       "57b875927063a728d4f29f1e50d96456                      0.725938   \n",
       "9cf260d9a66a5853ff077a71d5e93764                      0.000000   \n",
       "7647664460dd60eb54a905fc4aaa18aa                      0.000000   \n",
       "417601ad9ca9ec06a4aa194bd4e9e1f8                      0.000000   \n",
       "\n",
       "                                 Last Donation Received Date  \\\n",
       "Project ID                                                     \n",
       "f664a4b580615ec134362beea4a7db81         2018-03-28 19:59:52   \n",
       "3a1e9357a163fae01911b1628f4692fa         2018-04-09 00:00:00   \n",
       "32f81e7617aeda8bddeb6db9c3979f43         2018-04-18 00:00:00   \n",
       "b8743e15586241a71ed4708c5ca76eb3         2018-04-09 00:00:00   \n",
       "5f1e1195575ab5e4afb3a3757e675d3c         2018-04-20 00:00:00   \n",
       "45e4a6adba2c26ad63799c5afac16a8f         2018-03-30 00:00:00   \n",
       "46bd4fa1d63f612d728774f7e41ef020         2018-03-26 09:56:36   \n",
       "025761e7b80c3888cb2d37739c82f48b         2018-04-16 00:00:00   \n",
       "58ff79f263604bf63a3d4e664eb80f69         2018-04-10 00:00:00   \n",
       "8dfbe005e8cf3a6dc1afe71883e21a40         2018-04-24 00:00:00   \n",
       "28c7e2f2f92c93cddc30862027c7c22a         2018-04-18 00:00:00   \n",
       "9cbf993976c6f81719a9c65358d58cc7         2018-04-24 00:00:00   \n",
       "fe6efa303f3a39b8b72cf3fc9a413167         2018-04-16 00:00:00   \n",
       "ebd52896f470ded68254f60175bf453b         2018-04-06 18:28:52   \n",
       "f97a24cebf029e7cc9f248c82c915a5b         2018-03-29 00:00:00   \n",
       "6bb04f7fd9f98858ec08886703acceab         2018-04-07 01:21:14   \n",
       "57b875927063a728d4f29f1e50d96456         2018-03-29 17:25:21   \n",
       "9cf260d9a66a5853ff077a71d5e93764         2018-03-29 00:00:00   \n",
       "7647664460dd60eb54a905fc4aaa18aa         2018-04-05 00:00:00   \n",
       "417601ad9ca9ec06a4aa194bd4e9e1f8         2018-04-02 00:00:00   \n",
       "\n",
       "                                 Project Posted Date  Donation Amount  \\\n",
       "Project ID                                                              \n",
       "f664a4b580615ec134362beea4a7db81          2018-03-28              1.0   \n",
       "3a1e9357a163fae01911b1628f4692fa          2018-04-09              0.0   \n",
       "32f81e7617aeda8bddeb6db9c3979f43          2018-04-18              0.0   \n",
       "b8743e15586241a71ed4708c5ca76eb3          2018-04-09              0.0   \n",
       "5f1e1195575ab5e4afb3a3757e675d3c          2018-04-20              0.0   \n",
       "45e4a6adba2c26ad63799c5afac16a8f          2018-03-30              0.0   \n",
       "46bd4fa1d63f612d728774f7e41ef020          2018-03-26             25.0   \n",
       "025761e7b80c3888cb2d37739c82f48b          2018-04-16              0.0   \n",
       "58ff79f263604bf63a3d4e664eb80f69          2018-04-10              0.0   \n",
       "8dfbe005e8cf3a6dc1afe71883e21a40          2018-04-24              0.0   \n",
       "28c7e2f2f92c93cddc30862027c7c22a          2018-04-18              0.0   \n",
       "9cbf993976c6f81719a9c65358d58cc7          2018-04-24              0.0   \n",
       "fe6efa303f3a39b8b72cf3fc9a413167          2018-04-16              0.0   \n",
       "ebd52896f470ded68254f60175bf453b          2018-04-06             25.0   \n",
       "f97a24cebf029e7cc9f248c82c915a5b          2018-03-29              0.0   \n",
       "6bb04f7fd9f98858ec08886703acceab          2018-04-06            100.0   \n",
       "57b875927063a728d4f29f1e50d96456          2018-03-29            100.0   \n",
       "9cf260d9a66a5853ff077a71d5e93764          2018-03-29              0.0   \n",
       "7647664460dd60eb54a905fc4aaa18aa          2018-04-05              0.0   \n",
       "417601ad9ca9ec06a4aa194bd4e9e1f8          2018-04-02              0.0   \n",
       "\n",
       "                                  School Percentage Free Lunch  Fund_Ratio_30  \\\n",
       "Project ID                                                                      \n",
       "f664a4b580615ec134362beea4a7db81                          89.0       0.000036   \n",
       "3a1e9357a163fae01911b1628f4692fa                          56.0       0.000000   \n",
       "32f81e7617aeda8bddeb6db9c3979f43                          54.0       0.000000   \n",
       "b8743e15586241a71ed4708c5ca76eb3                          88.0       0.000000   \n",
       "5f1e1195575ab5e4afb3a3757e675d3c                          73.0       0.000000   \n",
       "45e4a6adba2c26ad63799c5afac16a8f                          91.0       0.000000   \n",
       "46bd4fa1d63f612d728774f7e41ef020                          67.0       0.001517   \n",
       "025761e7b80c3888cb2d37739c82f48b                          70.0       0.000000   \n",
       "58ff79f263604bf63a3d4e664eb80f69                          82.0       0.000000   \n",
       "8dfbe005e8cf3a6dc1afe71883e21a40                          42.0       0.000000   \n",
       "28c7e2f2f92c93cddc30862027c7c22a                          77.0       0.000000   \n",
       "9cbf993976c6f81719a9c65358d58cc7                          95.0       0.000000   \n",
       "fe6efa303f3a39b8b72cf3fc9a413167                          90.0       0.000000   \n",
       "ebd52896f470ded68254f60175bf453b                          60.0       0.001768   \n",
       "f97a24cebf029e7cc9f248c82c915a5b                          95.0       0.000000   \n",
       "6bb04f7fd9f98858ec08886703acceab                          60.0       0.007072   \n",
       "57b875927063a728d4f29f1e50d96456                          87.0       0.007333   \n",
       "9cf260d9a66a5853ff077a71d5e93764                          45.0       0.000000   \n",
       "7647664460dd60eb54a905fc4aaa18aa                          31.0       0.000000   \n",
       "417601ad9ca9ec06a4aa194bd4e9e1f8                          72.0       0.000000   \n",
       "\n",
       "                                  School Metro Type_suburban  \\\n",
       "Project ID                                                     \n",
       "f664a4b580615ec134362beea4a7db81                           0   \n",
       "3a1e9357a163fae01911b1628f4692fa                           1   \n",
       "32f81e7617aeda8bddeb6db9c3979f43                           0   \n",
       "b8743e15586241a71ed4708c5ca76eb3                           0   \n",
       "5f1e1195575ab5e4afb3a3757e675d3c                           0   \n",
       "45e4a6adba2c26ad63799c5afac16a8f                           1   \n",
       "46bd4fa1d63f612d728774f7e41ef020                           1   \n",
       "025761e7b80c3888cb2d37739c82f48b                           0   \n",
       "58ff79f263604bf63a3d4e664eb80f69                           1   \n",
       "8dfbe005e8cf3a6dc1afe71883e21a40                           0   \n",
       "28c7e2f2f92c93cddc30862027c7c22a                           0   \n",
       "9cbf993976c6f81719a9c65358d58cc7                           0   \n",
       "fe6efa303f3a39b8b72cf3fc9a413167                           0   \n",
       "ebd52896f470ded68254f60175bf453b                           0   \n",
       "f97a24cebf029e7cc9f248c82c915a5b                           0   \n",
       "6bb04f7fd9f98858ec08886703acceab                           0   \n",
       "57b875927063a728d4f29f1e50d96456                           1   \n",
       "9cf260d9a66a5853ff077a71d5e93764                           0   \n",
       "7647664460dd60eb54a905fc4aaa18aa                           1   \n",
       "417601ad9ca9ec06a4aa194bd4e9e1f8                           0   \n",
       "\n",
       "                                  School Metro Type_town  ...  \\\n",
       "Project ID                                                ...   \n",
       "f664a4b580615ec134362beea4a7db81                       0  ...   \n",
       "3a1e9357a163fae01911b1628f4692fa                       0  ...   \n",
       "32f81e7617aeda8bddeb6db9c3979f43                       0  ...   \n",
       "b8743e15586241a71ed4708c5ca76eb3                       0  ...   \n",
       "5f1e1195575ab5e4afb3a3757e675d3c                       0  ...   \n",
       "45e4a6adba2c26ad63799c5afac16a8f                       0  ...   \n",
       "46bd4fa1d63f612d728774f7e41ef020                       0  ...   \n",
       "025761e7b80c3888cb2d37739c82f48b                       0  ...   \n",
       "58ff79f263604bf63a3d4e664eb80f69                       0  ...   \n",
       "8dfbe005e8cf3a6dc1afe71883e21a40                       0  ...   \n",
       "28c7e2f2f92c93cddc30862027c7c22a                       0  ...   \n",
       "9cbf993976c6f81719a9c65358d58cc7                       0  ...   \n",
       "fe6efa303f3a39b8b72cf3fc9a413167                       0  ...   \n",
       "ebd52896f470ded68254f60175bf453b                       0  ...   \n",
       "f97a24cebf029e7cc9f248c82c915a5b                       0  ...   \n",
       "6bb04f7fd9f98858ec08886703acceab                       0  ...   \n",
       "57b875927063a728d4f29f1e50d96456                       0  ...   \n",
       "9cf260d9a66a5853ff077a71d5e93764                       0  ...   \n",
       "7647664460dd60eb54a905fc4aaa18aa                       0  ...   \n",
       "417601ad9ca9ec06a4aa194bd4e9e1f8                       0  ...   \n",
       "\n",
       "                                  Teacher Prefix_Ms.  Teacher Prefix_Mx.  \\\n",
       "Project ID                                                                 \n",
       "f664a4b580615ec134362beea4a7db81                   1                   0   \n",
       "3a1e9357a163fae01911b1628f4692fa                   0                   0   \n",
       "32f81e7617aeda8bddeb6db9c3979f43                   0                   0   \n",
       "b8743e15586241a71ed4708c5ca76eb3                   1                   0   \n",
       "5f1e1195575ab5e4afb3a3757e675d3c                   0                   0   \n",
       "45e4a6adba2c26ad63799c5afac16a8f                   0                   0   \n",
       "46bd4fa1d63f612d728774f7e41ef020                   1                   0   \n",
       "025761e7b80c3888cb2d37739c82f48b                   0                   0   \n",
       "58ff79f263604bf63a3d4e664eb80f69                   0                   0   \n",
       "8dfbe005e8cf3a6dc1afe71883e21a40                   0                   0   \n",
       "28c7e2f2f92c93cddc30862027c7c22a                   0                   0   \n",
       "9cbf993976c6f81719a9c65358d58cc7                   1                   0   \n",
       "fe6efa303f3a39b8b72cf3fc9a413167                   0                   0   \n",
       "ebd52896f470ded68254f60175bf453b                   0                   0   \n",
       "f97a24cebf029e7cc9f248c82c915a5b                   0                   0   \n",
       "6bb04f7fd9f98858ec08886703acceab                   0                   0   \n",
       "57b875927063a728d4f29f1e50d96456                   0                   0   \n",
       "9cf260d9a66a5853ff077a71d5e93764                   0                   0   \n",
       "7647664460dd60eb54a905fc4aaa18aa                   1                   0   \n",
       "417601ad9ca9ec06a4aa194bd4e9e1f8                   0                   0   \n",
       "\n",
       "                                  Teacher Prefix_Teacher  \\\n",
       "Project ID                                                 \n",
       "f664a4b580615ec134362beea4a7db81                       0   \n",
       "3a1e9357a163fae01911b1628f4692fa                       0   \n",
       "32f81e7617aeda8bddeb6db9c3979f43                       0   \n",
       "b8743e15586241a71ed4708c5ca76eb3                       0   \n",
       "5f1e1195575ab5e4afb3a3757e675d3c                       0   \n",
       "45e4a6adba2c26ad63799c5afac16a8f                       0   \n",
       "46bd4fa1d63f612d728774f7e41ef020                       0   \n",
       "025761e7b80c3888cb2d37739c82f48b                       0   \n",
       "58ff79f263604bf63a3d4e664eb80f69                       0   \n",
       "8dfbe005e8cf3a6dc1afe71883e21a40                       0   \n",
       "28c7e2f2f92c93cddc30862027c7c22a                       0   \n",
       "9cbf993976c6f81719a9c65358d58cc7                       0   \n",
       "fe6efa303f3a39b8b72cf3fc9a413167                       0   \n",
       "ebd52896f470ded68254f60175bf453b                       0   \n",
       "f97a24cebf029e7cc9f248c82c915a5b                       0   \n",
       "6bb04f7fd9f98858ec08886703acceab                       0   \n",
       "57b875927063a728d4f29f1e50d96456                       0   \n",
       "9cf260d9a66a5853ff077a71d5e93764                       1   \n",
       "7647664460dd60eb54a905fc4aaa18aa                       0   \n",
       "417601ad9ca9ec06a4aa194bd4e9e1f8                       0   \n",
       "\n",
       "                                  Project Grade Level Category_Grades 6-8  \\\n",
       "Project ID                                                                  \n",
       "f664a4b580615ec134362beea4a7db81                                        1   \n",
       "3a1e9357a163fae01911b1628f4692fa                                        0   \n",
       "32f81e7617aeda8bddeb6db9c3979f43                                        0   \n",
       "b8743e15586241a71ed4708c5ca76eb3                                        0   \n",
       "5f1e1195575ab5e4afb3a3757e675d3c                                        1   \n",
       "45e4a6adba2c26ad63799c5afac16a8f                                        0   \n",
       "46bd4fa1d63f612d728774f7e41ef020                                        0   \n",
       "025761e7b80c3888cb2d37739c82f48b                                        0   \n",
       "58ff79f263604bf63a3d4e664eb80f69                                        0   \n",
       "8dfbe005e8cf3a6dc1afe71883e21a40                                        0   \n",
       "28c7e2f2f92c93cddc30862027c7c22a                                        0   \n",
       "9cbf993976c6f81719a9c65358d58cc7                                        0   \n",
       "fe6efa303f3a39b8b72cf3fc9a413167                                        0   \n",
       "ebd52896f470ded68254f60175bf453b                                        0   \n",
       "f97a24cebf029e7cc9f248c82c915a5b                                        0   \n",
       "6bb04f7fd9f98858ec08886703acceab                                        0   \n",
       "57b875927063a728d4f29f1e50d96456                                        0   \n",
       "9cf260d9a66a5853ff077a71d5e93764                                        1   \n",
       "7647664460dd60eb54a905fc4aaa18aa                                        0   \n",
       "417601ad9ca9ec06a4aa194bd4e9e1f8                                        0   \n",
       "\n",
       "                                  Project Grade Level Category_Grades 9-12  \\\n",
       "Project ID                                                                   \n",
       "f664a4b580615ec134362beea4a7db81                                         0   \n",
       "3a1e9357a163fae01911b1628f4692fa                                         0   \n",
       "32f81e7617aeda8bddeb6db9c3979f43                                         1   \n",
       "b8743e15586241a71ed4708c5ca76eb3                                         1   \n",
       "5f1e1195575ab5e4afb3a3757e675d3c                                         0   \n",
       "45e4a6adba2c26ad63799c5afac16a8f                                         0   \n",
       "46bd4fa1d63f612d728774f7e41ef020                                         0   \n",
       "025761e7b80c3888cb2d37739c82f48b                                         0   \n",
       "58ff79f263604bf63a3d4e664eb80f69                                         1   \n",
       "8dfbe005e8cf3a6dc1afe71883e21a40                                         0   \n",
       "28c7e2f2f92c93cddc30862027c7c22a                                         0   \n",
       "9cbf993976c6f81719a9c65358d58cc7                                         0   \n",
       "fe6efa303f3a39b8b72cf3fc9a413167                                         0   \n",
       "ebd52896f470ded68254f60175bf453b                                         0   \n",
       "f97a24cebf029e7cc9f248c82c915a5b                                         0   \n",
       "6bb04f7fd9f98858ec08886703acceab                                         0   \n",
       "57b875927063a728d4f29f1e50d96456                                         0   \n",
       "9cf260d9a66a5853ff077a71d5e93764                                         0   \n",
       "7647664460dd60eb54a905fc4aaa18aa                                         0   \n",
       "417601ad9ca9ec06a4aa194bd4e9e1f8                                         1   \n",
       "\n",
       "                                  Project Grade Level Category_Grades PreK-2  \\\n",
       "Project ID                                                                     \n",
       "f664a4b580615ec134362beea4a7db81                                           0   \n",
       "3a1e9357a163fae01911b1628f4692fa                                           0   \n",
       "32f81e7617aeda8bddeb6db9c3979f43                                           0   \n",
       "b8743e15586241a71ed4708c5ca76eb3                                           0   \n",
       "5f1e1195575ab5e4afb3a3757e675d3c                                           0   \n",
       "45e4a6adba2c26ad63799c5afac16a8f                                           1   \n",
       "46bd4fa1d63f612d728774f7e41ef020                                           0   \n",
       "025761e7b80c3888cb2d37739c82f48b                                           1   \n",
       "58ff79f263604bf63a3d4e664eb80f69                                           0   \n",
       "8dfbe005e8cf3a6dc1afe71883e21a40                                           0   \n",
       "28c7e2f2f92c93cddc30862027c7c22a                                           0   \n",
       "9cbf993976c6f81719a9c65358d58cc7                                           1   \n",
       "fe6efa303f3a39b8b72cf3fc9a413167                                           0   \n",
       "ebd52896f470ded68254f60175bf453b                                           0   \n",
       "f97a24cebf029e7cc9f248c82c915a5b                                           0   \n",
       "6bb04f7fd9f98858ec08886703acceab                                           0   \n",
       "57b875927063a728d4f29f1e50d96456                                           0   \n",
       "9cf260d9a66a5853ff077a71d5e93764                                           0   \n",
       "7647664460dd60eb54a905fc4aaa18aa                                           1   \n",
       "417601ad9ca9ec06a4aa194bd4e9e1f8                                           0   \n",
       "\n",
       "                                  Project Grade Level Category_unknown  Label  \\\n",
       "Project ID                                                                      \n",
       "f664a4b580615ec134362beea4a7db81                                     0      1   \n",
       "3a1e9357a163fae01911b1628f4692fa                                     0      1   \n",
       "32f81e7617aeda8bddeb6db9c3979f43                                     0      1   \n",
       "b8743e15586241a71ed4708c5ca76eb3                                     0      1   \n",
       "5f1e1195575ab5e4afb3a3757e675d3c                                     0      1   \n",
       "45e4a6adba2c26ad63799c5afac16a8f                                     0      1   \n",
       "46bd4fa1d63f612d728774f7e41ef020                                     0      1   \n",
       "025761e7b80c3888cb2d37739c82f48b                                     0      1   \n",
       "58ff79f263604bf63a3d4e664eb80f69                                     0      1   \n",
       "8dfbe005e8cf3a6dc1afe71883e21a40                                     0      1   \n",
       "28c7e2f2f92c93cddc30862027c7c22a                                     0      1   \n",
       "9cbf993976c6f81719a9c65358d58cc7                                     0      1   \n",
       "fe6efa303f3a39b8b72cf3fc9a413167                                     0      1   \n",
       "ebd52896f470ded68254f60175bf453b                                     0      1   \n",
       "f97a24cebf029e7cc9f248c82c915a5b                                     0      1   \n",
       "6bb04f7fd9f98858ec08886703acceab                                     0      1   \n",
       "57b875927063a728d4f29f1e50d96456                                     0      1   \n",
       "9cf260d9a66a5853ff077a71d5e93764                                     0      1   \n",
       "7647664460dd60eb54a905fc4aaa18aa                                     0      1   \n",
       "417601ad9ca9ec06a4aa194bd4e9e1f8                                     0      1   \n",
       "\n",
       "                                  Y_pred_test_prob  Y_pred_test  \n",
       "Project ID                                                       \n",
       "f664a4b580615ec134362beea4a7db81               1.0            1  \n",
       "3a1e9357a163fae01911b1628f4692fa               1.0            1  \n",
       "32f81e7617aeda8bddeb6db9c3979f43               1.0            1  \n",
       "b8743e15586241a71ed4708c5ca76eb3               1.0            1  \n",
       "5f1e1195575ab5e4afb3a3757e675d3c               1.0            1  \n",
       "45e4a6adba2c26ad63799c5afac16a8f               1.0            1  \n",
       "46bd4fa1d63f612d728774f7e41ef020               1.0            1  \n",
       "025761e7b80c3888cb2d37739c82f48b               1.0            1  \n",
       "58ff79f263604bf63a3d4e664eb80f69               1.0            1  \n",
       "8dfbe005e8cf3a6dc1afe71883e21a40               1.0            1  \n",
       "28c7e2f2f92c93cddc30862027c7c22a               1.0            1  \n",
       "9cbf993976c6f81719a9c65358d58cc7               1.0            1  \n",
       "fe6efa303f3a39b8b72cf3fc9a413167               1.0            1  \n",
       "ebd52896f470ded68254f60175bf453b               1.0            1  \n",
       "f97a24cebf029e7cc9f248c82c915a5b               1.0            1  \n",
       "6bb04f7fd9f98858ec08886703acceab               1.0            1  \n",
       "57b875927063a728d4f29f1e50d96456               1.0            1  \n",
       "9cf260d9a66a5853ff077a71d5e93764               1.0            1  \n",
       "7647664460dd60eb54a905fc4aaa18aa               1.0            1  \n",
       "417601ad9ca9ec06a4aa194bd4e9e1f8               1.0            1  \n",
       "\n",
       "[20 rows x 24 columns]"
      ]
     },
     "execution_count": 190,
     "metadata": {},
     "output_type": "execute_result"
    }
   ],
   "source": [
    "T100.head(20)"
   ]
  },
  {
   "cell_type": "code",
   "execution_count": 255,
   "metadata": {},
   "outputs": [
    {
     "ename": "NameError",
     "evalue": "name 'LR_accT' is not defined",
     "output_type": "error",
     "traceback": [
      "\u001b[1;31m---------------------------------------------------------------------------\u001b[0m",
      "\u001b[1;31mNameError\u001b[0m                                 Traceback (most recent call last)",
      "\u001b[1;32m<ipython-input-255-a8a57766660e>\u001b[0m in \u001b[0;36m<module>\u001b[1;34m\u001b[0m\n\u001b[1;32m----> 1\u001b[1;33m \u001b[0mplt\u001b[0m\u001b[1;33m.\u001b[0m\u001b[0mplot\u001b[0m\u001b[1;33m(\u001b[0m\u001b[0mT\u001b[0m\u001b[1;33m,\u001b[0m\u001b[0mLR_accT\u001b[0m\u001b[1;33m)\u001b[0m\u001b[1;33m\u001b[0m\u001b[1;33m\u001b[0m\u001b[0m\n\u001b[0m\u001b[0;32m      2\u001b[0m \u001b[0mplt\u001b[0m\u001b[1;33m.\u001b[0m\u001b[0mshow\u001b[0m\u001b[1;33m(\u001b[0m\u001b[1;33m)\u001b[0m\u001b[1;33m\u001b[0m\u001b[1;33m\u001b[0m\u001b[0m\n\u001b[0;32m      3\u001b[0m \u001b[0mplt\u001b[0m\u001b[1;33m.\u001b[0m\u001b[0mplot\u001b[0m\u001b[1;33m(\u001b[0m\u001b[0mT\u001b[0m\u001b[1;33m,\u001b[0m\u001b[0mLR_acc\u001b[0m\u001b[1;33m)\u001b[0m\u001b[1;33m\u001b[0m\u001b[1;33m\u001b[0m\u001b[0m\n\u001b[0;32m      4\u001b[0m \u001b[0mplt\u001b[0m\u001b[1;33m.\u001b[0m\u001b[0mshow\u001b[0m\u001b[1;33m(\u001b[0m\u001b[1;33m)\u001b[0m\u001b[1;33m\u001b[0m\u001b[1;33m\u001b[0m\u001b[0m\n",
      "\u001b[1;31mNameError\u001b[0m: name 'LR_accT' is not defined"
     ]
    }
   ],
   "source": [
    "plt.plot(T,LR_accT)\n",
    "plt.show()\n",
    "plt.plot(T,LR_acc)\n",
    "plt.show()"
   ]
  },
  {
   "cell_type": "code",
   "execution_count": 256,
   "metadata": {},
   "outputs": [
    {
     "ename": "ValueError",
     "evalue": "x and y must have same first dimension, but have shapes (132,) and (66,)",
     "output_type": "error",
     "traceback": [
      "\u001b[1;31m---------------------------------------------------------------------------\u001b[0m",
      "\u001b[1;31mValueError\u001b[0m                                Traceback (most recent call last)",
      "\u001b[1;32m<ipython-input-256-eff5117b74f3>\u001b[0m in \u001b[0;36m<module>\u001b[1;34m\u001b[0m\n\u001b[1;32m----> 1\u001b[1;33m \u001b[0mplt\u001b[0m\u001b[1;33m.\u001b[0m\u001b[0mplot\u001b[0m\u001b[1;33m(\u001b[0m\u001b[0mT\u001b[0m\u001b[1;33m,\u001b[0m\u001b[0mDT_accT\u001b[0m\u001b[1;33m)\u001b[0m\u001b[1;33m\u001b[0m\u001b[1;33m\u001b[0m\u001b[0m\n\u001b[0m\u001b[0;32m      2\u001b[0m \u001b[0mplt\u001b[0m\u001b[1;33m.\u001b[0m\u001b[0mshow\u001b[0m\u001b[1;33m(\u001b[0m\u001b[1;33m)\u001b[0m\u001b[1;33m\u001b[0m\u001b[1;33m\u001b[0m\u001b[0m\n\u001b[0;32m      3\u001b[0m \u001b[0mplt\u001b[0m\u001b[1;33m.\u001b[0m\u001b[0mplot\u001b[0m\u001b[1;33m(\u001b[0m\u001b[0mT\u001b[0m\u001b[1;33m,\u001b[0m\u001b[0mDT_acc\u001b[0m\u001b[1;33m)\u001b[0m\u001b[1;33m\u001b[0m\u001b[1;33m\u001b[0m\u001b[0m\n\u001b[0;32m      4\u001b[0m \u001b[0mplt\u001b[0m\u001b[1;33m.\u001b[0m\u001b[0mshow\u001b[0m\u001b[1;33m(\u001b[0m\u001b[1;33m)\u001b[0m\u001b[1;33m\u001b[0m\u001b[1;33m\u001b[0m\u001b[0m\n",
      "\u001b[1;32mC:\\ProgramData\\Anaconda3\\lib\\site-packages\\matplotlib\\pyplot.py\u001b[0m in \u001b[0;36mplot\u001b[1;34m(scalex, scaley, data, *args, **kwargs)\u001b[0m\n\u001b[0;32m   2761\u001b[0m     return gca().plot(\n\u001b[0;32m   2762\u001b[0m         *args, scalex=scalex, scaley=scaley, **({\"data\": data} if data\n\u001b[1;32m-> 2763\u001b[1;33m         is not None else {}), **kwargs)\n\u001b[0m\u001b[0;32m   2764\u001b[0m \u001b[1;33m\u001b[0m\u001b[0m\n\u001b[0;32m   2765\u001b[0m \u001b[1;33m\u001b[0m\u001b[0m\n",
      "\u001b[1;32mC:\\ProgramData\\Anaconda3\\lib\\site-packages\\matplotlib\\axes\\_axes.py\u001b[0m in \u001b[0;36mplot\u001b[1;34m(self, scalex, scaley, data, *args, **kwargs)\u001b[0m\n\u001b[0;32m   1645\u001b[0m         \"\"\"\n\u001b[0;32m   1646\u001b[0m         \u001b[0mkwargs\u001b[0m \u001b[1;33m=\u001b[0m \u001b[0mcbook\u001b[0m\u001b[1;33m.\u001b[0m\u001b[0mnormalize_kwargs\u001b[0m\u001b[1;33m(\u001b[0m\u001b[0mkwargs\u001b[0m\u001b[1;33m,\u001b[0m \u001b[0mmlines\u001b[0m\u001b[1;33m.\u001b[0m\u001b[0mLine2D\u001b[0m\u001b[1;33m)\u001b[0m\u001b[1;33m\u001b[0m\u001b[1;33m\u001b[0m\u001b[0m\n\u001b[1;32m-> 1647\u001b[1;33m         \u001b[0mlines\u001b[0m \u001b[1;33m=\u001b[0m \u001b[1;33m[\u001b[0m\u001b[1;33m*\u001b[0m\u001b[0mself\u001b[0m\u001b[1;33m.\u001b[0m\u001b[0m_get_lines\u001b[0m\u001b[1;33m(\u001b[0m\u001b[1;33m*\u001b[0m\u001b[0margs\u001b[0m\u001b[1;33m,\u001b[0m \u001b[0mdata\u001b[0m\u001b[1;33m=\u001b[0m\u001b[0mdata\u001b[0m\u001b[1;33m,\u001b[0m \u001b[1;33m**\u001b[0m\u001b[0mkwargs\u001b[0m\u001b[1;33m)\u001b[0m\u001b[1;33m]\u001b[0m\u001b[1;33m\u001b[0m\u001b[1;33m\u001b[0m\u001b[0m\n\u001b[0m\u001b[0;32m   1648\u001b[0m         \u001b[1;32mfor\u001b[0m \u001b[0mline\u001b[0m \u001b[1;32min\u001b[0m \u001b[0mlines\u001b[0m\u001b[1;33m:\u001b[0m\u001b[1;33m\u001b[0m\u001b[1;33m\u001b[0m\u001b[0m\n\u001b[0;32m   1649\u001b[0m             \u001b[0mself\u001b[0m\u001b[1;33m.\u001b[0m\u001b[0madd_line\u001b[0m\u001b[1;33m(\u001b[0m\u001b[0mline\u001b[0m\u001b[1;33m)\u001b[0m\u001b[1;33m\u001b[0m\u001b[1;33m\u001b[0m\u001b[0m\n",
      "\u001b[1;32mC:\\ProgramData\\Anaconda3\\lib\\site-packages\\matplotlib\\axes\\_base.py\u001b[0m in \u001b[0;36m__call__\u001b[1;34m(self, *args, **kwargs)\u001b[0m\n\u001b[0;32m    214\u001b[0m                 \u001b[0mthis\u001b[0m \u001b[1;33m+=\u001b[0m \u001b[0margs\u001b[0m\u001b[1;33m[\u001b[0m\u001b[1;36m0\u001b[0m\u001b[1;33m]\u001b[0m\u001b[1;33m,\u001b[0m\u001b[1;33m\u001b[0m\u001b[1;33m\u001b[0m\u001b[0m\n\u001b[0;32m    215\u001b[0m                 \u001b[0margs\u001b[0m \u001b[1;33m=\u001b[0m \u001b[0margs\u001b[0m\u001b[1;33m[\u001b[0m\u001b[1;36m1\u001b[0m\u001b[1;33m:\u001b[0m\u001b[1;33m]\u001b[0m\u001b[1;33m\u001b[0m\u001b[1;33m\u001b[0m\u001b[0m\n\u001b[1;32m--> 216\u001b[1;33m             \u001b[1;32myield\u001b[0m \u001b[1;32mfrom\u001b[0m \u001b[0mself\u001b[0m\u001b[1;33m.\u001b[0m\u001b[0m_plot_args\u001b[0m\u001b[1;33m(\u001b[0m\u001b[0mthis\u001b[0m\u001b[1;33m,\u001b[0m \u001b[0mkwargs\u001b[0m\u001b[1;33m)\u001b[0m\u001b[1;33m\u001b[0m\u001b[1;33m\u001b[0m\u001b[0m\n\u001b[0m\u001b[0;32m    217\u001b[0m \u001b[1;33m\u001b[0m\u001b[0m\n\u001b[0;32m    218\u001b[0m     \u001b[1;32mdef\u001b[0m \u001b[0mget_next_color\u001b[0m\u001b[1;33m(\u001b[0m\u001b[0mself\u001b[0m\u001b[1;33m)\u001b[0m\u001b[1;33m:\u001b[0m\u001b[1;33m\u001b[0m\u001b[1;33m\u001b[0m\u001b[0m\n",
      "\u001b[1;32mC:\\ProgramData\\Anaconda3\\lib\\site-packages\\matplotlib\\axes\\_base.py\u001b[0m in \u001b[0;36m_plot_args\u001b[1;34m(self, tup, kwargs)\u001b[0m\n\u001b[0;32m    340\u001b[0m \u001b[1;33m\u001b[0m\u001b[0m\n\u001b[0;32m    341\u001b[0m         \u001b[1;32mif\u001b[0m \u001b[0mx\u001b[0m\u001b[1;33m.\u001b[0m\u001b[0mshape\u001b[0m\u001b[1;33m[\u001b[0m\u001b[1;36m0\u001b[0m\u001b[1;33m]\u001b[0m \u001b[1;33m!=\u001b[0m \u001b[0my\u001b[0m\u001b[1;33m.\u001b[0m\u001b[0mshape\u001b[0m\u001b[1;33m[\u001b[0m\u001b[1;36m0\u001b[0m\u001b[1;33m]\u001b[0m\u001b[1;33m:\u001b[0m\u001b[1;33m\u001b[0m\u001b[1;33m\u001b[0m\u001b[0m\n\u001b[1;32m--> 342\u001b[1;33m             raise ValueError(f\"x and y must have same first dimension, but \"\n\u001b[0m\u001b[0;32m    343\u001b[0m                              f\"have shapes {x.shape} and {y.shape}\")\n\u001b[0;32m    344\u001b[0m         \u001b[1;32mif\u001b[0m \u001b[0mx\u001b[0m\u001b[1;33m.\u001b[0m\u001b[0mndim\u001b[0m \u001b[1;33m>\u001b[0m \u001b[1;36m2\u001b[0m \u001b[1;32mor\u001b[0m \u001b[0my\u001b[0m\u001b[1;33m.\u001b[0m\u001b[0mndim\u001b[0m \u001b[1;33m>\u001b[0m \u001b[1;36m2\u001b[0m\u001b[1;33m:\u001b[0m\u001b[1;33m\u001b[0m\u001b[1;33m\u001b[0m\u001b[0m\n",
      "\u001b[1;31mValueError\u001b[0m: x and y must have same first dimension, but have shapes (132,) and (66,)"
     ]
    },
    {
     "data": {
      "image/png": "[encoded data removed]",
      "text/plain": [
       "<Figure size 432x288 with 1 Axes>"
      ]
     },
     "metadata": {
      "needs_background": "light"
     },
     "output_type": "display_data"
    }
   ],
   "source": [
    "plt.plot(T,DT_accT)\n",
    "plt.show()\n",
    "plt.plot(T,DT_acc)\n",
    "plt.show()"
   ]
  },
  {
   "cell_type": "code",
   "execution_count": 193,
   "metadata": {},
   "outputs": [
    {
     "data": {
      "image/png": "[encoded data removed]",
      "text/plain": [
       "<Figure size 432x288 with 1 Axes>"
      ]
     },
     "metadata": {
      "needs_background": "light"
     },
     "output_type": "display_data"
    },
    {
     "data": {
      "image/png": "[encoded data removed]",
      "text/plain": [
       "<Figure size 432x288 with 1 Axes>"
      ]
     },
     "metadata": {
      "needs_background": "light"
     },
     "output_type": "display_data"
    }
   ],
   "source": [
    "plt.plot(T,XGB_accT)\n",
    "plt.show()\n",
    "plt.plot(T,XGB_acc)\n",
    "plt.show()"
   ]
  },
  {
   "cell_type": "code",
   "execution_count": 194,
   "metadata": {},
   "outputs": [
    {
     "data": {
      "image/png": "[encoded data removed]",
      "text/plain": [
       "<Figure size 432x288 with 1 Axes>"
      ]
     },
     "metadata": {
      "needs_background": "light"
     },
     "output_type": "display_data"
    },
    {
     "data": {
      "text/plain": [
       "[<matplotlib.lines.Line2D at 0x1cc1051bac8>]"
      ]
     },
     "execution_count": 194,
     "metadata": {},
     "output_type": "execute_result"
    },
    {
     "data": {
      "image/png": "[encoded data removed]",
      "text/plain": [
       "<Figure size 432x288 with 1 Axes>"
      ]
     },
     "metadata": {
      "needs_background": "light"
     },
     "output_type": "display_data"
    }
   ],
   "source": [
    "plt.plot(T,prT)\n",
    "plt.show()\n",
    "plt.plot(T,pr)"
   ]
  },
  {
   "cell_type": "code",
   "execution_count": 195,
   "metadata": {},
   "outputs": [
    {
     "data": {
      "image/png": "[encoded data removed]",
      "text/plain": [
       "<Figure size 432x288 with 1 Axes>"
      ]
     },
     "metadata": {
      "needs_background": "light"
     },
     "output_type": "display_data"
    },
    {
     "data": {
      "text/plain": [
       "[<matplotlib.lines.Line2D at 0x1cb312dce48>]"
      ]
     },
     "execution_count": 195,
     "metadata": {},
     "output_type": "execute_result"
    },
    {
     "data": {
      "image/png": "[encoded data removed]",
      "text/plain": [
       "<Figure size 432x288 with 1 Axes>"
      ]
     },
     "metadata": {
      "needs_background": "light"
     },
     "output_type": "display_data"
    }
   ],
   "source": [
    "plt.plot(T,DT_prT)\n",
    "plt.show()\n",
    "plt.plot(T,DT_pr)"
   ]
  },
  {
   "cell_type": "code",
   "execution_count": 196,
   "metadata": {},
   "outputs": [
    {
     "data": {
      "image/png": "[encoded data removed]",
      "text/plain": [
       "<Figure size 432x288 with 1 Axes>"
      ]
     },
     "metadata": {
      "needs_background": "light"
     },
     "output_type": "display_data"
    },
    {
     "data": {
      "text/plain": [
       "[<matplotlib.lines.Line2D at 0x1cc72dac548>]"
      ]
     },
     "execution_count": 196,
     "metadata": {},
     "output_type": "execute_result"
    },
    {
     "data": {
      "image/png": "[encoded data removed]",
      "text/plain": [
       "<Figure size 432x288 with 1 Axes>"
      ]
     },
     "metadata": {
      "needs_background": "light"
     },
     "output_type": "display_data"
    }
   ],
   "source": [
    "plt.plot(T,XGB_prT)\n",
    "plt.show()\n",
    "plt.plot(T,XGB_pr)"
   ]
  },
  {
   "cell_type": "code",
   "execution_count": 197,
   "metadata": {},
   "outputs": [
    {
     "data": {
      "image/png": "[encoded data removed]",
      "text/plain": [
       "<Figure size 432x288 with 1 Axes>"
      ]
     },
     "metadata": {
      "needs_background": "light"
     },
     "output_type": "display_data"
    },
    {
     "data": {
      "image/png": "[encoded data removed]",
      "text/plain": [
       "<Figure size 432x288 with 1 Axes>"
      ]
     },
     "metadata": {
      "needs_background": "light"
     },
     "output_type": "display_data"
    }
   ],
   "source": [
    "plt.plot(T,reT)\n",
    "plt.show()\n",
    "plt.plot(T,re)\n",
    "plt.show()"
   ]
  },
  {
   "cell_type": "code",
   "execution_count": 198,
   "metadata": {},
   "outputs": [
    {
     "data": {
      "image/png": "[encoded data removed]",
      "text/plain": [
       "<Figure size 432x288 with 1 Axes>"
      ]
     },
     "metadata": {
      "needs_background": "light"
     },
     "output_type": "display_data"
    },
    {
     "data": {
      "image/png": "[encoded data removed]",
      "text/plain": [
       "<Figure size 432x288 with 1 Axes>"
      ]
     },
     "metadata": {
      "needs_background": "light"
     },
     "output_type": "display_data"
    }
   ],
   "source": [
    "plt.plot(T,DT_reT)\n",
    "plt.show()\n",
    "plt.plot(T,DT_re)\n",
    "plt.show()"
   ]
  },
  {
   "cell_type": "code",
   "execution_count": 199,
   "metadata": {},
   "outputs": [
    {
     "data": {
      "image/png": "[encoded data removed]",
      "text/plain": [
       "<Figure size 432x288 with 1 Axes>"
      ]
     },
     "metadata": {
      "needs_background": "light"
     },
     "output_type": "display_data"
    },
    {
     "data": {
      "image/png": "[encoded data removed]",
      "text/plain": [
       "<Figure size 432x288 with 1 Axes>"
      ]
     },
     "metadata": {
      "needs_background": "light"
     },
     "output_type": "display_data"
    }
   ],
   "source": [
    "plt.plot(T,XGB_reT)\n",
    "plt.show()\n",
    "plt.plot(T,XGB_re)\n",
    "plt.show()"
   ]
  },
  {
   "cell_type": "code",
   "execution_count": 200,
   "metadata": {},
   "outputs": [
    {
     "data": {
      "image/png": "[encoded data removed]",
      "text/plain": [
       "<Figure size 432x288 with 1 Axes>"
      ]
     },
     "metadata": {
      "needs_background": "light"
     },
     "output_type": "display_data"
    }
   ],
   "source": [
    "plt.plot(T,reT)\n",
    "plt.show()"
   ]
  },
  {
   "cell_type": "code",
   "execution_count": 201,
   "metadata": {},
   "outputs": [
    {
     "data": {
      "image/png": "[encoded data removed]",
      "text/plain": [
       "<Figure size 432x288 with 1 Axes>"
      ]
     },
     "metadata": {
      "needs_background": "light"
     },
     "output_type": "display_data"
    }
   ],
   "source": [
    "plt.plot(T,DT_reT)\n",
    "plt.show()"
   ]
  },
  {
   "cell_type": "code",
   "execution_count": 202,
   "metadata": {},
   "outputs": [
    {
     "data": {
      "image/png": "[encoded data removed]",
      "text/plain": [
       "<Figure size 432x288 with 1 Axes>"
      ]
     },
     "metadata": {
      "needs_background": "light"
     },
     "output_type": "display_data"
    }
   ],
   "source": [
    "plt.plot(T,XGB_reT)\n",
    "plt.show()"
   ]
  },
  {
   "cell_type": "code",
   "execution_count": null,
   "metadata": {},
   "outputs": [],
   "source": [
    "print(\"As of Date:\",T_current)\n",
    "# X_train = Train_Data_Final.loc[:,Model_variables]\n",
    "# X_train.head()\n",
    "# Y_train =  Train_Data_Final.loc[:,[\"Label\"]]\n",
    "# Y_train\n",
    "\n",
    "# X_test = Test_Data_Final.loc[:,Model_variables]\n",
    "# X_test.head()\n",
    "# Y_test =  Test_Data_Final.loc[:,[\"Label\"]]\n",
    "# Y_test\n",
    "\n",
    "from pandas import DataFrame\n",
    "import seaborn as sn\n",
    "highCo=[\"Label\"]+Model_variables\n",
    "df = DataFrame(C_Data,columns=highCo)\n",
    "fig, ax = plt.subplots(figsize=(15,10),sharex=True, sharey=True) \n",
    "corrMatrix = df.corr()\n",
    "sn.heatmap(corrMatrix, annot=True,annot_kws={\"size\": 15},ax=ax)\n",
    "highCo"
   ]
  },
  {
   "cell_type": "code",
   "execution_count": 214,
   "metadata": {},
   "outputs": [],
   "source": [
    "Y_test=Test_Data_Final[\"Label\"]"
   ]
  },
  {
   "cell_type": "code",
   "execution_count": 215,
   "metadata": {},
   "outputs": [
    {
     "data": {
      "text/html": [
       "<div>\n",
       "<style scoped>\n",
       "    .dataframe tbody tr th:only-of-type {\n",
       "        vertical-align: middle;\n",
       "    }\n",
       "\n",
       "    .dataframe tbody tr th {\n",
       "        vertical-align: top;\n",
       "    }\n",
       "\n",
       "    .dataframe thead th {\n",
       "        text-align: right;\n",
       "    }\n",
       "</style>\n",
       "<table border=\"1\" class=\"dataframe\">\n",
       "  <thead>\n",
       "    <tr style=\"text-align: right;\">\n",
       "      <th></th>\n",
       "      <th>School Metro Type_unknown</th>\n",
       "      <th>Project Cost</th>\n",
       "      <th>Project Grade Level Category_unknown</th>\n",
       "      <th>Project Grade Level Category_Grades 6-8</th>\n",
       "      <th>Number of dates since posted</th>\n",
       "      <th>Teacher Prefix_Ms.</th>\n",
       "      <th>School Metro Type_town</th>\n",
       "      <th>Teacher Prefix_Mrs.</th>\n",
       "      <th>School Metro Type_urban</th>\n",
       "      <th>Project Grade Level Category_Grades 9-12</th>\n",
       "      <th>School Metro Type_suburban</th>\n",
       "      <th>Teacher Prefix_Teacher</th>\n",
       "      <th>Teacher Prefix_Mr.</th>\n",
       "      <th>Teacher Prefix_Mx.</th>\n",
       "      <th>School Percentage Free Lunch</th>\n",
       "      <th>Project Grade Level Category_Grades PreK-2</th>\n",
       "    </tr>\n",
       "    <tr>\n",
       "      <th>Project ID</th>\n",
       "      <th></th>\n",
       "      <th></th>\n",
       "      <th></th>\n",
       "      <th></th>\n",
       "      <th></th>\n",
       "      <th></th>\n",
       "      <th></th>\n",
       "      <th></th>\n",
       "      <th></th>\n",
       "      <th></th>\n",
       "      <th></th>\n",
       "      <th></th>\n",
       "      <th></th>\n",
       "      <th></th>\n",
       "      <th></th>\n",
       "      <th></th>\n",
       "    </tr>\n",
       "  </thead>\n",
       "  <tbody>\n",
       "    <tr>\n",
       "      <th>f664a4b580615ec134362beea4a7db81</th>\n",
       "      <td>0</td>\n",
       "      <td>27972.85</td>\n",
       "      <td>0</td>\n",
       "      <td>1</td>\n",
       "      <td>0.833241</td>\n",
       "      <td>1</td>\n",
       "      <td>0</td>\n",
       "      <td>0</td>\n",
       "      <td>1</td>\n",
       "      <td>0</td>\n",
       "      <td>0</td>\n",
       "      <td>0</td>\n",
       "      <td>0</td>\n",
       "      <td>0</td>\n",
       "      <td>89.0</td>\n",
       "      <td>0</td>\n",
       "    </tr>\n",
       "    <tr>\n",
       "      <th>3a1e9357a163fae01911b1628f4692fa</th>\n",
       "      <td>0</td>\n",
       "      <td>44648.42</td>\n",
       "      <td>0</td>\n",
       "      <td>0</td>\n",
       "      <td>0.000000</td>\n",
       "      <td>0</td>\n",
       "      <td>0</td>\n",
       "      <td>0</td>\n",
       "      <td>0</td>\n",
       "      <td>0</td>\n",
       "      <td>1</td>\n",
       "      <td>0</td>\n",
       "      <td>1</td>\n",
       "      <td>0</td>\n",
       "      <td>56.0</td>\n",
       "      <td>0</td>\n",
       "    </tr>\n",
       "    <tr>\n",
       "      <th>32f81e7617aeda8bddeb6db9c3979f43</th>\n",
       "      <td>0</td>\n",
       "      <td>24961.42</td>\n",
       "      <td>0</td>\n",
       "      <td>0</td>\n",
       "      <td>0.000000</td>\n",
       "      <td>0</td>\n",
       "      <td>0</td>\n",
       "      <td>0</td>\n",
       "      <td>1</td>\n",
       "      <td>1</td>\n",
       "      <td>0</td>\n",
       "      <td>0</td>\n",
       "      <td>1</td>\n",
       "      <td>0</td>\n",
       "      <td>54.0</td>\n",
       "      <td>0</td>\n",
       "    </tr>\n",
       "    <tr>\n",
       "      <th>b8743e15586241a71ed4708c5ca76eb3</th>\n",
       "      <td>0</td>\n",
       "      <td>66454.25</td>\n",
       "      <td>0</td>\n",
       "      <td>0</td>\n",
       "      <td>0.000000</td>\n",
       "      <td>1</td>\n",
       "      <td>0</td>\n",
       "      <td>0</td>\n",
       "      <td>1</td>\n",
       "      <td>1</td>\n",
       "      <td>0</td>\n",
       "      <td>0</td>\n",
       "      <td>0</td>\n",
       "      <td>0</td>\n",
       "      <td>88.0</td>\n",
       "      <td>0</td>\n",
       "    </tr>\n",
       "    <tr>\n",
       "      <th>5f1e1195575ab5e4afb3a3757e675d3c</th>\n",
       "      <td>0</td>\n",
       "      <td>19091.74</td>\n",
       "      <td>0</td>\n",
       "      <td>1</td>\n",
       "      <td>0.000000</td>\n",
       "      <td>0</td>\n",
       "      <td>0</td>\n",
       "      <td>1</td>\n",
       "      <td>1</td>\n",
       "      <td>0</td>\n",
       "      <td>0</td>\n",
       "      <td>0</td>\n",
       "      <td>0</td>\n",
       "      <td>0</td>\n",
       "      <td>73.0</td>\n",
       "      <td>0</td>\n",
       "    </tr>\n",
       "    <tr>\n",
       "      <th>...</th>\n",
       "      <td>...</td>\n",
       "      <td>...</td>\n",
       "      <td>...</td>\n",
       "      <td>...</td>\n",
       "      <td>...</td>\n",
       "      <td>...</td>\n",
       "      <td>...</td>\n",
       "      <td>...</td>\n",
       "      <td>...</td>\n",
       "      <td>...</td>\n",
       "      <td>...</td>\n",
       "      <td>...</td>\n",
       "      <td>...</td>\n",
       "      <td>...</td>\n",
       "      <td>...</td>\n",
       "      <td>...</td>\n",
       "    </tr>\n",
       "    <tr>\n",
       "      <th>7b5156f38990963332b33298c8bae25e</th>\n",
       "      <td>0</td>\n",
       "      <td>183.14</td>\n",
       "      <td>0</td>\n",
       "      <td>1</td>\n",
       "      <td>2.863218</td>\n",
       "      <td>1</td>\n",
       "      <td>0</td>\n",
       "      <td>0</td>\n",
       "      <td>0</td>\n",
       "      <td>0</td>\n",
       "      <td>0</td>\n",
       "      <td>0</td>\n",
       "      <td>0</td>\n",
       "      <td>0</td>\n",
       "      <td>33.0</td>\n",
       "      <td>0</td>\n",
       "    </tr>\n",
       "    <tr>\n",
       "      <th>a95af5d07a16b350c6692228590df8e4</th>\n",
       "      <td>0</td>\n",
       "      <td>252.55</td>\n",
       "      <td>0</td>\n",
       "      <td>0</td>\n",
       "      <td>2.983981</td>\n",
       "      <td>0</td>\n",
       "      <td>0</td>\n",
       "      <td>1</td>\n",
       "      <td>1</td>\n",
       "      <td>1</td>\n",
       "      <td>0</td>\n",
       "      <td>0</td>\n",
       "      <td>0</td>\n",
       "      <td>0</td>\n",
       "      <td>13.0</td>\n",
       "      <td>0</td>\n",
       "    </tr>\n",
       "    <tr>\n",
       "      <th>11a7fef52a4f8e4d49db5857c6828fc0</th>\n",
       "      <td>0</td>\n",
       "      <td>410.20</td>\n",
       "      <td>0</td>\n",
       "      <td>0</td>\n",
       "      <td>2.997813</td>\n",
       "      <td>1</td>\n",
       "      <td>0</td>\n",
       "      <td>0</td>\n",
       "      <td>1</td>\n",
       "      <td>0</td>\n",
       "      <td>0</td>\n",
       "      <td>0</td>\n",
       "      <td>0</td>\n",
       "      <td>0</td>\n",
       "      <td>6.0</td>\n",
       "      <td>0</td>\n",
       "    </tr>\n",
       "    <tr>\n",
       "      <th>e66cf6c1c2a93f67329c4fafff6b103d</th>\n",
       "      <td>0</td>\n",
       "      <td>177.91</td>\n",
       "      <td>0</td>\n",
       "      <td>0</td>\n",
       "      <td>2.996690</td>\n",
       "      <td>1</td>\n",
       "      <td>0</td>\n",
       "      <td>0</td>\n",
       "      <td>1</td>\n",
       "      <td>0</td>\n",
       "      <td>0</td>\n",
       "      <td>0</td>\n",
       "      <td>0</td>\n",
       "      <td>0</td>\n",
       "      <td>21.0</td>\n",
       "      <td>1</td>\n",
       "    </tr>\n",
       "    <tr>\n",
       "      <th>07ef19a934a5c5b5d7cef1a59121d6e6</th>\n",
       "      <td>0</td>\n",
       "      <td>166.33</td>\n",
       "      <td>0</td>\n",
       "      <td>1</td>\n",
       "      <td>2.685880</td>\n",
       "      <td>1</td>\n",
       "      <td>0</td>\n",
       "      <td>0</td>\n",
       "      <td>1</td>\n",
       "      <td>0</td>\n",
       "      <td>0</td>\n",
       "      <td>0</td>\n",
       "      <td>0</td>\n",
       "      <td>0</td>\n",
       "      <td>2.0</td>\n",
       "      <td>0</td>\n",
       "    </tr>\n",
       "  </tbody>\n",
       "</table>\n",
       "<p>58597 rows × 16 columns</p>\n",
       "</div>"
      ],
      "text/plain": [
       "                                  School Metro Type_unknown  Project Cost  \\\n",
       "Project ID                                                                  \n",
       "f664a4b580615ec134362beea4a7db81                          0      27972.85   \n",
       "3a1e9357a163fae01911b1628f4692fa                          0      44648.42   \n",
       "32f81e7617aeda8bddeb6db9c3979f43                          0      24961.42   \n",
       "b8743e15586241a71ed4708c5ca76eb3                          0      66454.25   \n",
       "5f1e1195575ab5e4afb3a3757e675d3c                          0      19091.74   \n",
       "...                                                     ...           ...   \n",
       "7b5156f38990963332b33298c8bae25e                          0        183.14   \n",
       "a95af5d07a16b350c6692228590df8e4                          0        252.55   \n",
       "11a7fef52a4f8e4d49db5857c6828fc0                          0        410.20   \n",
       "e66cf6c1c2a93f67329c4fafff6b103d                          0        177.91   \n",
       "07ef19a934a5c5b5d7cef1a59121d6e6                          0        166.33   \n",
       "\n",
       "                                  Project Grade Level Category_unknown  \\\n",
       "Project ID                                                               \n",
       "f664a4b580615ec134362beea4a7db81                                     0   \n",
       "3a1e9357a163fae01911b1628f4692fa                                     0   \n",
       "32f81e7617aeda8bddeb6db9c3979f43                                     0   \n",
       "b8743e15586241a71ed4708c5ca76eb3                                     0   \n",
       "5f1e1195575ab5e4afb3a3757e675d3c                                     0   \n",
       "...                                                                ...   \n",
       "7b5156f38990963332b33298c8bae25e                                     0   \n",
       "a95af5d07a16b350c6692228590df8e4                                     0   \n",
       "11a7fef52a4f8e4d49db5857c6828fc0                                     0   \n",
       "e66cf6c1c2a93f67329c4fafff6b103d                                     0   \n",
       "07ef19a934a5c5b5d7cef1a59121d6e6                                     0   \n",
       "\n",
       "                                  Project Grade Level Category_Grades 6-8  \\\n",
       "Project ID                                                                  \n",
       "f664a4b580615ec134362beea4a7db81                                        1   \n",
       "3a1e9357a163fae01911b1628f4692fa                                        0   \n",
       "32f81e7617aeda8bddeb6db9c3979f43                                        0   \n",
       "b8743e15586241a71ed4708c5ca76eb3                                        0   \n",
       "5f1e1195575ab5e4afb3a3757e675d3c                                        1   \n",
       "...                                                                   ...   \n",
       "7b5156f38990963332b33298c8bae25e                                        1   \n",
       "a95af5d07a16b350c6692228590df8e4                                        0   \n",
       "11a7fef52a4f8e4d49db5857c6828fc0                                        0   \n",
       "e66cf6c1c2a93f67329c4fafff6b103d                                        0   \n",
       "07ef19a934a5c5b5d7cef1a59121d6e6                                        1   \n",
       "\n",
       "                                  Number of dates since posted  \\\n",
       "Project ID                                                       \n",
       "f664a4b580615ec134362beea4a7db81                      0.833241   \n",
       "3a1e9357a163fae01911b1628f4692fa                      0.000000   \n",
       "32f81e7617aeda8bddeb6db9c3979f43                      0.000000   \n",
       "b8743e15586241a71ed4708c5ca76eb3                      0.000000   \n",
       "5f1e1195575ab5e4afb3a3757e675d3c                      0.000000   \n",
       "...                                                        ...   \n",
       "7b5156f38990963332b33298c8bae25e                      2.863218   \n",
       "a95af5d07a16b350c6692228590df8e4                      2.983981   \n",
       "11a7fef52a4f8e4d49db5857c6828fc0                      2.997813   \n",
       "e66cf6c1c2a93f67329c4fafff6b103d                      2.996690   \n",
       "07ef19a934a5c5b5d7cef1a59121d6e6                      2.685880   \n",
       "\n",
       "                                  Teacher Prefix_Ms.  School Metro Type_town  \\\n",
       "Project ID                                                                     \n",
       "f664a4b580615ec134362beea4a7db81                   1                       0   \n",
       "3a1e9357a163fae01911b1628f4692fa                   0                       0   \n",
       "32f81e7617aeda8bddeb6db9c3979f43                   0                       0   \n",
       "b8743e15586241a71ed4708c5ca76eb3                   1                       0   \n",
       "5f1e1195575ab5e4afb3a3757e675d3c                   0                       0   \n",
       "...                                              ...                     ...   \n",
       "7b5156f38990963332b33298c8bae25e                   1                       0   \n",
       "a95af5d07a16b350c6692228590df8e4                   0                       0   \n",
       "11a7fef52a4f8e4d49db5857c6828fc0                   1                       0   \n",
       "e66cf6c1c2a93f67329c4fafff6b103d                   1                       0   \n",
       "07ef19a934a5c5b5d7cef1a59121d6e6                   1                       0   \n",
       "\n",
       "                                  Teacher Prefix_Mrs.  \\\n",
       "Project ID                                              \n",
       "f664a4b580615ec134362beea4a7db81                    0   \n",
       "3a1e9357a163fae01911b1628f4692fa                    0   \n",
       "32f81e7617aeda8bddeb6db9c3979f43                    0   \n",
       "b8743e15586241a71ed4708c5ca76eb3                    0   \n",
       "5f1e1195575ab5e4afb3a3757e675d3c                    1   \n",
       "...                                               ...   \n",
       "7b5156f38990963332b33298c8bae25e                    0   \n",
       "a95af5d07a16b350c6692228590df8e4                    1   \n",
       "11a7fef52a4f8e4d49db5857c6828fc0                    0   \n",
       "e66cf6c1c2a93f67329c4fafff6b103d                    0   \n",
       "07ef19a934a5c5b5d7cef1a59121d6e6                    0   \n",
       "\n",
       "                                  School Metro Type_urban  \\\n",
       "Project ID                                                  \n",
       "f664a4b580615ec134362beea4a7db81                        1   \n",
       "3a1e9357a163fae01911b1628f4692fa                        0   \n",
       "32f81e7617aeda8bddeb6db9c3979f43                        1   \n",
       "b8743e15586241a71ed4708c5ca76eb3                        1   \n",
       "5f1e1195575ab5e4afb3a3757e675d3c                        1   \n",
       "...                                                   ...   \n",
       "7b5156f38990963332b33298c8bae25e                        0   \n",
       "a95af5d07a16b350c6692228590df8e4                        1   \n",
       "11a7fef52a4f8e4d49db5857c6828fc0                        1   \n",
       "e66cf6c1c2a93f67329c4fafff6b103d                        1   \n",
       "07ef19a934a5c5b5d7cef1a59121d6e6                        1   \n",
       "\n",
       "                                  Project Grade Level Category_Grades 9-12  \\\n",
       "Project ID                                                                   \n",
       "f664a4b580615ec134362beea4a7db81                                         0   \n",
       "3a1e9357a163fae01911b1628f4692fa                                         0   \n",
       "32f81e7617aeda8bddeb6db9c3979f43                                         1   \n",
       "b8743e15586241a71ed4708c5ca76eb3                                         1   \n",
       "5f1e1195575ab5e4afb3a3757e675d3c                                         0   \n",
       "...                                                                    ...   \n",
       "7b5156f38990963332b33298c8bae25e                                         0   \n",
       "a95af5d07a16b350c6692228590df8e4                                         1   \n",
       "11a7fef52a4f8e4d49db5857c6828fc0                                         0   \n",
       "e66cf6c1c2a93f67329c4fafff6b103d                                         0   \n",
       "07ef19a934a5c5b5d7cef1a59121d6e6                                         0   \n",
       "\n",
       "                                  School Metro Type_suburban  \\\n",
       "Project ID                                                     \n",
       "f664a4b580615ec134362beea4a7db81                           0   \n",
       "3a1e9357a163fae01911b1628f4692fa                           1   \n",
       "32f81e7617aeda8bddeb6db9c3979f43                           0   \n",
       "b8743e15586241a71ed4708c5ca76eb3                           0   \n",
       "5f1e1195575ab5e4afb3a3757e675d3c                           0   \n",
       "...                                                      ...   \n",
       "7b5156f38990963332b33298c8bae25e                           0   \n",
       "a95af5d07a16b350c6692228590df8e4                           0   \n",
       "11a7fef52a4f8e4d49db5857c6828fc0                           0   \n",
       "e66cf6c1c2a93f67329c4fafff6b103d                           0   \n",
       "07ef19a934a5c5b5d7cef1a59121d6e6                           0   \n",
       "\n",
       "                                  Teacher Prefix_Teacher  Teacher Prefix_Mr.  \\\n",
       "Project ID                                                                     \n",
       "f664a4b580615ec134362beea4a7db81                       0                   0   \n",
       "3a1e9357a163fae01911b1628f4692fa                       0                   1   \n",
       "32f81e7617aeda8bddeb6db9c3979f43                       0                   1   \n",
       "b8743e15586241a71ed4708c5ca76eb3                       0                   0   \n",
       "5f1e1195575ab5e4afb3a3757e675d3c                       0                   0   \n",
       "...                                                  ...                 ...   \n",
       "7b5156f38990963332b33298c8bae25e                       0                   0   \n",
       "a95af5d07a16b350c6692228590df8e4                       0                   0   \n",
       "11a7fef52a4f8e4d49db5857c6828fc0                       0                   0   \n",
       "e66cf6c1c2a93f67329c4fafff6b103d                       0                   0   \n",
       "07ef19a934a5c5b5d7cef1a59121d6e6                       0                   0   \n",
       "\n",
       "                                  Teacher Prefix_Mx.  \\\n",
       "Project ID                                             \n",
       "f664a4b580615ec134362beea4a7db81                   0   \n",
       "3a1e9357a163fae01911b1628f4692fa                   0   \n",
       "32f81e7617aeda8bddeb6db9c3979f43                   0   \n",
       "b8743e15586241a71ed4708c5ca76eb3                   0   \n",
       "5f1e1195575ab5e4afb3a3757e675d3c                   0   \n",
       "...                                              ...   \n",
       "7b5156f38990963332b33298c8bae25e                   0   \n",
       "a95af5d07a16b350c6692228590df8e4                   0   \n",
       "11a7fef52a4f8e4d49db5857c6828fc0                   0   \n",
       "e66cf6c1c2a93f67329c4fafff6b103d                   0   \n",
       "07ef19a934a5c5b5d7cef1a59121d6e6                   0   \n",
       "\n",
       "                                  School Percentage Free Lunch  \\\n",
       "Project ID                                                       \n",
       "f664a4b580615ec134362beea4a7db81                          89.0   \n",
       "3a1e9357a163fae01911b1628f4692fa                          56.0   \n",
       "32f81e7617aeda8bddeb6db9c3979f43                          54.0   \n",
       "b8743e15586241a71ed4708c5ca76eb3                          88.0   \n",
       "5f1e1195575ab5e4afb3a3757e675d3c                          73.0   \n",
       "...                                                        ...   \n",
       "7b5156f38990963332b33298c8bae25e                          33.0   \n",
       "a95af5d07a16b350c6692228590df8e4                          13.0   \n",
       "11a7fef52a4f8e4d49db5857c6828fc0                           6.0   \n",
       "e66cf6c1c2a93f67329c4fafff6b103d                          21.0   \n",
       "07ef19a934a5c5b5d7cef1a59121d6e6                           2.0   \n",
       "\n",
       "                                  Project Grade Level Category_Grades PreK-2  \n",
       "Project ID                                                                    \n",
       "f664a4b580615ec134362beea4a7db81                                           0  \n",
       "3a1e9357a163fae01911b1628f4692fa                                           0  \n",
       "32f81e7617aeda8bddeb6db9c3979f43                                           0  \n",
       "b8743e15586241a71ed4708c5ca76eb3                                           0  \n",
       "5f1e1195575ab5e4afb3a3757e675d3c                                           0  \n",
       "...                                                                      ...  \n",
       "7b5156f38990963332b33298c8bae25e                                           0  \n",
       "a95af5d07a16b350c6692228590df8e4                                           0  \n",
       "11a7fef52a4f8e4d49db5857c6828fc0                                           0  \n",
       "e66cf6c1c2a93f67329c4fafff6b103d                                           1  \n",
       "07ef19a934a5c5b5d7cef1a59121d6e6                                           0  \n",
       "\n",
       "[58597 rows x 16 columns]"
      ]
     },
     "execution_count": 215,
     "metadata": {},
     "output_type": "execute_result"
    }
   ],
   "source": [
    "\n",
    "X_test=Test_Data_Final.loc[:,Model_variables]\n",
    "X_test"
   ]
  },
  {
   "cell_type": "code",
   "execution_count": 240,
   "metadata": {},
   "outputs": [],
   "source": [
    "Y_pred_test_DT = DT_clf.predict(X_test)\n",
    "Y_pred_test_DT_prob=DT_clf.predict_proba(X_test)"
   ]
  },
  {
   "cell_type": "code",
   "execution_count": 241,
   "metadata": {},
   "outputs": [],
   "source": [
    "Y_pred_test_LR = LR_clf.predict(X_test)\n",
    "Y_pred_test_LR_prob=LR_clf.predict_proba(X_test)"
   ]
  },
  {
   "cell_type": "code",
   "execution_count": 242,
   "metadata": {},
   "outputs": [
    {
     "data": {
      "text/plain": [
       "LogisticRegression(random_state=9)"
      ]
     },
     "execution_count": 242,
     "metadata": {},
     "output_type": "execute_result"
    }
   ],
   "source": [
    "LR_clf"
   ]
  },
  {
   "cell_type": "code",
   "execution_count": 243,
   "metadata": {},
   "outputs": [
    {
     "data": {
      "text/plain": [
       "DecisionTreeClassifier()"
      ]
     },
     "execution_count": 243,
     "metadata": {},
     "output_type": "execute_result"
    }
   ],
   "source": [
    "DT_clf"
   ]
  },
  {
   "cell_type": "code",
   "execution_count": 244,
   "metadata": {},
   "outputs": [],
   "source": [
    "Test_Data_Final[\"Y_pred_test_LR\"]=Y_pred_test_LR\n",
    "Test_Data_Final[\"Y_pred_test_LR_prob\"]=Y_pred_test_LR_prob[:,1]\n",
    "Test_Data_Final[\"Y_pred_test_DT\"]=Y_pred_test_DT\n",
    "Test_Data_Final[\"Y_pred_test_DT_prob\"]=Y_pred_test_DT_prob[:,1]"
   ]
  },
  {
   "cell_type": "code",
   "execution_count": 245,
   "metadata": {},
   "outputs": [],
   "source": [
    "Test_Data_Final.to_csv(\"Test_Data_Final_LR_DT.csv\")"
   ]
  },
  {
   "cell_type": "code",
   "execution_count": null,
   "metadata": {},
   "outputs": [],
   "source": []
  }
 ],
 "metadata": {
  "colab": {
   "collapsed_sections": [],
   "name": "Labeling and test with cv.ipynb",
   "provenance": []
  },
  "kernelspec": {
   "display_name": "Python 3",
   "language": "python",
   "name": "python3"
  },
  "language_info": {
   "codemirror_mode": {
    "name": "ipython",
    "version": 3
   },
   "file_extension": ".py",
   "mimetype": "text/x-python",
   "name": "python",
   "nbconvert_exporter": "python",
   "pygments_lexer": "ipython3",
   "version": "3.7.7"
  }
 },
 "nbformat": 4,
 "nbformat_minor": 1
}
