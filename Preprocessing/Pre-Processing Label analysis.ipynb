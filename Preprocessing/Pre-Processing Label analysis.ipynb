{
 "cells": [
  {
   "cell_type": "code",
   "execution_count": 1,
   "metadata": {
    "id": "KmafydZnutW_"
   },
   "outputs": [
    {
     "name": "stderr",
     "output_type": "stream",
     "text": [
      "Using TensorFlow backend.\n"
     ]
    }
   ],
   "source": [
    "import os\n",
    "import h5py\n",
    "import json\n",
    "import keras\n",
    "import random \n",
    "import imageio\n",
    "import datetime\n",
    "import numpy as np\n",
    "import pandas as pd\n",
    "import seaborn as sns\n",
    "import tensorflow as tf\n",
    "from sklearn import tree\n",
    "from keras import backend as K\n",
    "from datetime import timedelta\n",
    "import matplotlib.pyplot as plt\n",
    "from sklearn.impute import KNNImputer\n",
    "\n",
    "from sklearn.linear_model import LogisticRegression\n",
    "from sklearn.metrics import confusion_matrix\n",
    "\n",
    "from sklearn.metrics import precision_recall_curve\n",
    "from sklearn.metrics import plot_precision_recall_curve"
   ]
  },
  {
   "cell_type": "code",
   "execution_count": 2,
   "metadata": {
    "colab": {
     "base_uri": "https://localhost:8080/",
     "height": 494
    },
    "id": "Me9XM7qeu8j3",
    "outputId": "4114cfc0-2013-47c4-8d6d-4977483bba6e"
   },
   "outputs": [
    {
     "name": "stderr",
     "output_type": "stream",
     "text": [
      "C:\\Users\\REDLINE PC\\.conda\\envs\\Laptop\\lib\\site-packages\\IPython\\core\\interactiveshell.py:3072: DtypeWarning: Columns (11) have mixed types.Specify dtype option on import or set low_memory=False.\n",
      "  interactivity=interactivity, compiler=compiler, result=result)\n"
     ]
    }
   ],
   "source": [
    "Data = pd.read_csv('DsDnsPrScTch.csv') "
   ]
  },
  {
   "cell_type": "code",
   "execution_count": 3,
   "metadata": {
    "id": "3L3Zl-XpvWdA"
   },
   "outputs": [],
   "source": [
    "Data[\"Teacher First Project Posted Date\"]=pd.to_datetime(Data[\"Teacher First Project Posted Date\"])\n",
    "Data[\"Project Fully Funded Date\"]=pd.to_datetime(Data[\"Project Fully Funded Date\"])\n",
    "Data[\"Project Expiration Date\"]=pd.to_datetime(Data[\"Project Expiration Date\"])\n",
    "Data[\"Project Posted Date\"]=pd.to_datetime(Data[\"Project Posted Date\"])\n",
    "Data[\"Donation Received Date\"]=pd.to_datetime(Data[\"Donation Received Date\"])\n",
    "Data[\"Number of dates since posted\"]=Data.loc[:,\"Donation Received Date\"]-Data.loc[:,\"Project Posted Date\"]"
   ]
  },
  {
   "cell_type": "code",
   "execution_count": 4,
   "metadata": {
    "id": "FeNucAG2072f"
   },
   "outputs": [
    {
     "data": {
      "text/plain": [
       "Unnamed: 0                                          int64\n",
       "Project ID                                         object\n",
       "Donation ID                                        object\n",
       "Donor ID                                           object\n",
       "Donation Included Optional Donation                object\n",
       "Donation Amount                                   float64\n",
       "Donor Cart Sequence                                 int64\n",
       "Donation Received Date                     datetime64[ns]\n",
       "Donor City                                         object\n",
       "Donor State                                        object\n",
       "Donor Is Teacher                                   object\n",
       "Donor Zip                                          object\n",
       "Unnamed: 0.1                                        int64\n",
       "School ID                                          object\n",
       "Teacher ID                                         object\n",
       "Teacher Project Posted Sequence                     int64\n",
       "Project Type                                       object\n",
       "Project Title                                      object\n",
       "Project Essay                                      object\n",
       "Project Short Description                          object\n",
       "Project Need Statement                             object\n",
       "Project Subject Category Tree                      object\n",
       "Project Subject Subcategory Tree                   object\n",
       "Project Grade Level Category                       object\n",
       "Project Resource Category                          object\n",
       "Project Cost                                      float64\n",
       "Project Posted Date                        datetime64[ns]\n",
       "Project Expiration Date                    datetime64[ns]\n",
       "Project Current Status                             object\n",
       "Project Fully Funded Date                  datetime64[ns]\n",
       "Project Short Description_polarity                float64\n",
       "Project Short Description_subjectivity            float64\n",
       "Project Essay_polarity                            float64\n",
       "Project Essay_subjectivity                        float64\n",
       "Project Need Statement_polarity                   float64\n",
       "Project Need Statement_subjectivity               float64\n",
       "School Name                                        object\n",
       "School Metro Type                                  object\n",
       "School Percentage Free Lunch                      float64\n",
       "School State                                       object\n",
       "School Zip                                        float64\n",
       "School City                                        object\n",
       "School County                                      object\n",
       "School District                                    object\n",
       "Teacher Prefix                                     object\n",
       "Teacher First Project Posted Date          datetime64[ns]\n",
       "Number of dates since posted              timedelta64[ns]\n",
       "dtype: object"
      ]
     },
     "execution_count": 4,
     "metadata": {},
     "output_type": "execute_result"
    }
   ],
   "source": [
    "Data.dtypes"
   ]
  },
  {
   "cell_type": "code",
   "execution_count": 7,
   "metadata": {},
   "outputs": [
    {
     "data": {
      "text/plain": [
       "<seaborn.axisgrid.FacetGrid at 0x1fa3877a4c8>"
      ]
     },
     "execution_count": 7,
     "metadata": {},
     "output_type": "execute_result"
    },
    {
     "data": {
      "image/png": "[encoded data removed]",
      "text/plain": [
       "<Figure size 360x360 with 1 Axes>"
      ]
     },
     "metadata": {
      "needs_background": "light"
     },
     "output_type": "display_data"
    }
   ],
   "source": [
    "sns.displot(Data, x=\"Project Cost\", kde=True)"
   ]
  },
  {
   "cell_type": "code",
   "execution_count": 6,
   "metadata": {},
   "outputs": [
    {
     "data": {
      "text/plain": [
       "(array([4.607471e+06, 5.720000e+02, 2.800000e+01, 5.000000e+00,\n",
       "        2.000000e+00, 1.000000e+00, 0.000000e+00, 0.000000e+00,\n",
       "        0.000000e+00, 1.000000e+00]),\n",
       " array([1.0000000e-02, 6.0000090e+03, 1.2000008e+04, 1.8000007e+04,\n",
       "        2.4000006e+04, 3.0000005e+04, 3.6000004e+04, 4.2000003e+04,\n",
       "        4.8000002e+04, 5.4000001e+04, 6.0000000e+04]),\n",
       " <a list of 10 Patch objects>)"
      ]
     },
     "execution_count": 6,
     "metadata": {},
     "output_type": "execute_result"
    },
    {
     "data": {
      "image/png": "[encoded data removed]",
      "text/plain": [
       "<Figure size 432x288 with 1 Axes>"
      ]
     },
     "metadata": {
      "needs_background": "light"
     },
     "output_type": "display_data"
    }
   ],
   "source": [
    "plt.hist(Data[\"Donation Amount\"])"
   ]
  },
  {
   "cell_type": "code",
   "execution_count": null,
   "metadata": {},
   "outputs": [],
   "source": []
  },
  {
   "cell_type": "code",
   "execution_count": null,
   "metadata": {},
   "outputs": [],
   "source": []
  },
  {
   "cell_type": "code",
   "execution_count": null,
   "metadata": {},
   "outputs": [],
   "source": [
    "Grouped_data=Data.groupby([\"Project ID\"]).max()\n",
    "Grouped_data[\"Donation Amount\"]=0\n",
    "Grouped_data[\"Donation ID\"]=\"initial_\"+Grouped_data[\"Donation ID\"]\n",
    "Grouped_data[\"Donor ID ID\"]=\"initial_\"+Grouped_data[\"Donor ID ID\"]"
   ]
  },
  {
   "cell_type": "code",
   "execution_count": null,
   "metadata": {},
   "outputs": [],
   "source": [
    "Grouped_data.dtypes"
   ]
  },
  {
   "cell_type": "code",
   "execution_count": null,
   "metadata": {},
   "outputs": [],
   "source": [
    "T=pd.Timedelta('30 days')\n",
    "sub_var=[\"Number of dates since posted\",\"Project ID\",\"Donation Amount\",\"Project Cost\",\n",
    "         \"Project Posted Date\",\"Project Expiration Date\",\"Donation Received Date\"]\n",
    "sub_Data =Data.loc[:,sub_var]\n",
    "sub_Data=sub_Data[sub_Data[\"Number of dates since posted\"] < T]\n",
    "sub_Data[\"Raised funds to project cost ratio\"]=sub_Data[\"Donation Amount\"]/sub_Data[\"Project Cost\"]\n",
    "Grouped_data=sub_Data.groupby([\"Project ID\"]).sum()\n",
    "Grouped_data_Final = sub_Data.groupby([\"Project ID\"]).max()\n",
    "Grouped_data_Final[\"Raised funds to project cost ratio\"]=Grouped_data[\"Raised funds to project cost ratio\"]\n",
    "\n",
    "f, axes = plt.subplots(1, 1,figsize=(10,7))\n",
    "\n",
    "y=\"Raised funds to project cost ratio\"\n",
    "q1 = Grouped_data_Final[y].quantile(0)\n",
    "q3 = Grouped_data_Final[y].quantile(1)\n",
    "mask = Grouped_data_Final[y].between(q1, q3, inclusive=True)\n",
    "iqr = Grouped_data_Final.loc[mask, y]\n",
    "sns.distplot(iqr, ax=axes,axlabel=y )\n",
    "print(iqr.describe())\n",
    "\n",
    "G30=Grouped_data_Final"
   ]
  },
  {
   "cell_type": "code",
   "execution_count": null,
   "metadata": {},
   "outputs": [],
   "source": [
    "T=pd.Timedelta('120 days')\n",
    "sub_var=[\"Number of dates since posted\",\"Project ID\",\"Donation Amount\",\"Project Cost\",\n",
    "         \"Project Posted Date\",\"Project Expiration Date\",\"Donation Received Date\"]\n",
    "sub_Data =Data.loc[:,sub_var]\n",
    "sub_Data=sub_Data[sub_Data[\"Number of dates since posted\"] < T]\n",
    "sub_Data[\"Raised funds to project cost ratio\"]=sub_Data[\"Donation Amount\"]/sub_Data[\"Project Cost\"]\n",
    "Grouped_data=sub_Data.groupby([\"Project ID\"]).sum()\n",
    "Grouped_data_Final = sub_Data.groupby([\"Project ID\"]).max()\n",
    "Grouped_data_Final[\"Raised funds to project cost ratio\"]=Grouped_data[\"Raised funds to project cost ratio\"]\n",
    "\n",
    "f, axes = plt.subplots(1, 1,figsize=(10,7))\n",
    "\n",
    "y=\"Raised funds to project cost ratio\"\n",
    "q1 = Grouped_data_Final[y].quantile(0)\n",
    "q3 = Grouped_data_Final[y].quantile(1)\n",
    "mask = Grouped_data_Final[y].between(q1, q3, inclusive=True)\n",
    "iqr = Grouped_data_Final.loc[mask, y]\n",
    "sns.distplot(iqr, ax=axes,axlabel=y )\n",
    "print(iqr.describe())\n",
    "\n",
    "G120=Grouped_data_Final"
   ]
  },
  {
   "cell_type": "code",
   "execution_count": null,
   "metadata": {},
   "outputs": [],
   "source": [
    "print(len(G30),len(G120))\n",
    "G30['Label'] = G30.apply(lambda x : 1  if x['Raised funds to project cost ratio'] < 0.14  else 0, axis=1)\n",
    "print(\"G30 Done\")\n",
    "G120['Label'] = G120.apply(lambda x : 1  if x['Raised funds to project cost ratio'] < 0.47  else 0, axis=1)\n",
    "print(\"G120 Done\")"
   ]
  },
  {
   "cell_type": "code",
   "execution_count": null,
   "metadata": {},
   "outputs": [],
   "source": [
    "G120"
   ]
  },
  {
   "cell_type": "code",
   "execution_count": null,
   "metadata": {},
   "outputs": [],
   "source": [
    "G120[\"L30\"]=G30[\"Label\"]"
   ]
  },
  {
   "cell_type": "code",
   "execution_count": null,
   "metadata": {},
   "outputs": [],
   "source": [
    "G120[G120[\"L30\"]==1 and G120[\"Label\"]==1]"
   ]
  },
  {
   "cell_type": "code",
   "execution_count": null,
   "metadata": {},
   "outputs": [],
   "source": [
    "OxG= G120[G120[\"L30\"]==1]\n",
    "OOG= OxG[OxG[\"Label\"]==1]\n",
    "OzG= OxG[OxG[\"Label\"]==0]\n",
    "\n",
    "zxG= G120[G120[\"L30\"]==0]\n",
    "zzG= zxG[zxG[\"Label\"]==0]\n",
    "zOG= zxG[zxG[\"Label\"]==1]"
   ]
  },
  {
   "cell_type": "code",
   "execution_count": null,
   "metadata": {},
   "outputs": [],
   "source": [
    "print(\"OxG = \",len(OxG))\n",
    "print(\"OOG = \",len(OOG))\n",
    "print(\"OzG = \",len(OzG))\n",
    "print(\"=======================================\")\n",
    "print(\"zxG = \",len(zxG))\n",
    "print(\"zzG = \",len(zzG))\n",
    "print(\"zOG = \",len(zOG))"
   ]
  },
  {
   "cell_type": "code",
   "execution_count": null,
   "metadata": {},
   "outputs": [],
   "source": [
    "#===============================================================================================\n",
    "#                                  Model Training Funstion\n",
    "#===============================================================================================\n",
    "\n",
    "def Train_Model( Model_variables_con,Model_variables_cat,Data,\n",
    "                Time_period_indays=30,K=100,Fund_Ratio_treshold=0.142):\n",
    "    # Time_period should be in days \n",
    "    # K is the Top-K value\n",
    "\n",
    "    #=================================== Initiate the List Variables ================================\n",
    "    \n",
    "    Time_points = []\n",
    "    Output=dict()\n",
    "    Training_1,Training_size=[],[]\n",
    "    Testing_1,Testing_size=[],[]\n",
    "    Training_median,Testing_median=[],[]\n",
    "\n",
    "    #=================================== Initiate the Columns ======================================\n",
    "    \n",
    "    print(\"Initiatnig the Columns\")\n",
    "    Main_Variables = list(set([\"Project ID\",\"Project Posted Date\",\"Project Expiration Date\",\"Donation Received Date\",\n",
    "         \"Project Cost\",\"Donation Amount\",\"Number of dates since posted\"]+Model_variables_cat+Model_variables_con))\n",
    "    Model_variables = Model_variables_con.copy()\n",
    "    print(\"Variables considered in model training\")\n",
    "    for i in sub_var: print(\">\",i,i in Data.columns) # print all variables considered.\n",
    "    print()\n",
    "    Data[\"Number of dates since posted\"]=Data.loc[:,\"Donation Received Date\"]-Data.loc[:,\"Project Posted Date\"]\n",
    "    sub_Data = Data.loc[:,Main_Variables]\n",
    "        \n",
    "    \n",
    "    #=================================== Initiate Time Variables ====================================\n",
    "    \n",
    "    print(\"Initiate Time Variables\")\n",
    "    MaxT = pd.Timestamp(\"2018-05-01 00:00:00\")  #max(Data[\"Project Posted Date\"])\n",
    "    MinT = pd.Timestamp(\"2013-01-01 00:00:00\")  #min(Data[\"Project Posted Date\"])\n",
    "    Time_period = timedelta(days=Time_period_indays)  \n",
    "    T_current = MinT- Time_period +timedelta(days=120) \n",
    "    sub_Data[\"Number of dates since posted\"] = sub_Data[\"Number of dates since posted\"]/ np.timedelta64(1, 'D')\n",
    "    \n",
    "    \n",
    "    #=================================== Loop over time frams =======================================\n",
    "    \n",
    "    print(\"Time iteration is starting\\n\")\n",
    "    while (T_current<MaxT-Time_period):\n",
    "        \n",
    "        T_current = T_current+ Time_period\n",
    "        Time_points+=[T_current]\n",
    "        T_Train_start = T_current-timedelta(days=120)  # Start of the data frame\n",
    "        T_Train_end = T_current-Time_period  #End of the data frame\n",
    "        print(\"As of Date:\",T_current,\"\\n\"+\"=\"*85)\n",
    "        \n",
    "    #====================================== Extract the frams ======================================= \n",
    "    \n",
    "        # Extracts projects posted before the Current(As of) date\n",
    "        Data_in_TimeWindow = sub_Data[sub_Data[\"Project Posted Date\"] < pd.to_datetime(T_current)]  \n",
    "        \n",
    "        # Extracts projects posted after the start date of the Time window\n",
    "        Data_in_TimeWindow = Data_in_TimeWindow[Data_in_TimeWindow[\"Project Posted Date\"] > pd.to_datetime(T_Train_start)]\n",
    "        \n",
    "        #Time period to be consided for the donations since posted (30days, as default)\n",
    "        Data_in_TimeWindow = Data_in_TimeWindow[Data_in_TimeWindow[\"Number of dates since posted\"]< Time_period_indays]\n",
    "        \n",
    "        #Express the donation amount as a ratio of to the Project cost\n",
    "        Data_in_TimeWindow[\"Fund_Ratio\"]=Data_in_TimeWindow[\"Donation Amount\"]/Data_in_TimeWindow[\"Project Cost\"]\n",
    "                \n",
    "    \n",
    "    #=================================== Training set Creation =====================================\n",
    "    \n",
    "        #extract the training set from the timewindow\n",
    "        Train_Data = Data_in_TimeWindow[Data_in_TimeWindow[\"Project Posted Date\"] < pd.to_datetime(T_Train_end)]\n",
    "        \n",
    "        #Group by Project ID\n",
    "        Train_Data_CR=Train_Data.groupby([\"Project ID\"]).sum() \n",
    "        Train_Data_Final=Train_Data.groupby([\"Project ID\"]).max()\n",
    "        Train_Data_Final[\"Fund_Ratio\"]=Train_Data_CR[\"Fund_Ratio\"]\n",
    "        Train_Data_Final[\"Donation Amount\"]=Train_Data_CR[\"Donation Amount\"]\n",
    "        \n",
    "        # Genarate the Label for the dataset \n",
    "        Train_Data_Final['Label'] = Train_Data_Final.apply(lambda x : 1  if x['Fund_Ratio'] < \n",
    "                                                           Fund_Ratio_treshold  else 0, axis=1)\n",
    "        \n",
    "        X_train = Train_Data_Final.loc[:,Model_variables]\n",
    "        Y_train = np.array(Train_Data_Final.loc[:,[\"Label\"]])[:,0]\n",
    "        \n",
    "        \n",
    "    #==================================== Testing set Creation =====================================\n",
    "    \n",
    "        #extract the training set from the timewindow\n",
    "        Test_Data = Data_in_TimeWindow[Data_in_TimeWindow[\"Project Posted Date\"] >= pd.to_datetime(T_Train_end)]\n",
    "        \n",
    "        #Group by Project ID\n",
    "        Test_Data_CR=Test_Data.groupby([\"Project ID\"]).sum() \n",
    "        Test_Data_Final=Test_Data.groupby([\"Project ID\"]).max()\n",
    "        Test_Data_Final[\"Fund_Ratio\"]=Test_Data_CR[\"Fund_Ratio\"]\n",
    "        Test_Data_Final[\"Donation Amount\"]=Test_Data_CR[\"Donation Amount\"]\n",
    "        \n",
    "        # Genarate the Label for the dataset \n",
    "        Test_Data_Final['Label'] = Test_Data_Final.apply(lambda x : 1  if x['Fund_Ratio'] < \n",
    "                                                         Fund_Ratio_treshold  else 0, axis=1)\n",
    "        X_test = Test_Data_Final.loc[:,Model_variables]\n",
    "        Y_test = np.array(Test_Data_Final.loc[:,[\"Label\"]])[:,0]\n",
    "        \n",
    "        \n",
    "    #===================================== Label Analysis =========================================\n",
    "        \n",
    "        Training_1+=[len(Train_Data_Final[Train_Data_Final[\"Label\"]==0])]\n",
    "        Training_size+=[len(Train_Data_Final)]\n",
    "        \n",
    "        Testing_1+=[len(Test_Data_Final[Test_Data_Final[\"Label\"]==0])]\n",
    "        Testing_size+=[len(Test_Data_Final)]\n",
    "        \n",
    "        Training_median+=[Train_Data_Final[\"Fund_Ratio\"].median()]\n",
    "        Testing_median+=[Test_Data_Final[\"Fund_Ratio\"].median()]\n",
    "    \n",
    "    \n",
    "    Output[\"Training_median\"]=Training_median\n",
    "    Output[\"Testing_median\"]=Testing_median\n",
    "    Output[\"Training_1\"]=Training_1\n",
    "    Output[\"Training_size\"]=Training_size\n",
    "    Output[\"Testing_1\"]=Testing_1\n",
    "    Output[\"Testing_size\"]=Testing_size\n",
    "    Output[\"Time_points\"]=Time_points\n",
    "    return Output"
   ]
  },
  {
   "cell_type": "code",
   "execution_count": null,
   "metadata": {},
   "outputs": [],
   "source": [
    "Model_variables_con= [\"Project Cost\",\"Number of dates since posted\",\"School Percentage Free Lunch\",\"Project Cost\"]\n",
    "Model_variables_cat= []\n",
    "\n",
    "Output= Train_Model( Model_variables_con,Model_variables_cat,\n",
    "                                    Data,Time_period_indays=30,K=100,Fund_Ratio_treshold=0.142)"
   ]
  },
  {
   "cell_type": "code",
   "execution_count": null,
   "metadata": {},
   "outputs": [],
   "source": [
    "n_cols=1\n",
    "n_rows=1\n",
    "fig, axs=plt.subplots(n_rows,n_cols,figsize=(n_cols*15,n_rows*7))\n",
    "axs.set_xlabel(\"Time in years\",fontsize=15);\n",
    "axs.set_ylabel(\"Fund:Cost_Ratio\",fontsize=15);\n",
    "\n",
    "plt.plot(Output[\"Time_points\"], Output[\"Testing_median\"],label='Testing_median')\n",
    "plt.plot(Output[\"Time_points\"], Output[\"Training_median\"],label=\"Training_median\")\n",
    "plt.plot(Output[\"Time_points\"], np.array(Output[\"Training_median\"])*0+0.1422,'r-',label=\"Average_median\")\n",
    "\n",
    "plt.legend(fontsize=15)"
   ]
  },
  {
   "cell_type": "code",
   "execution_count": null,
   "metadata": {},
   "outputs": [],
   "source": [
    "n_cols=1\n",
    "n_rows=1\n",
    "fig, axs=plt.subplots(n_rows,n_cols,figsize=(n_cols*15,n_rows*7))\n",
    "axs.set_xlabel(\"Time in years\",fontsize=15);\n",
    "axs.set_ylabel(\"Count\",fontsize=15);\n",
    "\n",
    "plt.plot(Output[\"Time_points\"], Output[\"Training_size\"],label='Total Training')\n",
    "plt.plot(Output[\"Time_points\"], Output[\"Training_1\"],label=\"Training = 1\")\n",
    "plt.plot(Output[\"Time_points\"], Output[\"Testing_size\"],label='Total Testing')\n",
    "plt.plot(Output[\"Time_points\"], Output[\"Testing_1\"],label=\"Testing = 1\")\n",
    "\n",
    "plt.legend(fontsize=15)"
   ]
  }
 ],
 "metadata": {
  "colab": {
   "collapsed_sections": [],
   "name": "Labeling and test with cv.ipynb",
   "provenance": []
  },
  "kernelspec": {
   "display_name": "Python 3",
   "language": "python",
   "name": "python3"
  },
  "language_info": {
   "codemirror_mode": {
    "name": "ipython",
    "version": 3
   },
   "file_extension": ".py",
   "mimetype": "text/x-python",
   "name": "python",
   "nbconvert_exporter": "python",
   "pygments_lexer": "ipython3",
   "version": "3.8.8"
  }
 },
 "nbformat": 4,
 "nbformat_minor": 1
}
