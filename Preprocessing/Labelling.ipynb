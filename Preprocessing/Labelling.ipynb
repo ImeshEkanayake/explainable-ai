{
 "cells": [
  {
   "cell_type": "code",
   "execution_count": 1,
   "metadata": {
    "executionInfo": {
     "elapsed": 4924,
     "status": "ok",
     "timestamp": 1602555331202,
     "user": {
      "displayName": "IMESH UDARA EKANAYAKE",
      "photoUrl": "https://lh3.googleusercontent.com/a-/AOh14GgnoyG1ADZKOUhNmfjfvstT8_7R2ua78LrCesOh=s64",
      "userId": "12744400319982087483"
     },
     "user_tz": -330
    },
    "id": "He3rOj-cK8do"
   },
   "outputs": [
    {
     "name": "stderr",
     "output_type": "stream",
     "text": [
      "Using TensorFlow backend.\n"
     ]
    }
   ],
   "source": [
    "import os\n",
    "#import cv2\n",
    "import h5py\n",
    "import json\n",
    "import keras\n",
    "import random \n",
    "import imageio\n",
    "import numpy as np\n",
    "import pandas as pd\n",
    "import seaborn as sns\n",
    "import tensorflow as tf\n",
    "#import plotly.express as px\n",
    "from keras import backend as K\n",
    "import matplotlib.pyplot as plt"
   ]
  },
  {
   "cell_type": "code",
   "execution_count": 5,
   "metadata": {
    "colab": {
     "base_uri": "https://localhost:8080/",
     "height": 35
    },
    "executionInfo": {
     "elapsed": 37249,
     "status": "ok",
     "timestamp": 1602555363557,
     "user": {
      "displayName": "IMESH UDARA EKANAYAKE",
      "photoUrl": "https://lh3.googleusercontent.com/a-/AOh14GgnoyG1ADZKOUhNmfjfvstT8_7R2ua78LrCesOh=s64",
      "userId": "12744400319982087483"
     },
     "user_tz": -330
    },
    "id": "FwamB-LCLBE-",
    "outputId": "a87c0cae-aada-43a5-e4c2-1e3d948a7cd8"
   },
   "outputs": [
    {
     "ename": "ModuleNotFoundError",
     "evalue": "No module named 'google.colab'",
     "output_type": "error",
     "traceback": [
      "\u001b[1;31m---------------------------------------------------------------------------\u001b[0m",
      "\u001b[1;31mModuleNotFoundError\u001b[0m                       Traceback (most recent call last)",
      "\u001b[1;32m<ipython-input-5-d5df0069828e>\u001b[0m in \u001b[0;36m<module>\u001b[1;34m\u001b[0m\n\u001b[1;32m----> 1\u001b[1;33m \u001b[1;32mfrom\u001b[0m \u001b[0mgoogle\u001b[0m\u001b[1;33m.\u001b[0m\u001b[0mcolab\u001b[0m \u001b[1;32mimport\u001b[0m \u001b[0mdrive\u001b[0m\u001b[1;33m\u001b[0m\u001b[1;33m\u001b[0m\u001b[0m\n\u001b[0m\u001b[0;32m      2\u001b[0m \u001b[0mdrive\u001b[0m\u001b[1;33m.\u001b[0m\u001b[0mmount\u001b[0m\u001b[1;33m(\u001b[0m\u001b[1;34m'/content/drive'\u001b[0m\u001b[1;33m)\u001b[0m\u001b[1;33m\u001b[0m\u001b[1;33m\u001b[0m\u001b[0m\n",
      "\u001b[1;31mModuleNotFoundError\u001b[0m: No module named 'google.colab'"
     ]
    }
   ],
   "source": [
    "from google.colab import drive\n",
    "drive.mount('/content/drive')"
   ]
  },
  {
   "cell_type": "code",
   "execution_count": 2,
   "metadata": {
    "colab": {
     "base_uri": "https://localhost:8080/",
     "height": 859
    },
    "executionInfo": {
     "elapsed": 226020,
     "status": "ok",
     "timestamp": 1602555659898,
     "user": {
      "displayName": "IMESH UDARA EKANAYAKE",
      "photoUrl": "https://lh3.googleusercontent.com/a-/AOh14GgnoyG1ADZKOUhNmfjfvstT8_7R2ua78LrCesOh=s64",
      "userId": "12744400319982087483"
     },
     "user_tz": -330
    },
    "id": "F16ttR5gLBvG",
    "outputId": "062824e1-f55b-4502-af6c-91b2eca2c39b"
   },
   "outputs": [
    {
     "name": "stderr",
     "output_type": "stream",
     "text": [
      "C:\\ProgramData\\Anaconda3\\lib\\site-packages\\IPython\\core\\interactiveshell.py:3072: DtypeWarning: Columns (11) have mixed types.Specify dtype option on import or set low_memory=False.\n",
      "  interactivity=interactivity, compiler=compiler, result=result)\n"
     ]
    },
    {
     "data": {
      "text/html": [
       "<div>\n",
       "<style scoped>\n",
       "    .dataframe tbody tr th:only-of-type {\n",
       "        vertical-align: middle;\n",
       "    }\n",
       "\n",
       "    .dataframe tbody tr th {\n",
       "        vertical-align: top;\n",
       "    }\n",
       "\n",
       "    .dataframe thead th {\n",
       "        text-align: right;\n",
       "    }\n",
       "</style>\n",
       "<table border=\"1\" class=\"dataframe\">\n",
       "  <thead>\n",
       "    <tr style=\"text-align: right;\">\n",
       "      <th></th>\n",
       "      <th>Unnamed: 0</th>\n",
       "      <th>Project ID</th>\n",
       "      <th>Donation ID</th>\n",
       "      <th>Donor ID</th>\n",
       "      <th>Donation Included Optional Donation</th>\n",
       "      <th>Donation Amount</th>\n",
       "      <th>Donor Cart Sequence</th>\n",
       "      <th>Donation Received Date</th>\n",
       "      <th>Donor City</th>\n",
       "      <th>Donor State</th>\n",
       "      <th>...</th>\n",
       "      <th>School Name</th>\n",
       "      <th>School Metro Type</th>\n",
       "      <th>School Percentage Free Lunch</th>\n",
       "      <th>School State</th>\n",
       "      <th>School Zip</th>\n",
       "      <th>School City</th>\n",
       "      <th>School County</th>\n",
       "      <th>School District</th>\n",
       "      <th>Teacher Prefix</th>\n",
       "      <th>Teacher First Project Posted Date</th>\n",
       "    </tr>\n",
       "  </thead>\n",
       "  <tbody>\n",
       "    <tr>\n",
       "      <th>0</th>\n",
       "      <td>0</td>\n",
       "      <td>000009891526c0ade7180f8423792063</td>\n",
       "      <td>688729120858666221208529ee3fc18e</td>\n",
       "      <td>1f4b5b6e68445c6c4a0509b3aca93f38</td>\n",
       "      <td>No</td>\n",
       "      <td>178.37</td>\n",
       "      <td>11</td>\n",
       "      <td>2016-08-23 13:15:57</td>\n",
       "      <td>West Jordan</td>\n",
       "      <td>Utah</td>\n",
       "      <td>...</td>\n",
       "      <td>Oquirrh Hills Middle School</td>\n",
       "      <td>suburban</td>\n",
       "      <td>23.0</td>\n",
       "      <td>Utah</td>\n",
       "      <td>84065.0</td>\n",
       "      <td>Riverton</td>\n",
       "      <td>Salt Lake</td>\n",
       "      <td>Jordan School District</td>\n",
       "      <td>Mr.</td>\n",
       "      <td>2015-09-19</td>\n",
       "    </tr>\n",
       "    <tr>\n",
       "      <th>1</th>\n",
       "      <td>1</td>\n",
       "      <td>000009891526c0ade7180f8423792063</td>\n",
       "      <td>dcf1071da3aa3561f91ac689d1f73dee</td>\n",
       "      <td>4aaab6d244bf3599682239ed5591af8a</td>\n",
       "      <td>Yes</td>\n",
       "      <td>25.00</td>\n",
       "      <td>2</td>\n",
       "      <td>2016-06-06 20:05:23</td>\n",
       "      <td>Riverton</td>\n",
       "      <td>Utah</td>\n",
       "      <td>...</td>\n",
       "      <td>Oquirrh Hills Middle School</td>\n",
       "      <td>suburban</td>\n",
       "      <td>23.0</td>\n",
       "      <td>Utah</td>\n",
       "      <td>84065.0</td>\n",
       "      <td>Riverton</td>\n",
       "      <td>Salt Lake</td>\n",
       "      <td>Jordan School District</td>\n",
       "      <td>Mr.</td>\n",
       "      <td>2015-09-19</td>\n",
       "    </tr>\n",
       "    <tr>\n",
       "      <th>2</th>\n",
       "      <td>2</td>\n",
       "      <td>000009891526c0ade7180f8423792063</td>\n",
       "      <td>18a234b9d1e538c431761d521ea7799d</td>\n",
       "      <td>0b0765dc9c759adc48a07688ba25e94e</td>\n",
       "      <td>Yes</td>\n",
       "      <td>20.00</td>\n",
       "      <td>3</td>\n",
       "      <td>2016-06-06 14:08:46</td>\n",
       "      <td>Riverton</td>\n",
       "      <td>Utah</td>\n",
       "      <td>...</td>\n",
       "      <td>Oquirrh Hills Middle School</td>\n",
       "      <td>suburban</td>\n",
       "      <td>23.0</td>\n",
       "      <td>Utah</td>\n",
       "      <td>84065.0</td>\n",
       "      <td>Riverton</td>\n",
       "      <td>Salt Lake</td>\n",
       "      <td>Jordan School District</td>\n",
       "      <td>Mr.</td>\n",
       "      <td>2015-09-19</td>\n",
       "    </tr>\n",
       "    <tr>\n",
       "      <th>3</th>\n",
       "      <td>3</td>\n",
       "      <td>000009891526c0ade7180f8423792063</td>\n",
       "      <td>38d2744bf9138b0b57ed581c76c0e2da</td>\n",
       "      <td>377944ad61f72d800b25ec1862aec363</td>\n",
       "      <td>Yes</td>\n",
       "      <td>25.00</td>\n",
       "      <td>1</td>\n",
       "      <td>2016-05-15 10:23:04</td>\n",
       "      <td>Phoenix</td>\n",
       "      <td>Arizona</td>\n",
       "      <td>...</td>\n",
       "      <td>Oquirrh Hills Middle School</td>\n",
       "      <td>suburban</td>\n",
       "      <td>23.0</td>\n",
       "      <td>Utah</td>\n",
       "      <td>84065.0</td>\n",
       "      <td>Riverton</td>\n",
       "      <td>Salt Lake</td>\n",
       "      <td>Jordan School District</td>\n",
       "      <td>Mr.</td>\n",
       "      <td>2015-09-19</td>\n",
       "    </tr>\n",
       "    <tr>\n",
       "      <th>4</th>\n",
       "      <td>4</td>\n",
       "      <td>000009891526c0ade7180f8423792063</td>\n",
       "      <td>5a032791e31167a70206bfb86fb60035</td>\n",
       "      <td>6d5b22d39e68c656071a842732c63a0c</td>\n",
       "      <td>Yes</td>\n",
       "      <td>25.00</td>\n",
       "      <td>2</td>\n",
       "      <td>2016-05-17 01:23:38</td>\n",
       "      <td>Salt Lake City</td>\n",
       "      <td>Utah</td>\n",
       "      <td>...</td>\n",
       "      <td>Oquirrh Hills Middle School</td>\n",
       "      <td>suburban</td>\n",
       "      <td>23.0</td>\n",
       "      <td>Utah</td>\n",
       "      <td>84065.0</td>\n",
       "      <td>Riverton</td>\n",
       "      <td>Salt Lake</td>\n",
       "      <td>Jordan School District</td>\n",
       "      <td>Mr.</td>\n",
       "      <td>2015-09-19</td>\n",
       "    </tr>\n",
       "  </tbody>\n",
       "</table>\n",
       "<p>5 rows × 39 columns</p>\n",
       "</div>"
      ],
      "text/plain": [
       "   Unnamed: 0                        Project ID  \\\n",
       "0           0  000009891526c0ade7180f8423792063   \n",
       "1           1  000009891526c0ade7180f8423792063   \n",
       "2           2  000009891526c0ade7180f8423792063   \n",
       "3           3  000009891526c0ade7180f8423792063   \n",
       "4           4  000009891526c0ade7180f8423792063   \n",
       "\n",
       "                        Donation ID                          Donor ID  \\\n",
       "0  688729120858666221208529ee3fc18e  1f4b5b6e68445c6c4a0509b3aca93f38   \n",
       "1  dcf1071da3aa3561f91ac689d1f73dee  4aaab6d244bf3599682239ed5591af8a   \n",
       "2  18a234b9d1e538c431761d521ea7799d  0b0765dc9c759adc48a07688ba25e94e   \n",
       "3  38d2744bf9138b0b57ed581c76c0e2da  377944ad61f72d800b25ec1862aec363   \n",
       "4  5a032791e31167a70206bfb86fb60035  6d5b22d39e68c656071a842732c63a0c   \n",
       "\n",
       "  Donation Included Optional Donation  Donation Amount  Donor Cart Sequence  \\\n",
       "0                                  No           178.37                   11   \n",
       "1                                 Yes            25.00                    2   \n",
       "2                                 Yes            20.00                    3   \n",
       "3                                 Yes            25.00                    1   \n",
       "4                                 Yes            25.00                    2   \n",
       "\n",
       "  Donation Received Date      Donor City Donor State  ...  \\\n",
       "0    2016-08-23 13:15:57     West Jordan        Utah  ...   \n",
       "1    2016-06-06 20:05:23        Riverton        Utah  ...   \n",
       "2    2016-06-06 14:08:46        Riverton        Utah  ...   \n",
       "3    2016-05-15 10:23:04         Phoenix     Arizona  ...   \n",
       "4    2016-05-17 01:23:38  Salt Lake City        Utah  ...   \n",
       "\n",
       "                   School Name School Metro Type School Percentage Free Lunch  \\\n",
       "0  Oquirrh Hills Middle School          suburban                         23.0   \n",
       "1  Oquirrh Hills Middle School          suburban                         23.0   \n",
       "2  Oquirrh Hills Middle School          suburban                         23.0   \n",
       "3  Oquirrh Hills Middle School          suburban                         23.0   \n",
       "4  Oquirrh Hills Middle School          suburban                         23.0   \n",
       "\n",
       "  School State  School Zip School City School County         School District  \\\n",
       "0         Utah     84065.0    Riverton     Salt Lake  Jordan School District   \n",
       "1         Utah     84065.0    Riverton     Salt Lake  Jordan School District   \n",
       "2         Utah     84065.0    Riverton     Salt Lake  Jordan School District   \n",
       "3         Utah     84065.0    Riverton     Salt Lake  Jordan School District   \n",
       "4         Utah     84065.0    Riverton     Salt Lake  Jordan School District   \n",
       "\n",
       "  Teacher Prefix Teacher First Project Posted Date  \n",
       "0            Mr.                        2015-09-19  \n",
       "1            Mr.                        2015-09-19  \n",
       "2            Mr.                        2015-09-19  \n",
       "3            Mr.                        2015-09-19  \n",
       "4            Mr.                        2015-09-19  \n",
       "\n",
       "[5 rows x 39 columns]"
      ]
     },
     "execution_count": 2,
     "metadata": {},
     "output_type": "execute_result"
    }
   ],
   "source": [
    "Data = pd.read_csv('DsDnsPrScTch.csv') \n",
    "Data.head()"
   ]
  },
  {
   "cell_type": "code",
   "execution_count": 3,
   "metadata": {
    "colab": {
     "base_uri": "https://localhost:8080/",
     "height": 728
    },
    "executionInfo": {
     "elapsed": 182575,
     "status": "ok",
     "timestamp": 1602555668895,
     "user": {
      "displayName": "IMESH UDARA EKANAYAKE",
      "photoUrl": "https://lh3.googleusercontent.com/a-/AOh14GgnoyG1ADZKOUhNmfjfvstT8_7R2ua78LrCesOh=s64",
      "userId": "12744400319982087483"
     },
     "user_tz": -330
    },
    "id": "H5mC8aTlRe5C",
    "outputId": "fbcb3021-2c7d-454b-d18a-b8ad4eb38d5a"
   },
   "outputs": [
    {
     "data": {
      "text/plain": [
       "Unnamed: 0                                      int64\n",
       "Project ID                                     object\n",
       "Donation ID                                    object\n",
       "Donor ID                                       object\n",
       "Donation Included Optional Donation            object\n",
       "Donation Amount                               float64\n",
       "Donor Cart Sequence                             int64\n",
       "Donation Received Date                 datetime64[ns]\n",
       "Donor City                                     object\n",
       "Donor State                                    object\n",
       "Donor Is Teacher                               object\n",
       "Donor Zip                                      object\n",
       "School ID                                      object\n",
       "Teacher ID                                     object\n",
       "Teacher Project Posted Sequence                 int64\n",
       "Project Type                                   object\n",
       "Project Title                                  object\n",
       "Project Essay                                  object\n",
       "Project Short Description                      object\n",
       "Project Need Statement                         object\n",
       "Project Subject Category Tree                  object\n",
       "Project Subject Subcategory Tree               object\n",
       "Project Grade Level Category                   object\n",
       "Project Resource Category                      object\n",
       "Project Cost                                  float64\n",
       "Project Posted Date                    datetime64[ns]\n",
       "Project Expiration Date                datetime64[ns]\n",
       "Project Current Status                         object\n",
       "Project Fully Funded Date              datetime64[ns]\n",
       "School Name                                    object\n",
       "School Metro Type                              object\n",
       "School Percentage Free Lunch                  float64\n",
       "School State                                   object\n",
       "School Zip                                    float64\n",
       "School City                                    object\n",
       "School County                                  object\n",
       "School District                                object\n",
       "Teacher Prefix                                 object\n",
       "Teacher First Project Posted Date      datetime64[ns]\n",
       "dtype: object"
      ]
     },
     "execution_count": 3,
     "metadata": {},
     "output_type": "execute_result"
    }
   ],
   "source": [
    "Data[\"Teacher First Project Posted Date\"]=pd.to_datetime(Data[\"Teacher First Project Posted Date\"])\n",
    "Data[\"Project Fully Funded Date\"]=pd.to_datetime(Data[\"Project Fully Funded Date\"])\n",
    "Data[\"Project Expiration Date\"]=pd.to_datetime(Data[\"Project Expiration Date\"])\n",
    "Data[\"Project Posted Date\"]=pd.to_datetime(Data[\"Project Posted Date\"])\n",
    "Data[\"Donation Received Date\"]=pd.to_datetime(Data[\"Donation Received Date\"])\n",
    "Data.dtypes"
   ]
  },
  {
   "cell_type": "code",
   "execution_count": 4,
   "metadata": {
    "colab": {
     "base_uri": "https://localhost:8080/",
     "height": 728
    },
    "executionInfo": {
     "elapsed": 180999,
     "status": "ok",
     "timestamp": 1602555668897,
     "user": {
      "displayName": "IMESH UDARA EKANAYAKE",
      "photoUrl": "https://lh3.googleusercontent.com/a-/AOh14GgnoyG1ADZKOUhNmfjfvstT8_7R2ua78LrCesOh=s64",
      "userId": "12744400319982087483"
     },
     "user_tz": -330
    },
    "id": "1-MzPoEZXdpJ",
    "outputId": "defd0479-5777-4677-aff4-71a9db991191"
   },
   "outputs": [
    {
     "data": {
      "text/plain": [
       "Unnamed: 0                                      int64\n",
       "Project ID                                     object\n",
       "Donation ID                                    object\n",
       "Donor ID                                       object\n",
       "Donation Included Optional Donation            object\n",
       "Donation Amount                               float64\n",
       "Donor Cart Sequence                             int64\n",
       "Donation Received Date                 datetime64[ns]\n",
       "Donor City                                     object\n",
       "Donor State                                    object\n",
       "Donor Is Teacher                               object\n",
       "Donor Zip                                      object\n",
       "School ID                                      object\n",
       "Teacher ID                                     object\n",
       "Teacher Project Posted Sequence                 int64\n",
       "Project Type                                   object\n",
       "Project Title                                  object\n",
       "Project Essay                                  object\n",
       "Project Short Description                      object\n",
       "Project Need Statement                         object\n",
       "Project Subject Category Tree                  object\n",
       "Project Subject Subcategory Tree               object\n",
       "Project Grade Level Category                   object\n",
       "Project Resource Category                      object\n",
       "Project Cost                                  float64\n",
       "Project Posted Date                    datetime64[ns]\n",
       "Project Expiration Date                datetime64[ns]\n",
       "Project Current Status                         object\n",
       "Project Fully Funded Date              datetime64[ns]\n",
       "School Name                                    object\n",
       "School Metro Type                              object\n",
       "School Percentage Free Lunch                  float64\n",
       "School State                                   object\n",
       "School Zip                                    float64\n",
       "School City                                    object\n",
       "School County                                  object\n",
       "School District                                object\n",
       "Teacher Prefix                                 object\n",
       "Teacher First Project Posted Date      datetime64[ns]\n",
       "dtype: object"
      ]
     },
     "execution_count": 4,
     "metadata": {},
     "output_type": "execute_result"
    }
   ],
   "source": [
    "Data.dtypes"
   ]
  },
  {
   "cell_type": "code",
   "execution_count": 5,
   "metadata": {
    "executionInfo": {
     "elapsed": 179935,
     "status": "ok",
     "timestamp": 1602555668899,
     "user": {
      "displayName": "IMESH UDARA EKANAYAKE",
      "photoUrl": "https://lh3.googleusercontent.com/a-/AOh14GgnoyG1ADZKOUhNmfjfvstT8_7R2ua78LrCesOh=s64",
      "userId": "12744400319982087483"
     },
     "user_tz": -330
    },
    "id": "SMI-LcrbLhb4"
   },
   "outputs": [],
   "source": [
    "Data[\"Number of dates since posted\"]=Data.loc[:,\"Donation Received Date\"]-Data.loc[:,\"Project Posted Date\"]"
   ]
  },
  {
   "cell_type": "code",
   "execution_count": 6,
   "metadata": {
    "executionInfo": {
     "elapsed": 249898,
     "status": "ok",
     "timestamp": 1602526083121,
     "user": {
      "displayName": "IMESH UDARA EKANAYAKE",
      "photoUrl": "https://lh3.googleusercontent.com/a-/AOh14GgnoyG1ADZKOUhNmfjfvstT8_7R2ua78LrCesOh=s64",
      "userId": "12744400319982087483"
     },
     "user_tz": -330
    },
    "id": "8kXnkjDqYo6a"
   },
   "outputs": [],
   "source": []
  },
  {
   "cell_type": "code",
   "execution_count": 6,
   "metadata": {
    "colab": {
     "base_uri": "https://localhost:8080/",
     "height": 1000
    },
    "executionInfo": {
     "elapsed": 187753,
     "status": "ok",
     "timestamp": 1602555678704,
     "user": {
      "displayName": "IMESH UDARA EKANAYAKE",
      "photoUrl": "https://lh3.googleusercontent.com/a-/AOh14GgnoyG1ADZKOUhNmfjfvstT8_7R2ua78LrCesOh=s64",
      "userId": "12744400319982087483"
     },
     "user_tz": -330
    },
    "id": "L4zfgDQeepuh",
    "outputId": "e4152f81-451a-486f-a9bd-ae5f3c6df62f"
   },
   "outputs": [
    {
     "name": "stdout",
     "output_type": "stream",
     "text": [
      "count    1.109992e+06\n",
      "mean     3.098366e-01\n",
      "std      3.482400e-01\n",
      "min      0.000000e+00\n",
      "25%      0.000000e+00\n",
      "50%      1.422162e-01\n",
      "75%      5.096331e-01\n",
      "max      2.550013e+00\n",
      "Name: Raised funds to project cost ratio, dtype: float64\n",
      "count    3217.000000\n",
      "mean        1.077105\n",
      "std         0.214475\n",
      "min         1.000000\n",
      "25%         1.000000\n",
      "50%         1.000000\n",
      "75%         1.000027\n",
      "max         2.550013\n",
      "Name: Raised funds to project cost ratio, dtype: float64\n"
     ]
    },
    {
     "data": {
      "image/png": "[encoded data removed]",
      "text/plain": [
       "<Figure size 720x504 with 1 Axes>"
      ]
     },
     "metadata": {
      "needs_background": "light"
     },
     "output_type": "display_data"
    },
    {
     "data": {
      "image/png": "[encoded data removed]",
      "text/plain": [
       "<Figure size 720x504 with 1 Axes>"
      ]
     },
     "metadata": {
      "needs_background": "light"
     },
     "output_type": "display_data"
    }
   ],
   "source": [
    "T=pd.Timedelta('30 days')\n",
    "sub_var=[\"Number of dates since posted\",\"Project ID\",\"Donation Amount\",\"Project Cost\"]\n",
    "sub_Data =Data.loc[:,sub_var]\n",
    "sub_Data=sub_Data[sub_Data[\"Number of dates since posted\"] < T]\n",
    "sub_Data[\"Raised funds to project cost ratio\"]=sub_Data[\"Donation Amount\"]/sub_Data[\"Project Cost\"]\n",
    "Grouped_data=sub_Data.groupby([\"Project ID\"]).sum()\n",
    "\n",
    "f, axes = plt.subplots(1, 1,figsize=(10,7))\n",
    "range=0.001\n",
    "y=\"Raised funds to project cost ratio\"\n",
    "q1 = Grouped_data[y].quantile(0)\n",
    "q3 = Grouped_data[y].quantile(1)\n",
    "mask = Grouped_data[y].between(q1, q3, inclusive=True)\n",
    "iqr = Grouped_data.loc[mask, y]\n",
    "sns.distplot(iqr, ax=axes,axlabel=y )\n",
    "print(iqr.describe())\n",
    "\n",
    "f, axes = plt.subplots(1, 1,figsize=(10,7))\n",
    "range=0.999\n",
    "y=\"Raised funds to project cost ratio\"\n",
    "q1 = Grouped_data[y].quantile(range)\n",
    "q3 = Grouped_data[y].quantile(1)\n",
    "mask = Grouped_data[y].between(q1, q3, inclusive=True)\n",
    "iqr = Grouped_data.loc[mask, y]\n",
    "sns.distplot(iqr, ax=axes,axlabel=y + \" per Project\")\n",
    "print(iqr.describe())\n",
    "G30=Grouped_data"
   ]
  },
  {
   "cell_type": "code",
   "execution_count": 7,
   "metadata": {
    "executionInfo": {
     "elapsed": 721087,
     "status": "ok",
     "timestamp": 1602556215356,
     "user": {
      "displayName": "IMESH UDARA EKANAYAKE",
      "photoUrl": "https://lh3.googleusercontent.com/a-/AOh14GgnoyG1ADZKOUhNmfjfvstT8_7R2ua78LrCesOh=s64",
      "userId": "12744400319982087483"
     },
     "user_tz": -330
    },
    "id": "B_0nico_u5ES"
   },
   "outputs": [
    {
     "ename": "FileNotFoundError",
     "evalue": "[Errno 2] No such file or directory: '/content/drive/My Drive/donorschoose/F30.csv'",
     "output_type": "error",
     "traceback": [
      "\u001b[1;31m---------------------------------------------------------------------------\u001b[0m",
      "\u001b[1;31mFileNotFoundError\u001b[0m                         Traceback (most recent call last)",
      "\u001b[1;32m<ipython-input-7-ff8426c27f45>\u001b[0m in \u001b[0;36m<module>\u001b[1;34m\u001b[0m\n\u001b[0;32m      1\u001b[0m \u001b[0mf30\u001b[0m\u001b[1;33m=\u001b[0m\u001b[0mpd\u001b[0m\u001b[1;33m.\u001b[0m\u001b[0mmerge\u001b[0m\u001b[1;33m(\u001b[0m\u001b[0mData\u001b[0m\u001b[1;33m,\u001b[0m\u001b[0mG30\u001b[0m\u001b[1;33m,\u001b[0m\u001b[0mon\u001b[0m\u001b[1;33m=\u001b[0m\u001b[1;34m'Project ID'\u001b[0m\u001b[1;33m)\u001b[0m\u001b[1;33m\u001b[0m\u001b[1;33m\u001b[0m\u001b[0m\n\u001b[1;32m----> 2\u001b[1;33m \u001b[0mf30\u001b[0m\u001b[1;33m.\u001b[0m\u001b[0mto_csv\u001b[0m\u001b[1;33m(\u001b[0m\u001b[1;34m'/content/drive/My Drive/donorschoose/F30.csv'\u001b[0m\u001b[1;33m)\u001b[0m\u001b[1;33m\u001b[0m\u001b[1;33m\u001b[0m\u001b[0m\n\u001b[0m",
      "\u001b[1;32mC:\\ProgramData\\Anaconda3\\lib\\site-packages\\pandas\\core\\generic.py\u001b[0m in \u001b[0;36mto_csv\u001b[1;34m(self, path_or_buf, sep, na_rep, float_format, columns, header, index, index_label, mode, encoding, compression, quoting, quotechar, line_terminator, chunksize, date_format, doublequote, escapechar, decimal)\u001b[0m\n\u001b[0;32m   3202\u001b[0m             \u001b[0mdecimal\u001b[0m\u001b[1;33m=\u001b[0m\u001b[0mdecimal\u001b[0m\u001b[1;33m,\u001b[0m\u001b[1;33m\u001b[0m\u001b[1;33m\u001b[0m\u001b[0m\n\u001b[0;32m   3203\u001b[0m         )\n\u001b[1;32m-> 3204\u001b[1;33m         \u001b[0mformatter\u001b[0m\u001b[1;33m.\u001b[0m\u001b[0msave\u001b[0m\u001b[1;33m(\u001b[0m\u001b[1;33m)\u001b[0m\u001b[1;33m\u001b[0m\u001b[1;33m\u001b[0m\u001b[0m\n\u001b[0m\u001b[0;32m   3205\u001b[0m \u001b[1;33m\u001b[0m\u001b[0m\n\u001b[0;32m   3206\u001b[0m         \u001b[1;32mif\u001b[0m \u001b[0mpath_or_buf\u001b[0m \u001b[1;32mis\u001b[0m \u001b[1;32mNone\u001b[0m\u001b[1;33m:\u001b[0m\u001b[1;33m\u001b[0m\u001b[1;33m\u001b[0m\u001b[0m\n",
      "\u001b[1;32mC:\\ProgramData\\Anaconda3\\lib\\site-packages\\pandas\\io\\formats\\csvs.py\u001b[0m in \u001b[0;36msave\u001b[1;34m(self)\u001b[0m\n\u001b[0;32m    186\u001b[0m                 \u001b[0mself\u001b[0m\u001b[1;33m.\u001b[0m\u001b[0mmode\u001b[0m\u001b[1;33m,\u001b[0m\u001b[1;33m\u001b[0m\u001b[1;33m\u001b[0m\u001b[0m\n\u001b[0;32m    187\u001b[0m                 \u001b[0mencoding\u001b[0m\u001b[1;33m=\u001b[0m\u001b[0mself\u001b[0m\u001b[1;33m.\u001b[0m\u001b[0mencoding\u001b[0m\u001b[1;33m,\u001b[0m\u001b[1;33m\u001b[0m\u001b[1;33m\u001b[0m\u001b[0m\n\u001b[1;32m--> 188\u001b[1;33m                 \u001b[0mcompression\u001b[0m\u001b[1;33m=\u001b[0m\u001b[0mdict\u001b[0m\u001b[1;33m(\u001b[0m\u001b[0mself\u001b[0m\u001b[1;33m.\u001b[0m\u001b[0mcompression_args\u001b[0m\u001b[1;33m,\u001b[0m \u001b[0mmethod\u001b[0m\u001b[1;33m=\u001b[0m\u001b[0mself\u001b[0m\u001b[1;33m.\u001b[0m\u001b[0mcompression\u001b[0m\u001b[1;33m)\u001b[0m\u001b[1;33m,\u001b[0m\u001b[1;33m\u001b[0m\u001b[1;33m\u001b[0m\u001b[0m\n\u001b[0m\u001b[0;32m    189\u001b[0m             )\n\u001b[0;32m    190\u001b[0m             \u001b[0mclose\u001b[0m \u001b[1;33m=\u001b[0m \u001b[1;32mTrue\u001b[0m\u001b[1;33m\u001b[0m\u001b[1;33m\u001b[0m\u001b[0m\n",
      "\u001b[1;32mC:\\ProgramData\\Anaconda3\\lib\\site-packages\\pandas\\io\\common.py\u001b[0m in \u001b[0;36mget_handle\u001b[1;34m(path_or_buf, mode, encoding, compression, memory_map, is_text)\u001b[0m\n\u001b[0;32m    426\u001b[0m         \u001b[1;32mif\u001b[0m \u001b[0mencoding\u001b[0m\u001b[1;33m:\u001b[0m\u001b[1;33m\u001b[0m\u001b[1;33m\u001b[0m\u001b[0m\n\u001b[0;32m    427\u001b[0m             \u001b[1;31m# Encoding\u001b[0m\u001b[1;33m\u001b[0m\u001b[1;33m\u001b[0m\u001b[1;33m\u001b[0m\u001b[0m\n\u001b[1;32m--> 428\u001b[1;33m             \u001b[0mf\u001b[0m \u001b[1;33m=\u001b[0m \u001b[0mopen\u001b[0m\u001b[1;33m(\u001b[0m\u001b[0mpath_or_buf\u001b[0m\u001b[1;33m,\u001b[0m \u001b[0mmode\u001b[0m\u001b[1;33m,\u001b[0m \u001b[0mencoding\u001b[0m\u001b[1;33m=\u001b[0m\u001b[0mencoding\u001b[0m\u001b[1;33m,\u001b[0m \u001b[0mnewline\u001b[0m\u001b[1;33m=\u001b[0m\u001b[1;34m\"\"\u001b[0m\u001b[1;33m)\u001b[0m\u001b[1;33m\u001b[0m\u001b[1;33m\u001b[0m\u001b[0m\n\u001b[0m\u001b[0;32m    429\u001b[0m         \u001b[1;32melif\u001b[0m \u001b[0mis_text\u001b[0m\u001b[1;33m:\u001b[0m\u001b[1;33m\u001b[0m\u001b[1;33m\u001b[0m\u001b[0m\n\u001b[0;32m    430\u001b[0m             \u001b[1;31m# No explicit encoding\u001b[0m\u001b[1;33m\u001b[0m\u001b[1;33m\u001b[0m\u001b[1;33m\u001b[0m\u001b[0m\n",
      "\u001b[1;31mFileNotFoundError\u001b[0m: [Errno 2] No such file or directory: '/content/drive/My Drive/donorschoose/F30.csv'"
     ]
    }
   ],
   "source": [
    "f30=pd.merge(Data,G30,on='Project ID')\n",
    "f30.to_csv('/content/drive/My Drive/donorschoose/F30.csv')"
   ]
  },
  {
   "cell_type": "code",
   "execution_count": null,
   "metadata": {
    "colab": {
     "base_uri": "https://localhost:8080/",
     "height": 1000
    },
    "executionInfo": {
     "elapsed": 9468,
     "status": "ok",
     "timestamp": 1602528608559,
     "user": {
      "displayName": "IMESH UDARA EKANAYAKE",
      "photoUrl": "https://lh3.googleusercontent.com/a-/AOh14GgnoyG1ADZKOUhNmfjfvstT8_7R2ua78LrCesOh=s64",
      "userId": "12744400319982087483"
     },
     "user_tz": -330
    },
    "id": "ChBVEMmOJKKl",
    "outputId": "4e4a15cb-43e2-43e3-9075-7b03fc405424"
   },
   "outputs": [],
   "source": [
    "T=pd.Timedelta('60 days')\n",
    "sub_var=[\"Number of dates since posted\",\"Project ID\",\"Donation Amount\",\"Project Cost\"]\n",
    "sub_Data =Data.loc[:,sub_var]\n",
    "sub_Data=sub_Data[sub_Data[\"Number of dates since posted\"] < T]\n",
    "sub_Data[\"Fund Ratio\"]=sub_Data[\"Donation Amount\"]/sub_Data[\"Project Cost\"]\n",
    "Grouped_data=sub_Data.groupby([\"Project ID\"]).sum()\n",
    "\n",
    "f, axes = plt.subplots(1, 1,figsize=(10,7))\n",
    "range=0.001\n",
    "y=\"Fund Ratio\"\n",
    "q1 = Grouped_data[y].quantile(0)\n",
    "q3 = Grouped_data[y].quantile(1)\n",
    "mask = Grouped_data[y].between(q1, q3, inclusive=True)\n",
    "iqr = Grouped_data.loc[mask, y]\n",
    "sns.distplot(iqr, ax=axes,axlabel=y + \" per Project\")\n",
    "print(iqr.describe())\n",
    "\n",
    "f, axes = plt.subplots(1, 1,figsize=(10,7))\n",
    "range=0.999\n",
    "y=\"Fund Ratio\"\n",
    "q1 = Grouped_data[y].quantile(range)\n",
    "q3 = Grouped_data[y].quantile(1)\n",
    "mask = Grouped_data[y].between(q1, q3, inclusive=True)\n",
    "iqr = Grouped_data.loc[mask, y]\n",
    "sns.distplot(iqr, ax=axes,axlabel=y + \" per Project\")\n",
    "print(iqr.describe())\n",
    "G30=Grouped_data"
   ]
  },
  {
   "cell_type": "code",
   "execution_count": null,
   "metadata": {
    "colab": {
     "base_uri": "https://localhost:8080/",
     "height": 1000
    },
    "executionInfo": {
     "elapsed": 10763,
     "status": "ok",
     "timestamp": 1602529877903,
     "user": {
      "displayName": "IMESH UDARA EKANAYAKE",
      "photoUrl": "https://lh3.googleusercontent.com/a-/AOh14GgnoyG1ADZKOUhNmfjfvstT8_7R2ua78LrCesOh=s64",
      "userId": "12744400319982087483"
     },
     "user_tz": -330
    },
    "id": "PguggCCVJL7n",
    "outputId": "aa644def-4579-44a1-a040-f826b5418173"
   },
   "outputs": [],
   "source": [
    "T=pd.Timedelta('60 days')\n",
    "sub_var=[\"Number of dates since posted\",\"Project ID\",\"Donation Amount\",\"Project Cost\"]\n",
    "sub_Data =Data.loc[:,sub_var]\n",
    "sub_Data=sub_Data[sub_Data[\"Number of dates since posted\"] < T]\n",
    "sub_Data[\"Fund Ratio\"]=sub_Data[\"Donation Amount\"]/sub_Data[\"Project Cost\"]\n",
    "Grouped_data=sub_Data.groupby([\"Project ID\"]).sum()\n",
    "\n",
    "f, axes = plt.subplots(1, 1,figsize=(10,7))\n",
    "range=0.001\n",
    "y=\"Fund Ratio\"\n",
    "q1 = Grouped_data[y].quantile(0)\n",
    "q3 = Grouped_data[y].quantile(1)\n",
    "mask = Grouped_data[y].between(q1, q3, inclusive=True)\n",
    "iqr = Grouped_data.loc[mask, y]\n",
    "sns.distplot(iqr, ax=axes,axlabel=y + \" per Project\")\n",
    "print(iqr.describe())\n",
    "\n",
    "f, axes = plt.subplots(1, 1,figsize=(10,7))\n",
    "range=0.999\n",
    "y=\"Fund Ratio\"\n",
    "q1 = Grouped_data[y].quantile(range)\n",
    "q3 = Grouped_data[y].quantile(1)\n",
    "mask = Grouped_data[y].between(q1, q3, inclusive=True)\n",
    "iqr = Grouped_data.loc[mask, y]\n",
    "sns.distplot(iqr, ax=axes,axlabel=y + \" per Project\")\n",
    "print(iqr.describe())\n",
    "G30=Grouped_data"
   ]
  },
  {
   "cell_type": "code",
   "execution_count": 32,
   "metadata": {
    "colab": {
     "base_uri": "https://localhost:8080/",
     "height": 1000
    },
    "executionInfo": {
     "elapsed": 10524,
     "status": "ok",
     "timestamp": 1602528556108,
     "user": {
      "displayName": "IMESH UDARA EKANAYAKE",
      "photoUrl": "https://lh3.googleusercontent.com/a-/AOh14GgnoyG1ADZKOUhNmfjfvstT8_7R2ua78LrCesOh=s64",
      "userId": "12744400319982087483"
     },
     "user_tz": -330
    },
    "id": "MDk_6OnNJN4b",
    "outputId": "f105d8d1-2e9c-428e-9b97-de7a3f502add"
   },
   "outputs": [
    {
     "name": "stderr",
     "output_type": "stream",
     "text": [
      "/usr/local/lib/python3.6/dist-packages/seaborn/distributions.py:2551: FutureWarning:\n",
      "\n",
      "`distplot` is a deprecated function and will be removed in a future version. Please adapt your code to use either `displot` (a figure-level function with similar flexibility) or `histplot` (an axes-level function for histograms).\n",
      "\n"
     ]
    },
    {
     "name": "stdout",
     "output_type": "stream",
     "text": [
      "count    869931.000000\n",
      "mean          0.555156\n",
      "std           0.336339\n",
      "min           0.000026\n",
      "25%           0.254682\n",
      "50%           0.500018\n",
      "75%           0.888972\n",
      "max           1.000061\n",
      "Name: Fund Ratio, dtype: float64\n",
      "count    871.000000\n",
      "mean       1.349687\n",
      "std        0.329470\n",
      "min        1.000061\n",
      "25%        1.026203\n",
      "50%        1.231294\n",
      "75%        1.700080\n",
      "max        2.550013\n",
      "Name: Fund Ratio, dtype: float64\n"
     ]
    },
    {
     "name": "stderr",
     "output_type": "stream",
     "text": [
      "/usr/local/lib/python3.6/dist-packages/seaborn/distributions.py:2551: FutureWarning:\n",
      "\n",
      "`distplot` is a deprecated function and will be removed in a future version. Please adapt your code to use either `displot` (a figure-level function with similar flexibility) or `histplot` (an axes-level function for histograms).\n",
      "\n"
     ]
    },
    {
     "data": {
      "image/png": "[encoded data removed]",
      "text/plain": [
       "<Figure size 720x504 with 1 Axes>"
      ]
     },
     "metadata": {
      "needs_background": "light",
      "tags": []
     },
     "output_type": "display_data"
    },
    {
     "data": {
      "image/png": "[encoded data removed]",
      "text/plain": [
       "<Figure size 720x504 with 1 Axes>"
      ]
     },
     "metadata": {
      "needs_background": "light",
      "tags": []
     },
     "output_type": "display_data"
    }
   ],
   "source": [
    "T=pd.Timedelta('120 days')\n",
    "sub_var=[\"Number of dates since posted\",\"Project ID\",\"Donation Amount\",\"Project Cost\"]\n",
    "sub_Data =Data.loc[:,sub_var]\n",
    "sub_Data=sub_Data[sub_Data[\"Number of dates since posted\"] < T]\n",
    "sub_Data[\"Fund Ratio\"]=sub_Data[\"Donation Amount\"]/sub_Data[\"Project Cost\"]\n",
    "Grouped_data=sub_Data.groupby([\"Project ID\"]).sum()\n",
    "\n",
    "f, axes = plt.subplots(1, 1,figsize=(10,7))\n",
    "range=0.001\n",
    "y=\"Fund Ratio\"\n",
    "q1 = Grouped_data[y].quantile(0)\n",
    "q3 = Grouped_data[y].quantile(1-range)\n",
    "mask = Grouped_data[y].between(q1, q3, inclusive=True)\n",
    "iqr = Grouped_data.loc[mask, y]\n",
    "sns.distplot(iqr, ax=axes,axlabel=y + \" per Project\")\n",
    "print(iqr.describe())\n",
    "\n",
    "f, axes = plt.subplots(1, 1,figsize=(10,7))\n",
    "range=0.999\n",
    "y=\"Fund Ratio\"\n",
    "q1 = Grouped_data[y].quantile(range)\n",
    "q3 = Grouped_data[y].quantile(1)\n",
    "mask = Grouped_data[y].between(q1, q3, inclusive=True)\n",
    "iqr = Grouped_data.loc[mask, y]\n",
    "sns.distplot(iqr, ax=axes,axlabel=y + \" per Project\")\n",
    "print(iqr.describe())\n",
    "G30=Grouped_data"
   ]
  },
  {
   "cell_type": "code",
   "execution_count": 29,
   "metadata": {
    "colab": {
     "base_uri": "https://localhost:8080/",
     "height": 1000
    },
    "executionInfo": {
     "elapsed": 9666,
     "status": "ok",
     "timestamp": 1602528503010,
     "user": {
      "displayName": "IMESH UDARA EKANAYAKE",
      "photoUrl": "https://lh3.googleusercontent.com/a-/AOh14GgnoyG1ADZKOUhNmfjfvstT8_7R2ua78LrCesOh=s64",
      "userId": "12744400319982087483"
     },
     "user_tz": -330
    },
    "id": "L7C3b6xmJDQS",
    "outputId": "428e1be9-6bd1-43d4-90f2-5c2efc20ad56"
   },
   "outputs": [
    {
     "name": "stderr",
     "output_type": "stream",
     "text": [
      "/usr/local/lib/python3.6/dist-packages/seaborn/distributions.py:2551: FutureWarning:\n",
      "\n",
      "`distplot` is a deprecated function and will be removed in a future version. Please adapt your code to use either `displot` (a figure-level function with similar flexibility) or `histplot` (an axes-level function for histograms).\n",
      "\n"
     ]
    },
    {
     "name": "stdout",
     "output_type": "stream",
     "text": [
      "count    806237.000000\n",
      "mean        274.124149\n",
      "std         316.947966\n",
      "min           0.020000\n",
      "25%          93.760000\n",
      "50%         193.620000\n",
      "75%         349.640000\n",
      "max        5256.750000\n",
      "Name: Donation Amount, dtype: float64\n"
     ]
    },
    {
     "name": "stderr",
     "output_type": "stream",
     "text": [
      "/usr/local/lib/python3.6/dist-packages/seaborn/distributions.py:2551: FutureWarning:\n",
      "\n",
      "`distplot` is a deprecated function and will be removed in a future version. Please adapt your code to use either `displot` (a figure-level function with similar flexibility) or `histplot` (an axes-level function for histograms).\n",
      "\n"
     ]
    },
    {
     "name": "stdout",
     "output_type": "stream",
     "text": [
      "count       808.000000\n",
      "mean       9529.915681\n",
      "std        6618.513669\n",
      "min        5270.400000\n",
      "25%        6523.832500\n",
      "50%        7820.525000\n",
      "75%        9999.517500\n",
      "max      108188.300000\n",
      "Name: Donation Amount, dtype: float64\n"
     ]
    },
    {
     "data": {
      "image/png": "[encoded data removed]",
      "text/plain": [
       "<Figure size 720x504 with 1 Axes>"
      ]
     },
     "metadata": {
      "needs_background": "light",
      "tags": []
     },
     "output_type": "display_data"
    },
    {
     "data": {
      "image/png": "[encoded data removed]",
      "text/plain": [
       "<Figure size 720x504 with 1 Axes>"
      ]
     },
     "metadata": {
      "needs_background": "light",
      "tags": []
     },
     "output_type": "display_data"
    }
   ],
   "source": [
    "T=pd.Timedelta('60 days')\n",
    "sub_var=[\"Number of dates since posted\",\"Project ID\",\"Donation Amount\"]\n",
    "sub_Data =Data.loc[:,sub_var]\n",
    "sub_Data=sub_Data[sub_Data[\"Number of dates since posted\"] < T]\n",
    "\n",
    "Grouped_data=sub_Data.groupby([\"Project ID\"]).sum()\n",
    "\n",
    "f, axes = plt.subplots(1, 1,figsize=(10,7))\n",
    "range=0.001\n",
    "y=\"Donation Amount\"\n",
    "q1 = Grouped_data[y].quantile(0)\n",
    "q3 = Grouped_data[y].quantile(1-range)\n",
    "mask = Grouped_data[y].between(q1, q3, inclusive=True)\n",
    "iqr = Grouped_data.loc[mask, y]\n",
    "sns.distplot(iqr, ax=axes,axlabel=y + \" per Donors\")\n",
    "print(iqr.describe())\n",
    "\n",
    "f, axes = plt.subplots(1, 1,figsize=(10,7))\n",
    "range=0.999\n",
    "y=\"Donation Amount\"\n",
    "q1 = Grouped_data[y].quantile(range)\n",
    "q3 = Grouped_data[y].quantile(1)\n",
    "mask = Grouped_data[y].between(q1, q3, inclusive=True)\n",
    "iqr = Grouped_data.loc[mask, y]\n",
    "sns.distplot(iqr, ax=axes,axlabel=y + \" per Donors\")\n",
    "print(iqr.describe())\n"
   ]
  },
  {
   "cell_type": "code",
   "execution_count": 8,
   "metadata": {
    "colab": {
     "base_uri": "https://localhost:8080/",
     "height": 1000
    },
    "executionInfo": {
     "elapsed": 265832,
     "status": "ok",
     "timestamp": 1602526099081,
     "user": {
      "displayName": "IMESH UDARA EKANAYAKE",
      "photoUrl": "https://lh3.googleusercontent.com/a-/AOh14GgnoyG1ADZKOUhNmfjfvstT8_7R2ua78LrCesOh=s64",
      "userId": "12744400319982087483"
     },
     "user_tz": -330
    },
    "id": "tn8H7iCcesSU",
    "outputId": "49f9e009-cdea-458f-bbae-99c2ad3e17a0"
   },
   "outputs": [
    {
     "name": "stderr",
     "output_type": "stream",
     "text": [
      "/usr/local/lib/python3.6/dist-packages/seaborn/distributions.py:2551: FutureWarning:\n",
      "\n",
      "`distplot` is a deprecated function and will be removed in a future version. Please adapt your code to use either `displot` (a figure-level function with similar flexibility) or `histplot` (an axes-level function for histograms).\n",
      "\n"
     ]
    },
    {
     "name": "stdout",
     "output_type": "stream",
     "text": [
      "count    806237.000000\n",
      "mean        274.124149\n",
      "std         316.947966\n",
      "min           0.020000\n",
      "25%          93.760000\n",
      "50%         193.620000\n",
      "75%         349.640000\n",
      "max        5256.750000\n",
      "Name: Donation Amount, dtype: float64\n",
      "count       808.000000\n",
      "mean       9529.915681\n",
      "std        6618.513669\n",
      "min        5270.400000\n",
      "25%        6523.832500\n",
      "50%        7820.525000\n",
      "75%        9999.517500\n",
      "max      108188.300000\n",
      "Name: Donation Amount, dtype: float64\n"
     ]
    },
    {
     "name": "stderr",
     "output_type": "stream",
     "text": [
      "/usr/local/lib/python3.6/dist-packages/seaborn/distributions.py:2551: FutureWarning:\n",
      "\n",
      "`distplot` is a deprecated function and will be removed in a future version. Please adapt your code to use either `displot` (a figure-level function with similar flexibility) or `histplot` (an axes-level function for histograms).\n",
      "\n"
     ]
    },
    {
     "data": {
      "image/png": "[encoded data removed]",
      "text/plain": [
       "<Figure size 720x504 with 1 Axes>"
      ]
     },
     "metadata": {
      "needs_background": "light",
      "tags": []
     },
     "output_type": "display_data"
    },
    {
     "data": {
      "image/png": "[encoded data removed]",
      "text/plain": [
       "<Figure size 720x504 with 1 Axes>"
      ]
     },
     "metadata": {
      "needs_background": "light",
      "tags": []
     },
     "output_type": "display_data"
    }
   ],
   "source": [
    "T=pd.Timedelta('60 days')\n",
    "sub_var=[\"Number of dates since posted\",\"Project ID\",\"Donation Amount\"]\n",
    "sub_Data =Data.loc[:,sub_var]\n",
    "sub_Data=sub_Data[sub_Data[\"Number of dates since posted\"] < T]\n",
    "\n",
    "Grouped_data=sub_Data.groupby([\"Project ID\"]).sum()\n",
    "\n",
    "f, axes = plt.subplots(1, 1,figsize=(10,7))\n",
    "range=0.001\n",
    "y=\"Donation Amount\"\n",
    "q1 = Grouped_data[y].quantile(0)\n",
    "q3 = Grouped_data[y].quantile(1-range)\n",
    "mask = Grouped_data[y].between(q1, q3, inclusive=True)\n",
    "iqr = Grouped_data.loc[mask, y]\n",
    "sns.distplot(iqr, ax=axes,axlabel=y + \" per Donors\")\n",
    "print(iqr.describe())\n",
    "\n",
    "f, axes = plt.subplots(1, 1,figsize=(10,7))\n",
    "range=0.999\n",
    "y=\"Donation Amount\"\n",
    "q1 = Grouped_data[y].quantile(range)\n",
    "q3 = Grouped_data[y].quantile(1)\n",
    "mask = Grouped_data[y].between(q1, q3, inclusive=True)\n",
    "iqr = Grouped_data.loc[mask, y]\n",
    "sns.distplot(iqr, ax=axes,axlabel=y + \" per Donors\")\n",
    "print(iqr.describe())\n"
   ]
  },
  {
   "cell_type": "code",
   "execution_count": 9,
   "metadata": {
    "colab": {
     "base_uri": "https://localhost:8080/",
     "height": 1000
    },
    "executionInfo": {
     "elapsed": 274205,
     "status": "ok",
     "timestamp": 1602526107470,
     "user": {
      "displayName": "IMESH UDARA EKANAYAKE",
      "photoUrl": "https://lh3.googleusercontent.com/a-/AOh14GgnoyG1ADZKOUhNmfjfvstT8_7R2ua78LrCesOh=s64",
      "userId": "12744400319982087483"
     },
     "user_tz": -330
    },
    "id": "xod_6a-yTkUz",
    "outputId": "f6342bbd-34e0-4545-f251-b4a00851ff63"
   },
   "outputs": [
    {
     "name": "stderr",
     "output_type": "stream",
     "text": [
      "/usr/local/lib/python3.6/dist-packages/seaborn/distributions.py:2551: FutureWarning:\n",
      "\n",
      "`distplot` is a deprecated function and will be removed in a future version. Please adapt your code to use either `displot` (a figure-level function with similar flexibility) or `histplot` (an axes-level function for histograms).\n",
      "\n"
     ]
    },
    {
     "name": "stdout",
     "output_type": "stream",
     "text": [
      "count    849130.000000\n",
      "mean        294.448140\n",
      "std         332.603865\n",
      "min           0.020000\n",
      "25%         100.000000\n",
      "50%         208.000000\n",
      "75%         374.477500\n",
      "max        5394.930000\n",
      "Name: Donation Amount, dtype: float64\n",
      "count       850.000000\n",
      "mean       9608.088282\n",
      "std        6743.269309\n",
      "min        5397.140000\n",
      "25%        6625.320000\n",
      "50%        7835.765000\n",
      "75%        9999.995000\n",
      "max      108248.300000\n",
      "Name: Donation Amount, dtype: float64\n"
     ]
    },
    {
     "name": "stderr",
     "output_type": "stream",
     "text": [
      "/usr/local/lib/python3.6/dist-packages/seaborn/distributions.py:2551: FutureWarning:\n",
      "\n",
      "`distplot` is a deprecated function and will be removed in a future version. Please adapt your code to use either `displot` (a figure-level function with similar flexibility) or `histplot` (an axes-level function for histograms).\n",
      "\n"
     ]
    },
    {
     "data": {
      "image/png": "[encoded data removed]",
      "text/plain": [
       "<Figure size 720x504 with 1 Axes>"
      ]
     },
     "metadata": {
      "needs_background": "light",
      "tags": []
     },
     "output_type": "display_data"
    },
    {
     "data": {
      "image/png": "[encoded data removed]",
      "text/plain": [
       "<Figure size 720x504 with 1 Axes>"
      ]
     },
     "metadata": {
      "needs_background": "light",
      "tags": []
     },
     "output_type": "display_data"
    }
   ],
   "source": [
    "T=pd.Timedelta('100 days')\n",
    "sub_var=[\"Number of dates since posted\",\"Project ID\",\"Donation Amount\"]\n",
    "sub_Data =Data.loc[:,sub_var]\n",
    "sub_Data=sub_Data[sub_Data[\"Number of dates since posted\"] < T]\n",
    "\n",
    "Grouped_data=sub_Data.groupby([\"Project ID\"]).sum()\n",
    "\n",
    "f, axes = plt.subplots(1, 1,figsize=(10,7))\n",
    "range=0.001\n",
    "y=\"Donation Amount\"\n",
    "q1 = Grouped_data[y].quantile(0)\n",
    "q3 = Grouped_data[y].quantile(1-range)\n",
    "mask = Grouped_data[y].between(q1, q3, inclusive=True)\n",
    "iqr = Grouped_data.loc[mask, y]\n",
    "sns.distplot(iqr, ax=axes,axlabel=y + \" per Donors\")\n",
    "print(iqr.describe())\n",
    "\n",
    "f, axes = plt.subplots(1, 1,figsize=(10,7))\n",
    "range=0.999\n",
    "y=\"Donation Amount\"\n",
    "q1 = Grouped_data[y].quantile(range)\n",
    "q3 = Grouped_data[y].quantile(1)\n",
    "mask = Grouped_data[y].between(q1, q3, inclusive=True)\n",
    "iqr = Grouped_data.loc[mask, y]\n",
    "sns.distplot(iqr, ax=axes,axlabel=y + \" per Donors\")\n",
    "print(iqr.describe())"
   ]
  },
  {
   "cell_type": "code",
   "execution_count": 10,
   "metadata": {
    "colab": {
     "base_uri": "https://localhost:8080/",
     "height": 1000
    },
    "executionInfo": {
     "elapsed": 283171,
     "status": "ok",
     "timestamp": 1602526116454,
     "user": {
      "displayName": "IMESH UDARA EKANAYAKE",
      "photoUrl": "https://lh3.googleusercontent.com/a-/AOh14GgnoyG1ADZKOUhNmfjfvstT8_7R2ua78LrCesOh=s64",
      "userId": "12744400319982087483"
     },
     "user_tz": -330
    },
    "id": "NpR89WhRWywU",
    "outputId": "1784cf91-6146-4aef-fd11-3ab50a95b652"
   },
   "outputs": [
    {
     "name": "stderr",
     "output_type": "stream",
     "text": [
      "/usr/local/lib/python3.6/dist-packages/seaborn/distributions.py:2551: FutureWarning:\n",
      "\n",
      "`distplot` is a deprecated function and will be removed in a future version. Please adapt your code to use either `displot` (a figure-level function with similar flexibility) or `histplot` (an axes-level function for histograms).\n",
      "\n"
     ]
    },
    {
     "name": "stdout",
     "output_type": "stream",
     "text": [
      "count    872286.000000\n",
      "mean        312.649904\n",
      "std         346.731548\n",
      "min           0.050000\n",
      "25%         111.000000\n",
      "50%         223.560000\n",
      "75%         395.000000\n",
      "max        5567.670000\n",
      "Name: Donation Amount, dtype: float64\n",
      "count       874.000000\n",
      "mean       9709.026396\n",
      "std        6889.605437\n",
      "min        5571.400000\n",
      "25%        6713.847500\n",
      "50%        7864.555000\n",
      "75%       10001.320000\n",
      "max      108248.300000\n",
      "Name: Donation Amount, dtype: float64\n"
     ]
    },
    {
     "name": "stderr",
     "output_type": "stream",
     "text": [
      "/usr/local/lib/python3.6/dist-packages/seaborn/distributions.py:2551: FutureWarning:\n",
      "\n",
      "`distplot` is a deprecated function and will be removed in a future version. Please adapt your code to use either `displot` (a figure-level function with similar flexibility) or `histplot` (an axes-level function for histograms).\n",
      "\n"
     ]
    },
    {
     "data": {
      "image/png": "[encoded data removed]",
      "text/plain": [
       "<Figure size 720x504 with 1 Axes>"
      ]
     },
     "metadata": {
      "needs_background": "light",
      "tags": []
     },
     "output_type": "display_data"
    },
    {
     "data": {
      "image/png": "[encoded data removed]",
      "text/plain": [
       "<Figure size 720x504 with 1 Axes>"
      ]
     },
     "metadata": {
      "needs_background": "light",
      "tags": []
     },
     "output_type": "display_data"
    }
   ],
   "source": [
    "T=pd.Timedelta('180 days')\n",
    "sub_var=[\"Number of dates since posted\",\"Project ID\",\"Donation Amount\"]\n",
    "sub_Data =Data.loc[:,sub_var]\n",
    "sub_Data=sub_Data[sub_Data[\"Number of dates since posted\"] < T]\n",
    "\n",
    "Grouped_data=sub_Data.groupby([\"Project ID\"]).sum()\n",
    "\n",
    "f, axes = plt.subplots(1, 1,figsize=(10,7))\n",
    "range=0.001\n",
    "y=\"Donation Amount\"\n",
    "q1 = Grouped_data[y].quantile(0)\n",
    "q3 = Grouped_data[y].quantile(1-range)\n",
    "mask = Grouped_data[y].between(q1, q3, inclusive=True)\n",
    "iqr = Grouped_data.loc[mask, y]\n",
    "sns.distplot(iqr, ax=axes,axlabel=y + \" per Donors\")\n",
    "print(iqr.describe())\n",
    "\n",
    "f, axes = plt.subplots(1, 1,figsize=(10,7))\n",
    "range=0.999\n",
    "y=\"Donation Amount\"\n",
    "q1 = Grouped_data[y].quantile(range)\n",
    "q3 = Grouped_data[y].quantile(1)\n",
    "mask = Grouped_data[y].between(q1, q3, inclusive=True)\n",
    "iqr = Grouped_data.loc[mask, y]\n",
    "sns.distplot(iqr, ax=axes,axlabel=y + \" per Donors\")\n",
    "print(iqr.describe())"
   ]
  },
  {
   "cell_type": "code",
   "execution_count": 18,
   "metadata": {
    "colab": {
     "base_uri": "https://localhost:8080/",
     "height": 1000
    },
    "executionInfo": {
     "elapsed": 10448,
     "status": "ok",
     "timestamp": 1602528035074,
     "user": {
      "displayName": "IMESH UDARA EKANAYAKE",
      "photoUrl": "https://lh3.googleusercontent.com/a-/AOh14GgnoyG1ADZKOUhNmfjfvstT8_7R2ua78LrCesOh=s64",
      "userId": "12744400319982087483"
     },
     "user_tz": -330
    },
    "id": "QFTycN2Ypw5s",
    "outputId": "6c802fd5-c5db-4e9d-c0ee-d0a3c40d0929"
   },
   "outputs": [
    {
     "name": "stderr",
     "output_type": "stream",
     "text": [
      "/usr/local/lib/python3.6/dist-packages/seaborn/distributions.py:2551: FutureWarning:\n",
      "\n",
      "`distplot` is a deprecated function and will be removed in a future version. Please adapt your code to use either `displot` (a figure-level function with similar flexibility) or `histplot` (an axes-level function for histograms).\n",
      "\n"
     ]
    },
    {
     "name": "stdout",
     "output_type": "stream",
     "text": [
      "count    869931.000000\n",
      "mean        310.697002\n",
      "std         344.088613\n",
      "min           0.050000\n",
      "25%         110.000000\n",
      "50%         221.880000\n",
      "75%         393.440000\n",
      "max        5452.510000\n",
      "Name: Donation Amount, dtype: float64\n",
      "count       871.000000\n",
      "mean       9676.874650\n",
      "std        6851.886644\n",
      "min        5476.890000\n",
      "25%        6677.665000\n",
      "50%        7849.110000\n",
      "75%       10000.000000\n",
      "max      108248.300000\n",
      "Name: Donation Amount, dtype: float64\n"
     ]
    },
    {
     "name": "stderr",
     "output_type": "stream",
     "text": [
      "/usr/local/lib/python3.6/dist-packages/seaborn/distributions.py:2551: FutureWarning:\n",
      "\n",
      "`distplot` is a deprecated function and will be removed in a future version. Please adapt your code to use either `displot` (a figure-level function with similar flexibility) or `histplot` (an axes-level function for histograms).\n",
      "\n"
     ]
    },
    {
     "data": {
      "image/png": "[encoded data removed]",
      "text/plain": [
       "<Figure size 720x504 with 1 Axes>"
      ]
     },
     "metadata": {
      "needs_background": "light",
      "tags": []
     },
     "output_type": "display_data"
    },
    {
     "data": {
      "image/png": "[encoded data removed]",
      "text/plain": [
       "<Figure size 720x504 with 1 Axes>"
      ]
     },
     "metadata": {
      "needs_background": "light",
      "tags": []
     },
     "output_type": "display_data"
    }
   ],
   "source": [
    "T=pd.Timedelta('120 days')\n",
    "sub_var=[\"Number of dates since posted\",\"Project ID\",\"Donation Amount\"]\n",
    "sub_Data =Data.loc[:,sub_var]\n",
    "sub_Data=sub_Data[sub_Data[\"Number of dates since posted\"] < T]\n",
    "\n",
    "Grouped_data=sub_Data.groupby([\"Project ID\"]).sum()\n",
    "\n",
    "f, axes = plt.subplots(1, 1,figsize=(10,7))\n",
    "range=0.001\n",
    "y=\"Donation Amount\"\n",
    "q1 = Grouped_data[y].quantile(0)\n",
    "q3 = Grouped_data[y].quantile(1-range)\n",
    "mask = Grouped_data[y].between(q1, q3, inclusive=True)\n",
    "iqr = Grouped_data.loc[mask, y]\n",
    "sns.distplot(iqr, ax=axes,axlabel=y + \" per Donors\")\n",
    "print(iqr.describe())\n",
    "\n",
    "f, axes = plt.subplots(1, 1,figsize=(10,7))\n",
    "range=0.999\n",
    "y=\"Donation Amount\"\n",
    "q1 = Grouped_data[y].quantile(range)\n",
    "q3 = Grouped_data[y].quantile(1)\n",
    "mask = Grouped_data[y].between(q1, q3, inclusive=True)\n",
    "iqr = Grouped_data.loc[mask, y]\n",
    "sns.distplot(iqr, ax=axes,axlabel=y + \" per Donors\")\n",
    "print(iqr.describe())"
   ]
  },
  {
   "cell_type": "code",
   "execution_count": 19,
   "metadata": {
    "colab": {
     "base_uri": "https://localhost:8080/",
     "height": 428
    },
    "executionInfo": {
     "elapsed": 1177,
     "status": "ok",
     "timestamp": 1602528041409,
     "user": {
      "displayName": "IMESH UDARA EKANAYAKE",
      "photoUrl": "https://lh3.googleusercontent.com/a-/AOh14GgnoyG1ADZKOUhNmfjfvstT8_7R2ua78LrCesOh=s64",
      "userId": "12744400319982087483"
     },
     "user_tz": -330
    },
    "id": "KZ9ewWMzHLUy",
    "outputId": "f2dba826-b82e-4e40-b26e-ac8b92a7cc3f"
   },
   "outputs": [
    {
     "data": {
      "text/html": [
       "<div>\n",
       "<style scoped>\n",
       "    .dataframe tbody tr th:only-of-type {\n",
       "        vertical-align: middle;\n",
       "    }\n",
       "\n",
       "    .dataframe tbody tr th {\n",
       "        vertical-align: top;\n",
       "    }\n",
       "\n",
       "    .dataframe thead th {\n",
       "        text-align: right;\n",
       "    }\n",
       "</style>\n",
       "<table border=\"1\" class=\"dataframe\">\n",
       "  <thead>\n",
       "    <tr style=\"text-align: right;\">\n",
       "      <th></th>\n",
       "      <th>Donation Amount</th>\n",
       "    </tr>\n",
       "    <tr>\n",
       "      <th>Project ID</th>\n",
       "      <th></th>\n",
       "    </tr>\n",
       "  </thead>\n",
       "  <tbody>\n",
       "    <tr>\n",
       "      <th>000009891526c0ade7180f8423792063</th>\n",
       "      <td>288.37</td>\n",
       "    </tr>\n",
       "    <tr>\n",
       "      <th>00000ce845c00cbf0686c992fc369df4</th>\n",
       "      <td>485.00</td>\n",
       "    </tr>\n",
       "    <tr>\n",
       "      <th>00002d44003ed46b066607c5455a999a</th>\n",
       "      <td>672.92</td>\n",
       "    </tr>\n",
       "    <tr>\n",
       "      <th>00002eb25d60a09c318efbd0797bffb5</th>\n",
       "      <td>680.28</td>\n",
       "    </tr>\n",
       "    <tr>\n",
       "      <th>0000300773fe015f870914b42528541b</th>\n",
       "      <td>282.60</td>\n",
       "    </tr>\n",
       "    <tr>\n",
       "      <th>...</th>\n",
       "      <td>...</td>\n",
       "    </tr>\n",
       "    <tr>\n",
       "      <th>ffff8bee61b72c484b10e43aa9e35bc9</th>\n",
       "      <td>268.96</td>\n",
       "    </tr>\n",
       "    <tr>\n",
       "      <th>ffff98098650c5e07fa7f40030fbe9e2</th>\n",
       "      <td>509.27</td>\n",
       "    </tr>\n",
       "    <tr>\n",
       "      <th>ffff9bb21699f79266cc7cbc208890a0</th>\n",
       "      <td>150.00</td>\n",
       "    </tr>\n",
       "    <tr>\n",
       "      <th>ffffd8f0fbfa10b99efe90a5ee13c5df</th>\n",
       "      <td>213.73</td>\n",
       "    </tr>\n",
       "    <tr>\n",
       "      <th>fffffcc42d1bf7ab742a4fa2d820f9f0</th>\n",
       "      <td>250.00</td>\n",
       "    </tr>\n",
       "  </tbody>\n",
       "</table>\n",
       "<p>870802 rows × 1 columns</p>\n",
       "</div>"
      ],
      "text/plain": [
       "                                  Donation Amount\n",
       "Project ID                                       \n",
       "000009891526c0ade7180f8423792063           288.37\n",
       "00000ce845c00cbf0686c992fc369df4           485.00\n",
       "00002d44003ed46b066607c5455a999a           672.92\n",
       "00002eb25d60a09c318efbd0797bffb5           680.28\n",
       "0000300773fe015f870914b42528541b           282.60\n",
       "...                                           ...\n",
       "ffff8bee61b72c484b10e43aa9e35bc9           268.96\n",
       "ffff98098650c5e07fa7f40030fbe9e2           509.27\n",
       "ffff9bb21699f79266cc7cbc208890a0           150.00\n",
       "ffffd8f0fbfa10b99efe90a5ee13c5df           213.73\n",
       "fffffcc42d1bf7ab742a4fa2d820f9f0           250.00\n",
       "\n",
       "[870802 rows x 1 columns]"
      ]
     },
     "execution_count": 19,
     "metadata": {
      "tags": []
     },
     "output_type": "execute_result"
    }
   ],
   "source": [
    "Grouped_data"
   ]
  },
  {
   "cell_type": "code",
   "execution_count": 12,
   "metadata": {
    "colab": {
     "base_uri": "https://localhost:8080/",
     "height": 788
    },
    "executionInfo": {
     "elapsed": 292478,
     "status": "ok",
     "timestamp": 1602526125793,
     "user": {
      "displayName": "IMESH UDARA EKANAYAKE",
      "photoUrl": "https://lh3.googleusercontent.com/a-/AOh14GgnoyG1ADZKOUhNmfjfvstT8_7R2ua78LrCesOh=s64",
      "userId": "12744400319982087483"
     },
     "user_tz": -330
    },
    "id": "Zg29-DJHtsQZ",
    "outputId": "c07119f6-9c79-4c51-c6b9-59f0c8f6cbfe"
   },
   "outputs": [
    {
     "data": {
      "text/html": [
       "<div>\n",
       "<style scoped>\n",
       "    .dataframe tbody tr th:only-of-type {\n",
       "        vertical-align: middle;\n",
       "    }\n",
       "\n",
       "    .dataframe tbody tr th {\n",
       "        vertical-align: top;\n",
       "    }\n",
       "\n",
       "    .dataframe thead th {\n",
       "        text-align: right;\n",
       "    }\n",
       "</style>\n",
       "<table border=\"1\" class=\"dataframe\">\n",
       "  <thead>\n",
       "    <tr style=\"text-align: right;\">\n",
       "      <th></th>\n",
       "      <th>Unnamed: 0</th>\n",
       "      <th>Project ID</th>\n",
       "      <th>Donation ID</th>\n",
       "      <th>Donor ID</th>\n",
       "      <th>Donation Included Optional Donation</th>\n",
       "      <th>Donation Amount</th>\n",
       "      <th>Donor Cart Sequence</th>\n",
       "      <th>Donation Received Date</th>\n",
       "      <th>Donor City</th>\n",
       "      <th>Donor State</th>\n",
       "      <th>Donor Is Teacher</th>\n",
       "      <th>Donor Zip</th>\n",
       "      <th>School ID</th>\n",
       "      <th>Teacher ID</th>\n",
       "      <th>Teacher Project Posted Sequence</th>\n",
       "      <th>Project Type</th>\n",
       "      <th>Project Title</th>\n",
       "      <th>Project Essay</th>\n",
       "      <th>Project Short Description</th>\n",
       "      <th>Project Need Statement</th>\n",
       "      <th>Project Subject Category Tree</th>\n",
       "      <th>Project Subject Subcategory Tree</th>\n",
       "      <th>Project Grade Level Category</th>\n",
       "      <th>Project Resource Category</th>\n",
       "      <th>Project Cost</th>\n",
       "      <th>Project Posted Date</th>\n",
       "      <th>Project Expiration Date</th>\n",
       "      <th>Project Current Status</th>\n",
       "      <th>Project Fully Funded Date</th>\n",
       "      <th>School Name</th>\n",
       "      <th>School Metro Type</th>\n",
       "      <th>School Percentage Free Lunch</th>\n",
       "      <th>School State</th>\n",
       "      <th>School Zip</th>\n",
       "      <th>School City</th>\n",
       "      <th>School County</th>\n",
       "      <th>School District</th>\n",
       "      <th>Teacher Prefix</th>\n",
       "      <th>Teacher First Project Posted Date</th>\n",
       "      <th>Number of dates since posted</th>\n",
       "      <th>Project Duration</th>\n",
       "    </tr>\n",
       "  </thead>\n",
       "  <tbody>\n",
       "    <tr>\n",
       "      <th>0</th>\n",
       "      <td>0</td>\n",
       "      <td>000009891526c0ade7180f8423792063</td>\n",
       "      <td>688729120858666221208529ee3fc18e</td>\n",
       "      <td>1f4b5b6e68445c6c4a0509b3aca93f38</td>\n",
       "      <td>No</td>\n",
       "      <td>178.37</td>\n",
       "      <td>11</td>\n",
       "      <td>2016-08-23 13:15:57</td>\n",
       "      <td>West Jordan</td>\n",
       "      <td>Utah</td>\n",
       "      <td>No</td>\n",
       "      <td>840</td>\n",
       "      <td>5aa86a53f658c198fd4e42c541411c76</td>\n",
       "      <td>6d5b22d39e68c656071a842732c63a0c</td>\n",
       "      <td>6</td>\n",
       "      <td>Teacher-Led</td>\n",
       "      <td>OHMS Musician Chair Cart</td>\n",
       "      <td>The music students in our classes perform freq...</td>\n",
       "      <td>The music students in our classes perform freq...</td>\n",
       "      <td>My students need a cart to help us manage our ...</td>\n",
       "      <td>Music &amp; The Arts</td>\n",
       "      <td>Music</td>\n",
       "      <td>Grades 6-8</td>\n",
       "      <td>Other</td>\n",
       "      <td>529.68</td>\n",
       "      <td>2016-05-13</td>\n",
       "      <td>2016-09-12</td>\n",
       "      <td>Fully Funded</td>\n",
       "      <td>2016-08-23</td>\n",
       "      <td>Oquirrh Hills Middle School</td>\n",
       "      <td>suburban</td>\n",
       "      <td>23.0</td>\n",
       "      <td>Utah</td>\n",
       "      <td>84065</td>\n",
       "      <td>Riverton</td>\n",
       "      <td>Salt Lake</td>\n",
       "      <td>Jordan School District</td>\n",
       "      <td>Mr.</td>\n",
       "      <td>2015-09-19</td>\n",
       "      <td>102 days 13:15:57</td>\n",
       "      <td>122 days</td>\n",
       "    </tr>\n",
       "    <tr>\n",
       "      <th>1</th>\n",
       "      <td>1</td>\n",
       "      <td>000009891526c0ade7180f8423792063</td>\n",
       "      <td>dcf1071da3aa3561f91ac689d1f73dee</td>\n",
       "      <td>4aaab6d244bf3599682239ed5591af8a</td>\n",
       "      <td>Yes</td>\n",
       "      <td>25.00</td>\n",
       "      <td>2</td>\n",
       "      <td>2016-06-06 20:05:23</td>\n",
       "      <td>Riverton</td>\n",
       "      <td>Utah</td>\n",
       "      <td>Yes</td>\n",
       "      <td>840</td>\n",
       "      <td>5aa86a53f658c198fd4e42c541411c76</td>\n",
       "      <td>6d5b22d39e68c656071a842732c63a0c</td>\n",
       "      <td>6</td>\n",
       "      <td>Teacher-Led</td>\n",
       "      <td>OHMS Musician Chair Cart</td>\n",
       "      <td>The music students in our classes perform freq...</td>\n",
       "      <td>The music students in our classes perform freq...</td>\n",
       "      <td>My students need a cart to help us manage our ...</td>\n",
       "      <td>Music &amp; The Arts</td>\n",
       "      <td>Music</td>\n",
       "      <td>Grades 6-8</td>\n",
       "      <td>Other</td>\n",
       "      <td>529.68</td>\n",
       "      <td>2016-05-13</td>\n",
       "      <td>2016-09-12</td>\n",
       "      <td>Fully Funded</td>\n",
       "      <td>2016-08-23</td>\n",
       "      <td>Oquirrh Hills Middle School</td>\n",
       "      <td>suburban</td>\n",
       "      <td>23.0</td>\n",
       "      <td>Utah</td>\n",
       "      <td>84065</td>\n",
       "      <td>Riverton</td>\n",
       "      <td>Salt Lake</td>\n",
       "      <td>Jordan School District</td>\n",
       "      <td>Mr.</td>\n",
       "      <td>2015-09-19</td>\n",
       "      <td>24 days 20:05:23</td>\n",
       "      <td>122 days</td>\n",
       "    </tr>\n",
       "    <tr>\n",
       "      <th>2</th>\n",
       "      <td>2</td>\n",
       "      <td>000009891526c0ade7180f8423792063</td>\n",
       "      <td>18a234b9d1e538c431761d521ea7799d</td>\n",
       "      <td>0b0765dc9c759adc48a07688ba25e94e</td>\n",
       "      <td>Yes</td>\n",
       "      <td>20.00</td>\n",
       "      <td>3</td>\n",
       "      <td>2016-06-06 14:08:46</td>\n",
       "      <td>Riverton</td>\n",
       "      <td>Utah</td>\n",
       "      <td>No</td>\n",
       "      <td>840</td>\n",
       "      <td>5aa86a53f658c198fd4e42c541411c76</td>\n",
       "      <td>6d5b22d39e68c656071a842732c63a0c</td>\n",
       "      <td>6</td>\n",
       "      <td>Teacher-Led</td>\n",
       "      <td>OHMS Musician Chair Cart</td>\n",
       "      <td>The music students in our classes perform freq...</td>\n",
       "      <td>The music students in our classes perform freq...</td>\n",
       "      <td>My students need a cart to help us manage our ...</td>\n",
       "      <td>Music &amp; The Arts</td>\n",
       "      <td>Music</td>\n",
       "      <td>Grades 6-8</td>\n",
       "      <td>Other</td>\n",
       "      <td>529.68</td>\n",
       "      <td>2016-05-13</td>\n",
       "      <td>2016-09-12</td>\n",
       "      <td>Fully Funded</td>\n",
       "      <td>2016-08-23</td>\n",
       "      <td>Oquirrh Hills Middle School</td>\n",
       "      <td>suburban</td>\n",
       "      <td>23.0</td>\n",
       "      <td>Utah</td>\n",
       "      <td>84065</td>\n",
       "      <td>Riverton</td>\n",
       "      <td>Salt Lake</td>\n",
       "      <td>Jordan School District</td>\n",
       "      <td>Mr.</td>\n",
       "      <td>2015-09-19</td>\n",
       "      <td>24 days 14:08:46</td>\n",
       "      <td>122 days</td>\n",
       "    </tr>\n",
       "    <tr>\n",
       "      <th>3</th>\n",
       "      <td>3</td>\n",
       "      <td>000009891526c0ade7180f8423792063</td>\n",
       "      <td>38d2744bf9138b0b57ed581c76c0e2da</td>\n",
       "      <td>377944ad61f72d800b25ec1862aec363</td>\n",
       "      <td>Yes</td>\n",
       "      <td>25.00</td>\n",
       "      <td>1</td>\n",
       "      <td>2016-05-15 10:23:04</td>\n",
       "      <td>Phoenix</td>\n",
       "      <td>Arizona</td>\n",
       "      <td>No</td>\n",
       "      <td>850</td>\n",
       "      <td>5aa86a53f658c198fd4e42c541411c76</td>\n",
       "      <td>6d5b22d39e68c656071a842732c63a0c</td>\n",
       "      <td>6</td>\n",
       "      <td>Teacher-Led</td>\n",
       "      <td>OHMS Musician Chair Cart</td>\n",
       "      <td>The music students in our classes perform freq...</td>\n",
       "      <td>The music students in our classes perform freq...</td>\n",
       "      <td>My students need a cart to help us manage our ...</td>\n",
       "      <td>Music &amp; The Arts</td>\n",
       "      <td>Music</td>\n",
       "      <td>Grades 6-8</td>\n",
       "      <td>Other</td>\n",
       "      <td>529.68</td>\n",
       "      <td>2016-05-13</td>\n",
       "      <td>2016-09-12</td>\n",
       "      <td>Fully Funded</td>\n",
       "      <td>2016-08-23</td>\n",
       "      <td>Oquirrh Hills Middle School</td>\n",
       "      <td>suburban</td>\n",
       "      <td>23.0</td>\n",
       "      <td>Utah</td>\n",
       "      <td>84065</td>\n",
       "      <td>Riverton</td>\n",
       "      <td>Salt Lake</td>\n",
       "      <td>Jordan School District</td>\n",
       "      <td>Mr.</td>\n",
       "      <td>2015-09-19</td>\n",
       "      <td>2 days 10:23:04</td>\n",
       "      <td>122 days</td>\n",
       "    </tr>\n",
       "    <tr>\n",
       "      <th>4</th>\n",
       "      <td>4</td>\n",
       "      <td>000009891526c0ade7180f8423792063</td>\n",
       "      <td>5a032791e31167a70206bfb86fb60035</td>\n",
       "      <td>6d5b22d39e68c656071a842732c63a0c</td>\n",
       "      <td>Yes</td>\n",
       "      <td>25.00</td>\n",
       "      <td>2</td>\n",
       "      <td>2016-05-17 01:23:38</td>\n",
       "      <td>Salt Lake City</td>\n",
       "      <td>Utah</td>\n",
       "      <td>Yes</td>\n",
       "      <td>841</td>\n",
       "      <td>5aa86a53f658c198fd4e42c541411c76</td>\n",
       "      <td>6d5b22d39e68c656071a842732c63a0c</td>\n",
       "      <td>6</td>\n",
       "      <td>Teacher-Led</td>\n",
       "      <td>OHMS Musician Chair Cart</td>\n",
       "      <td>The music students in our classes perform freq...</td>\n",
       "      <td>The music students in our classes perform freq...</td>\n",
       "      <td>My students need a cart to help us manage our ...</td>\n",
       "      <td>Music &amp; The Arts</td>\n",
       "      <td>Music</td>\n",
       "      <td>Grades 6-8</td>\n",
       "      <td>Other</td>\n",
       "      <td>529.68</td>\n",
       "      <td>2016-05-13</td>\n",
       "      <td>2016-09-12</td>\n",
       "      <td>Fully Funded</td>\n",
       "      <td>2016-08-23</td>\n",
       "      <td>Oquirrh Hills Middle School</td>\n",
       "      <td>suburban</td>\n",
       "      <td>23.0</td>\n",
       "      <td>Utah</td>\n",
       "      <td>84065</td>\n",
       "      <td>Riverton</td>\n",
       "      <td>Salt Lake</td>\n",
       "      <td>Jordan School District</td>\n",
       "      <td>Mr.</td>\n",
       "      <td>2015-09-19</td>\n",
       "      <td>4 days 01:23:38</td>\n",
       "      <td>122 days</td>\n",
       "    </tr>\n",
       "  </tbody>\n",
       "</table>\n",
       "</div>"
      ],
      "text/plain": [
       "   Unnamed: 0  ... Project Duration\n",
       "0           0  ...         122 days\n",
       "1           1  ...         122 days\n",
       "2           2  ...         122 days\n",
       "3           3  ...         122 days\n",
       "4           4  ...         122 days\n",
       "\n",
       "[5 rows x 41 columns]"
      ]
     },
     "execution_count": 12,
     "metadata": {
      "tags": []
     },
     "output_type": "execute_result"
    }
   ],
   "source": [
    "Data[\"Project Duration\"]=Data.loc[:,\"Project Expiration Date\"]-Data.loc[:,\"Project Posted Date\"]\n",
    "Data.head()"
   ]
  },
  {
   "cell_type": "code",
   "execution_count": 13,
   "metadata": {
    "colab": {
     "base_uri": "https://localhost:8080/",
     "height": 282
    },
    "executionInfo": {
     "elapsed": 295326,
     "status": "ok",
     "timestamp": 1602526128656,
     "user": {
      "displayName": "IMESH UDARA EKANAYAKE",
      "photoUrl": "https://lh3.googleusercontent.com/a-/AOh14GgnoyG1ADZKOUhNmfjfvstT8_7R2ua78LrCesOh=s64",
      "userId": "12744400319982087483"
     },
     "user_tz": -330
    },
    "id": "ZjXh-Rqgt9Pk",
    "outputId": "feae36ca-6751-401b-b40c-ca7c46ba406f"
   },
   "outputs": [
    {
     "data": {
      "text/html": [
       "<div>\n",
       "<style scoped>\n",
       "    .dataframe tbody tr th:only-of-type {\n",
       "        vertical-align: middle;\n",
       "    }\n",
       "\n",
       "    .dataframe tbody tr th {\n",
       "        vertical-align: top;\n",
       "    }\n",
       "\n",
       "    .dataframe thead th {\n",
       "        text-align: right;\n",
       "    }\n",
       "</style>\n",
       "<table border=\"1\" class=\"dataframe\">\n",
       "  <thead>\n",
       "    <tr style=\"text-align: right;\">\n",
       "      <th></th>\n",
       "      <th>Project Duration</th>\n",
       "    </tr>\n",
       "  </thead>\n",
       "  <tbody>\n",
       "    <tr>\n",
       "      <th>count</th>\n",
       "      <td>873155</td>\n",
       "    </tr>\n",
       "    <tr>\n",
       "      <th>mean</th>\n",
       "      <td>116 days 15:12:30.955319932</td>\n",
       "    </tr>\n",
       "    <tr>\n",
       "      <th>std</th>\n",
       "      <td>15 days 05:31:20.524279096</td>\n",
       "    </tr>\n",
       "    <tr>\n",
       "      <th>min</th>\n",
       "      <td>1 days 00:00:00</td>\n",
       "    </tr>\n",
       "    <tr>\n",
       "      <th>25%</th>\n",
       "      <td>118 days 00:00:00</td>\n",
       "    </tr>\n",
       "    <tr>\n",
       "      <th>50%</th>\n",
       "      <td>120 days 00:00:00</td>\n",
       "    </tr>\n",
       "    <tr>\n",
       "      <th>75%</th>\n",
       "      <td>121 days 00:00:00</td>\n",
       "    </tr>\n",
       "    <tr>\n",
       "      <th>max</th>\n",
       "      <td>489 days 00:00:00</td>\n",
       "    </tr>\n",
       "  </tbody>\n",
       "</table>\n",
       "</div>"
      ],
      "text/plain": [
       "                  Project Duration\n",
       "count                       873155\n",
       "mean   116 days 15:12:30.955319932\n",
       "std     15 days 05:31:20.524279096\n",
       "min                1 days 00:00:00\n",
       "25%              118 days 00:00:00\n",
       "50%              120 days 00:00:00\n",
       "75%              121 days 00:00:00\n",
       "max              489 days 00:00:00"
      ]
     },
     "execution_count": 13,
     "metadata": {
      "tags": []
     },
     "output_type": "execute_result"
    }
   ],
   "source": [
    "sub_Data=Data.loc[:,[\"Project ID\",\"Project Duration\",\"Project Posted Date\",\t\"Project Expiration Date\"]]\n",
    "Grouped_data=sub_Data.groupby([\"Project ID\"]).max()\n",
    "T=pd.Timedelta('0 days')\n",
    "sub_data=Grouped_data[Grouped_data[\"Project Duration\"] > T]\n",
    "sub_data.describe()"
   ]
  },
  {
   "cell_type": "code",
   "execution_count": 16,
   "metadata": {
    "colab": {
     "base_uri": "https://localhost:8080/",
     "height": 428
    },
    "executionInfo": {
     "elapsed": 1226,
     "status": "ok",
     "timestamp": 1602527974506,
     "user": {
      "displayName": "IMESH UDARA EKANAYAKE",
      "photoUrl": "https://lh3.googleusercontent.com/a-/AOh14GgnoyG1ADZKOUhNmfjfvstT8_7R2ua78LrCesOh=s64",
      "userId": "12744400319982087483"
     },
     "user_tz": -330
    },
    "id": "UlpgeWQWHDZx",
    "outputId": "ffb7e869-709b-4ab9-b010-e7b43f794bfd"
   },
   "outputs": [
    {
     "data": {
      "text/html": [
       "<div>\n",
       "<style scoped>\n",
       "    .dataframe tbody tr th:only-of-type {\n",
       "        vertical-align: middle;\n",
       "    }\n",
       "\n",
       "    .dataframe tbody tr th {\n",
       "        vertical-align: top;\n",
       "    }\n",
       "\n",
       "    .dataframe thead th {\n",
       "        text-align: right;\n",
       "    }\n",
       "</style>\n",
       "<table border=\"1\" class=\"dataframe\">\n",
       "  <thead>\n",
       "    <tr style=\"text-align: right;\">\n",
       "      <th></th>\n",
       "      <th>Project Duration</th>\n",
       "      <th>Project Posted Date</th>\n",
       "      <th>Project Expiration Date</th>\n",
       "    </tr>\n",
       "    <tr>\n",
       "      <th>Project ID</th>\n",
       "      <th></th>\n",
       "      <th></th>\n",
       "      <th></th>\n",
       "    </tr>\n",
       "  </thead>\n",
       "  <tbody>\n",
       "    <tr>\n",
       "      <th>000009891526c0ade7180f8423792063</th>\n",
       "      <td>122 days</td>\n",
       "      <td>2016-05-13</td>\n",
       "      <td>2016-09-12</td>\n",
       "    </tr>\n",
       "    <tr>\n",
       "      <th>00000ce845c00cbf0686c992fc369df4</th>\n",
       "      <td>27 days</td>\n",
       "      <td>2013-02-02</td>\n",
       "      <td>2013-03-01</td>\n",
       "    </tr>\n",
       "    <tr>\n",
       "      <th>00002d44003ed46b066607c5455a999a</th>\n",
       "      <td>93 days</td>\n",
       "      <td>2017-06-20</td>\n",
       "      <td>2017-09-21</td>\n",
       "    </tr>\n",
       "    <tr>\n",
       "      <th>00002eb25d60a09c318efbd0797bffb5</th>\n",
       "      <td>120 days</td>\n",
       "      <td>2016-04-29</td>\n",
       "      <td>2016-08-27</td>\n",
       "    </tr>\n",
       "    <tr>\n",
       "      <th>0000300773fe015f870914b42528541b</th>\n",
       "      <td>122 days</td>\n",
       "      <td>2018-03-05</td>\n",
       "      <td>2018-07-05</td>\n",
       "    </tr>\n",
       "    <tr>\n",
       "      <th>...</th>\n",
       "      <td>...</td>\n",
       "      <td>...</td>\n",
       "      <td>...</td>\n",
       "    </tr>\n",
       "    <tr>\n",
       "      <th>ffff8bee61b72c484b10e43aa9e35bc9</th>\n",
       "      <td>122 days</td>\n",
       "      <td>2017-06-12</td>\n",
       "      <td>2017-10-12</td>\n",
       "    </tr>\n",
       "    <tr>\n",
       "      <th>ffff98098650c5e07fa7f40030fbe9e2</th>\n",
       "      <td>115 days</td>\n",
       "      <td>2016-09-01</td>\n",
       "      <td>2016-12-25</td>\n",
       "    </tr>\n",
       "    <tr>\n",
       "      <th>ffff9bb21699f79266cc7cbc208890a0</th>\n",
       "      <td>122 days</td>\n",
       "      <td>2017-05-26</td>\n",
       "      <td>2017-09-25</td>\n",
       "    </tr>\n",
       "    <tr>\n",
       "      <th>ffffd8f0fbfa10b99efe90a5ee13c5df</th>\n",
       "      <td>122 days</td>\n",
       "      <td>2018-04-23</td>\n",
       "      <td>2018-08-23</td>\n",
       "    </tr>\n",
       "    <tr>\n",
       "      <th>fffffcc42d1bf7ab742a4fa2d820f9f0</th>\n",
       "      <td>119 days</td>\n",
       "      <td>2018-04-11</td>\n",
       "      <td>2018-08-08</td>\n",
       "    </tr>\n",
       "  </tbody>\n",
       "</table>\n",
       "<p>873155 rows × 3 columns</p>\n",
       "</div>"
      ],
      "text/plain": [
       "                                 Project Duration  ... Project Expiration Date\n",
       "Project ID                                         ...                        \n",
       "000009891526c0ade7180f8423792063         122 days  ...              2016-09-12\n",
       "00000ce845c00cbf0686c992fc369df4          27 days  ...              2013-03-01\n",
       "00002d44003ed46b066607c5455a999a          93 days  ...              2017-09-21\n",
       "00002eb25d60a09c318efbd0797bffb5         120 days  ...              2016-08-27\n",
       "0000300773fe015f870914b42528541b         122 days  ...              2018-07-05\n",
       "...                                           ...  ...                     ...\n",
       "ffff8bee61b72c484b10e43aa9e35bc9         122 days  ...              2017-10-12\n",
       "ffff98098650c5e07fa7f40030fbe9e2         115 days  ...              2016-12-25\n",
       "ffff9bb21699f79266cc7cbc208890a0         122 days  ...              2017-09-25\n",
       "ffffd8f0fbfa10b99efe90a5ee13c5df         122 days  ...              2018-08-23\n",
       "fffffcc42d1bf7ab742a4fa2d820f9f0         119 days  ...              2018-08-08\n",
       "\n",
       "[873155 rows x 3 columns]"
      ]
     },
     "execution_count": 16,
     "metadata": {
      "tags": []
     },
     "output_type": "execute_result"
    }
   ],
   "source": [
    "sub_data"
   ]
  },
  {
   "cell_type": "code",
   "execution_count": 14,
   "metadata": {
    "colab": {
     "base_uri": "https://localhost:8080/",
     "height": 88
    },
    "executionInfo": {
     "elapsed": 295309,
     "status": "ok",
     "timestamp": 1602526128658,
     "user": {
      "displayName": "IMESH UDARA EKANAYAKE",
      "photoUrl": "https://lh3.googleusercontent.com/a-/AOh14GgnoyG1ADZKOUhNmfjfvstT8_7R2ua78LrCesOh=s64",
      "userId": "12744400319982087483"
     },
     "user_tz": -330
    },
    "id": "sfSesPBLeXiC",
    "outputId": "a390b722-543e-42c3-b04f-814113ef7274"
   },
   "outputs": [
    {
     "data": {
      "text/plain": [
       "Project Duration           timedelta64[ns]\n",
       "Project Posted Date         datetime64[ns]\n",
       "Project Expiration Date     datetime64[ns]\n",
       "dtype: object"
      ]
     },
     "execution_count": 14,
     "metadata": {
      "tags": []
     },
     "output_type": "execute_result"
    }
   ],
   "source": [
    "sub_data.dtypes"
   ]
  },
  {
   "cell_type": "code",
   "execution_count": 15,
   "metadata": {
    "colab": {
     "base_uri": "https://localhost:8080/",
     "height": 279
    },
    "executionInfo": {
     "elapsed": 298796,
     "status": "ok",
     "timestamp": 1602526132162,
     "user": {
      "displayName": "IMESH UDARA EKANAYAKE",
      "photoUrl": "https://lh3.googleusercontent.com/a-/AOh14GgnoyG1ADZKOUhNmfjfvstT8_7R2ua78LrCesOh=s64",
      "userId": "12744400319982087483"
     },
     "user_tz": -330
    },
    "id": "1cvhwEwveFsF",
    "outputId": "0bdf6651-a023-43ce-9ace-acaea405f3aa"
   },
   "outputs": [
    {
     "data": {
      "image/png": "[encoded data removed]",
      "text/plain": [
       "<Figure size 432x288 with 1 Axes>"
      ]
     },
     "metadata": {
      "needs_background": "light",
      "tags": []
     },
     "output_type": "display_data"
    }
   ],
   "source": [
    "Duration_Table=sub_data.loc[:,[\"Project Duration\"]]/np.timedelta64(1, 'D')\n",
    "ax = sns.countplot(x=\"Project Duration\", data=Duration_Table)"
   ]
  }
 ],
 "metadata": {
  "colab": {
   "authorship_tag": "ABX9TyMzBmXKg0bYlRNZPWNnYAT7",
   "collapsed_sections": [],
   "name": "Labelling.ipynb",
   "provenance": []
  },
  "kernelspec": {
   "display_name": "Python 3",
   "language": "python",
   "name": "python3"
  },
  "language_info": {
   "codemirror_mode": {
    "name": "ipython",
    "version": 3
   },
   "file_extension": ".py",
   "mimetype": "text/x-python",
   "name": "python",
   "nbconvert_exporter": "python",
   "pygments_lexer": "ipython3",
   "version": "3.8.5"
  }
 },
 "nbformat": 4,
 "nbformat_minor": 1
}
